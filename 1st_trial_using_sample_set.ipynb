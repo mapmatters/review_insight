{
  "nbformat": 4,
  "nbformat_minor": 0,
  "metadata": {
    "colab": {
      "name": "1st trial using sample set",
      "provenance": [],
      "authorship_tag": "ABX9TyMYYdAN+0DuOnVxnkaTLqMd"
    },
    "kernelspec": {
      "display_name": "Python 3",
      "name": "python3"
    }
  },
  "cells": [
    {
      "cell_type": "code",
      "metadata": {
        "colab": {
          "base_uri": "https://localhost:8080/"
        },
        "id": "YRqq5d-fgixr",
        "outputId": "d394b6ca-0440-43f5-e244-8e309bb112d7"
      },
      "source": [
        "from google.colab import drive\n",
        "drive.mount('/content/drive')\n",
        "\n",
        "import os\n",
        "os.chdir('/content/drive/MyDrive/master_degree/paper')\n",
        "!ls"
      ],
      "execution_count": 11,
      "outputs": [
        {
          "output_type": "stream",
          "text": [
            "Drive already mounted at /content/drive; to attempt to forcibly remount, call drive.mount(\"/content/drive\", force_remount=True).\n",
            " 논문계획서_2nd.gdoc\t\t\t  data\n",
            " archive.zip\t\t\t\t '기존 분석결과.gdoc'\n",
            " booking.com_hotel_review_korea.csv.zip  '논문 지도교수 배정신청서.gdoc'\n",
            " code_R\t\t\t\t\t '레퍼런스 링크.gdoc'\n",
            " colab\n"
          ],
          "name": "stdout"
        }
      ]
    },
    {
      "cell_type": "code",
      "metadata": {
        "id": "2DXL_GfgguUO"
      },
      "source": [
        "import pandas as pd\n",
        "import pickle\n",
        "import json\n",
        "from io import StringIO\n",
        "import sys"
      ],
      "execution_count": 12,
      "outputs": []
    },
    {
      "cell_type": "code",
      "metadata": {
        "colab": {
          "base_uri": "https://localhost:8080/"
        },
        "id": "pvwbakhFinV5",
        "outputId": "c87429e3-d710-4d8b-f2ec-b0c733d703d6"
      },
      "source": [
        "import nltk\n",
        "from nltk.stem import WordNetLemmatizer\n",
        "from nltk.tokenize import RegexpTokenizer\n",
        "from nltk.corpus import stopwords\n",
        "from sklearn.feature_extraction.text import TfidfVectorizer\n",
        "\n",
        "nltk.download('stopwords') \n",
        "nltk.download('wordnet')"
      ],
      "execution_count": 19,
      "outputs": [
        {
          "output_type": "stream",
          "text": [
            "[nltk_data] Downloading package stopwords to /root/nltk_data...\n",
            "[nltk_data]   Unzipping corpora/stopwords.zip.\n",
            "[nltk_data] Downloading package wordnet to /root/nltk_data...\n",
            "[nltk_data]   Unzipping corpora/wordnet.zip.\n"
          ],
          "name": "stdout"
        },
        {
          "output_type": "execute_result",
          "data": {
            "text/plain": [
              "True"
            ]
          },
          "metadata": {
            "tags": []
          },
          "execution_count": 19
        }
      ]
    },
    {
      "cell_type": "code",
      "metadata": {
        "colab": {
          "base_uri": "https://localhost:8080/"
        },
        "id": "Z-9i3kWMLzOx",
        "outputId": "4f6b4fc7-4468-41af-ff8e-ff7dfce7d9d4"
      },
      "source": [
        "# stopwords 점검\n",
        "original_stops = stopwords.words('english')\n",
        "print(len(original_stops))\n",
        "my_stops = ['zoom', 'fbm'] + original_stops\n",
        "print(my_stops)"
      ],
      "execution_count": 155,
      "outputs": [
        {
          "output_type": "stream",
          "text": [
            "179\n",
            "['zoom', 'fbm', 'i', 'me', 'my', 'myself', 'we', 'our', 'ours', 'ourselves', 'you', \"you're\", \"you've\", \"you'll\", \"you'd\", 'your', 'yours', 'yourself', 'yourselves', 'he', 'him', 'his', 'himself', 'she', \"she's\", 'her', 'hers', 'herself', 'it', \"it's\", 'its', 'itself', 'they', 'them', 'their', 'theirs', 'themselves', 'what', 'which', 'who', 'whom', 'this', 'that', \"that'll\", 'these', 'those', 'am', 'is', 'are', 'was', 'were', 'be', 'been', 'being', 'have', 'has', 'had', 'having', 'do', 'does', 'did', 'doing', 'a', 'an', 'the', 'and', 'but', 'if', 'or', 'because', 'as', 'until', 'while', 'of', 'at', 'by', 'for', 'with', 'about', 'against', 'between', 'into', 'through', 'during', 'before', 'after', 'above', 'below', 'to', 'from', 'up', 'down', 'in', 'out', 'on', 'off', 'over', 'under', 'again', 'further', 'then', 'once', 'here', 'there', 'when', 'where', 'why', 'how', 'all', 'any', 'both', 'each', 'few', 'more', 'most', 'other', 'some', 'such', 'no', 'nor', 'not', 'only', 'own', 'same', 'so', 'than', 'too', 'very', 's', 't', 'can', 'will', 'just', 'don', \"don't\", 'should', \"should've\", 'now', 'd', 'll', 'm', 'o', 're', 've', 'y', 'ain', 'aren', \"aren't\", 'couldn', \"couldn't\", 'didn', \"didn't\", 'doesn', \"doesn't\", 'hadn', \"hadn't\", 'hasn', \"hasn't\", 'haven', \"haven't\", 'isn', \"isn't\", 'ma', 'mightn', \"mightn't\", 'mustn', \"mustn't\", 'needn', \"needn't\", 'shan', \"shan't\", 'shouldn', \"shouldn't\", 'wasn', \"wasn't\", 'weren', \"weren't\", 'won', \"won't\", 'wouldn', \"wouldn't\"]\n"
          ],
          "name": "stdout"
        }
      ]
    },
    {
      "cell_type": "code",
      "metadata": {
        "id": "YQkrV2NEwyyd"
      },
      "source": [
        "def preprocess_text(text):\n",
        "    # Tokenise words while ignoring punctuation\n",
        "    tokeniser = RegexpTokenizer(r'\\w+')\n",
        "    tokens = tokeniser.tokenize(text)\n",
        "    \n",
        "    # Lowercase and lemmatise \n",
        "    lemmatiser = WordNetLemmatizer()\n",
        "    lemmas = [lemmatiser.lemmatize(token.lower(), pos='v') for token in tokens]\n",
        "    \n",
        "    # Remove stopwords\n",
        "    # keywords= [lemma for lemma in lemmas if lemma not in my_stops] # apply customized stopwords\n",
        "    keywords= [lemma for lemma in lemmas if lemma not in stopwords.words('english'] \n",
        "    return keywords\n",
        "\n",
        "def build_freqs(text):\n",
        "    freqs = {}\n",
        "    for word in preprocess_text(text):\n",
        "        if word in freqs:\n",
        "            freqs[word] += 1\n",
        "        else:\n",
        "            freqs[word] = 1\n",
        "    return freqs"
      ],
      "execution_count": 21,
      "outputs": []
    },
    {
      "cell_type": "code",
      "metadata": {
        "id": "j8gPgqpZg9HM"
      },
      "source": [
        "df = pd.read_pickle('data/processed/rv_en_1.pkl')"
      ],
      "execution_count": 99,
      "outputs": []
    },
    {
      "cell_type": "code",
      "metadata": {
        "colab": {
          "base_uri": "https://localhost:8080/",
          "height": 597
        },
        "id": "bgOQ6TpJhEwx",
        "outputId": "ea5ceb36-9be5-4168-eb14-c07526fd90e2"
      },
      "source": [
        "print(df.info())\n",
        "df.reset_index(inplace=True, drop=True)\n",
        "df.tail(10)"
      ],
      "execution_count": 102,
      "outputs": [
        {
          "output_type": "stream",
          "text": [
            "<class 'pandas.core.frame.DataFrame'>\n",
            "RangeIndex: 1250624 entries, 0 to 1250623\n",
            "Data columns (total 6 columns):\n",
            " #   Column   Non-Null Count    Dtype  \n",
            "---  ------   --------------    -----  \n",
            " 0   app_nm   1250624 non-null  object \n",
            " 1   review   1250624 non-null  object \n",
            " 2   rating   1250624 non-null  float64\n",
            " 3   dt       1250624 non-null  object \n",
            " 4   app_ver  1250624 non-null  object \n",
            " 5   lang     1250624 non-null  object \n",
            "dtypes: float64(1), object(5)\n",
            "memory usage: 57.2+ MB\n",
            "None\n"
          ],
          "name": "stdout"
        },
        {
          "output_type": "execute_result",
          "data": {
            "text/html": [
              "<div>\n",
              "<style scoped>\n",
              "    .dataframe tbody tr th:only-of-type {\n",
              "        vertical-align: middle;\n",
              "    }\n",
              "\n",
              "    .dataframe tbody tr th {\n",
              "        vertical-align: top;\n",
              "    }\n",
              "\n",
              "    .dataframe thead th {\n",
              "        text-align: right;\n",
              "    }\n",
              "</style>\n",
              "<table border=\"1\" class=\"dataframe\">\n",
              "  <thead>\n",
              "    <tr style=\"text-align: right;\">\n",
              "      <th></th>\n",
              "      <th>app_nm</th>\n",
              "      <th>review</th>\n",
              "      <th>rating</th>\n",
              "      <th>dt</th>\n",
              "      <th>app_ver</th>\n",
              "      <th>lang</th>\n",
              "    </tr>\n",
              "  </thead>\n",
              "  <tbody>\n",
              "    <tr>\n",
              "      <th>1250614</th>\n",
              "      <td>fbm</td>\n",
              "      <td>Cool way to communicate</td>\n",
              "      <td>4.0</td>\n",
              "      <td>2020-12-23</td>\n",
              "      <td>294.0.0.20.129</td>\n",
              "      <td>en</td>\n",
              "    </tr>\n",
              "    <tr>\n",
              "      <th>1250615</th>\n",
              "      <td>fbm</td>\n",
              "      <td>Good</td>\n",
              "      <td>3.0</td>\n",
              "      <td>2020-12-26</td>\n",
              "      <td>288.0.0.15.118</td>\n",
              "      <td>en</td>\n",
              "    </tr>\n",
              "    <tr>\n",
              "      <th>1250616</th>\n",
              "      <td>fbm</td>\n",
              "      <td>It's the worst ever it hangs and as i reboot m...</td>\n",
              "      <td>5.0</td>\n",
              "      <td>2020-12-24</td>\n",
              "      <td>257.1.0.21.120</td>\n",
              "      <td>en</td>\n",
              "    </tr>\n",
              "    <tr>\n",
              "      <th>1250617</th>\n",
              "      <td>fbm</td>\n",
              "      <td>No se puede dibujar sobre los las esquinas el ...</td>\n",
              "      <td>5.0</td>\n",
              "      <td>2020-12-27</td>\n",
              "      <td>294.0.0.20.129</td>\n",
              "      <td>en</td>\n",
              "    </tr>\n",
              "    <tr>\n",
              "      <th>1250618</th>\n",
              "      <td>fbm</td>\n",
              "      <td>You can't see pictures and videos you have sen...</td>\n",
              "      <td>3.0</td>\n",
              "      <td>2020-12-24</td>\n",
              "      <td>294.0.0.24.129</td>\n",
              "      <td>en</td>\n",
              "    </tr>\n",
              "    <tr>\n",
              "      <th>1250619</th>\n",
              "      <td>fbm</td>\n",
              "      <td>problem in archive story and how many other se...</td>\n",
              "      <td>1.0</td>\n",
              "      <td>2020-12-25</td>\n",
              "      <td>290.0.0.16.119</td>\n",
              "      <td>en</td>\n",
              "    </tr>\n",
              "    <tr>\n",
              "      <th>1250620</th>\n",
              "      <td>fbm</td>\n",
              "      <td>why isn't there a way to change an individual'...</td>\n",
              "      <td>1.0</td>\n",
              "      <td>2020-12-28</td>\n",
              "      <td>294.0.0.24.129</td>\n",
              "      <td>en</td>\n",
              "    </tr>\n",
              "    <tr>\n",
              "      <th>1250621</th>\n",
              "      <td>fbm</td>\n",
              "      <td>The latest update ruined this app... The chat ...</td>\n",
              "      <td>1.0</td>\n",
              "      <td>2020-12-28</td>\n",
              "      <td>294.0.0.24.129</td>\n",
              "      <td>en</td>\n",
              "    </tr>\n",
              "    <tr>\n",
              "      <th>1250622</th>\n",
              "      <td>fbm</td>\n",
              "      <td>Since Android 11 the app is baaaad. That or it...</td>\n",
              "      <td>2.0</td>\n",
              "      <td>2020-12-26</td>\n",
              "      <td>294.0.0.24.129</td>\n",
              "      <td>en</td>\n",
              "    </tr>\n",
              "    <tr>\n",
              "      <th>1250623</th>\n",
              "      <td>fbm</td>\n",
              "      <td>Censor this Facebook!!!🖕🖕🖕🖕🖕</td>\n",
              "      <td>1.0</td>\n",
              "      <td>2020-12-23</td>\n",
              "      <td>283.0.0.16.120</td>\n",
              "      <td>en</td>\n",
              "    </tr>\n",
              "  </tbody>\n",
              "</table>\n",
              "</div>"
            ],
            "text/plain": [
              "        app_nm  ... lang\n",
              "1250614    fbm  ...   en\n",
              "1250615    fbm  ...   en\n",
              "1250616    fbm  ...   en\n",
              "1250617    fbm  ...   en\n",
              "1250618    fbm  ...   en\n",
              "1250619    fbm  ...   en\n",
              "1250620    fbm  ...   en\n",
              "1250621    fbm  ...   en\n",
              "1250622    fbm  ...   en\n",
              "1250623    fbm  ...   en\n",
              "\n",
              "[10 rows x 6 columns]"
            ]
          },
          "metadata": {
            "tags": []
          },
          "execution_count": 102
        }
      ]
    },
    {
      "cell_type": "markdown",
      "metadata": {
        "id": "vOHgs2ydhKEi"
      },
      "source": [
        "# Dataset describe"
      ]
    },
    {
      "cell_type": "code",
      "metadata": {
        "colab": {
          "base_uri": "https://localhost:8080/"
        },
        "id": "v0XHL4qbhGXe",
        "outputId": "950c0bf9-ebbe-45c8-cbed-2857e0a466a8"
      },
      "source": [
        "print(df['app_nm'].unique())\n",
        "print('Number of apps: ',len(df['app_nm'].unique()))"
      ],
      "execution_count": 103,
      "outputs": [
        {
          "output_type": "stream",
          "text": [
            "['zoom' 'discord' 'fbm']\n",
            "Number of apps:  3\n"
          ],
          "name": "stdout"
        }
      ]
    },
    {
      "cell_type": "code",
      "metadata": {
        "colab": {
          "base_uri": "https://localhost:8080/"
        },
        "id": "ZKqQA9eNh8c9",
        "outputId": "b758f341-9892-455d-a49d-81a1196d3885"
      },
      "source": [
        "print('rows and columns', df.shape, '\\n')\n",
        "print('reviews of each app', df.groupby(['app_nm']).size())\n",
        "print('reviews of each app', df.groupby(['app_nm']).count())"
      ],
      "execution_count": 104,
      "outputs": [
        {
          "output_type": "stream",
          "text": [
            "rows and columns (1250624, 6) \n",
            "\n",
            "reviews of each app app_nm\n",
            "discord    118292\n",
            "fbm        795610\n",
            "zoom       336722\n",
            "dtype: int64\n",
            "reviews of each app          review  rating      dt  app_ver    lang\n",
            "app_nm                                          \n",
            "discord  118292  118292  118292   118292  118292\n",
            "fbm      795610  795610  795610   795610  795610\n",
            "zoom     336722  336722  336722   336722  336722\n"
          ],
          "name": "stdout"
        }
      ]
    },
    {
      "cell_type": "markdown",
      "metadata": {
        "id": "6m-E2vCouyL4"
      },
      "source": [
        "# WHAT TO DO?\n",
        "### preprocessing\n",
        "\n",
        "reference 1: https://towardsdatascience.com/introduction-to-nlp-part-1-preprocessing-text-in-python-8f007d44ca96\n",
        "\n",
        "reference 2: https://bkshin.tistory.com/entry/NLP-4-%EC%96%B4%EA%B0%84-%EC%B6%94%EC%B6%9CStemming%EA%B3%BC-%ED%91%9C%EC%A0%9C%EC%96%B4-%EC%B6%94%EC%B6%9CLemmatization\n",
        "\n",
        "* tokenize\n",
        "* lemmatize\n",
        "* build frequencies"
      ]
    },
    {
      "cell_type": "code",
      "metadata": {
        "colab": {
          "base_uri": "https://localhost:8080/"
        },
        "id": "WPk8lIqD7wJY",
        "outputId": "18c22134-076e-4eb7-9219-ce7fb01870fd"
      },
      "source": [
        "# 리뷰 텍스트만 list 로 추출\n",
        "rv = list(df['review'])\n",
        "print(len(rv))"
      ],
      "execution_count": 105,
      "outputs": [
        {
          "output_type": "stream",
          "text": [
            "1250624\n"
          ],
          "name": "stdout"
        }
      ]
    },
    {
      "cell_type": "code",
      "metadata": {
        "colab": {
          "base_uri": "https://localhost:8080/"
        },
        "id": "Ee2YGdej8VVZ",
        "outputId": "741eab34-2088-4031-b6f6-21391e7ad3e6"
      },
      "source": [
        "# 키워드별 count (dict 형태)\n",
        "rv_dict = dict()\n",
        "for i in range(len(rv)):\n",
        "  if i%10000==0:\n",
        "    print(i, end=\" - \")\n",
        "  if i%100000==0:\n",
        "    print('\\n')\n",
        "  rv_dict[i] = build_freqs(rv[i])"
      ],
      "execution_count": 107,
      "outputs": [
        {
          "output_type": "stream",
          "text": [
            "0 - \n",
            "\n",
            "10000 - 20000 - 30000 - 40000 - 50000 - 60000 - 70000 - 80000 - 90000 - 100000 - \n",
            "\n",
            "110000 - 120000 - 130000 - 140000 - 150000 - 160000 - 170000 - 180000 - 190000 - 200000 - \n",
            "\n",
            "210000 - 220000 - 230000 - 240000 - 250000 - 260000 - 270000 - 280000 - 290000 - 300000 - \n",
            "\n",
            "310000 - 320000 - 330000 - 340000 - 350000 - 360000 - 370000 - 380000 - 390000 - 400000 - \n",
            "\n",
            "410000 - 420000 - 430000 - 440000 - 450000 - 460000 - 470000 - 480000 - 490000 - 500000 - \n",
            "\n",
            "510000 - 520000 - 530000 - 540000 - 550000 - 560000 - 570000 - 580000 - 590000 - 600000 - \n",
            "\n",
            "610000 - 620000 - 630000 - 640000 - 650000 - 660000 - 670000 - 680000 - 690000 - 700000 - \n",
            "\n",
            "710000 - 720000 - 730000 - 740000 - 750000 - 760000 - 770000 - 780000 - 790000 - 800000 - \n",
            "\n",
            "810000 - 820000 - 830000 - 840000 - 850000 - 860000 - 870000 - 880000 - 890000 - 900000 - \n",
            "\n",
            "910000 - 920000 - 930000 - 940000 - 950000 - 960000 - 970000 - 980000 - 990000 - 1000000 - \n",
            "\n",
            "1010000 - 1020000 - 1030000 - 1040000 - 1050000 - 1060000 - 1070000 - 1080000 - 1090000 - 1100000 - \n",
            "\n",
            "1110000 - 1120000 - 1130000 - 1140000 - 1150000 - 1160000 - 1170000 - 1180000 - 1190000 - 1200000 - \n",
            "\n",
            "1210000 - 1220000 - 1230000 - 1240000 - 1250000 - "
          ],
          "name": "stdout"
        }
      ]
    },
    {
      "cell_type": "code",
      "metadata": {
        "id": "eIRQ4a51EFRT"
      },
      "source": [
        "# word 추출 (list)\n",
        "keywords_l = []\n",
        "for i in range(len(rv)):\n",
        "  a = list(rv_dict[i].keys())\n",
        "  keywords_l.append(a)"
      ],
      "execution_count": 109,
      "outputs": []
    },
    {
      "cell_type": "code",
      "metadata": {
        "id": "GfXKD2YjETmB"
      },
      "source": [
        "# 역토큰화 (list)\n",
        "detoken_1 = []\n",
        "for i in range(len(rv)):\n",
        "  a = ' '.join(keywords_l[i])\n",
        "  detoken_1.append(a)"
      ],
      "execution_count": 110,
      "outputs": []
    },
    {
      "cell_type": "code",
      "metadata": {
        "id": "kTmdkwgDJ0Oc"
      },
      "source": [
        "# key value (list)\n",
        "items_l = []\n",
        "for i in range(len(rv)):\n",
        "  a = rv_dict[i]\n",
        "  items_l.append(a)"
      ],
      "execution_count": 138,
      "outputs": []
    },
    {
      "cell_type": "code",
      "metadata": {
        "id": "4qNG6S4pE6hd"
      },
      "source": [
        "df2 = pd.DataFrame.from_dict({'keywords':keywords_l, \n",
        "                              'detoken':detoken_1,\n",
        "                              'items': items_l})"
      ],
      "execution_count": 139,
      "outputs": []
    },
    {
      "cell_type": "code",
      "metadata": {
        "id": "_n-tu_ROHBKW"
      },
      "source": [
        "df_m = pd.merge(df, df2, left_index=True, right_index=True)"
      ],
      "execution_count": 143,
      "outputs": []
    },
    {
      "cell_type": "code",
      "metadata": {
        "colab": {
          "base_uri": "https://localhost:8080/",
          "height": 419
        },
        "id": "Igsg0Pg8HUIB",
        "outputId": "32fc7265-3844-47fe-e32e-2e63cfbcfb3c"
      },
      "source": [
        "df_m"
      ],
      "execution_count": 144,
      "outputs": [
        {
          "output_type": "execute_result",
          "data": {
            "text/html": [
              "<div>\n",
              "<style scoped>\n",
              "    .dataframe tbody tr th:only-of-type {\n",
              "        vertical-align: middle;\n",
              "    }\n",
              "\n",
              "    .dataframe tbody tr th {\n",
              "        vertical-align: top;\n",
              "    }\n",
              "\n",
              "    .dataframe thead th {\n",
              "        text-align: right;\n",
              "    }\n",
              "</style>\n",
              "<table border=\"1\" class=\"dataframe\">\n",
              "  <thead>\n",
              "    <tr style=\"text-align: right;\">\n",
              "      <th></th>\n",
              "      <th>app_nm</th>\n",
              "      <th>review</th>\n",
              "      <th>rating</th>\n",
              "      <th>dt</th>\n",
              "      <th>app_ver</th>\n",
              "      <th>lang</th>\n",
              "      <th>keywords</th>\n",
              "      <th>detoken</th>\n",
              "      <th>items</th>\n",
              "    </tr>\n",
              "  </thead>\n",
              "  <tbody>\n",
              "    <tr>\n",
              "      <th>0</th>\n",
              "      <td>zoom</td>\n",
              "      <td>ভাল</td>\n",
              "      <td>2.0</td>\n",
              "      <td>2020-12-28</td>\n",
              "      <td>5.2.45092.0831</td>\n",
              "      <td>en</td>\n",
              "      <td>[ভ, ল]</td>\n",
              "      <td>ভ ল</td>\n",
              "      <td>{'ভ': 1, 'ল': 1}</td>\n",
              "    </tr>\n",
              "    <tr>\n",
              "      <th>1</th>\n",
              "      <td>zoom</td>\n",
              "      <td>This is our one of the education thing. We can...</td>\n",
              "      <td>5.0</td>\n",
              "      <td>2020-12-26</td>\n",
              "      <td>Unknown</td>\n",
              "      <td>en</td>\n",
              "      <td>[one, education, thing, cant, unlike, never]</td>\n",
              "      <td>one education thing cant unlike never</td>\n",
              "      <td>{'one': 1, 'education': 1, 'thing': 1, 'cant':...</td>\n",
              "    </tr>\n",
              "    <tr>\n",
              "      <th>2</th>\n",
              "      <td>zoom</td>\n",
              "      <td>Good</td>\n",
              "      <td>5.0</td>\n",
              "      <td>2020-12-26</td>\n",
              "      <td>5.4.6.812</td>\n",
              "      <td>en</td>\n",
              "      <td>[good]</td>\n",
              "      <td>good</td>\n",
              "      <td>{'good': 1}</td>\n",
              "    </tr>\n",
              "    <tr>\n",
              "      <th>3</th>\n",
              "      <td>zoom</td>\n",
              "      <td>Worst appp</td>\n",
              "      <td>2.0</td>\n",
              "      <td>2020-12-28</td>\n",
              "      <td>Unknown</td>\n",
              "      <td>en</td>\n",
              "      <td>[worst, appp]</td>\n",
              "      <td>worst appp</td>\n",
              "      <td>{'worst': 1, 'appp': 1}</td>\n",
              "    </tr>\n",
              "    <tr>\n",
              "      <th>4</th>\n",
              "      <td>zoom</td>\n",
              "      <td>Good</td>\n",
              "      <td>4.0</td>\n",
              "      <td>2020-12-28</td>\n",
              "      <td>5.4.7.946</td>\n",
              "      <td>en</td>\n",
              "      <td>[good]</td>\n",
              "      <td>good</td>\n",
              "      <td>{'good': 1}</td>\n",
              "    </tr>\n",
              "    <tr>\n",
              "      <th>...</th>\n",
              "      <td>...</td>\n",
              "      <td>...</td>\n",
              "      <td>...</td>\n",
              "      <td>...</td>\n",
              "      <td>...</td>\n",
              "      <td>...</td>\n",
              "      <td>...</td>\n",
              "      <td>...</td>\n",
              "      <td>...</td>\n",
              "    </tr>\n",
              "    <tr>\n",
              "      <th>1250619</th>\n",
              "      <td>fbm</td>\n",
              "      <td>problem in archive story and how many other se...</td>\n",
              "      <td>1.0</td>\n",
              "      <td>2020-12-25</td>\n",
              "      <td>290.0.0.16.119</td>\n",
              "      <td>en</td>\n",
              "      <td>[problem, archive, story, many, see]</td>\n",
              "      <td>problem archive story many see</td>\n",
              "      <td>{'problem': 1, 'archive': 1, 'story': 2, 'many...</td>\n",
              "    </tr>\n",
              "    <tr>\n",
              "      <th>1250620</th>\n",
              "      <td>fbm</td>\n",
              "      <td>why isn't there a way to change an individual'...</td>\n",
              "      <td>1.0</td>\n",
              "      <td>2020-12-28</td>\n",
              "      <td>294.0.0.24.129</td>\n",
              "      <td>en</td>\n",
              "      <td>[way, change, individual, notification, sound,...</td>\n",
              "      <td>way change individual notification sound whole...</td>\n",
              "      <td>{'way': 1, 'change': 2, 'individual': 1, 'noti...</td>\n",
              "    </tr>\n",
              "    <tr>\n",
              "      <th>1250621</th>\n",
              "      <td>fbm</td>\n",
              "      <td>The latest update ruined this app... The chat ...</td>\n",
              "      <td>1.0</td>\n",
              "      <td>2020-12-28</td>\n",
              "      <td>294.0.0.24.129</td>\n",
              "      <td>en</td>\n",
              "      <td>[latest, update, ruin, app, chat, bubble, suck...</td>\n",
              "      <td>latest update ruin app chat bubble suck notifi...</td>\n",
              "      <td>{'latest': 1, 'update': 1, 'ruin': 1, 'app': 1...</td>\n",
              "    </tr>\n",
              "    <tr>\n",
              "      <th>1250622</th>\n",
              "      <td>fbm</td>\n",
              "      <td>Since Android 11 the app is baaaad. That or it...</td>\n",
              "      <td>2.0</td>\n",
              "      <td>2020-12-26</td>\n",
              "      <td>294.0.0.24.129</td>\n",
              "      <td>en</td>\n",
              "      <td>[since, android, 11, app, baaaad, update, noti...</td>\n",
              "      <td>since android 11 app baaaad update notice chat...</td>\n",
              "      <td>{'since': 1, 'android': 1, '11': 1, 'app': 1, ...</td>\n",
              "    </tr>\n",
              "    <tr>\n",
              "      <th>1250623</th>\n",
              "      <td>fbm</td>\n",
              "      <td>Censor this Facebook!!!🖕🖕🖕🖕🖕</td>\n",
              "      <td>1.0</td>\n",
              "      <td>2020-12-23</td>\n",
              "      <td>283.0.0.16.120</td>\n",
              "      <td>en</td>\n",
              "      <td>[censor, facebook]</td>\n",
              "      <td>censor facebook</td>\n",
              "      <td>{'censor': 1, 'facebook': 1}</td>\n",
              "    </tr>\n",
              "  </tbody>\n",
              "</table>\n",
              "<p>1250624 rows × 9 columns</p>\n",
              "</div>"
            ],
            "text/plain": [
              "        app_nm  ...                                              items\n",
              "0         zoom  ...                                   {'ভ': 1, 'ল': 1}\n",
              "1         zoom  ...  {'one': 1, 'education': 1, 'thing': 1, 'cant':...\n",
              "2         zoom  ...                                        {'good': 1}\n",
              "3         zoom  ...                            {'worst': 1, 'appp': 1}\n",
              "4         zoom  ...                                        {'good': 1}\n",
              "...        ...  ...                                                ...\n",
              "1250619    fbm  ...  {'problem': 1, 'archive': 1, 'story': 2, 'many...\n",
              "1250620    fbm  ...  {'way': 1, 'change': 2, 'individual': 1, 'noti...\n",
              "1250621    fbm  ...  {'latest': 1, 'update': 1, 'ruin': 1, 'app': 1...\n",
              "1250622    fbm  ...  {'since': 1, 'android': 1, '11': 1, 'app': 1, ...\n",
              "1250623    fbm  ...                       {'censor': 1, 'facebook': 1}\n",
              "\n",
              "[1250624 rows x 9 columns]"
            ]
          },
          "metadata": {
            "tags": []
          },
          "execution_count": 144
        }
      ]
    },
    {
      "cell_type": "code",
      "metadata": {
        "id": "kQvcO-XUPgpL"
      },
      "source": [
        "df_m.to_pickle('data/processed/rv_en_2.pkl')"
      ],
      "execution_count": 145,
      "outputs": []
    },
    {
      "cell_type": "markdown",
      "metadata": {
        "id": "W6kS_QSAMT-R"
      },
      "source": [
        "# TF-IDF, Topic modeling"
      ]
    },
    {
      "cell_type": "code",
      "metadata": {
        "id": "sBreIRiDP7IP"
      },
      "source": [
        "from sklearn.feature_extraction.text import TfidfVectorizer\n",
        "from sklearn.decomposition import LatentDirichletAllocation"
      ],
      "execution_count": 163,
      "outputs": []
    },
    {
      "cell_type": "code",
      "metadata": {
        "colab": {
          "base_uri": "https://localhost:8080/",
          "height": 359
        },
        "id": "cEknl8SSMTnS",
        "outputId": "a463f81f-1fc7-4e80-f433-6d15d1037cac"
      },
      "source": [
        "df = pd.read_pickle('data/processed/rv_en_2.pkl')\n",
        "df.head(10)"
      ],
      "execution_count": 146,
      "outputs": [
        {
          "output_type": "execute_result",
          "data": {
            "text/html": [
              "<div>\n",
              "<style scoped>\n",
              "    .dataframe tbody tr th:only-of-type {\n",
              "        vertical-align: middle;\n",
              "    }\n",
              "\n",
              "    .dataframe tbody tr th {\n",
              "        vertical-align: top;\n",
              "    }\n",
              "\n",
              "    .dataframe thead th {\n",
              "        text-align: right;\n",
              "    }\n",
              "</style>\n",
              "<table border=\"1\" class=\"dataframe\">\n",
              "  <thead>\n",
              "    <tr style=\"text-align: right;\">\n",
              "      <th></th>\n",
              "      <th>app_nm</th>\n",
              "      <th>review</th>\n",
              "      <th>rating</th>\n",
              "      <th>dt</th>\n",
              "      <th>app_ver</th>\n",
              "      <th>lang</th>\n",
              "      <th>keywords</th>\n",
              "      <th>detoken</th>\n",
              "      <th>items</th>\n",
              "    </tr>\n",
              "  </thead>\n",
              "  <tbody>\n",
              "    <tr>\n",
              "      <th>0</th>\n",
              "      <td>zoom</td>\n",
              "      <td>ভাল</td>\n",
              "      <td>2.0</td>\n",
              "      <td>2020-12-28</td>\n",
              "      <td>5.2.45092.0831</td>\n",
              "      <td>en</td>\n",
              "      <td>[ভ, ল]</td>\n",
              "      <td>ভ ল</td>\n",
              "      <td>{'ভ': 1, 'ল': 1}</td>\n",
              "    </tr>\n",
              "    <tr>\n",
              "      <th>1</th>\n",
              "      <td>zoom</td>\n",
              "      <td>This is our one of the education thing. We can...</td>\n",
              "      <td>5.0</td>\n",
              "      <td>2020-12-26</td>\n",
              "      <td>Unknown</td>\n",
              "      <td>en</td>\n",
              "      <td>[one, education, thing, cant, unlike, never]</td>\n",
              "      <td>one education thing cant unlike never</td>\n",
              "      <td>{'one': 1, 'education': 1, 'thing': 1, 'cant':...</td>\n",
              "    </tr>\n",
              "    <tr>\n",
              "      <th>2</th>\n",
              "      <td>zoom</td>\n",
              "      <td>Good</td>\n",
              "      <td>5.0</td>\n",
              "      <td>2020-12-26</td>\n",
              "      <td>5.4.6.812</td>\n",
              "      <td>en</td>\n",
              "      <td>[good]</td>\n",
              "      <td>good</td>\n",
              "      <td>{'good': 1}</td>\n",
              "    </tr>\n",
              "    <tr>\n",
              "      <th>3</th>\n",
              "      <td>zoom</td>\n",
              "      <td>Worst appp</td>\n",
              "      <td>2.0</td>\n",
              "      <td>2020-12-28</td>\n",
              "      <td>Unknown</td>\n",
              "      <td>en</td>\n",
              "      <td>[worst, appp]</td>\n",
              "      <td>worst appp</td>\n",
              "      <td>{'worst': 1, 'appp': 1}</td>\n",
              "    </tr>\n",
              "    <tr>\n",
              "      <th>4</th>\n",
              "      <td>zoom</td>\n",
              "      <td>Good</td>\n",
              "      <td>4.0</td>\n",
              "      <td>2020-12-28</td>\n",
              "      <td>5.4.7.946</td>\n",
              "      <td>en</td>\n",
              "      <td>[good]</td>\n",
              "      <td>good</td>\n",
              "      <td>{'good': 1}</td>\n",
              "    </tr>\n",
              "    <tr>\n",
              "      <th>5</th>\n",
              "      <td>zoom</td>\n",
              "      <td>Pro</td>\n",
              "      <td>5.0</td>\n",
              "      <td>2020-12-26</td>\n",
              "      <td>5.2.42588.0803</td>\n",
              "      <td>en</td>\n",
              "      <td>[pro]</td>\n",
              "      <td>pro</td>\n",
              "      <td>{'pro': 1}</td>\n",
              "    </tr>\n",
              "    <tr>\n",
              "      <th>6</th>\n",
              "      <td>zoom</td>\n",
              "      <td>It's very very useful for school students</td>\n",
              "      <td>5.0</td>\n",
              "      <td>2020-12-26</td>\n",
              "      <td>5.4.7.946</td>\n",
              "      <td>en</td>\n",
              "      <td>[useful, school, students]</td>\n",
              "      <td>useful school students</td>\n",
              "      <td>{'useful': 1, 'school': 1, 'students': 1}</td>\n",
              "    </tr>\n",
              "    <tr>\n",
              "      <th>7</th>\n",
              "      <td>zoom</td>\n",
              "      <td>Max 4 people on one screen including myself. T...</td>\n",
              "      <td>1.0</td>\n",
              "      <td>2020-12-23</td>\n",
              "      <td>Unknown</td>\n",
              "      <td>en</td>\n",
              "      <td>[max, 4, people, one, screen, include, usable]</td>\n",
              "      <td>max 4 people one screen include usable</td>\n",
              "      <td>{'max': 1, '4': 1, 'people': 1, 'one': 1, 'scr...</td>\n",
              "    </tr>\n",
              "    <tr>\n",
              "      <th>8</th>\n",
              "      <td>zoom</td>\n",
              "      <td>Super</td>\n",
              "      <td>5.0</td>\n",
              "      <td>2020-12-23</td>\n",
              "      <td>5.4.4.615</td>\n",
              "      <td>en</td>\n",
              "      <td>[super]</td>\n",
              "      <td>super</td>\n",
              "      <td>{'super': 1}</td>\n",
              "    </tr>\n",
              "    <tr>\n",
              "      <th>9</th>\n",
              "      <td>zoom</td>\n",
              "      <td>Won't let me Unmute. . The level of Simplicity...</td>\n",
              "      <td>3.0</td>\n",
              "      <td>2020-12-24</td>\n",
              "      <td>Unknown</td>\n",
              "      <td>en</td>\n",
              "      <td>[win, let, unmute, level, simplicity, complicate]</td>\n",
              "      <td>win let unmute level simplicity complicate</td>\n",
              "      <td>{'win': 1, 'let': 1, 'unmute': 1, 'level': 1, ...</td>\n",
              "    </tr>\n",
              "  </tbody>\n",
              "</table>\n",
              "</div>"
            ],
            "text/plain": [
              "  app_nm  ...                                              items\n",
              "0   zoom  ...                                   {'ভ': 1, 'ল': 1}\n",
              "1   zoom  ...  {'one': 1, 'education': 1, 'thing': 1, 'cant':...\n",
              "2   zoom  ...                                        {'good': 1}\n",
              "3   zoom  ...                            {'worst': 1, 'appp': 1}\n",
              "4   zoom  ...                                        {'good': 1}\n",
              "5   zoom  ...                                         {'pro': 1}\n",
              "6   zoom  ...          {'useful': 1, 'school': 1, 'students': 1}\n",
              "7   zoom  ...  {'max': 1, '4': 1, 'people': 1, 'one': 1, 'scr...\n",
              "8   zoom  ...                                       {'super': 1}\n",
              "9   zoom  ...  {'win': 1, 'let': 1, 'unmute': 1, 'level': 1, ...\n",
              "\n",
              "[10 rows x 9 columns]"
            ]
          },
          "metadata": {
            "tags": []
          },
          "execution_count": 146
        }
      ]
    },
    {
      "cell_type": "code",
      "metadata": {
        "colab": {
          "base_uri": "https://localhost:8080/"
        },
        "id": "seieRvLbHUCb",
        "outputId": "7731247c-3d77-4a5a-a03e-dabeaef33d10"
      },
      "source": [
        "vectorizer = TfidfVectorizer(stop_words='english', max_features= 1000) # 상위 1,000개의 단어를 보존 \n",
        "X = vectorizer.fit_transform(df['detoken'])\n",
        "print(X.shape) # TF-IDF 행렬의 크기 확인"
      ],
      "execution_count": 161,
      "outputs": [
        {
          "output_type": "stream",
          "text": [
            "(1250624, 1000)\n"
          ],
          "name": "stdout"
        }
      ]
    },
    {
      "cell_type": "code",
      "metadata": {
        "id": "2Vc57OV7Q0j0"
      },
      "source": [
        "# LDA\n",
        "lda_model = LatentDirichletAllocation(n_components=10,learning_method='online',random_state=777,max_iter=1)"
      ],
      "execution_count": 164,
      "outputs": []
    },
    {
      "cell_type": "code",
      "metadata": {
        "id": "q_ugeys-Q0ht"
      },
      "source": [
        "lda_top = lda_model.fit_transform(X)"
      ],
      "execution_count": 165,
      "outputs": []
    },
    {
      "cell_type": "code",
      "metadata": {
        "colab": {
          "base_uri": "https://localhost:8080/"
        },
        "id": "b7ZJMBJAQ0fR",
        "outputId": "37044a93-a5f3-43b9-f15f-19a014b7b84b"
      },
      "source": [
        "print(lda_model.components_)\n",
        "print(lda_model.components_.shape) "
      ],
      "execution_count": 166,
      "outputs": [
        {
          "output_type": "stream",
          "text": [
            "[[1.00001433e-01 1.00001784e-01 1.00002288e-01 ... 1.00005141e-01\n",
            "  1.00002522e-01 1.00000219e-01]\n",
            " [1.00007151e-01 1.00003063e-01 1.00008216e-01 ... 1.00005566e-01\n",
            "  1.00005207e-01 1.00032441e-01]\n",
            " [1.00023040e-01 1.10197057e+02 1.00048783e-01 ... 1.00005371e-01\n",
            "  3.93186195e+02 4.36404753e+01]\n",
            " ...\n",
            " [1.00005500e-01 1.00008203e-01 1.00007003e-01 ... 1.00041289e-01\n",
            "  1.00015746e-01 1.00026498e-01]\n",
            " [1.00015545e-01 1.00012838e-01 1.00006135e-01 ... 1.00025728e-01\n",
            "  1.00015321e-01 1.00013786e-01]\n",
            " [1.00013912e-01 3.36459012e+02 1.00038235e-01 ... 1.00009135e-01\n",
            "  1.00007520e-01 1.00202427e-01]]\n",
            "(10, 1000)\n"
          ],
          "name": "stdout"
        }
      ]
    },
    {
      "cell_type": "code",
      "metadata": {
        "colab": {
          "base_uri": "https://localhost:8080/"
        },
        "id": "oPWJuJwFQ0c8",
        "outputId": "173aa40d-fcfd-4137-a526-b199fa140feb"
      },
      "source": [
        "terms = vectorizer.get_feature_names() # 단어 집합. 1,000개의 단어가 저장됨.\n",
        "\n",
        "def get_topics(components, feature_names, n=10):\n",
        "    for idx, topic in enumerate(components):\n",
        "        print(\"Topic %d:\" % (idx+1), [(feature_names[i]) for i in topic.argsort()[:-n - 1:-1]])\n",
        "        # print(\"Topic %d:\" % (idx+1), [(feature_names[i], topic[i].round(2)) for i in topic.argsort()[:-n - 1:-1]])\n",
        "\n",
        "get_topics(lda_model.components_,terms)"
      ],
      "execution_count": 173,
      "outputs": [
        {
          "output_type": "stream",
          "text": [
            "Topic 1: ['nice', 'ok', 'app', 'excellent', 'cool', 'work', 'download', 'win', 'poor', 'lang']\n",
            "Topic 2: ['bad', 'app', 'worst', 'communication', 'fantastic', 'osm', 'error', 'massenger', 'bulok', 'life']\n",
            "Topic 3: ['chat', 'really', 'fix', 'video', 'bug', 'work', 'happy', 'want', 'try', 'star']\n",
            "Topic 4: ['good', 'app', 'best', 'awesome', 'amaze', 'fine', 'im', 'reason', 'stories', 'laggy']\n",
            "Topic 5: ['thank', 'slow', 'suck', 'account', 'beautiful', 'hate', 'fast', 'experience', 'remove', 'free']\n",
            "Topic 6: ['message', 'send', 'update', 'super', 'friends', 'time', 'fix', 'new', 'people', 'log']\n",
            "Topic 7: ['love', 'messenger', 'like', 'app', 'bubble', 'better', 'na', 'receive', 'okay', 'notifications']\n",
            "Topic 8: ['useful', 'nc', 'aap', 'wala', 'help', 'op', 'instal', 'terrible', 'online', 'app']\n",
            "Topic 9: ['apps', 'wow', 'use', 'facebook', 'easy', 'install', 'lag', 'application', 'old', 'helpful']\n",
            "Topic 10: ['great', 'update', 'new', 'app', 'effect', 'watch', 'version', 'pls', 'stupid', 'yes']\n"
          ],
          "name": "stdout"
        }
      ]
    },
    {
      "cell_type": "markdown",
      "metadata": {
        "id": "_7ee_ojA-8AJ"
      },
      "source": [
        "#### Gensim 으로 동일한 과정 해보기"
      ]
    },
    {
      "cell_type": "code",
      "metadata": {
        "id": "y36ZBBimTPMW"
      },
      "source": [
        "from gensim import corpora"
      ],
      "execution_count": 175,
      "outputs": []
    },
    {
      "cell_type": "code",
      "metadata": {
        "colab": {
          "base_uri": "https://localhost:8080/"
        },
        "id": "dFTLREX2Ta-s",
        "outputId": "bd12e49d-7b5e-4957-cda4-b0df3d3a28ee"
      },
      "source": [
        "tokenized_doc = df['keywords']\n",
        "tokenized_doc"
      ],
      "execution_count": 180,
      "outputs": [
        {
          "output_type": "execute_result",
          "data": {
            "text/plain": [
              "0                                                     [ভ, ল]\n",
              "1               [one, education, thing, cant, unlike, never]\n",
              "2                                                     [good]\n",
              "3                                              [worst, appp]\n",
              "4                                                     [good]\n",
              "                                 ...                        \n",
              "1250619                 [problem, archive, story, many, see]\n",
              "1250620    [way, change, individual, notification, sound,...\n",
              "1250621    [latest, update, ruin, app, chat, bubble, suck...\n",
              "1250622    [since, android, 11, app, baaaad, update, noti...\n",
              "1250623                                   [censor, facebook]\n",
              "Name: keywords, Length: 1250624, dtype: object"
            ]
          },
          "metadata": {
            "tags": []
          },
          "execution_count": 180
        }
      ]
    },
    {
      "cell_type": "code",
      "metadata": {
        "colab": {
          "base_uri": "https://localhost:8080/"
        },
        "id": "02Hrw1zTTQtN",
        "outputId": "68e3d1db-471d-49ed-f7a0-ccb2757bf120"
      },
      "source": [
        "dictionary = corpora.Dictionary(tokenized_doc)\n",
        "corpus = [dictionary.doc2bow(text) for text in tokenized_doc]\n",
        "print(corpus[1]) # 수행된 결과에서 두번째 뉴스 출력. 첫번째 문서의 인덱스는 0"
      ],
      "execution_count": 181,
      "outputs": [
        {
          "output_type": "stream",
          "text": [
            "[(2, 1), (3, 1), (4, 1), (5, 1), (6, 1), (7, 1)]\n"
          ],
          "name": "stdout"
        }
      ]
    },
    {
      "cell_type": "code",
      "metadata": {
        "colab": {
          "base_uri": "https://localhost:8080/"
        },
        "id": "X8Jv3wNjTTcG",
        "outputId": "99b1b691-5d5a-4118-dbe0-6a5a5007a394"
      },
      "source": [
        "print(dictionary[36])"
      ],
      "execution_count": 183,
      "outputs": [
        {
          "output_type": "stream",
          "text": [
            "amaze\n"
          ],
          "name": "stdout"
        }
      ]
    },
    {
      "cell_type": "code",
      "metadata": {
        "colab": {
          "base_uri": "https://localhost:8080/"
        },
        "id": "J0d3B9IeTq6u",
        "outputId": "a45c9103-6a7c-4a9c-fa81-259061407d68"
      },
      "source": [
        "len(dictionary)"
      ],
      "execution_count": 184,
      "outputs": [
        {
          "output_type": "execute_result",
          "data": {
            "text/plain": [
              "178404"
            ]
          },
          "metadata": {
            "tags": []
          },
          "execution_count": 184
        }
      ]
    },
    {
      "cell_type": "code",
      "metadata": {
        "id": "9klHtSQfTtw2"
      },
      "source": [
        "import gensim\n",
        "NUM_TOPICS = 20 #20개의 토픽, k=20\n",
        "ldamodel = gensim.models.ldamodel.LdaModel(corpus, num_topics = NUM_TOPICS, id2word=dictionary, passes=15)\n",
        "topics = ldamodel.print_topics(num_words=4)"
      ],
      "execution_count": null,
      "outputs": []
    },
    {
      "cell_type": "code",
      "metadata": {
        "id": "RP96zTJFTwY6"
      },
      "source": [
        "for topic in topics:\n",
        "    print(topic)\n",
        "print(ldamodel.print_topics())"
      ],
      "execution_count": null,
      "outputs": []
    },
    {
      "cell_type": "markdown",
      "metadata": {
        "id": "lPbgxMeMT2JJ"
      },
      "source": [
        "### LDA 시각화"
      ]
    },
    {
      "cell_type": "code",
      "metadata": {
        "id": "CNBMnEL4T0dQ"
      },
      "source": [
        "import pyLDAvis.gensim"
      ],
      "execution_count": null,
      "outputs": []
    }
  ]
}