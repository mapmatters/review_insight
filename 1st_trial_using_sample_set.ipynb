{
  "nbformat": 4,
  "nbformat_minor": 0,
  "metadata": {
    "colab": {
      "name": "1st trial using sample set",
      "provenance": [],
      "authorship_tag": "ABX9TyPJqmIloxcbTvqXzNTnC2qx"
    },
    "kernelspec": {
      "name": "python3",
      "display_name": "Python 3"
    }
  },
  "cells": [
    {
      "cell_type": "code",
      "metadata": {
        "colab": {
          "base_uri": "https://localhost:8080/"
        },
        "id": "YRqq5d-fgixr",
        "outputId": "83187c3d-1f67-4eda-f3cb-d1fc2f040f40"
      },
      "source": [
        "from google.colab import drive\n",
        "drive.mount('/content/drive')\n",
        "\n",
        "import os\n",
        "os.chdir('/content/drive/MyDrive/master_degree/paper')\n",
        "!ls"
      ],
      "execution_count": null,
      "outputs": [
        {
          "output_type": "stream",
          "text": [
            "Mounted at /content/drive\n",
            " 논문계획서_2nd.gdoc\t\t\t  data\n",
            " archive.zip\t\t\t\t '기존 분석결과.gdoc'\n",
            " booking.com_hotel_review_korea.csv.zip  '논문 지도교수 배정신청서.gdoc'\n",
            " code_R\t\t\t\t\t '레퍼런스 링크.gdoc'\n",
            " colab\n"
          ],
          "name": "stdout"
        }
      ]
    },
    {
      "cell_type": "code",
      "metadata": {
        "id": "2DXL_GfgguUO"
      },
      "source": [
        "import pandas as pd\n",
        "from io import StringIO\n",
        "import sys"
      ],
      "execution_count": null,
      "outputs": []
    },
    {
      "cell_type": "code",
      "metadata": {
        "colab": {
          "base_uri": "https://localhost:8080/"
        },
        "id": "j8gPgqpZg9HM",
        "outputId": "04f16532-9d31-4158-a765-c5961a615328"
      },
      "source": [
        "df = pd.read_csv('data/processed/rv_merge_en_1.csv', index_col=0)\n",
        "df = df[~df.app_nm.isin(['naver', 'starbucks'])]"
      ],
      "execution_count": null,
      "outputs": [
        {
          "output_type": "stream",
          "text": [
            "/usr/local/lib/python3.6/dist-packages/numpy/lib/arraysetops.py:580: FutureWarning: elementwise comparison failed; returning scalar instead, but in the future will perform elementwise comparison\n",
            "  mask |= (ar1 == a)\n"
          ],
          "name": "stderr"
        }
      ]
    },
    {
      "cell_type": "code",
      "metadata": {
        "colab": {
          "base_uri": "https://localhost:8080/",
          "height": 204
        },
        "id": "bgOQ6TpJhEwx",
        "outputId": "5649ea5b-5bca-43d6-9118-5bdd855f253d"
      },
      "source": [
        "df.head()"
      ],
      "execution_count": null,
      "outputs": [
        {
          "output_type": "execute_result",
          "data": {
            "text/html": [
              "<div>\n",
              "<style scoped>\n",
              "    .dataframe tbody tr th:only-of-type {\n",
              "        vertical-align: middle;\n",
              "    }\n",
              "\n",
              "    .dataframe tbody tr th {\n",
              "        vertical-align: top;\n",
              "    }\n",
              "\n",
              "    .dataframe thead th {\n",
              "        text-align: right;\n",
              "    }\n",
              "</style>\n",
              "<table border=\"1\" class=\"dataframe\">\n",
              "  <thead>\n",
              "    <tr style=\"text-align: right;\">\n",
              "      <th></th>\n",
              "      <th>app_nm</th>\n",
              "      <th>review</th>\n",
              "      <th>rating</th>\n",
              "      <th>dt</th>\n",
              "      <th>app_ver</th>\n",
              "      <th>lang</th>\n",
              "    </tr>\n",
              "  </thead>\n",
              "  <tbody>\n",
              "    <tr>\n",
              "      <th>0</th>\n",
              "      <td>zoom</td>\n",
              "      <td>ভাল</td>\n",
              "      <td>2.0</td>\n",
              "      <td>2020-12-28</td>\n",
              "      <td>5.2.45092.0831</td>\n",
              "      <td>en</td>\n",
              "    </tr>\n",
              "    <tr>\n",
              "      <th>1</th>\n",
              "      <td>zoom</td>\n",
              "      <td>This is our one of the education thing. We can...</td>\n",
              "      <td>5.0</td>\n",
              "      <td>2020-12-26</td>\n",
              "      <td>Unknown</td>\n",
              "      <td>en</td>\n",
              "    </tr>\n",
              "    <tr>\n",
              "      <th>2</th>\n",
              "      <td>zoom</td>\n",
              "      <td>Good</td>\n",
              "      <td>5.0</td>\n",
              "      <td>2020-12-26</td>\n",
              "      <td>5.4.6.812</td>\n",
              "      <td>en</td>\n",
              "    </tr>\n",
              "    <tr>\n",
              "      <th>3</th>\n",
              "      <td>zoom</td>\n",
              "      <td>Worst appp</td>\n",
              "      <td>2.0</td>\n",
              "      <td>2020-12-28</td>\n",
              "      <td>Unknown</td>\n",
              "      <td>en</td>\n",
              "    </tr>\n",
              "    <tr>\n",
              "      <th>4</th>\n",
              "      <td>zoom</td>\n",
              "      <td>Good</td>\n",
              "      <td>4.0</td>\n",
              "      <td>2020-12-28</td>\n",
              "      <td>5.4.7.946</td>\n",
              "      <td>en</td>\n",
              "    </tr>\n",
              "  </tbody>\n",
              "</table>\n",
              "</div>"
            ],
            "text/plain": [
              "  app_nm  ... lang\n",
              "0   zoom  ...   en\n",
              "1   zoom  ...   en\n",
              "2   zoom  ...   en\n",
              "3   zoom  ...   en\n",
              "4   zoom  ...   en\n",
              "\n",
              "[5 rows x 6 columns]"
            ]
          },
          "metadata": {
            "tags": []
          },
          "execution_count": 30
        }
      ]
    },
    {
      "cell_type": "markdown",
      "metadata": {
        "id": "vOHgs2ydhKEi"
      },
      "source": [
        "# Dataset describe"
      ]
    },
    {
      "cell_type": "code",
      "metadata": {
        "colab": {
          "base_uri": "https://localhost:8080/"
        },
        "id": "v0XHL4qbhGXe",
        "outputId": "4fccce65-7792-40d6-b382-38e57d52a27d"
      },
      "source": [
        "print(df['app_nm'].unique())\n",
        "print('Number of apps: ',len(df['app_nm'].unique()))"
      ],
      "execution_count": null,
      "outputs": [
        {
          "output_type": "stream",
          "text": [
            "['zoom' 'discord' 'fbm']\n",
            "Number of apps:  3\n"
          ],
          "name": "stdout"
        }
      ]
    },
    {
      "cell_type": "code",
      "metadata": {
        "colab": {
          "base_uri": "https://localhost:8080/"
        },
        "id": "ZKqQA9eNh8c9",
        "outputId": "63039488-251d-45af-de22-bb36d95da431"
      },
      "source": [
        "print('rows and columns', df.shape, '\\n')\n",
        "print('reviews of each app', df.groupby(['app_nm']).size())"
      ],
      "execution_count": null,
      "outputs": [
        {
          "output_type": "stream",
          "text": [
            "rows and columns (1250664, 6) \n",
            "\n",
            "reviews of each app app_nm\n",
            "discord    118292\n",
            "fbm        795645\n",
            "zoom       336727\n",
            "dtype: int64\n"
          ],
          "name": "stdout"
        }
      ]
    },
    {
      "cell_type": "code",
      "metadata": {
        "id": "pvwbakhFinV5"
      },
      "source": [
        ""
      ],
      "execution_count": null,
      "outputs": []
    }
  ]
}