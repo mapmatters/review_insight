{
  "nbformat": 4,
  "nbformat_minor": 0,
  "metadata": {
    "colab": {
      "name": "1st trial using sample set",
      "provenance": [],
      "authorship_tag": "ABX9TyOHytG5AQL3Rj4FRC2Wg0c3"
    },
    "kernelspec": {
      "name": "python3",
      "display_name": "Python 3"
    }
  },
  "cells": [
    {
      "cell_type": "code",
      "metadata": {
        "colab": {
          "base_uri": "https://localhost:8080/"
        },
        "id": "YRqq5d-fgixr",
        "outputId": "5b0c4db1-b8b6-453d-ce12-3afa59e1ba54"
      },
      "source": [
        "from google.colab import drive\n",
        "drive.mount('/content/drive')\n",
        "\n",
        "import os\n",
        "os.chdir('/content/drive/MyDrive/master_degree/paper')\n",
        "!ls"
      ],
      "execution_count": null,
      "outputs": [
        {
          "output_type": "stream",
          "text": [
            "Mounted at /content/drive\n",
            " 논문계획서_2nd.gdoc\t\t\t  data\n",
            " archive.zip\t\t\t\t '기존 분석결과.gdoc'\n",
            " booking.com_hotel_review_korea.csv.zip  '논문 지도교수 배정신청서.gdoc'\n",
            " code_R\t\t\t\t\t '레퍼런스 링크.gdoc'\n",
            " colab\n"
          ],
          "name": "stdout"
        }
      ]
    },
    {
      "cell_type": "code",
      "metadata": {
        "id": "2DXL_GfgguUO"
      },
      "source": [
        "import pandas as pd\n",
        "from io import StringIO\n",
        "import sys"
      ],
      "execution_count": null,
      "outputs": []
    },
    {
      "cell_type": "code",
      "metadata": {
        "colab": {
          "base_uri": "https://localhost:8080/"
        },
        "id": "j8gPgqpZg9HM",
        "outputId": "cf5e034a-860e-4833-c8f4-310ef67d192b"
      },
      "source": [
        "df = pd.read_csv('data/processed/rv_merge_en_1.csv', index_col=0)\n",
        "df = df[~df.app_nm.isin(['naver', 'starbucks'])]"
      ],
      "execution_count": null,
      "outputs": [
        {
          "output_type": "stream",
          "text": [
            "/usr/local/lib/python3.6/dist-packages/numpy/lib/arraysetops.py:580: FutureWarning: elementwise comparison failed; returning scalar instead, but in the future will perform elementwise comparison\n",
            "  mask |= (ar1 == a)\n"
          ],
          "name": "stderr"
        }
      ]
    },
    {
      "cell_type": "code",
      "metadata": {
        "colab": {
          "base_uri": "https://localhost:8080/",
          "height": 204
        },
        "id": "bgOQ6TpJhEwx",
        "outputId": "3de2cc7e-69e8-4ef8-b05c-6b5469621e3d"
      },
      "source": [
        "df.head()"
      ],
      "execution_count": null,
      "outputs": [
        {
          "output_type": "execute_result",
          "data": {
            "text/html": [
              "<div>\n",
              "<style scoped>\n",
              "    .dataframe tbody tr th:only-of-type {\n",
              "        vertical-align: middle;\n",
              "    }\n",
              "\n",
              "    .dataframe tbody tr th {\n",
              "        vertical-align: top;\n",
              "    }\n",
              "\n",
              "    .dataframe thead th {\n",
              "        text-align: right;\n",
              "    }\n",
              "</style>\n",
              "<table border=\"1\" class=\"dataframe\">\n",
              "  <thead>\n",
              "    <tr style=\"text-align: right;\">\n",
              "      <th></th>\n",
              "      <th>app_nm</th>\n",
              "      <th>review</th>\n",
              "      <th>rating</th>\n",
              "      <th>dt</th>\n",
              "      <th>app_ver</th>\n",
              "      <th>lang</th>\n",
              "    </tr>\n",
              "  </thead>\n",
              "  <tbody>\n",
              "    <tr>\n",
              "      <th>0</th>\n",
              "      <td>zoom</td>\n",
              "      <td>ভাল</td>\n",
              "      <td>2.0</td>\n",
              "      <td>2020-12-28</td>\n",
              "      <td>5.2.45092.0831</td>\n",
              "      <td>en</td>\n",
              "    </tr>\n",
              "    <tr>\n",
              "      <th>1</th>\n",
              "      <td>zoom</td>\n",
              "      <td>This is our one of the education thing. We can...</td>\n",
              "      <td>5.0</td>\n",
              "      <td>2020-12-26</td>\n",
              "      <td>Unknown</td>\n",
              "      <td>en</td>\n",
              "    </tr>\n",
              "    <tr>\n",
              "      <th>2</th>\n",
              "      <td>zoom</td>\n",
              "      <td>Good</td>\n",
              "      <td>5.0</td>\n",
              "      <td>2020-12-26</td>\n",
              "      <td>5.4.6.812</td>\n",
              "      <td>en</td>\n",
              "    </tr>\n",
              "    <tr>\n",
              "      <th>3</th>\n",
              "      <td>zoom</td>\n",
              "      <td>Worst appp</td>\n",
              "      <td>2.0</td>\n",
              "      <td>2020-12-28</td>\n",
              "      <td>Unknown</td>\n",
              "      <td>en</td>\n",
              "    </tr>\n",
              "    <tr>\n",
              "      <th>4</th>\n",
              "      <td>zoom</td>\n",
              "      <td>Good</td>\n",
              "      <td>4.0</td>\n",
              "      <td>2020-12-28</td>\n",
              "      <td>5.4.7.946</td>\n",
              "      <td>en</td>\n",
              "    </tr>\n",
              "  </tbody>\n",
              "</table>\n",
              "</div>"
            ],
            "text/plain": [
              "  app_nm  ... lang\n",
              "0   zoom  ...   en\n",
              "1   zoom  ...   en\n",
              "2   zoom  ...   en\n",
              "3   zoom  ...   en\n",
              "4   zoom  ...   en\n",
              "\n",
              "[5 rows x 6 columns]"
            ]
          },
          "metadata": {
            "tags": []
          },
          "execution_count": 4
        }
      ]
    },
    {
      "cell_type": "markdown",
      "metadata": {
        "id": "vOHgs2ydhKEi"
      },
      "source": [
        "# Dataset describe"
      ]
    },
    {
      "cell_type": "code",
      "metadata": {
        "colab": {
          "base_uri": "https://localhost:8080/"
        },
        "id": "v0XHL4qbhGXe",
        "outputId": "670f6c4f-d2ac-4eb4-802e-a0f1ebd3652b"
      },
      "source": [
        "print(df['app_nm'].unique())\n",
        "print('Number of apps: ',len(df['app_nm'].unique()))"
      ],
      "execution_count": null,
      "outputs": [
        {
          "output_type": "stream",
          "text": [
            "['zoom' 'discord' 'fbm']\n",
            "Number of apps:  3\n"
          ],
          "name": "stdout"
        }
      ]
    },
    {
      "cell_type": "code",
      "metadata": {
        "colab": {
          "base_uri": "https://localhost:8080/"
        },
        "id": "ZKqQA9eNh8c9",
        "outputId": "6c14e93b-e39c-4a5c-b9db-9c618732d58c"
      },
      "source": [
        "print('rows and columns', df.shape, '\\n')\n",
        "print('reviews of each app', df.groupby(['app_nm']).size())"
      ],
      "execution_count": null,
      "outputs": [
        {
          "output_type": "stream",
          "text": [
            "rows and columns (1250664, 6) \n",
            "\n",
            "reviews of each app app_nm\n",
            "discord    118292\n",
            "fbm        795645\n",
            "zoom       336727\n",
            "dtype: int64\n"
          ],
          "name": "stdout"
        }
      ]
    },
    {
      "cell_type": "markdown",
      "metadata": {
        "id": "6m-E2vCouyL4"
      },
      "source": [
        "# WHAT TO DO?\n",
        "### preprocessing\n",
        "\n",
        "reference 1: https://towardsdatascience.com/introduction-to-nlp-part-1-preprocessing-text-in-python-8f007d44ca96\n",
        "\n",
        "reference 2: https://bkshin.tistory.com/entry/NLP-4-%EC%96%B4%EA%B0%84-%EC%B6%94%EC%B6%9CStemming%EA%B3%BC-%ED%91%9C%EC%A0%9C%EC%96%B4-%EC%B6%94%EC%B6%9CLemmatization\n",
        "* tokenize\n",
        "* lemmatize "
      ]
    },
    {
      "cell_type": "code",
      "metadata": {
        "id": "pvwbakhFinV5",
        "colab": {
          "base_uri": "https://localhost:8080/"
        },
        "outputId": "0802c60d-b3d8-4d1b-b947-aac3f42bd6ea"
      },
      "source": [
        "import nltk\n",
        "from nltk.stem import WordNetLemmatizer\n",
        "from nltk.tokenize import RegexpTokenizer\n",
        "from nltk.corpus import stopwords\n",
        "from sklearn.feature_extraction.text import TfidfVectorizer\n",
        "\n",
        "nltk.download('stopwords') \n",
        "nltk.download('wordnet')"
      ],
      "execution_count": null,
      "outputs": [
        {
          "output_type": "stream",
          "text": [
            "[nltk_data] Downloading package stopwords to /root/nltk_data...\n",
            "[nltk_data]   Unzipping corpora/stopwords.zip.\n",
            "[nltk_data] Downloading package wordnet to /root/nltk_data...\n",
            "[nltk_data]   Unzipping corpora/wordnet.zip.\n"
          ],
          "name": "stdout"
        },
        {
          "output_type": "execute_result",
          "data": {
            "text/plain": [
              "True"
            ]
          },
          "metadata": {
            "tags": []
          },
          "execution_count": 10
        }
      ]
    },
    {
      "cell_type": "code",
      "metadata": {
        "colab": {
          "base_uri": "https://localhost:8080/",
          "height": 111
        },
        "id": "9VtPg3NVwtmQ",
        "outputId": "64fa55ab-2334-4ad1-85df-3908176592e9"
      },
      "source": [
        "part1 = \"\"\"We are gathered here today on this joyous occasion to celebrate the special love that Monica and Chandler share. It is a love based on giving and receiving as well as having and sharing. And the love that they give and have is shared and received. And\n",
        "through this having and giving and sharing and receiving, we too can share and love and have... and receive.\"\"\"\n",
        "part2 = \"\"\"When I think of the love these two givers and receivers share I cannot help but envy the lifetime ahead of having and loving and giving and receiving.\"\"\"\n",
        "\n",
        "# Create a dataframe\n",
        "X_train = pd.DataFrame([part1, part2], columns=['speech'])\n",
        "X_train"
      ],
      "execution_count": null,
      "outputs": [
        {
          "output_type": "execute_result",
          "data": {
            "text/html": [
              "<div>\n",
              "<style scoped>\n",
              "    .dataframe tbody tr th:only-of-type {\n",
              "        vertical-align: middle;\n",
              "    }\n",
              "\n",
              "    .dataframe tbody tr th {\n",
              "        vertical-align: top;\n",
              "    }\n",
              "\n",
              "    .dataframe thead th {\n",
              "        text-align: right;\n",
              "    }\n",
              "</style>\n",
              "<table border=\"1\" class=\"dataframe\">\n",
              "  <thead>\n",
              "    <tr style=\"text-align: right;\">\n",
              "      <th></th>\n",
              "      <th>speech</th>\n",
              "    </tr>\n",
              "  </thead>\n",
              "  <tbody>\n",
              "    <tr>\n",
              "      <th>0</th>\n",
              "      <td>We are gathered here today on this joyous occa...</td>\n",
              "    </tr>\n",
              "    <tr>\n",
              "      <th>1</th>\n",
              "      <td>When I think of the love these two givers and ...</td>\n",
              "    </tr>\n",
              "  </tbody>\n",
              "</table>\n",
              "</div>"
            ],
            "text/plain": [
              "                                              speech\n",
              "0  We are gathered here today on this joyous occa...\n",
              "1  When I think of the love these two givers and ..."
            ]
          },
          "metadata": {
            "tags": []
          },
          "execution_count": 9
        }
      ]
    },
    {
      "cell_type": "code",
      "metadata": {
        "id": "YQkrV2NEwyyd"
      },
      "source": [
        "def preprocess_text(text):\n",
        "    # Tokenise words while ignoring punctuation\n",
        "    tokeniser = RegexpTokenizer(r'\\w+')\n",
        "    tokens = tokeniser.tokenize(text)\n",
        "    \n",
        "    # Lowercase and lemmatise \n",
        "    lemmatiser = WordNetLemmatizer()\n",
        "    lemmas = [lemmatiser.lemmatize(token.lower(), pos='v') for token in tokens]\n",
        "    \n",
        "    # Remove stopwords\n",
        "    keywords= [lemma for lemma in lemmas if lemma not in stopwords.words('english')]\n",
        "    return keywords"
      ],
      "execution_count": null,
      "outputs": []
    },
    {
      "cell_type": "code",
      "metadata": {
        "id": "axH0Yyt1xrtE"
      },
      "source": [
        ""
      ],
      "execution_count": null,
      "outputs": []
    }
  ]
}