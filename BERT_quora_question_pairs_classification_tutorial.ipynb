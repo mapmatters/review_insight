{
  "nbformat": 4,
  "nbformat_minor": 0,
  "metadata": {
    "colab": {
      "name": "BERT quora question pairs classification tutorial",
      "provenance": [],
      "authorship_tag": "ABX9TyMg9uJ/0Ty49JCE3C4tTznd"
    },
    "kernelspec": {
      "name": "python3",
      "display_name": "Python 3"
    },
    "accelerator": "TPU",
    "widgets": {
      "application/vnd.jupyter.widget-state+json": {
        "ace365d72bcc4bb7a19a7e84e2aa2caf": {
          "model_module": "@jupyter-widgets/controls",
          "model_name": "HBoxModel",
          "state": {
            "_view_name": "HBoxView",
            "_dom_classes": [],
            "_model_name": "HBoxModel",
            "_view_module": "@jupyter-widgets/controls",
            "_model_module_version": "1.5.0",
            "_view_count": null,
            "_view_module_version": "1.5.0",
            "box_style": "",
            "layout": "IPY_MODEL_38d4640b12e0485a8e8285718ef79239",
            "_model_module": "@jupyter-widgets/controls",
            "children": [
              "IPY_MODEL_1b10e69dbf53441bbde0d739f80ffcfd",
              "IPY_MODEL_aceafbf36ee74f21bbd3bf58a3b0e4fc"
            ]
          }
        },
        "38d4640b12e0485a8e8285718ef79239": {
          "model_module": "@jupyter-widgets/base",
          "model_name": "LayoutModel",
          "state": {
            "_view_name": "LayoutView",
            "grid_template_rows": null,
            "right": null,
            "justify_content": null,
            "_view_module": "@jupyter-widgets/base",
            "overflow": null,
            "_model_module_version": "1.2.0",
            "_view_count": null,
            "flex_flow": null,
            "width": null,
            "min_width": null,
            "border": null,
            "align_items": null,
            "bottom": null,
            "_model_module": "@jupyter-widgets/base",
            "top": null,
            "grid_column": null,
            "overflow_y": null,
            "overflow_x": null,
            "grid_auto_flow": null,
            "grid_area": null,
            "grid_template_columns": null,
            "flex": null,
            "_model_name": "LayoutModel",
            "justify_items": null,
            "grid_row": null,
            "max_height": null,
            "align_content": null,
            "visibility": null,
            "align_self": null,
            "height": null,
            "min_height": null,
            "padding": null,
            "grid_auto_rows": null,
            "grid_gap": null,
            "max_width": null,
            "order": null,
            "_view_module_version": "1.2.0",
            "grid_template_areas": null,
            "object_position": null,
            "object_fit": null,
            "grid_auto_columns": null,
            "margin": null,
            "display": null,
            "left": null
          }
        },
        "1b10e69dbf53441bbde0d739f80ffcfd": {
          "model_module": "@jupyter-widgets/controls",
          "model_name": "FloatProgressModel",
          "state": {
            "_view_name": "ProgressView",
            "style": "IPY_MODEL_3e3e5bfe54044313bcdac14059417e31",
            "_dom_classes": [],
            "description": "Downloading: 100%",
            "_model_name": "FloatProgressModel",
            "bar_style": "success",
            "max": 231508,
            "_view_module": "@jupyter-widgets/controls",
            "_model_module_version": "1.5.0",
            "value": 231508,
            "_view_count": null,
            "_view_module_version": "1.5.0",
            "orientation": "horizontal",
            "min": 0,
            "description_tooltip": null,
            "_model_module": "@jupyter-widgets/controls",
            "layout": "IPY_MODEL_2fc0d1a15cd740b1aa0892f468dc3915"
          }
        },
        "aceafbf36ee74f21bbd3bf58a3b0e4fc": {
          "model_module": "@jupyter-widgets/controls",
          "model_name": "HTMLModel",
          "state": {
            "_view_name": "HTMLView",
            "style": "IPY_MODEL_26ee2ed41c25475c92bbde2ed40bca6c",
            "_dom_classes": [],
            "description": "",
            "_model_name": "HTMLModel",
            "placeholder": "​",
            "_view_module": "@jupyter-widgets/controls",
            "_model_module_version": "1.5.0",
            "value": " 232k/232k [00:00&lt;00:00, 1.27MB/s]",
            "_view_count": null,
            "_view_module_version": "1.5.0",
            "description_tooltip": null,
            "_model_module": "@jupyter-widgets/controls",
            "layout": "IPY_MODEL_857153aa4ebf45dca12663812d4b90e8"
          }
        },
        "3e3e5bfe54044313bcdac14059417e31": {
          "model_module": "@jupyter-widgets/controls",
          "model_name": "ProgressStyleModel",
          "state": {
            "_view_name": "StyleView",
            "_model_name": "ProgressStyleModel",
            "description_width": "initial",
            "_view_module": "@jupyter-widgets/base",
            "_model_module_version": "1.5.0",
            "_view_count": null,
            "_view_module_version": "1.2.0",
            "bar_color": null,
            "_model_module": "@jupyter-widgets/controls"
          }
        },
        "2fc0d1a15cd740b1aa0892f468dc3915": {
          "model_module": "@jupyter-widgets/base",
          "model_name": "LayoutModel",
          "state": {
            "_view_name": "LayoutView",
            "grid_template_rows": null,
            "right": null,
            "justify_content": null,
            "_view_module": "@jupyter-widgets/base",
            "overflow": null,
            "_model_module_version": "1.2.0",
            "_view_count": null,
            "flex_flow": null,
            "width": null,
            "min_width": null,
            "border": null,
            "align_items": null,
            "bottom": null,
            "_model_module": "@jupyter-widgets/base",
            "top": null,
            "grid_column": null,
            "overflow_y": null,
            "overflow_x": null,
            "grid_auto_flow": null,
            "grid_area": null,
            "grid_template_columns": null,
            "flex": null,
            "_model_name": "LayoutModel",
            "justify_items": null,
            "grid_row": null,
            "max_height": null,
            "align_content": null,
            "visibility": null,
            "align_self": null,
            "height": null,
            "min_height": null,
            "padding": null,
            "grid_auto_rows": null,
            "grid_gap": null,
            "max_width": null,
            "order": null,
            "_view_module_version": "1.2.0",
            "grid_template_areas": null,
            "object_position": null,
            "object_fit": null,
            "grid_auto_columns": null,
            "margin": null,
            "display": null,
            "left": null
          }
        },
        "26ee2ed41c25475c92bbde2ed40bca6c": {
          "model_module": "@jupyter-widgets/controls",
          "model_name": "DescriptionStyleModel",
          "state": {
            "_view_name": "StyleView",
            "_model_name": "DescriptionStyleModel",
            "description_width": "",
            "_view_module": "@jupyter-widgets/base",
            "_model_module_version": "1.5.0",
            "_view_count": null,
            "_view_module_version": "1.2.0",
            "_model_module": "@jupyter-widgets/controls"
          }
        },
        "857153aa4ebf45dca12663812d4b90e8": {
          "model_module": "@jupyter-widgets/base",
          "model_name": "LayoutModel",
          "state": {
            "_view_name": "LayoutView",
            "grid_template_rows": null,
            "right": null,
            "justify_content": null,
            "_view_module": "@jupyter-widgets/base",
            "overflow": null,
            "_model_module_version": "1.2.0",
            "_view_count": null,
            "flex_flow": null,
            "width": null,
            "min_width": null,
            "border": null,
            "align_items": null,
            "bottom": null,
            "_model_module": "@jupyter-widgets/base",
            "top": null,
            "grid_column": null,
            "overflow_y": null,
            "overflow_x": null,
            "grid_auto_flow": null,
            "grid_area": null,
            "grid_template_columns": null,
            "flex": null,
            "_model_name": "LayoutModel",
            "justify_items": null,
            "grid_row": null,
            "max_height": null,
            "align_content": null,
            "visibility": null,
            "align_self": null,
            "height": null,
            "min_height": null,
            "padding": null,
            "grid_auto_rows": null,
            "grid_gap": null,
            "max_width": null,
            "order": null,
            "_view_module_version": "1.2.0",
            "grid_template_areas": null,
            "object_position": null,
            "object_fit": null,
            "grid_auto_columns": null,
            "margin": null,
            "display": null,
            "left": null
          }
        },
        "b4a051cf7fc54132bf41efd8341ca4d4": {
          "model_module": "@jupyter-widgets/controls",
          "model_name": "HBoxModel",
          "state": {
            "_view_name": "HBoxView",
            "_dom_classes": [],
            "_model_name": "HBoxModel",
            "_view_module": "@jupyter-widgets/controls",
            "_model_module_version": "1.5.0",
            "_view_count": null,
            "_view_module_version": "1.5.0",
            "box_style": "",
            "layout": "IPY_MODEL_8fe1b28e801b4636b23b007257f3eefd",
            "_model_module": "@jupyter-widgets/controls",
            "children": [
              "IPY_MODEL_d3da1ef34dac4a909446e4f2c9164bfd",
              "IPY_MODEL_31541f2fe8444feeb44893848fd68d92"
            ]
          }
        },
        "8fe1b28e801b4636b23b007257f3eefd": {
          "model_module": "@jupyter-widgets/base",
          "model_name": "LayoutModel",
          "state": {
            "_view_name": "LayoutView",
            "grid_template_rows": null,
            "right": null,
            "justify_content": null,
            "_view_module": "@jupyter-widgets/base",
            "overflow": null,
            "_model_module_version": "1.2.0",
            "_view_count": null,
            "flex_flow": null,
            "width": null,
            "min_width": null,
            "border": null,
            "align_items": null,
            "bottom": null,
            "_model_module": "@jupyter-widgets/base",
            "top": null,
            "grid_column": null,
            "overflow_y": null,
            "overflow_x": null,
            "grid_auto_flow": null,
            "grid_area": null,
            "grid_template_columns": null,
            "flex": null,
            "_model_name": "LayoutModel",
            "justify_items": null,
            "grid_row": null,
            "max_height": null,
            "align_content": null,
            "visibility": null,
            "align_self": null,
            "height": null,
            "min_height": null,
            "padding": null,
            "grid_auto_rows": null,
            "grid_gap": null,
            "max_width": null,
            "order": null,
            "_view_module_version": "1.2.0",
            "grid_template_areas": null,
            "object_position": null,
            "object_fit": null,
            "grid_auto_columns": null,
            "margin": null,
            "display": null,
            "left": null
          }
        },
        "d3da1ef34dac4a909446e4f2c9164bfd": {
          "model_module": "@jupyter-widgets/controls",
          "model_name": "FloatProgressModel",
          "state": {
            "_view_name": "ProgressView",
            "style": "IPY_MODEL_9abedc2d01cd4f1d945c8ed940fc0613",
            "_dom_classes": [],
            "description": "Downloading: 100%",
            "_model_name": "FloatProgressModel",
            "bar_style": "success",
            "max": 433,
            "_view_module": "@jupyter-widgets/controls",
            "_model_module_version": "1.5.0",
            "value": 433,
            "_view_count": null,
            "_view_module_version": "1.5.0",
            "orientation": "horizontal",
            "min": 0,
            "description_tooltip": null,
            "_model_module": "@jupyter-widgets/controls",
            "layout": "IPY_MODEL_1b4e54a5dcdb47668fc6a6a10bedcb30"
          }
        },
        "31541f2fe8444feeb44893848fd68d92": {
          "model_module": "@jupyter-widgets/controls",
          "model_name": "HTMLModel",
          "state": {
            "_view_name": "HTMLView",
            "style": "IPY_MODEL_759e1d531b854c9fa3d887104380b8a1",
            "_dom_classes": [],
            "description": "",
            "_model_name": "HTMLModel",
            "placeholder": "​",
            "_view_module": "@jupyter-widgets/controls",
            "_model_module_version": "1.5.0",
            "value": " 433/433 [00:00&lt;00:00, 585B/s]",
            "_view_count": null,
            "_view_module_version": "1.5.0",
            "description_tooltip": null,
            "_model_module": "@jupyter-widgets/controls",
            "layout": "IPY_MODEL_dd62953dbd394d4dbedda4e24c5bd79e"
          }
        },
        "9abedc2d01cd4f1d945c8ed940fc0613": {
          "model_module": "@jupyter-widgets/controls",
          "model_name": "ProgressStyleModel",
          "state": {
            "_view_name": "StyleView",
            "_model_name": "ProgressStyleModel",
            "description_width": "initial",
            "_view_module": "@jupyter-widgets/base",
            "_model_module_version": "1.5.0",
            "_view_count": null,
            "_view_module_version": "1.2.0",
            "bar_color": null,
            "_model_module": "@jupyter-widgets/controls"
          }
        },
        "1b4e54a5dcdb47668fc6a6a10bedcb30": {
          "model_module": "@jupyter-widgets/base",
          "model_name": "LayoutModel",
          "state": {
            "_view_name": "LayoutView",
            "grid_template_rows": null,
            "right": null,
            "justify_content": null,
            "_view_module": "@jupyter-widgets/base",
            "overflow": null,
            "_model_module_version": "1.2.0",
            "_view_count": null,
            "flex_flow": null,
            "width": null,
            "min_width": null,
            "border": null,
            "align_items": null,
            "bottom": null,
            "_model_module": "@jupyter-widgets/base",
            "top": null,
            "grid_column": null,
            "overflow_y": null,
            "overflow_x": null,
            "grid_auto_flow": null,
            "grid_area": null,
            "grid_template_columns": null,
            "flex": null,
            "_model_name": "LayoutModel",
            "justify_items": null,
            "grid_row": null,
            "max_height": null,
            "align_content": null,
            "visibility": null,
            "align_self": null,
            "height": null,
            "min_height": null,
            "padding": null,
            "grid_auto_rows": null,
            "grid_gap": null,
            "max_width": null,
            "order": null,
            "_view_module_version": "1.2.0",
            "grid_template_areas": null,
            "object_position": null,
            "object_fit": null,
            "grid_auto_columns": null,
            "margin": null,
            "display": null,
            "left": null
          }
        },
        "759e1d531b854c9fa3d887104380b8a1": {
          "model_module": "@jupyter-widgets/controls",
          "model_name": "DescriptionStyleModel",
          "state": {
            "_view_name": "StyleView",
            "_model_name": "DescriptionStyleModel",
            "description_width": "",
            "_view_module": "@jupyter-widgets/base",
            "_model_module_version": "1.5.0",
            "_view_count": null,
            "_view_module_version": "1.2.0",
            "_model_module": "@jupyter-widgets/controls"
          }
        },
        "dd62953dbd394d4dbedda4e24c5bd79e": {
          "model_module": "@jupyter-widgets/base",
          "model_name": "LayoutModel",
          "state": {
            "_view_name": "LayoutView",
            "grid_template_rows": null,
            "right": null,
            "justify_content": null,
            "_view_module": "@jupyter-widgets/base",
            "overflow": null,
            "_model_module_version": "1.2.0",
            "_view_count": null,
            "flex_flow": null,
            "width": null,
            "min_width": null,
            "border": null,
            "align_items": null,
            "bottom": null,
            "_model_module": "@jupyter-widgets/base",
            "top": null,
            "grid_column": null,
            "overflow_y": null,
            "overflow_x": null,
            "grid_auto_flow": null,
            "grid_area": null,
            "grid_template_columns": null,
            "flex": null,
            "_model_name": "LayoutModel",
            "justify_items": null,
            "grid_row": null,
            "max_height": null,
            "align_content": null,
            "visibility": null,
            "align_self": null,
            "height": null,
            "min_height": null,
            "padding": null,
            "grid_auto_rows": null,
            "grid_gap": null,
            "max_width": null,
            "order": null,
            "_view_module_version": "1.2.0",
            "grid_template_areas": null,
            "object_position": null,
            "object_fit": null,
            "grid_auto_columns": null,
            "margin": null,
            "display": null,
            "left": null
          }
        },
        "d39f71d8386946bb863d23d482d862f9": {
          "model_module": "@jupyter-widgets/controls",
          "model_name": "HBoxModel",
          "state": {
            "_view_name": "HBoxView",
            "_dom_classes": [],
            "_model_name": "HBoxModel",
            "_view_module": "@jupyter-widgets/controls",
            "_model_module_version": "1.5.0",
            "_view_count": null,
            "_view_module_version": "1.5.0",
            "box_style": "",
            "layout": "IPY_MODEL_19433941356c42f187d03bf453f78ab8",
            "_model_module": "@jupyter-widgets/controls",
            "children": [
              "IPY_MODEL_21bffcce2d08491ca52b01adbb11fb39",
              "IPY_MODEL_3fd3406fcb87401aa299a2baea25efd1"
            ]
          }
        },
        "19433941356c42f187d03bf453f78ab8": {
          "model_module": "@jupyter-widgets/base",
          "model_name": "LayoutModel",
          "state": {
            "_view_name": "LayoutView",
            "grid_template_rows": null,
            "right": null,
            "justify_content": null,
            "_view_module": "@jupyter-widgets/base",
            "overflow": null,
            "_model_module_version": "1.2.0",
            "_view_count": null,
            "flex_flow": null,
            "width": null,
            "min_width": null,
            "border": null,
            "align_items": null,
            "bottom": null,
            "_model_module": "@jupyter-widgets/base",
            "top": null,
            "grid_column": null,
            "overflow_y": null,
            "overflow_x": null,
            "grid_auto_flow": null,
            "grid_area": null,
            "grid_template_columns": null,
            "flex": null,
            "_model_name": "LayoutModel",
            "justify_items": null,
            "grid_row": null,
            "max_height": null,
            "align_content": null,
            "visibility": null,
            "align_self": null,
            "height": null,
            "min_height": null,
            "padding": null,
            "grid_auto_rows": null,
            "grid_gap": null,
            "max_width": null,
            "order": null,
            "_view_module_version": "1.2.0",
            "grid_template_areas": null,
            "object_position": null,
            "object_fit": null,
            "grid_auto_columns": null,
            "margin": null,
            "display": null,
            "left": null
          }
        },
        "21bffcce2d08491ca52b01adbb11fb39": {
          "model_module": "@jupyter-widgets/controls",
          "model_name": "FloatProgressModel",
          "state": {
            "_view_name": "ProgressView",
            "style": "IPY_MODEL_2b33d976b6e44e07ad69e5590082ccf2",
            "_dom_classes": [],
            "description": "Downloading: 100%",
            "_model_name": "FloatProgressModel",
            "bar_style": "success",
            "max": 440473133,
            "_view_module": "@jupyter-widgets/controls",
            "_model_module_version": "1.5.0",
            "value": 440473133,
            "_view_count": null,
            "_view_module_version": "1.5.0",
            "orientation": "horizontal",
            "min": 0,
            "description_tooltip": null,
            "_model_module": "@jupyter-widgets/controls",
            "layout": "IPY_MODEL_29e5450790d94306ba542cd518ea0062"
          }
        },
        "3fd3406fcb87401aa299a2baea25efd1": {
          "model_module": "@jupyter-widgets/controls",
          "model_name": "HTMLModel",
          "state": {
            "_view_name": "HTMLView",
            "style": "IPY_MODEL_f596f7d7df1746f6aede4108b27a4ebe",
            "_dom_classes": [],
            "description": "",
            "_model_name": "HTMLModel",
            "placeholder": "​",
            "_view_module": "@jupyter-widgets/controls",
            "_model_module_version": "1.5.0",
            "value": " 440M/440M [00:10&lt;00:00, 41.7MB/s]",
            "_view_count": null,
            "_view_module_version": "1.5.0",
            "description_tooltip": null,
            "_model_module": "@jupyter-widgets/controls",
            "layout": "IPY_MODEL_1e30aecb940f4774a7505c217f945092"
          }
        },
        "2b33d976b6e44e07ad69e5590082ccf2": {
          "model_module": "@jupyter-widgets/controls",
          "model_name": "ProgressStyleModel",
          "state": {
            "_view_name": "StyleView",
            "_model_name": "ProgressStyleModel",
            "description_width": "initial",
            "_view_module": "@jupyter-widgets/base",
            "_model_module_version": "1.5.0",
            "_view_count": null,
            "_view_module_version": "1.2.0",
            "bar_color": null,
            "_model_module": "@jupyter-widgets/controls"
          }
        },
        "29e5450790d94306ba542cd518ea0062": {
          "model_module": "@jupyter-widgets/base",
          "model_name": "LayoutModel",
          "state": {
            "_view_name": "LayoutView",
            "grid_template_rows": null,
            "right": null,
            "justify_content": null,
            "_view_module": "@jupyter-widgets/base",
            "overflow": null,
            "_model_module_version": "1.2.0",
            "_view_count": null,
            "flex_flow": null,
            "width": null,
            "min_width": null,
            "border": null,
            "align_items": null,
            "bottom": null,
            "_model_module": "@jupyter-widgets/base",
            "top": null,
            "grid_column": null,
            "overflow_y": null,
            "overflow_x": null,
            "grid_auto_flow": null,
            "grid_area": null,
            "grid_template_columns": null,
            "flex": null,
            "_model_name": "LayoutModel",
            "justify_items": null,
            "grid_row": null,
            "max_height": null,
            "align_content": null,
            "visibility": null,
            "align_self": null,
            "height": null,
            "min_height": null,
            "padding": null,
            "grid_auto_rows": null,
            "grid_gap": null,
            "max_width": null,
            "order": null,
            "_view_module_version": "1.2.0",
            "grid_template_areas": null,
            "object_position": null,
            "object_fit": null,
            "grid_auto_columns": null,
            "margin": null,
            "display": null,
            "left": null
          }
        },
        "f596f7d7df1746f6aede4108b27a4ebe": {
          "model_module": "@jupyter-widgets/controls",
          "model_name": "DescriptionStyleModel",
          "state": {
            "_view_name": "StyleView",
            "_model_name": "DescriptionStyleModel",
            "description_width": "",
            "_view_module": "@jupyter-widgets/base",
            "_model_module_version": "1.5.0",
            "_view_count": null,
            "_view_module_version": "1.2.0",
            "_model_module": "@jupyter-widgets/controls"
          }
        },
        "1e30aecb940f4774a7505c217f945092": {
          "model_module": "@jupyter-widgets/base",
          "model_name": "LayoutModel",
          "state": {
            "_view_name": "LayoutView",
            "grid_template_rows": null,
            "right": null,
            "justify_content": null,
            "_view_module": "@jupyter-widgets/base",
            "overflow": null,
            "_model_module_version": "1.2.0",
            "_view_count": null,
            "flex_flow": null,
            "width": null,
            "min_width": null,
            "border": null,
            "align_items": null,
            "bottom": null,
            "_model_module": "@jupyter-widgets/base",
            "top": null,
            "grid_column": null,
            "overflow_y": null,
            "overflow_x": null,
            "grid_auto_flow": null,
            "grid_area": null,
            "grid_template_columns": null,
            "flex": null,
            "_model_name": "LayoutModel",
            "justify_items": null,
            "grid_row": null,
            "max_height": null,
            "align_content": null,
            "visibility": null,
            "align_self": null,
            "height": null,
            "min_height": null,
            "padding": null,
            "grid_auto_rows": null,
            "grid_gap": null,
            "max_width": null,
            "order": null,
            "_view_module_version": "1.2.0",
            "grid_template_areas": null,
            "object_position": null,
            "object_fit": null,
            "grid_auto_columns": null,
            "margin": null,
            "display": null,
            "left": null
          }
        }
      }
    }
  },
  "cells": [
    {
      "cell_type": "markdown",
      "metadata": {
        "id": "Zvy0cH8ZC8ab"
      },
      "source": [
        "# Quora question pairs classification\r\n"
      ]
    },
    {
      "cell_type": "markdown",
      "metadata": {
        "id": "fl4PwpBuDObl"
      },
      "source": [
        "We will have a pair of sentences, we need to classify whether they are semantically similar to each other or not.\r\n",
        "\r\n",
        "This classification problem has a wide range of applications like:\r\n",
        "- Detecting the similar question in social media platforms like quora, stackoverflow, etc..\r\n",
        "- Finding similar blog posts on medium etc..\r\n",
        "- Finding similar search results in search engines.\r\n",
        "- Can be used as a classifier in GAN's\r\n",
        "- Finding whether two sentences are paraphrases to each other or not"
      ]
    },
    {
      "cell_type": "markdown",
      "metadata": {
        "id": "2pe13UtBD6w9"
      },
      "source": [
        "#Quora Dataset"
      ]
    },
    {
      "cell_type": "markdown",
      "metadata": {
        "id": "jFp5S43YD-SY"
      },
      "source": [
        "Let's take a look into quora question pairs dataset, how the duplicate questions look like.\r\n",
        "\r\n",
        "> id | qid1 | qid2 | question1 | question2 | is_duplicate\r\n",
        "> --- | --- | --- | --- | --- | ---\r\n",
        ">360472 |\t364011 | 490273 |\tWhat causes stool color to change to yellow? |\tWhat can cause stool to come out as little balls? |\t0\r\n",
        ">150662\t|155721 |\t7256 |\tWhat can one do after MBBS? |\tWhat do i do after my MBBS ? |\t1\r\n",
        "\r\n",
        "As we can see, how the duplicate data & non-duplicate data looks like. Let's build a model on how to detect these automatically."
      ]
    },
    {
      "cell_type": "markdown",
      "metadata": {
        "id": "OnigDTb1EBei"
      },
      "source": [
        "#Model\r\n"
      ]
    },
    {
      "cell_type": "markdown",
      "metadata": {
        "id": "y4JImm_UEAu6"
      },
      "source": [
        "There are various model architectures we can implement to detect the semantically similar sentences. For example:\r\n",
        "- Logistic regression by converting words into vectors by using bag of words \r\n",
        "- Random Forests build using nlp features\r\n",
        "- Converting words into vectors using word embeddings and using RNN's\r\n",
        "- Converting words into vectors using word embeddings and using CNN's\r\n",
        "- Combing RNN's and CNN's\r\n",
        "\r\n",
        "There are numerous number of architectures can be used. We will use the state-of-the-art model architecture **BERT.**"
      ]
    },
    {
      "cell_type": "markdown",
      "metadata": {
        "id": "EGQS8EPNEPaV"
      },
      "source": [
        "Google AI released a model called BERT. If you don't know what BERT is, please go through the following links:\r\n",
        "- [paper](https://arxiv.org/pdf/1810.04805.pdf)\r\n",
        "- [blog](http://jalammar.github.io/illustrated-bert/)\r\n",
        "\r\n",
        "BERT obtains new state-of-the-art results on eleven natural language processing tasks.\r\n",
        "\r\n",
        "We will use BERT to predict the given pair of sentences are semantically similar to each other or not."
      ]
    },
    {
      "cell_type": "markdown",
      "metadata": {
        "id": "TiQ8vvyFESKb"
      },
      "source": [
        "---\r\n",
        "\r\n",
        "In the paper, BERT suggests an architecture for text classification type problems.\r\n",
        "\r\n",
        "Let's see the steps on using the pertrained BERT:\r\n",
        "\r\n",
        "\r\n",
        "*   We have Question A and Question B, and we need to classify whether they are similar or not\r\n",
        "*    Input to the BERT model contains three types of embeddings\r\n",
        "     \r\n",
        "     - **Token Embeddings : ** Tokens of the input sentences\r\n",
        "     - **Segment Embeddings : ** Ids to indicate the different sentences. 0's for Sentence A, 1's for Sentence B\r\n",
        "     - **Position Embeddings : ** To indicate the positions of the words in the sentences.\r\n",
        "*   So for our case, we need to convert the sentences into tokens, and segment ids. Position embeddings are learnt during the pre-training\r\n",
        "*   A **[CLS]** token added at the start of each input sequence.\r\n",
        "*   A **[SEP]** token is added at the end of each sentence in a input sequence.\r\n",
        "*   So in our case input sequence is : **[CLS] Question A [SEP] Question B [SEP]**\r\n",
        "*    For example:\r\n",
        "     \r\n",
        "     - *Question A* :   what can one do after mbbs ?\r\n",
        "     - *Question B* :    what do i do after my mbbs ?\r\n",
        "     -  *Input tokens* : [CLS] what can one do after mbbs ? [SEP] what do i do after my mbbs ? [SEP]\r\n",
        "     -  *segment ids* : 0          0         0    0    0     0       0       0    0        1     1  1 1     1     1      1      1    1\r\n",
        "\r\n",
        "*    The above mentioned input preparation steps are implemented in the function : **convert_examples_to_features**\r\n",
        "*    Then we feed the tokenized input sequences to the BERT model.\r\n",
        "*     We take the output corresponding to the [CLS] token and add Linear layer outputting 2 labels: to indicate similar or not. (This has been already implemented as the class **BertForSequenceClassification** )\r\n",
        "*      We will use the class *BertForSequenceClassification*, which returns the logits. Then we calculated the loss using the ground truth labels.\r\n",
        "\r\n",
        "*Let's get into coding !!!*"
      ]
    },
    {
      "cell_type": "markdown",
      "metadata": {
        "id": "gb9ase2gEbu6"
      },
      "source": [
        "## Tutorial - fine tuning 없이 있는 모델 바로 적용하기\n",
        "\n"
      ]
    },
    {
      "cell_type": "markdown",
      "metadata": {
        "id": "w9gK7E9RSIOb"
      },
      "source": [
        "https://www.kaggle.com/abhilash1910/bertsimilarity-library"
      ]
    },
    {
      "cell_type": "code",
      "metadata": {
        "id": "kXv-hR-OLxSE"
      },
      "source": [
        "import sys\n",
        "import pandas as pd"
      ],
      "execution_count": 1,
      "outputs": []
    },
    {
      "cell_type": "code",
      "metadata": {
        "colab": {
          "base_uri": "https://localhost:8080/"
        },
        "id": "m_tgKLNlX-Lx",
        "outputId": "50bcc4b6-9bdd-4143-8411-135085a50520"
      },
      "source": [
        "from google.colab import drive\r\n",
        "drive.mount('/content/drive')\r\n",
        "\r\n",
        "import os\r\n",
        "os.chdir('/content/drive/MyDrive/master_degree/paper')\r\n",
        "!ls"
      ],
      "execution_count": 2,
      "outputs": [
        {
          "output_type": "stream",
          "text": [
            "Mounted at /content/drive\n",
            "'논문계획서 (2021.01.22).gdoc'\t\t '기존 분석결과.gdoc'\n",
            "'논문 초안 (2021.02).gdoc'\t\t '논문 지도교수 배정신청서.gdoc'\n",
            " archive.zip\t\t\t\t '레퍼런스 링크.gdoc'\n",
            " booking.com_hotel_review_korea.csv.zip  '논문계획 정보모음.gdoc'\n",
            " code_R\t\t\t\t\t  glue_data\n",
            " colab\t\t\t\t\t '연구계획 표.gsheet'\n",
            " data\t\t\t\t\t  model\n"
          ],
          "name": "stdout"
        }
      ]
    },
    {
      "cell_type": "code",
      "metadata": {
        "id": "JliY82KNSV-A"
      },
      "source": [
        "#kaggle data download\r\n",
        "! pip install -q kaggle\r\n",
        "from google.colab import files\r\n",
        "files.upload()"
      ],
      "execution_count": null,
      "outputs": []
    },
    {
      "cell_type": "code",
      "metadata": {
        "id": "rmMJ_W6iSy0b"
      },
      "source": [
        "!mkdir ~/.kaggle\r\n",
        "!cp kaggle.json ~/.kaggle/\r\n",
        "!chmod 600 ~/.kaggle/kaggle.json\r\n",
        "!kaggle datasets list\r\n",
        "!kaggle competitions download -c quora-question-pairs"
      ],
      "execution_count": null,
      "outputs": []
    },
    {
      "cell_type": "code",
      "metadata": {
        "id": "6jqm-8SdDG6n"
      },
      "source": [
        "# unzip\n",
        "!pip install patool\n",
        "import patoolib\n",
        "patoolib.extract_archive(\"data/quora-question-pairs.zip\", outdir='data/quora/')"
      ],
      "execution_count": null,
      "outputs": []
    },
    {
      "cell_type": "code",
      "metadata": {
        "colab": {
          "base_uri": "https://localhost:8080/"
        },
        "id": "Xf0H-YJ0D4_k",
        "outputId": "82f7331a-399f-4df7-cc78-ceb8ac103417"
      },
      "source": [
        "for dirname, _, filenames in os.walk('data/quora'):\n",
        "    for filename in filenames:\n",
        "        print(os.path.join(dirname, filename))"
      ],
      "execution_count": null,
      "outputs": [
        {
          "output_type": "stream",
          "text": [
            "data/quora/sample_submission.csv.zip\n",
            "data/quora/test.csv\n",
            "data/quora/test.csv.zip\n",
            "data/quora/train.csv.zip\n"
          ],
          "name": "stdout"
        }
      ]
    },
    {
      "cell_type": "code",
      "metadata": {
        "id": "ycFKCiGiEAm3"
      },
      "source": [
        "data = pd.read_csv(\"data/quora/train.csv.zip\")"
      ],
      "execution_count": 3,
      "outputs": []
    },
    {
      "cell_type": "code",
      "metadata": {
        "colab": {
          "base_uri": "https://localhost:8080/",
          "height": 204
        },
        "id": "D9RrXSoUEOaL",
        "outputId": "8b307865-5398-4684-a90c-8bb0e78c79a1"
      },
      "source": [
        "data.head()"
      ],
      "execution_count": 4,
      "outputs": [
        {
          "output_type": "execute_result",
          "data": {
            "text/html": [
              "<div>\n",
              "<style scoped>\n",
              "    .dataframe tbody tr th:only-of-type {\n",
              "        vertical-align: middle;\n",
              "    }\n",
              "\n",
              "    .dataframe tbody tr th {\n",
              "        vertical-align: top;\n",
              "    }\n",
              "\n",
              "    .dataframe thead th {\n",
              "        text-align: right;\n",
              "    }\n",
              "</style>\n",
              "<table border=\"1\" class=\"dataframe\">\n",
              "  <thead>\n",
              "    <tr style=\"text-align: right;\">\n",
              "      <th></th>\n",
              "      <th>id</th>\n",
              "      <th>qid1</th>\n",
              "      <th>qid2</th>\n",
              "      <th>question1</th>\n",
              "      <th>question2</th>\n",
              "      <th>is_duplicate</th>\n",
              "    </tr>\n",
              "  </thead>\n",
              "  <tbody>\n",
              "    <tr>\n",
              "      <th>0</th>\n",
              "      <td>0</td>\n",
              "      <td>1</td>\n",
              "      <td>2</td>\n",
              "      <td>What is the step by step guide to invest in sh...</td>\n",
              "      <td>What is the step by step guide to invest in sh...</td>\n",
              "      <td>0</td>\n",
              "    </tr>\n",
              "    <tr>\n",
              "      <th>1</th>\n",
              "      <td>1</td>\n",
              "      <td>3</td>\n",
              "      <td>4</td>\n",
              "      <td>What is the story of Kohinoor (Koh-i-Noor) Dia...</td>\n",
              "      <td>What would happen if the Indian government sto...</td>\n",
              "      <td>0</td>\n",
              "    </tr>\n",
              "    <tr>\n",
              "      <th>2</th>\n",
              "      <td>2</td>\n",
              "      <td>5</td>\n",
              "      <td>6</td>\n",
              "      <td>How can I increase the speed of my internet co...</td>\n",
              "      <td>How can Internet speed be increased by hacking...</td>\n",
              "      <td>0</td>\n",
              "    </tr>\n",
              "    <tr>\n",
              "      <th>3</th>\n",
              "      <td>3</td>\n",
              "      <td>7</td>\n",
              "      <td>8</td>\n",
              "      <td>Why am I mentally very lonely? How can I solve...</td>\n",
              "      <td>Find the remainder when [math]23^{24}[/math] i...</td>\n",
              "      <td>0</td>\n",
              "    </tr>\n",
              "    <tr>\n",
              "      <th>4</th>\n",
              "      <td>4</td>\n",
              "      <td>9</td>\n",
              "      <td>10</td>\n",
              "      <td>Which one dissolve in water quikly sugar, salt...</td>\n",
              "      <td>Which fish would survive in salt water?</td>\n",
              "      <td>0</td>\n",
              "    </tr>\n",
              "  </tbody>\n",
              "</table>\n",
              "</div>"
            ],
            "text/plain": [
              "   id  qid1  ...                                          question2 is_duplicate\n",
              "0   0     1  ...  What is the step by step guide to invest in sh...            0\n",
              "1   1     3  ...  What would happen if the Indian government sto...            0\n",
              "2   2     5  ...  How can Internet speed be increased by hacking...            0\n",
              "3   3     7  ...  Find the remainder when [math]23^{24}[/math] i...            0\n",
              "4   4     9  ...            Which fish would survive in salt water?            0\n",
              "\n",
              "[5 rows x 6 columns]"
            ]
          },
          "metadata": {
            "tags": []
          },
          "execution_count": 4
        }
      ]
    },
    {
      "cell_type": "code",
      "metadata": {
        "colab": {
          "base_uri": "https://localhost:8080/"
        },
        "id": "ORcqKcwJEQSx",
        "outputId": "993da39b-1e4d-466d-deb4-2b2d612f97d3"
      },
      "source": [
        "len(data)"
      ],
      "execution_count": 5,
      "outputs": [
        {
          "output_type": "execute_result",
          "data": {
            "text/plain": [
              "404290"
            ]
          },
          "metadata": {
            "tags": []
          },
          "execution_count": 5
        }
      ]
    },
    {
      "cell_type": "code",
      "metadata": {
        "colab": {
          "base_uri": "https://localhost:8080/"
        },
        "id": "p_mbW4ujSALv",
        "outputId": "b12c8e0e-78b0-46b7-ff0e-9085b7861bb0"
      },
      "source": [
        "!pip install BERTSimilarity"
      ],
      "execution_count": 6,
      "outputs": [
        {
          "output_type": "stream",
          "text": [
            "Collecting BERTSimilarity\n",
            "  Downloading https://files.pythonhosted.org/packages/f9/f1/52928d627e616b185ffcdc877f6db647ff0232302da0b502b3b56fed1785/BERTSimilarity-0.1.tar.gz\n",
            "Requirement already satisfied: numpy in /usr/local/lib/python3.6/dist-packages (from BERTSimilarity) (1.19.5)\n",
            "Requirement already satisfied: torch in /usr/local/lib/python3.6/dist-packages (from BERTSimilarity) (1.7.0+cu101)\n",
            "Collecting transformers\n",
            "\u001b[?25l  Downloading https://files.pythonhosted.org/packages/88/b1/41130a228dd656a1a31ba281598a968320283f48d42782845f6ba567f00b/transformers-4.2.2-py3-none-any.whl (1.8MB)\n",
            "\u001b[K     |████████████████████████████████| 1.8MB 5.0MB/s \n",
            "\u001b[?25hRequirement already satisfied: scipy in /usr/local/lib/python3.6/dist-packages (from BERTSimilarity) (1.4.1)\n",
            "Requirement already satisfied: typing-extensions in /usr/local/lib/python3.6/dist-packages (from torch->BERTSimilarity) (3.7.4.3)\n",
            "Requirement already satisfied: dataclasses in /usr/local/lib/python3.6/dist-packages (from torch->BERTSimilarity) (0.8)\n",
            "Requirement already satisfied: future in /usr/local/lib/python3.6/dist-packages (from torch->BERTSimilarity) (0.16.0)\n",
            "Requirement already satisfied: requests in /usr/local/lib/python3.6/dist-packages (from transformers->BERTSimilarity) (2.23.0)\n",
            "Requirement already satisfied: packaging in /usr/local/lib/python3.6/dist-packages (from transformers->BERTSimilarity) (20.9)\n",
            "Requirement already satisfied: importlib-metadata; python_version < \"3.8\" in /usr/local/lib/python3.6/dist-packages (from transformers->BERTSimilarity) (3.4.0)\n",
            "Collecting tokenizers==0.9.4\n",
            "\u001b[?25l  Downloading https://files.pythonhosted.org/packages/0f/1c/e789a8b12e28be5bc1ce2156cf87cb522b379be9cadc7ad8091a4cc107c4/tokenizers-0.9.4-cp36-cp36m-manylinux2010_x86_64.whl (2.9MB)\n",
            "\u001b[K     |████████████████████████████████| 2.9MB 23.1MB/s \n",
            "\u001b[?25hRequirement already satisfied: tqdm>=4.27 in /usr/local/lib/python3.6/dist-packages (from transformers->BERTSimilarity) (4.41.1)\n",
            "Collecting sacremoses\n",
            "\u001b[?25l  Downloading https://files.pythonhosted.org/packages/7d/34/09d19aff26edcc8eb2a01bed8e98f13a1537005d31e95233fd48216eed10/sacremoses-0.0.43.tar.gz (883kB)\n",
            "\u001b[K     |████████████████████████████████| 890kB 47.5MB/s \n",
            "\u001b[?25hRequirement already satisfied: regex!=2019.12.17 in /usr/local/lib/python3.6/dist-packages (from transformers->BERTSimilarity) (2019.12.20)\n",
            "Requirement already satisfied: filelock in /usr/local/lib/python3.6/dist-packages (from transformers->BERTSimilarity) (3.0.12)\n",
            "Requirement already satisfied: certifi>=2017.4.17 in /usr/local/lib/python3.6/dist-packages (from requests->transformers->BERTSimilarity) (2020.12.5)\n",
            "Requirement already satisfied: chardet<4,>=3.0.2 in /usr/local/lib/python3.6/dist-packages (from requests->transformers->BERTSimilarity) (3.0.4)\n",
            "Requirement already satisfied: urllib3!=1.25.0,!=1.25.1,<1.26,>=1.21.1 in /usr/local/lib/python3.6/dist-packages (from requests->transformers->BERTSimilarity) (1.24.3)\n",
            "Requirement already satisfied: idna<3,>=2.5 in /usr/local/lib/python3.6/dist-packages (from requests->transformers->BERTSimilarity) (2.10)\n",
            "Requirement already satisfied: pyparsing>=2.0.2 in /usr/local/lib/python3.6/dist-packages (from packaging->transformers->BERTSimilarity) (2.4.7)\n",
            "Requirement already satisfied: zipp>=0.5 in /usr/local/lib/python3.6/dist-packages (from importlib-metadata; python_version < \"3.8\"->transformers->BERTSimilarity) (3.4.0)\n",
            "Requirement already satisfied: six in /usr/local/lib/python3.6/dist-packages (from sacremoses->transformers->BERTSimilarity) (1.15.0)\n",
            "Requirement already satisfied: click in /usr/local/lib/python3.6/dist-packages (from sacremoses->transformers->BERTSimilarity) (7.1.2)\n",
            "Requirement already satisfied: joblib in /usr/local/lib/python3.6/dist-packages (from sacremoses->transformers->BERTSimilarity) (1.0.0)\n",
            "Building wheels for collected packages: BERTSimilarity, sacremoses\n",
            "  Building wheel for BERTSimilarity (setup.py) ... \u001b[?25l\u001b[?25hdone\n",
            "  Created wheel for BERTSimilarity: filename=BERTSimilarity-0.1-cp36-none-any.whl size=3613 sha256=30d268716fbb12edcad62bafc655fcd5f8a4e7f31dcbe01dd817b20385bb7126\n",
            "  Stored in directory: /root/.cache/pip/wheels/b8/e2/50/3e60c34d93a179241ccd267ae84a546ec47ff212aa0a3d2130\n",
            "  Building wheel for sacremoses (setup.py) ... \u001b[?25l\u001b[?25hdone\n",
            "  Created wheel for sacremoses: filename=sacremoses-0.0.43-cp36-none-any.whl size=893261 sha256=8a06e53274fe0f5a74b26480ab5057b7f53aed42d67ad2134438bab59c0abcf7\n",
            "  Stored in directory: /root/.cache/pip/wheels/29/3c/fd/7ce5c3f0666dab31a50123635e6fb5e19ceb42ce38d4e58f45\n",
            "Successfully built BERTSimilarity sacremoses\n",
            "Installing collected packages: tokenizers, sacremoses, transformers, BERTSimilarity\n",
            "Successfully installed BERTSimilarity-0.1 sacremoses-0.0.43 tokenizers-0.9.4 transformers-4.2.2\n"
          ],
          "name": "stdout"
        }
      ]
    },
    {
      "cell_type": "code",
      "metadata": {
        "colab": {
          "base_uri": "https://localhost:8080/",
          "height": 181,
          "referenced_widgets": [
            "ace365d72bcc4bb7a19a7e84e2aa2caf",
            "38d4640b12e0485a8e8285718ef79239",
            "1b10e69dbf53441bbde0d739f80ffcfd",
            "aceafbf36ee74f21bbd3bf58a3b0e4fc",
            "3e3e5bfe54044313bcdac14059417e31",
            "2fc0d1a15cd740b1aa0892f468dc3915",
            "26ee2ed41c25475c92bbde2ed40bca6c",
            "857153aa4ebf45dca12663812d4b90e8",
            "b4a051cf7fc54132bf41efd8341ca4d4",
            "8fe1b28e801b4636b23b007257f3eefd",
            "d3da1ef34dac4a909446e4f2c9164bfd",
            "31541f2fe8444feeb44893848fd68d92",
            "9abedc2d01cd4f1d945c8ed940fc0613",
            "1b4e54a5dcdb47668fc6a6a10bedcb30",
            "759e1d531b854c9fa3d887104380b8a1",
            "dd62953dbd394d4dbedda4e24c5bd79e",
            "d39f71d8386946bb863d23d482d862f9",
            "19433941356c42f187d03bf453f78ab8",
            "21bffcce2d08491ca52b01adbb11fb39",
            "3fd3406fcb87401aa299a2baea25efd1",
            "2b33d976b6e44e07ad69e5590082ccf2",
            "29e5450790d94306ba542cd518ea0062",
            "f596f7d7df1746f6aede4108b27a4ebe",
            "1e30aecb940f4774a7505c217f945092"
          ]
        },
        "id": "KWf4JnlCEYbn",
        "outputId": "a843928f-9bd5-4ef4-bd0d-aeba8cce185b"
      },
      "source": [
        "##Example Use case\n",
        "import BERTSimilarity.BERTSimilarity as bertsimilarity\n",
        "\n",
        "if __name__=='__main__':\n",
        "    f1='The man is playing soccer.'\n",
        "    f2='The man is playing football.'\n",
        "    bertsimilarity=bertsimilarity.BERTSimilarity()\n",
        "    dist=bertsimilarity.calculate_distance(f1,f2)\n",
        "    print('The distance between sentence1: '+f1+' and sentence2: '+f2+' is '+str(dist))"
      ],
      "execution_count": 7,
      "outputs": [
        {
          "output_type": "display_data",
          "data": {
            "application/vnd.jupyter.widget-view+json": {
              "model_id": "ace365d72bcc4bb7a19a7e84e2aa2caf",
              "version_minor": 0,
              "version_major": 2
            },
            "text/plain": [
              "HBox(children=(FloatProgress(value=0.0, description='Downloading', max=231508.0, style=ProgressStyle(descripti…"
            ]
          },
          "metadata": {
            "tags": []
          }
        },
        {
          "output_type": "stream",
          "text": [
            "\n"
          ],
          "name": "stdout"
        },
        {
          "output_type": "display_data",
          "data": {
            "application/vnd.jupyter.widget-view+json": {
              "model_id": "b4a051cf7fc54132bf41efd8341ca4d4",
              "version_minor": 0,
              "version_major": 2
            },
            "text/plain": [
              "HBox(children=(FloatProgress(value=0.0, description='Downloading', max=433.0, style=ProgressStyle(description_…"
            ]
          },
          "metadata": {
            "tags": []
          }
        },
        {
          "output_type": "stream",
          "text": [
            "\n"
          ],
          "name": "stdout"
        },
        {
          "output_type": "display_data",
          "data": {
            "application/vnd.jupyter.widget-view+json": {
              "model_id": "d39f71d8386946bb863d23d482d862f9",
              "version_minor": 0,
              "version_major": 2
            },
            "text/plain": [
              "HBox(children=(FloatProgress(value=0.0, description='Downloading', max=440473133.0, style=ProgressStyle(descri…"
            ]
          },
          "metadata": {
            "tags": []
          }
        },
        {
          "output_type": "stream",
          "text": [
            "\n",
            "The distance between sentence1: The man is playing soccer. and sentence2: The man is playing football. is 0.9718281626701355\n"
          ],
          "name": "stdout"
        }
      ]
    },
    {
      "cell_type": "code",
      "metadata": {
        "colab": {
          "base_uri": "https://localhost:8080/"
        },
        "id": "WLhnCy7xVFr5",
        "outputId": "b1cfbf94-056c-4dde-db3e-372dc49e274d"
      },
      "source": [
        "##Example Use case\n",
        "import BERTSimilarity.BERTSimilarity as bertsimilarity\n",
        "\n",
        "if __name__=='__main__':\n",
        "    f1='How are you?'\n",
        "    f2='How old are you?'\n",
        "    bertsimilarity=bertsimilarity.BERTSimilarity()\n",
        "    dist=bertsimilarity.calculate_distance(f1,f2)\n",
        "    print('The distance between sentence1: '+f1+' and sentence2: '+f2+' is '+str(dist))"
      ],
      "execution_count": 10,
      "outputs": [
        {
          "output_type": "stream",
          "text": [
            "The distance between sentence1: How are you? and sentence2: How old are you? is 0.722168505191803\n"
          ],
          "name": "stdout"
        }
      ]
    },
    {
      "cell_type": "code",
      "metadata": {
        "colab": {
          "base_uri": "https://localhost:8080/"
        },
        "id": "qDpU4pQHVOYl",
        "outputId": "f3d693d9-a0e3-449c-d174-4a796cf80853"
      },
      "source": [
        "##Example Use case\n",
        "import BERTSimilarity.BERTSimilarity as bertsimilarity\n",
        "\n",
        "if __name__=='__main__':\n",
        "    f1='What is your age?'\n",
        "    f2='How old are you?'\n",
        "    bertsimilarity=bertsimilarity.BERTSimilarity()\n",
        "    dist=bertsimilarity.calculate_distance(f1,f2)\n",
        "    print('The distance between sentence1: '+f1+' and sentence2: '+f2+' is '+str(dist))"
      ],
      "execution_count": 11,
      "outputs": [
        {
          "output_type": "stream",
          "text": [
            "The distance between sentence1: What is your age? and sentence2: How old are you? is 0.8757752180099487\n"
          ],
          "name": "stdout"
        }
      ]
    },
    {
      "cell_type": "markdown",
      "metadata": {
        "id": "AMvW5W3yEz_l"
      },
      "source": [
        "##Testing the BERTSimilarity library on a small sample of 100 texts¶"
      ]
    },
    {
      "cell_type": "code",
      "metadata": {
        "id": "p7w9X3JuJPIO",
        "colab": {
          "base_uri": "https://localhost:8080/"
        },
        "outputId": "f787fe90-d334-4027-f24c-90ae8133e562"
      },
      "source": [
        "%%time\r\n",
        "\r\n",
        "#Function to find similarity between the sentences/paragraphs\r\n",
        "def calculate_similarity(q1,q2,bertsimilarity):\r\n",
        "    dist=bertsimilarity.calculate_distance(q1,q2)\r\n",
        "    return dist\r\n",
        "\r\n",
        "if __name__=='__main__':\r\n",
        "    distances=[]\r\n",
        "    for i in range(len(data[:100])):\r\n",
        "        q1=data['question1'][i]\r\n",
        "        q2=data['question2'][i]\r\n",
        "        z=calculate_similarity(q1,q2,bertsimilarity)\r\n",
        "        distances.append(z)\r\n",
        "        print(q1,\"---\", q2, \"---\", z, \"\\n\")\r\n",
        "    # print(distances)   "
      ],
      "execution_count": null,
      "outputs": [
        {
          "output_type": "stream",
          "text": [
            "What is the step by step guide to invest in share market in india? --- What is the step by step guide to invest in share market? --- 0.9701508283615112 \n",
            "\n",
            "What is the story of Kohinoor (Koh-i-Noor) Diamond? --- What would happen if the Indian government stole the Kohinoor (Koh-i-Noor) diamond back? --- 0.905712902545929 \n",
            "\n",
            "How can I increase the speed of my internet connection while using a VPN? --- How can Internet speed be increased by hacking through DNS? --- 0.9232534170150757 \n",
            "\n",
            "Why am I mentally very lonely? How can I solve it? --- Find the remainder when [math]23^{24}[/math] is divided by 24,23? --- 0.6107032299041748 \n",
            "\n",
            "Which one dissolve in water quikly sugar, salt, methane and carbon di oxide? --- Which fish would survive in salt water? --- 0.7617752552032471 \n",
            "\n",
            "Astrology: I am a Capricorn Sun Cap moon and cap rising...what does that say about me? --- I'm a triple Capricorn (Sun, Moon and ascendant in Capricorn) What does this say about me? --- 0.9052724242210388 \n",
            "\n",
            "Should I buy tiago? --- What keeps childern active and far from phone and video games? --- 0.6903406381607056 \n",
            "\n",
            "How can I be a good geologist? --- What should I do to be a great geologist? --- 0.8932925462722778 \n",
            "\n",
            "When do you use シ instead of し? --- When do you use \"&\" instead of \"and\"? --- 0.843680739402771 \n",
            "\n",
            "Motorola (company): Can I hack my Charter Motorolla DCX3400? --- How do I hack Motorola DCX3400 for free internet? --- 0.8640720844268799 \n",
            "\n",
            "Method to find separation of slits using fresnel biprism? --- What are some of the things technicians can tell about the durability and reliability of Laptops and its components? --- 0.7157688736915588 \n",
            "\n",
            "How do I read and find my YouTube comments? --- How can I see all my Youtube comments? --- 0.9260727763175964 \n",
            "\n",
            "What can make Physics easy to learn? --- How can you make physics easy to learn? --- 0.9648670554161072 \n",
            "\n",
            "What was your first sexual experience like? --- What was your first sexual experience? --- 0.9642048478126526 \n",
            "\n",
            "What are the laws to change your status from a student visa to a green card in the US, how do they compare to the immigration laws in Canada? --- What are the laws to change your status from a student visa to a green card in the US? How do they compare to the immigration laws in Japan? --- 0.993466854095459 \n",
            "\n",
            "What would a Trump presidency mean for current international master’s students on an F1 visa? --- How will a Trump presidency affect the students presently in US or planning to study in US? --- 0.9048954248428345 \n",
            "\n",
            "What does manipulation mean? --- What does manipulation means? --- 0.9850152134895325 \n",
            "\n",
            "Why do girls want to be friends with the guy they reject? --- How do guys feel after rejecting a girl? --- 0.8608253002166748 \n",
            "\n",
            "Why are so many Quora users posting questions that are readily answered on Google? --- Why do people ask Quora questions which can be answered easily by Google? --- 0.9443621635437012 \n",
            "\n",
            "Which is the best digital marketing institution in banglore? --- Which is the best digital marketing institute in Pune? --- 0.9787046909332275 \n",
            "\n",
            "Why do rockets look white? --- Why are rockets and boosters painted white? --- 0.924560010433197 \n",
            "\n",
            "What's causing someone to be jealous? --- What can I do to avoid being jealous of someone? --- 0.8515874743461609 \n",
            "\n",
            "What are the questions should not ask on Quora? --- Which question should I ask on Quora? --- 0.8663119077682495 \n",
            "\n",
            "How much is 30 kV in HP? --- Where can I find a conversion chart for CC to horsepower? --- 0.7780380249023438 \n",
            "\n",
            "What does it mean that every time I look at the clock the numbers are the same? --- How many times a day do a clock’s hands overlap? --- 0.8363939523696899 \n",
            "\n",
            "What are some tips on making it through the job interview process at Medicines? --- What are some tips on making it through the job interview process at Foundation Medicine? --- 0.9833242297172546 \n",
            "\n",
            "What is web application? --- What is the web application framework? --- 0.9266425371170044 \n",
            "\n",
            "Does society place too much importance on sports? --- How do sports contribute to the society? --- 0.8721498847007751 \n",
            "\n",
            "What is best way to make money online? --- What is best way to ask for money online? --- 0.9593202471733093 \n",
            "\n",
            "How should I prepare for CA final law? --- How one should know that he/she completely prepare for CA final exam? --- 0.762475311756134 \n",
            "\n",
            "What's one thing you would like to do better? --- What's one thing you do despite knowing better? --- 0.8787460327148438 \n",
            "\n",
            "What are some special cares for someone with a nose that gets stuffy during the night? --- How can I keep my nose from getting stuffy at night? --- 0.8267443776130676 \n",
            "\n",
            "What Game of Thrones villain would be the most likely to give you mercy? --- What Game of Thrones villain would you most like to be at the mercy of? --- 0.8948860168457031 \n",
            "\n",
            "Does the United States government still blacklist (employment, etc.) some United States citizens because their political views? --- How is the average speed of gas molecules determined? --- 0.7158947587013245 \n",
            "\n",
            "What is the best travel website in spain? --- What is the best travel website? --- 0.9542632102966309 \n",
            "\n",
            "Why do some people think Obama will try to take their guns away? --- Has there been a gun control initiative to take away guns people already own? --- 0.8729405403137207 \n",
            "\n",
            "I'm a 19-year-old. How can I improve my skills or what should I do to become an entrepreneur in the next few years? --- I am a 19 year old guy. How can I become a billionaire in the next 10 years? --- 0.9219695925712585 \n",
            "\n",
            "When a girlfriend asks her boyfriend \"Why did you choose me? What makes you want to be with me?\", what should one reply to her? --- My girlfriend said that we should end this because she is confused about her feelings for me. I wished her well and disconnected. Should I call her and ask her if she wants to get back together? --- 0.7825884819030762 \n",
            "\n",
            "How do we prepare for UPSC? --- How do I prepare for civil service? --- 0.86370450258255 \n",
            "\n",
            "What is the stall speed and AOA of an f-14 with wings fully swept back? --- Why did aircraft stop using variable-sweep wings, like those on an F-14? --- 0.8585518598556519 \n",
            "\n",
            "Why do Slavs squat? --- Will squats make my legs thicker? --- 0.7331892848014832 \n",
            "\n",
            "When can I expect my Cognizant confirmation mail? --- When can I expect Cognizant confirmation mail? --- 0.9798166751861572 \n",
            "\n",
            "Can I make 50,000 a month by day trading? --- Can I make 30,000 a month by day trading? --- 0.9980636239051819 \n",
            "\n",
            "Is being a good kid and not being a rebel worth it in the long run? --- Is being bored good for a kid? --- 0.8154130578041077 \n",
            "\n",
            "What universities does Rexnord recruit new grads from? What majors are they looking for? --- What universities does B&G Foods recruit new grads from? What majors are they looking for? --- 0.9559152126312256 \n",
            "\n",
            "What is the quickest way to increase Instagram followers? --- How can we increase our number of Instagram followers? --- 0.9129251837730408 \n",
            "\n",
            "How did Darth Vader fought Darth Maul in Star Wars Legends? --- Does Quora have a character limit for profile descriptions? --- 0.589480996131897 \n",
            "\n",
            "What are the stages of breaking up between couple? I mean, what happens after the breaking up emotionally whether its a male or female? --- Who is affected more by a breakup, the boy or the girl? --- 0.8603203892707825 \n",
            "\n",
            "What are some examples of products that can be make from crude oil? --- What are some of the products made from crude oil? --- 0.9111901521682739 \n",
            "\n",
            "How do I make friends. --- How to make friends ? --- 0.8757489919662476 \n",
            "\n",
            "Is Career Launcher good for RBI Grade B preparation? --- How is career launcher online program for RBI Grade B? --- 0.919662594795227 \n",
            "\n",
            "Will a Blu Ray play on a regular DVD player? If so, how? --- How can you play a Blu Ray DVD on a regular DVD player? --- 0.9041986465454102 \n",
            "\n",
            "Nd she is always sad? --- Aerodynamically what happens when propellor rotates? --- 0.6481199264526367 \n",
            "\n",
            "What is the best/most memorable thing you've ever eaten and why? --- What is the most delicious dish you've ever eaten and why? --- 0.9273840188980103 \n",
            "\n",
            "How GST affects the CAs and tax officers? --- Why can't I do my homework? --- 0.6022741198539734 \n",
            "\n",
            "How difficult is it get into RSI? --- Do you apply for programs like RSI when you're a rising senior? --- 0.7635697722434998 \n",
            "\n",
            "Who is israil friend? --- Is my boyfriend lying about his true feelings for his friend and is he secretly attracted to her? --- 0.6937719583511353 \n",
            "\n",
            "What are some good rap songs to dance to? --- What are some of the best rap songs? --- 0.8796758055686951 \n",
            "\n",
            "I was suddenly logged off Gmail. I can't remember my Gmail password and just realized the recovery email is no longer alive. What can I do? --- I can't remember my Gmail password or my recovery email. How can I recover my e-mail? --- 0.9216683506965637 \n",
            "\n",
            "What are the best ways to learn French? --- How do I learn french genders? --- 0.8611358404159546 \n",
            "\n",
            "How do I download content from a kickass torrent without registration? --- Is Kickass Torrents trustworthy? --- 0.8579544425010681 \n",
            "\n",
            "Is it normal to have a dark ring around the iris of my eye? --- What causes a dark ring around the iris? How should it be treated? --- 0.839937150478363 \n",
            "\n",
            "How is the new Harry Potter book 'Harry Potter and the Cursed Child'? --- How bad is the new book by J.K Rowling? --- 0.7505943775177002 \n",
            "\n",
            "Why do I always get depressed? --- Why do I always get depressed in the evening? --- 0.9498528242111206 \n",
            "\n",
            "Where can I find a European family office database? --- Where do I find a U.S. family office database? --- 0.9376169443130493 \n",
            "\n",
            "What is Java programming? How To Learn Java Programming Language ? --- How do I learn a computer language like java? --- 0.9053618311882019 \n",
            "\n",
            "What is the best book ever made? --- What is the most important book you have ever read? --- 0.8926899433135986 \n",
            "\n",
            "Can we ever store energy produced in lightning? --- Is it possible to store the energy of lightning? --- 0.9252933859825134 \n",
            "\n",
            "What is your review of Performance Testing? --- What is performance testing? --- 0.8642973303794861 \n",
            "\n",
            "At what cost does so much privacy as in Germany come? What else is lost to gain so much privacy? --- Are there any people who genuinely enjoy salad with no dressing? --- 0.7699958682060242 \n",
            "\n",
            "What are the types of immunity? --- What are the different types of immunity in our body? --- 0.9350701570510864 \n",
            "\n",
            "What is a narcissistic personality disorder? --- What is narcissistic personality disorder? --- 0.9840397238731384 \n",
            "\n",
            "How I can speak English fluently? --- How can I learn to speak English fluently? --- 0.9489744305610657 \n",
            "\n",
            "How helpful is QuickBooks' auto data recovery support phone number to recover your corrupted data files? --- What is the quickbooks customer support phone number USA? --- 0.8803544044494629 \n",
            "\n",
            "Who is the richest gambler of all time and how can I reach his level? --- Who is the richest gambler of all time and how can I reach his level as a gambler? --- 0.9882857203483582 \n",
            "\n",
            "If I fire a bullet backward from an aircraft going faster than the bullet; will the bullet be going backwards? --- Do bullets travel faster than the speed of sound when shot from a gun? If not, is it possible? If they do, what gun and how much devastation occurs? --- 0.8856756091117859 \n",
            "\n",
            "How do I prevent breast cancer? --- Is breast cancer preventable? --- 0.8908540606498718 \n",
            "\n",
            "How do I log out of my Gmail account on my friend's phone? --- How can I know who logged in to my Gmail account? (by telling his IP address or device name)? --- 0.8897266983985901 \n",
            "\n",
            "How can I make money through the Internet? --- What are some different ways to make money online, excluding selling things? --- 0.8672749400138855 \n",
            "\n",
            "What is purpose of life? --- What's the purpose of life? What is life actually about? --- 0.8655810952186584 \n",
            "\n",
            "When will the BJP government strip all the Muslims and the Christians of the Indian citizenship and put them on boats like the Rohingya's of Burma? --- Why India does not apply the \"Burma-Rohingya model\" to deport illegal Bangladeshis? --- 0.889579176902771 \n",
            "\n",
            "What is the right etiquette for wishing a Jehovah Witness happy birthday? --- How important is it to be the first person to wish someone a happy birthday? --- 0.8185656666755676 \n",
            "\n",
            "If someone wants to open a commercial FM radio station in any city of India, how much does it cost and what is the procedure? --- I want to make a travel commercial/clip video HD , For India and New Zealand. How much will it cost? --- 0.8410346508026123 \n",
            "\n",
            "Why do Swiss despise Asians? --- Why do technical employees despise sales people so much? --- 0.8660001158714294 \n",
            "\n",
            "What are some of the high salary income jobs in the field of biotechnology? --- What are some high paying jobs for a fresher with an M.Tech in biotechnology? --- 0.8847363591194153 \n",
            "\n",
            "How can I increase my height after 21 also? --- Can height increase after 25? --- 0.850925624370575 \n",
            "\n",
            "What were the major effects of the cambodia earthquake, and how do these effects compare to the Kamchatca earthquakes in 1952? --- What were the major effects of the cambodia earthquake, and how do these effects compare to the Valparaiso earthquake in 1822? --- 0.973795473575592 \n",
            "\n",
            "What is the difference between sincerity and fairness? --- What's the difference between honest and sincere? --- 0.9216954112052917 \n",
            "\n",
            "Which is the best gaming laptop under 60k INR? --- Which is the best gaming laptop under Rs 60000? --- 0.9641948342323303 \n",
            "\n",
            "What is your review of The Next Warrior: Proving Grounds - Part 9? --- What is your review of The Next Warrior: Proving Grounds - Part 5? --- 0.9980085492134094 \n",
            "\n",
            "What is the best reference book for physics class 11th? --- Which book should I choose for reference for physics and chemistry (class 11, CBSE board)? --- 0.8669707179069519 \n",
            "\n",
            "National Institute of Technology, Kurukshetra: How is the social life at NITK, Surathkal? --- National Institute of Technology Karnataka (NITK) , Surathkal: To the graduating batch: What lessons would you want to give to your juniors before you leave? --- 0.8539238572120667 \n",
            "\n",
            "What are some of the best romantic movies in English? --- What is the best romantic movie you have ever seen? --- 0.8668546676635742 \n",
            "\n",
            "What causes a nightmare? --- What causes nightmares that seem real? --- 0.9124806523323059 \n",
            "\n",
            "What is abstract expressionism in painting? --- What are some of the major influences of abstract expressionism? --- 0.8751766085624695 \n",
            "\n",
            "How does 3D printing work? --- How do 3D printing work? --- 0.9914793968200684 \n",
            "\n",
            "What was it like to attend Caltech with Jeremy Ehrhardt? --- Who are some notable folks who attended Caltech? --- 0.7350411415100098 \n",
            "\n",
            "Why did harry become a horcrux? --- What is a Horcrux? --- 0.8968124985694885 \n",
            "\n",
            "What are the best associate product manager (APM) programs that someone in their early 20s can join to learn product management and have a rewarding career in the company? --- What are the general requirement to become a Product Manager or a Program Manager in a product based software company? --- 0.8871186375617981 \n",
            "\n",
            "Why is the number for Skype at 1-855-425-3768 always busy? --- How could I get Skype to work on an android 4.1.1 phone? --- 0.783939778804779 \n",
            "\n",
            "CPU times: user 8min 46s, sys: 39.7 s, total: 9min 25s\n",
            "Wall time: 10min 17s\n"
          ],
          "name": "stdout"
        }
      ]
    },
    {
      "cell_type": "code",
      "metadata": {
        "id": "6QlZJ5g8MEpV"
      },
      "source": [
        "result_dataset=pd.DataFrame(columns=['question1','question2','similarity_score'])\n",
        "result_dataset['question1']=data['question1'][:100]\n",
        "result_dataset['question2']=data['question2'][:100]\n",
        "result_dataset['similarity_score']=distances"
      ],
      "execution_count": null,
      "outputs": []
    },
    {
      "cell_type": "code",
      "metadata": {
        "id": "FbKR_7x4XHnO",
        "colab": {
          "base_uri": "https://localhost:8080/",
          "height": 204
        },
        "outputId": "f7de172e-5497-493a-b3d4-7546e57baebd"
      },
      "source": [
        "result_dataset.head()"
      ],
      "execution_count": null,
      "outputs": [
        {
          "output_type": "execute_result",
          "data": {
            "text/html": [
              "<div>\n",
              "<style scoped>\n",
              "    .dataframe tbody tr th:only-of-type {\n",
              "        vertical-align: middle;\n",
              "    }\n",
              "\n",
              "    .dataframe tbody tr th {\n",
              "        vertical-align: top;\n",
              "    }\n",
              "\n",
              "    .dataframe thead th {\n",
              "        text-align: right;\n",
              "    }\n",
              "</style>\n",
              "<table border=\"1\" class=\"dataframe\">\n",
              "  <thead>\n",
              "    <tr style=\"text-align: right;\">\n",
              "      <th></th>\n",
              "      <th>question1</th>\n",
              "      <th>question2</th>\n",
              "      <th>similarity_score</th>\n",
              "    </tr>\n",
              "  </thead>\n",
              "  <tbody>\n",
              "    <tr>\n",
              "      <th>0</th>\n",
              "      <td>What is the step by step guide to invest in sh...</td>\n",
              "      <td>What is the step by step guide to invest in sh...</td>\n",
              "      <td>0.970151</td>\n",
              "    </tr>\n",
              "    <tr>\n",
              "      <th>1</th>\n",
              "      <td>What is the story of Kohinoor (Koh-i-Noor) Dia...</td>\n",
              "      <td>What would happen if the Indian government sto...</td>\n",
              "      <td>0.905713</td>\n",
              "    </tr>\n",
              "    <tr>\n",
              "      <th>2</th>\n",
              "      <td>How can I increase the speed of my internet co...</td>\n",
              "      <td>How can Internet speed be increased by hacking...</td>\n",
              "      <td>0.923253</td>\n",
              "    </tr>\n",
              "    <tr>\n",
              "      <th>3</th>\n",
              "      <td>Why am I mentally very lonely? How can I solve...</td>\n",
              "      <td>Find the remainder when [math]23^{24}[/math] i...</td>\n",
              "      <td>0.610703</td>\n",
              "    </tr>\n",
              "    <tr>\n",
              "      <th>4</th>\n",
              "      <td>Which one dissolve in water quikly sugar, salt...</td>\n",
              "      <td>Which fish would survive in salt water?</td>\n",
              "      <td>0.761775</td>\n",
              "    </tr>\n",
              "  </tbody>\n",
              "</table>\n",
              "</div>"
            ],
            "text/plain": [
              "                                           question1  ... similarity_score\n",
              "0  What is the step by step guide to invest in sh...  ...         0.970151\n",
              "1  What is the story of Kohinoor (Koh-i-Noor) Dia...  ...         0.905713\n",
              "2  How can I increase the speed of my internet co...  ...         0.923253\n",
              "3  Why am I mentally very lonely? How can I solve...  ...         0.610703\n",
              "4  Which one dissolve in water quikly sugar, salt...  ...         0.761775\n",
              "\n",
              "[5 rows x 3 columns]"
            ]
          },
          "metadata": {
            "tags": []
          },
          "execution_count": 18
        }
      ]
    },
    {
      "cell_type": "code",
      "metadata": {
        "id": "TRp7v0X8G7cd"
      },
      "source": [
        ""
      ],
      "execution_count": null,
      "outputs": []
    }
  ]
}