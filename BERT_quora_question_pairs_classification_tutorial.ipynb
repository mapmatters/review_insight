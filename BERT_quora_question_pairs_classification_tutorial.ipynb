{
  "nbformat": 4,
  "nbformat_minor": 0,
  "metadata": {
    "colab": {
      "name": "BERT quora question pairs classification tutorial",
      "provenance": [],
      "authorship_tag": "ABX9TyPxwxdnmk9UMAWKkOH07WUC"
    },
    "kernelspec": {
      "name": "python3",
      "display_name": "Python 3"
    },
    "accelerator": "TPU"
  },
  "cells": [
    {
      "cell_type": "markdown",
      "metadata": {
        "id": "Zvy0cH8ZC8ab"
      },
      "source": [
        "# Quora question pairs classification\r\n"
      ]
    },
    {
      "cell_type": "markdown",
      "metadata": {
        "id": "fl4PwpBuDObl"
      },
      "source": [
        "We will have a pair of sentences, we need to classify whether they are semantically similar to each other or not.\r\n",
        "\r\n",
        "This classification problem has a wide range of applications like:\r\n",
        "- Detecting the similar question in social media platforms like quora, stackoverflow, etc..\r\n",
        "- Finding similar blog posts on medium etc..\r\n",
        "- Finding similar search results in search engines.\r\n",
        "- Can be used as a classifier in GAN's\r\n",
        "- Finding whether two sentences are paraphrases to each other or not"
      ]
    },
    {
      "cell_type": "markdown",
      "metadata": {
        "id": "2pe13UtBD6w9"
      },
      "source": [
        "#Quora Dataset"
      ]
    },
    {
      "cell_type": "markdown",
      "metadata": {
        "id": "jFp5S43YD-SY"
      },
      "source": [
        "Let's take a look into quora question pairs dataset, how the duplicate questions look like.\r\n",
        "\r\n",
        "> id | qid1 | qid2 | question1 | question2 | is_duplicate\r\n",
        "> --- | --- | --- | --- | --- | ---\r\n",
        ">360472 |\t364011 | 490273 |\tWhat causes stool color to change to yellow? |\tWhat can cause stool to come out as little balls? |\t0\r\n",
        ">150662\t|155721 |\t7256 |\tWhat can one do after MBBS? |\tWhat do i do after my MBBS ? |\t1\r\n",
        "\r\n",
        "As we can see, how the duplicate data & non-duplicate data looks like. Let's build a model on how to detect these automatically."
      ]
    },
    {
      "cell_type": "markdown",
      "metadata": {
        "id": "OnigDTb1EBei"
      },
      "source": [
        "#Model\r\n"
      ]
    },
    {
      "cell_type": "markdown",
      "metadata": {
        "id": "y4JImm_UEAu6"
      },
      "source": [
        "There are various model architectures we can implement to detect the semantically similar sentences. For example:\r\n",
        "- Logistic regression by converting words into vectors by using bag of words \r\n",
        "- Random Forests build using nlp features\r\n",
        "- Converting words into vectors using word embeddings and using RNN's\r\n",
        "- Converting words into vectors using word embeddings and using CNN's\r\n",
        "- Combing RNN's and CNN's\r\n",
        "\r\n",
        "There are numerous number of architectures can be used. We will use the state-of-the-art model architecture **BERT.**"
      ]
    },
    {
      "cell_type": "markdown",
      "metadata": {
        "id": "EGQS8EPNEPaV"
      },
      "source": [
        "Google AI released a model called BERT. If you don't know what BERT is, please go through the following links:\r\n",
        "- [paper](https://arxiv.org/pdf/1810.04805.pdf)\r\n",
        "- [blog](http://jalammar.github.io/illustrated-bert/)\r\n",
        "\r\n",
        "BERT obtains new state-of-the-art results on eleven natural language processing tasks.\r\n",
        "\r\n",
        "We will use BERT to predict the given pair of sentences are semantically similar to each other or not."
      ]
    },
    {
      "cell_type": "markdown",
      "metadata": {
        "id": "TiQ8vvyFESKb"
      },
      "source": [
        "---\r\n",
        "\r\n",
        "In the paper, BERT suggests an architecture for text classification type problems.\r\n",
        "\r\n",
        "Let's see the steps on using the pertrained BERT:\r\n",
        "\r\n",
        "\r\n",
        "*   We have Question A and Question B, and we need to classify whether they are similar or not\r\n",
        "*    Input to the BERT model contains three types of embeddings\r\n",
        "     \r\n",
        "     - **Token Embeddings : ** Tokens of the input sentences\r\n",
        "     - **Segment Embeddings : ** Ids to indicate the different sentences. 0's for Sentence A, 1's for Sentence B\r\n",
        "     - **Position Embeddings : ** To indicate the positions of the words in the sentences.\r\n",
        "*   So for our case, we need to convert the sentences into tokens, and segment ids. Position embeddings are learnt during the pre-training\r\n",
        "*   A **[CLS]** token added at the start of each input sequence.\r\n",
        "*   A **[SEP]** token is added at the end of each sentence in a input sequence.\r\n",
        "*   So in our case input sequence is : **[CLS] Question A [SEP] Question B [SEP]**\r\n",
        "*    For example:\r\n",
        "     \r\n",
        "     - *Question A* :   what can one do after mbbs ?\r\n",
        "     - *Question B* :    what do i do after my mbbs ?\r\n",
        "     -  *Input tokens* : [CLS] what can one do after mbbs ? [SEP] what do i do after my mbbs ? [SEP]\r\n",
        "     -  *segment ids* : 0          0         0    0    0     0       0       0    0        1     1  1 1     1     1      1      1    1\r\n",
        "\r\n",
        "*    The above mentioned input preparation steps are implemented in the function : **convert_examples_to_features**\r\n",
        "*    Then we feed the tokenized input sequences to the BERT model.\r\n",
        "*     We take the output corresponding to the [CLS] token and add Linear layer outputting 2 labels: to indicate similar or not. (This has been already implemented as the class **BertForSequenceClassification** )\r\n",
        "*      We will use the class *BertForSequenceClassification*, which returns the logits. Then we calculated the loss using the ground truth labels.\r\n",
        "\r\n",
        "*Let's get into coding !!!*"
      ]
    },
    {
      "cell_type": "markdown",
      "metadata": {
        "id": "gb9ase2gEbu6"
      },
      "source": [
        "##Required installations"
      ]
    },
    {
      "cell_type": "markdown",
      "metadata": {
        "id": "meRs6ugDEd8c"
      },
      "source": [
        "We will use the [repo](https://github.com/huggingface/pytorch-pretrained-BERT) which contains the implementation of BERT and pretained models. We will install it using the following command"
      ]
    },
    {
      "cell_type": "markdown",
      "metadata": {
        "id": "w9gK7E9RSIOb"
      },
      "source": [
        "https://www.kaggle.com/abhilash1910/bertsimilarity-library"
      ]
    },
    {
      "cell_type": "code",
      "metadata": {
        "id": "kXv-hR-OLxSE"
      },
      "source": [
        "import sys"
      ],
      "execution_count": 1,
      "outputs": []
    },
    {
      "cell_type": "code",
      "metadata": {
        "colab": {
          "base_uri": "https://localhost:8080/"
        },
        "id": "m_tgKLNlX-Lx",
        "outputId": "b202d482-f559-4727-f4c1-d3417ba13080"
      },
      "source": [
        "from google.colab import drive\r\n",
        "drive.mount('/content/drive')\r\n",
        "\r\n",
        "import os\r\n",
        "os.chdir('/content/drive/MyDrive/master_degree/paper')\r\n",
        "!ls"
      ],
      "execution_count": 16,
      "outputs": [
        {
          "output_type": "stream",
          "text": [
            "Mounted at /content/drive\n",
            "'논문계획서 (2021.01.22).gdoc'\t\t '기존 분석결과.gdoc'\n",
            "'논문 초안 (2021.02).gdoc'\t\t '논문 지도교수 배정신청서.gdoc'\n",
            " archive.zip\t\t\t\t '레퍼런스 링크.gdoc'\n",
            " booking.com_hotel_review_korea.csv.zip  '논문계획 정보모음.gdoc'\n",
            " code_R\t\t\t\t\t  glue_data\n",
            " colab\t\t\t\t\t '연구계획 표.gsheet'\n",
            " data\t\t\t\t\t  model\n"
          ],
          "name": "stdout"
        }
      ]
    },
    {
      "cell_type": "code",
      "metadata": {
        "colab": {
          "resources": {
            "http://localhost:8080/nbextensions/google.colab/files.js": {
              "data": "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",
              "ok": true,
              "headers": [
                [
                  "content-type",
                  "application/javascript"
                ]
              ],
              "status": 200,
              "status_text": ""
            }
          },
          "base_uri": "https://localhost:8080/",
          "height": 93
        },
        "id": "JliY82KNSV-A",
        "outputId": "33f997e7-397b-45ef-d655-778bf0f5b84a"
      },
      "source": [
        "! pip install -q kaggle\r\n",
        "from google.colab import files\r\n",
        "files.upload()"
      ],
      "execution_count": 10,
      "outputs": [
        {
          "output_type": "display_data",
          "data": {
            "text/html": [
              "\n",
              "     <input type=\"file\" id=\"files-0701714a-adf5-4b63-8ca3-0a5327d4a368\" name=\"files[]\" multiple disabled\n",
              "        style=\"border:none\" />\n",
              "     <output id=\"result-0701714a-adf5-4b63-8ca3-0a5327d4a368\">\n",
              "      Upload widget is only available when the cell has been executed in the\n",
              "      current browser session. Please rerun this cell to enable.\n",
              "      </output>\n",
              "      <script src=\"/nbextensions/google.colab/files.js\"></script> "
            ],
            "text/plain": [
              "<IPython.core.display.HTML object>"
            ]
          },
          "metadata": {
            "tags": []
          }
        },
        {
          "output_type": "stream",
          "text": [
            "Saving kaggle.json to kaggle.json\n"
          ],
          "name": "stdout"
        },
        {
          "output_type": "execute_result",
          "data": {
            "text/plain": [
              "{'kaggle.json': b'{\"username\":\"mapmateers\",\"key\":\"ae15a237d2224c31d385e7bb82c36717\"}'}"
            ]
          },
          "metadata": {
            "tags": []
          },
          "execution_count": 10
        }
      ]
    },
    {
      "cell_type": "code",
      "metadata": {
        "colab": {
          "base_uri": "https://localhost:8080/"
        },
        "id": "rmMJ_W6iSy0b",
        "outputId": "6086b701-e275-4173-9060-2b264d474066"
      },
      "source": [
        "! mkdir ~/.kaggle\r\n",
        "! cp kaggle.json ~/.kaggle/\r\n",
        "! chmod 600 ~/.kaggle/kaggle.json\r\n",
        "! kaggle datasets list\r\n",
        "!kaggle competitions download -c quora-question-pairs"
      ],
      "execution_count": 17,
      "outputs": [
        {
          "output_type": "stream",
          "text": [
            "mkdir: cannot create directory ‘/root/.kaggle’: File exists\n",
            "cp: cannot stat 'kaggle.json': No such file or directory\n",
            "ref                                                    title                                                size  lastUpdated          downloadCount  voteCount  usabilityRating  \n",
            "-----------------------------------------------------  --------------------------------------------------  -----  -------------------  -------------  ---------  ---------------  \n",
            "ayushggarg/all-trumps-twitter-insults-20152021         All Trump's Twitter insults (2015-2021)             581KB  2021-01-20 16:51:05           1680        196  1.0              \n",
            "sevgisarac/temperature-change                          Temperature change                                  778KB  2020-12-24 20:06:36           1606         73  1.0              \n",
            "gpreda/reddit-wallstreetsbets-posts                    Reddit WallStreetBets Posts                           5MB  2021-02-04 07:44:01            145         34  1.0              \n",
            "jorgesandoval/wind-power-generation                    Wind Power Generation Data                          245KB  2021-01-07 18:45:08            626         43  1.0              \n",
            "cdminix/us-drought-meteorological-data                 US Drought & Meteorological Data                    748MB  2021-01-20 21:48:02            208         27  1.0              \n",
            "google/android-smartphones-high-accuracy-datasets      Android smartphones high accuracy GNSS datasets       1GB  2020-12-23 01:51:11            786         95  0.875            \n",
            "tapakah68/segmentation-full-body-mads-dataset          Segmentation Full Body MADS Dataset                 474MB  2021-01-20 18:43:02             93         24  0.875            \n",
            "aagghh/crypto-telegram-groups                          Crypto telegram groups                              297MB  2021-02-02 09:58:25             14          6  1.0              \n",
            "gpreda/covid-world-vaccination-progress                COVID-19 World Vaccination Progress                  46KB  2021-02-04 07:45:21           6628        413  1.0              \n",
            "sakshigoyal7/credit-card-customers                     Credit Card customers                               379KB  2020-11-19 07:38:44          22801        802  1.0              \n",
            "utkarshxy/who-worldhealth-statistics-2020-complete     World Health Statistics 2020|Complete|Geo-Analysis    1MB  2021-01-25 06:11:19           7119        644  1.0              \n",
            "gpreda/pfizer-vaccine-tweets                           Pfizer Vaccine Tweets                               841KB  2021-02-04 07:46:01           3859        267  1.0              \n",
            "yamaerenay/spotify-dataset-19212020-160k-tracks        Spotify Dataset 1921-2020, 160k+ Tracks              17MB  2021-01-24 23:46:53          19199        810  1.0              \n",
            "sootersaalu/amazon-top-50-bestselling-books-2009-2019  Amazon Top 50 Bestselling Books 2009 - 2019          15KB  2020-10-13 09:39:21          16319        466  1.0              \n",
            "arashnic/hr-analytics-job-change-of-data-scientists    HR Analytics: Job Change of Data Scientists         295KB  2020-12-07 00:25:10           5842        385  1.0              \n",
            "arashnic/covid19-case-surveillance-public-use-dataset  Covid-19 Case Surveillance Public Use Dataset        46MB  2020-12-21 02:24:21           3239        151  1.0              \n",
            "datasnaek/youtube-new                                  Trending YouTube Video Statistics                   201MB  2019-06-03 00:56:47         125990       3538  0.7941176        \n",
            "google/tinyquickdraw                                   QuickDraw Sketches                                   11GB  2018-04-18 19:38:04           2798        338  0.8125           \n",
            "zynicide/wine-reviews                                  Wine Reviews                                         51MB  2017-11-27 17:08:04         127301       2899  0.7941176        \n",
            "rtatman/188-million-us-wildfires                       1.88 Million US Wildfires                           168MB  2020-05-12 21:03:49          12903        639  0.8235294        \n",
            "Downloading quora-question-pairs.zip to /content/drive/My Drive/master_degree/paper\n",
            " 99% 305M/309M [00:05<00:00, 106MB/s] \n",
            "100% 309M/309M [00:05<00:00, 63.1MB/s]\n"
          ],
          "name": "stdout"
        }
      ]
    },
    {
      "cell_type": "code",
      "metadata": {
        "colab": {
          "base_uri": "https://localhost:8080/"
        },
        "id": "p_mbW4ujSALv",
        "outputId": "1bd16561-9ad2-409f-ff42-1ea2a3c0ffd4"
      },
      "source": [
        "!pip install BERTSimilarity"
      ],
      "execution_count": 12,
      "outputs": [
        {
          "output_type": "stream",
          "text": [
            "Requirement already satisfied: BERTSimilarity in /usr/local/lib/python3.6/dist-packages (0.1)\n",
            "Requirement already satisfied: transformers in /usr/local/lib/python3.6/dist-packages (from BERTSimilarity) (4.2.2)\n",
            "Requirement already satisfied: torch in /usr/local/lib/python3.6/dist-packages (from BERTSimilarity) (1.7.0+cu101)\n",
            "Requirement already satisfied: scipy in /usr/local/lib/python3.6/dist-packages (from BERTSimilarity) (1.4.1)\n",
            "Requirement already satisfied: numpy in /usr/local/lib/python3.6/dist-packages (from BERTSimilarity) (1.19.5)\n",
            "Requirement already satisfied: regex!=2019.12.17 in /usr/local/lib/python3.6/dist-packages (from transformers->BERTSimilarity) (2019.12.20)\n",
            "Requirement already satisfied: dataclasses; python_version < \"3.7\" in /usr/local/lib/python3.6/dist-packages (from transformers->BERTSimilarity) (0.8)\n",
            "Requirement already satisfied: packaging in /usr/local/lib/python3.6/dist-packages (from transformers->BERTSimilarity) (20.8)\n",
            "Requirement already satisfied: requests in /usr/local/lib/python3.6/dist-packages (from transformers->BERTSimilarity) (2.23.0)\n",
            "Requirement already satisfied: tqdm>=4.27 in /usr/local/lib/python3.6/dist-packages (from transformers->BERTSimilarity) (4.41.1)\n",
            "Requirement already satisfied: importlib-metadata; python_version < \"3.8\" in /usr/local/lib/python3.6/dist-packages (from transformers->BERTSimilarity) (3.4.0)\n",
            "Requirement already satisfied: tokenizers==0.9.4 in /usr/local/lib/python3.6/dist-packages (from transformers->BERTSimilarity) (0.9.4)\n",
            "Requirement already satisfied: sacremoses in /usr/local/lib/python3.6/dist-packages (from transformers->BERTSimilarity) (0.0.43)\n",
            "Requirement already satisfied: filelock in /usr/local/lib/python3.6/dist-packages (from transformers->BERTSimilarity) (3.0.12)\n",
            "Requirement already satisfied: future in /usr/local/lib/python3.6/dist-packages (from torch->BERTSimilarity) (0.16.0)\n",
            "Requirement already satisfied: typing-extensions in /usr/local/lib/python3.6/dist-packages (from torch->BERTSimilarity) (3.7.4.3)\n",
            "Requirement already satisfied: pyparsing>=2.0.2 in /usr/local/lib/python3.6/dist-packages (from packaging->transformers->BERTSimilarity) (2.4.7)\n",
            "Requirement already satisfied: certifi>=2017.4.17 in /usr/local/lib/python3.6/dist-packages (from requests->transformers->BERTSimilarity) (2020.12.5)\n",
            "Requirement already satisfied: chardet<4,>=3.0.2 in /usr/local/lib/python3.6/dist-packages (from requests->transformers->BERTSimilarity) (3.0.4)\n",
            "Requirement already satisfied: idna<3,>=2.5 in /usr/local/lib/python3.6/dist-packages (from requests->transformers->BERTSimilarity) (2.10)\n",
            "Requirement already satisfied: urllib3!=1.25.0,!=1.25.1,<1.26,>=1.21.1 in /usr/local/lib/python3.6/dist-packages (from requests->transformers->BERTSimilarity) (1.24.3)\n",
            "Requirement already satisfied: zipp>=0.5 in /usr/local/lib/python3.6/dist-packages (from importlib-metadata; python_version < \"3.8\"->transformers->BERTSimilarity) (3.4.0)\n",
            "Requirement already satisfied: click in /usr/local/lib/python3.6/dist-packages (from sacremoses->transformers->BERTSimilarity) (7.1.2)\n",
            "Requirement already satisfied: joblib in /usr/local/lib/python3.6/dist-packages (from sacremoses->transformers->BERTSimilarity) (1.0.0)\n",
            "Requirement already satisfied: six in /usr/local/lib/python3.6/dist-packages (from sacremoses->transformers->BERTSimilarity) (1.15.0)\n"
          ],
          "name": "stdout"
        }
      ]
    },
    {
      "cell_type": "code",
      "metadata": {
        "id": "0SOOURMCC7wi"
      },
      "source": [
        "# cloning bert github repo\r\n",
        "# !git clone -q https://github.com/google-research/bert.git\r\n",
        "\r\n",
        "# add bert to sys.path  \r\n",
        "if not 'bert' in sys.path:\r\n",
        "  sys.path += ['bert']\r\n",
        "  \r\n",
        "# Instead of cloning you can install via pip also\r\n",
        "# !pip install bert-tensorflow\r\n",
        "\r\n",
        "# We will use base uncased model, you can give try with large models\r\n",
        "PRETRAINED_DIR = 'gs://cloud-tpu-checkpoints/bert/'+'uncased_L-12_H-768_A-12'"
      ],
      "execution_count": 2,
      "outputs": []
    },
    {
      "cell_type": "markdown",
      "metadata": {
        "id": "AMvW5W3yEz_l"
      },
      "source": [
        "Data Loading"
      ]
    },
    {
      "cell_type": "code",
      "metadata": {
        "id": "p7w9X3JuJPIO"
      },
      "source": [
        "import os\r\n",
        "for dirname, _, filenames in os.walk('/kaggle/input'):\r\n",
        "    for filename in filenames:\r\n",
        "        print(os.path.join(dirname, filename))"
      ],
      "execution_count": 13,
      "outputs": []
    },
    {
      "cell_type": "code",
      "metadata": {
        "colab": {
          "base_uri": "https://localhost:8080/"
        },
        "id": "6QlZJ5g8MEpV",
        "outputId": "a0849e9b-0914-4088-df95-aa069416ddb1"
      },
      "source": [
        "os.listdir()"
      ],
      "execution_count": 15,
      "outputs": [
        {
          "output_type": "execute_result",
          "data": {
            "text/plain": [
              "['.config', 'quora-question-pairs.zip', 'kaggle.json', 'sample_data']"
            ]
          },
          "metadata": {
            "tags": []
          },
          "execution_count": 15
        }
      ]
    },
    {
      "cell_type": "code",
      "metadata": {
        "id": "FbKR_7x4XHnO"
      },
      "source": [
        ""
      ],
      "execution_count": null,
      "outputs": []
    }
  ]
}