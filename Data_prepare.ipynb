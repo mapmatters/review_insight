{
  "nbformat": 4,
  "nbformat_minor": 0,
  "metadata": {
    "colab": {
      "name": "Data prepare",
      "provenance": [],
      "collapsed_sections": [],
      "authorship_tag": "ABX9TyMv36wx91AeNSLQ7dECXu9S"
    },
    "kernelspec": {
      "name": "python3",
      "display_name": "Python 3"
    }
  },
  "cells": [
    {
      "cell_type": "code",
      "metadata": {
        "colab": {
          "base_uri": "https://localhost:8080/"
        },
        "id": "45wPiKfrWZCu",
        "outputId": "433e5def-6a3c-4696-9e3d-f2417411fe58"
      },
      "source": [
        "from google.colab import drive\n",
        "drive.mount('/content/drive')\n",
        "\n",
        "import os\n",
        "os.chdir('/content/drive/MyDrive/master_degree/paper')\n",
        "!ls"
      ],
      "execution_count": 1,
      "outputs": [
        {
          "output_type": "stream",
          "text": [
            "Mounted at /content/drive\n",
            "'논문계획서 (2021.01.22).gdoc'\t\t '기존 분석결과.gdoc'\n",
            " archive.zip\t\t\t\t '논문 지도교수 배정신청서.gdoc'\n",
            " booking.com_hotel_review_korea.csv.zip  '레퍼런스 링크.gdoc'\n",
            " code_R\t\t\t\t\t '논문계획 정보모음.gdoc'\n",
            " colab\t\t\t\t\t '연구계획 표.gsheet'\n",
            " data\t\t\t\t\t  model\n"
          ],
          "name": "stdout"
        }
      ]
    },
    {
      "cell_type": "code",
      "metadata": {
        "id": "tHBWvuw4XGqC"
      },
      "source": [
        "import pandas as pd\n",
        "import numpy as np\n",
        "import json\n",
        "import pickle\n",
        "from io import StringIO\n",
        "import sys"
      ],
      "execution_count": 87,
      "outputs": []
    },
    {
      "cell_type": "code",
      "metadata": {
        "id": "3QiB2_ywYItI"
      },
      "source": [
        "file_ls = os.listdir('data/downloads')\n",
        "\n",
        "col_nm_init = ['id', 'review', 'rating', 'start_dt', 'dt', 'app_ver_long', 'app_ver', 'lang', 'lang_nm']\n",
        "col_nm = ['app_nm', 'review', 'rating', 'dt', 'app_ver', 'lang']\n",
        "\n",
        "df_raw = pd.DataFrame(columns = col_nm)\n",
        "\n",
        "for f in file_ls:\n",
        "  d = pd.read_csv('data/downloads/'+f, sep=',', skiprows = lambda x: x in [0,1,2,3,4,5,6,7,8], error_bad_lines=False)\n",
        "  d.drop(d.tail(3).index, inplace=True)\n",
        "  d.columns = col_nm_init\n",
        "  d['app_nm'] = f.split('_')[1]\n",
        "  d = d[col_nm]\n",
        "  df_raw = df_raw.append(d)"
      ],
      "execution_count": 4,
      "outputs": []
    },
    {
      "cell_type": "code",
      "metadata": {
        "colab": {
          "base_uri": "https://localhost:8080/",
          "height": 436
        },
        "id": "BEMFeaon1iBk",
        "outputId": "27549780-1a9e-47aa-be3e-e3d37ff3836c"
      },
      "source": [
        "df = df_raw[df_raw['lang']=='en']\n",
        "df_ko = df_raw[df_raw['lang']=='ko']\n",
        "\n",
        "df = df[df['app_nm'].isin(['zoom','fbm','discord'])]\n",
        "df = df[df['review'].notnull()]\n",
        "print(df.shape)\n",
        "df"
      ],
      "execution_count": 27,
      "outputs": [
        {
          "output_type": "stream",
          "text": [
            "(1313952, 6)\n"
          ],
          "name": "stdout"
        },
        {
          "output_type": "execute_result",
          "data": {
            "text/html": [
              "<div>\n",
              "<style scoped>\n",
              "    .dataframe tbody tr th:only-of-type {\n",
              "        vertical-align: middle;\n",
              "    }\n",
              "\n",
              "    .dataframe tbody tr th {\n",
              "        vertical-align: top;\n",
              "    }\n",
              "\n",
              "    .dataframe thead th {\n",
              "        text-align: right;\n",
              "    }\n",
              "</style>\n",
              "<table border=\"1\" class=\"dataframe\">\n",
              "  <thead>\n",
              "    <tr style=\"text-align: right;\">\n",
              "      <th></th>\n",
              "      <th>app_nm</th>\n",
              "      <th>review</th>\n",
              "      <th>rating</th>\n",
              "      <th>dt</th>\n",
              "      <th>app_ver</th>\n",
              "      <th>lang</th>\n",
              "    </tr>\n",
              "  </thead>\n",
              "  <tbody>\n",
              "    <tr>\n",
              "      <th>0</th>\n",
              "      <td>zoom</td>\n",
              "      <td>ভাল</td>\n",
              "      <td>2.0</td>\n",
              "      <td>2020-12-28</td>\n",
              "      <td>5.2.45092.0831</td>\n",
              "      <td>en</td>\n",
              "    </tr>\n",
              "    <tr>\n",
              "      <th>1</th>\n",
              "      <td>zoom</td>\n",
              "      <td>This is our one of the education thing. We can...</td>\n",
              "      <td>5.0</td>\n",
              "      <td>2020-12-26</td>\n",
              "      <td>Unknown</td>\n",
              "      <td>en</td>\n",
              "    </tr>\n",
              "    <tr>\n",
              "      <th>2</th>\n",
              "      <td>zoom</td>\n",
              "      <td>Good</td>\n",
              "      <td>5.0</td>\n",
              "      <td>2020-12-26</td>\n",
              "      <td>5.4.6.812</td>\n",
              "      <td>en</td>\n",
              "    </tr>\n",
              "    <tr>\n",
              "      <th>3</th>\n",
              "      <td>zoom</td>\n",
              "      <td>Worst appp</td>\n",
              "      <td>2.0</td>\n",
              "      <td>2020-12-28</td>\n",
              "      <td>Unknown</td>\n",
              "      <td>en</td>\n",
              "    </tr>\n",
              "    <tr>\n",
              "      <th>4</th>\n",
              "      <td>zoom</td>\n",
              "      <td>Good</td>\n",
              "      <td>4.0</td>\n",
              "      <td>2020-12-28</td>\n",
              "      <td>5.4.7.946</td>\n",
              "      <td>en</td>\n",
              "    </tr>\n",
              "    <tr>\n",
              "      <th>...</th>\n",
              "      <td>...</td>\n",
              "      <td>...</td>\n",
              "      <td>...</td>\n",
              "      <td>...</td>\n",
              "      <td>...</td>\n",
              "      <td>...</td>\n",
              "    </tr>\n",
              "    <tr>\n",
              "      <th>18673</th>\n",
              "      <td>fbm</td>\n",
              "      <td>problem in archive story and how many other se...</td>\n",
              "      <td>1.0</td>\n",
              "      <td>2020-12-25</td>\n",
              "      <td>290.0.0.16.119</td>\n",
              "      <td>en</td>\n",
              "    </tr>\n",
              "    <tr>\n",
              "      <th>18674</th>\n",
              "      <td>fbm</td>\n",
              "      <td>why isn't there a way to change an individual'...</td>\n",
              "      <td>1.0</td>\n",
              "      <td>2020-12-28</td>\n",
              "      <td>294.0.0.24.129</td>\n",
              "      <td>en</td>\n",
              "    </tr>\n",
              "    <tr>\n",
              "      <th>18675</th>\n",
              "      <td>fbm</td>\n",
              "      <td>The latest update ruined this app... The chat ...</td>\n",
              "      <td>1.0</td>\n",
              "      <td>2020-12-28</td>\n",
              "      <td>294.0.0.24.129</td>\n",
              "      <td>en</td>\n",
              "    </tr>\n",
              "    <tr>\n",
              "      <th>18676</th>\n",
              "      <td>fbm</td>\n",
              "      <td>Since Android 11 the app is baaaad. That or it...</td>\n",
              "      <td>2.0</td>\n",
              "      <td>2020-12-26</td>\n",
              "      <td>294.0.0.24.129</td>\n",
              "      <td>en</td>\n",
              "    </tr>\n",
              "    <tr>\n",
              "      <th>18677</th>\n",
              "      <td>fbm</td>\n",
              "      <td>Censor this Facebook!!!🖕🖕🖕🖕🖕</td>\n",
              "      <td>1.0</td>\n",
              "      <td>2020-12-23</td>\n",
              "      <td>283.0.0.16.120</td>\n",
              "      <td>en</td>\n",
              "    </tr>\n",
              "  </tbody>\n",
              "</table>\n",
              "<p>1313952 rows × 6 columns</p>\n",
              "</div>"
            ],
            "text/plain": [
              "      app_nm  ... lang\n",
              "0       zoom  ...   en\n",
              "1       zoom  ...   en\n",
              "2       zoom  ...   en\n",
              "3       zoom  ...   en\n",
              "4       zoom  ...   en\n",
              "...      ...  ...  ...\n",
              "18673    fbm  ...   en\n",
              "18674    fbm  ...   en\n",
              "18675    fbm  ...   en\n",
              "18676    fbm  ...   en\n",
              "18677    fbm  ...   en\n",
              "\n",
              "[1313952 rows x 6 columns]"
            ]
          },
          "metadata": {
            "tags": []
          },
          "execution_count": 27
        }
      ]
    },
    {
      "cell_type": "code",
      "metadata": {
        "colab": {
          "base_uri": "https://localhost:8080/",
          "height": 878
        },
        "id": "xPAMHgWe3fvq",
        "outputId": "1302742f-a32f-4ab8-9f3e-16a03cf06ff6"
      },
      "source": [
        "!pip install fasttext\n",
        "\n",
        "import fasttext\n",
        "!wget -O /tmp/lid.176.bin https://dl.fbaipublicfiles.com/fasttext/supervised-models/lid.176.bin\n",
        "path_to_pretrained_model = '/tmp/lid.176.bin'\n",
        "\n",
        "text2 = 'In 1793, Alexander Hamilton recruited Webster to move to New York City and become an editor for a Federalist Party newspaper.'\n",
        "fmodel = fasttext.load_model(path_to_pretrained_model)\n",
        "print(fmodel.predict([text2]))  # ([['__label__en']], [array([0.9331119], dtype=float32)]\n",
        "\n",
        "# filter out non-english\n",
        "df['lang_ft'] = df['review'].apply(lambda x: fmodel.predict(x))\n",
        "df['lang_en'] = df['lang_ft'].apply(lambda x: '__label__en' in list(x)[0])\n",
        "df = df[df['lang_en']]\n",
        "df.reset_index(inplace=True, drop=True)\n",
        "print(df.shape)\n",
        "df"
      ],
      "execution_count": 28,
      "outputs": [
        {
          "output_type": "stream",
          "text": [
            "Collecting fasttext\n",
            "\u001b[?25l  Downloading https://files.pythonhosted.org/packages/f8/85/e2b368ab6d3528827b147fdb814f8189acc981a4bc2f99ab894650e05c40/fasttext-0.9.2.tar.gz (68kB)\n",
            "\r\u001b[K     |████▊                           | 10kB 19.1MB/s eta 0:00:01\r\u001b[K     |█████████▌                      | 20kB 19.8MB/s eta 0:00:01\r\u001b[K     |██████████████▎                 | 30kB 11.3MB/s eta 0:00:01\r\u001b[K     |███████████████████             | 40kB 9.2MB/s eta 0:00:01\r\u001b[K     |███████████████████████▉        | 51kB 6.8MB/s eta 0:00:01\r\u001b[K     |████████████████████████████▋   | 61kB 7.9MB/s eta 0:00:01\r\u001b[K     |████████████████████████████████| 71kB 4.5MB/s \n",
            "\u001b[?25hRequirement already satisfied: pybind11>=2.2 in /usr/local/lib/python3.6/dist-packages (from fasttext) (2.6.1)\n",
            "Requirement already satisfied: setuptools>=0.7.0 in /usr/local/lib/python3.6/dist-packages (from fasttext) (51.1.1)\n",
            "Requirement already satisfied: numpy in /usr/local/lib/python3.6/dist-packages (from fasttext) (1.19.5)\n",
            "Building wheels for collected packages: fasttext\n",
            "  Building wheel for fasttext (setup.py) ... \u001b[?25l\u001b[?25hdone\n",
            "  Created wheel for fasttext: filename=fasttext-0.9.2-cp36-cp36m-linux_x86_64.whl size=3039063 sha256=cab3a66af9444f7e293463dcf7d7eb4c15599010314e3f3a59f518910a78340f\n",
            "  Stored in directory: /root/.cache/pip/wheels/98/ba/7f/b154944a1cf5a8cee91c154b75231136cc3a3321ab0e30f592\n",
            "Successfully built fasttext\n",
            "Installing collected packages: fasttext\n",
            "Successfully installed fasttext-0.9.2\n",
            "--2021-01-19 13:40:35--  https://dl.fbaipublicfiles.com/fasttext/supervised-models/lid.176.bin\n",
            "Resolving dl.fbaipublicfiles.com (dl.fbaipublicfiles.com)... 104.22.75.142, 172.67.9.4, 104.22.74.142, ...\n",
            "Connecting to dl.fbaipublicfiles.com (dl.fbaipublicfiles.com)|104.22.75.142|:443... connected.\n",
            "HTTP request sent, awaiting response... 200 OK\n",
            "Length: 131266198 (125M) [application/octet-stream]\n",
            "Saving to: ‘/tmp/lid.176.bin’\n",
            "\n",
            "/tmp/lid.176.bin    100%[===================>] 125.18M  68.1MB/s    in 1.8s    \n",
            "\n",
            "2021-01-19 13:40:37 (68.1 MB/s) - ‘/tmp/lid.176.bin’ saved [131266198/131266198]\n",
            "\n",
            "([['__label__en']], [array([0.9331119], dtype=float32)])\n"
          ],
          "name": "stdout"
        },
        {
          "output_type": "stream",
          "text": [
            "Warning : `load_model` does not return WordVectorModel or SupervisedModel any more, but a `FastText` object which is very similar.\n"
          ],
          "name": "stderr"
        },
        {
          "output_type": "stream",
          "text": [
            "(1140110, 8)\n"
          ],
          "name": "stdout"
        },
        {
          "output_type": "execute_result",
          "data": {
            "text/html": [
              "<div>\n",
              "<style scoped>\n",
              "    .dataframe tbody tr th:only-of-type {\n",
              "        vertical-align: middle;\n",
              "    }\n",
              "\n",
              "    .dataframe tbody tr th {\n",
              "        vertical-align: top;\n",
              "    }\n",
              "\n",
              "    .dataframe thead th {\n",
              "        text-align: right;\n",
              "    }\n",
              "</style>\n",
              "<table border=\"1\" class=\"dataframe\">\n",
              "  <thead>\n",
              "    <tr style=\"text-align: right;\">\n",
              "      <th></th>\n",
              "      <th>app_nm</th>\n",
              "      <th>review</th>\n",
              "      <th>rating</th>\n",
              "      <th>dt</th>\n",
              "      <th>app_ver</th>\n",
              "      <th>lang</th>\n",
              "      <th>lang_ft</th>\n",
              "      <th>lang_en</th>\n",
              "    </tr>\n",
              "  </thead>\n",
              "  <tbody>\n",
              "    <tr>\n",
              "      <th>0</th>\n",
              "      <td>zoom</td>\n",
              "      <td>This is our one of the education thing. We can...</td>\n",
              "      <td>5.0</td>\n",
              "      <td>2020-12-26</td>\n",
              "      <td>Unknown</td>\n",
              "      <td>en</td>\n",
              "      <td>((__label__en,), [0.9754365682601929])</td>\n",
              "      <td>True</td>\n",
              "    </tr>\n",
              "    <tr>\n",
              "      <th>1</th>\n",
              "      <td>zoom</td>\n",
              "      <td>Good</td>\n",
              "      <td>5.0</td>\n",
              "      <td>2020-12-26</td>\n",
              "      <td>5.4.6.812</td>\n",
              "      <td>en</td>\n",
              "      <td>((__label__en,), [0.5064521431922913])</td>\n",
              "      <td>True</td>\n",
              "    </tr>\n",
              "    <tr>\n",
              "      <th>2</th>\n",
              "      <td>zoom</td>\n",
              "      <td>Good</td>\n",
              "      <td>4.0</td>\n",
              "      <td>2020-12-28</td>\n",
              "      <td>5.4.7.946</td>\n",
              "      <td>en</td>\n",
              "      <td>((__label__en,), [0.5064521431922913])</td>\n",
              "      <td>True</td>\n",
              "    </tr>\n",
              "    <tr>\n",
              "      <th>3</th>\n",
              "      <td>zoom</td>\n",
              "      <td>Pro</td>\n",
              "      <td>5.0</td>\n",
              "      <td>2020-12-26</td>\n",
              "      <td>5.2.42588.0803</td>\n",
              "      <td>en</td>\n",
              "      <td>((__label__en,), [0.25253161787986755])</td>\n",
              "      <td>True</td>\n",
              "    </tr>\n",
              "    <tr>\n",
              "      <th>4</th>\n",
              "      <td>zoom</td>\n",
              "      <td>It's very very useful for school students</td>\n",
              "      <td>5.0</td>\n",
              "      <td>2020-12-26</td>\n",
              "      <td>5.4.7.946</td>\n",
              "      <td>en</td>\n",
              "      <td>((__label__en,), [0.9959578514099121])</td>\n",
              "      <td>True</td>\n",
              "    </tr>\n",
              "    <tr>\n",
              "      <th>...</th>\n",
              "      <td>...</td>\n",
              "      <td>...</td>\n",
              "      <td>...</td>\n",
              "      <td>...</td>\n",
              "      <td>...</td>\n",
              "      <td>...</td>\n",
              "      <td>...</td>\n",
              "      <td>...</td>\n",
              "    </tr>\n",
              "    <tr>\n",
              "      <th>1140105</th>\n",
              "      <td>fbm</td>\n",
              "      <td>problem in archive story and how many other se...</td>\n",
              "      <td>1.0</td>\n",
              "      <td>2020-12-25</td>\n",
              "      <td>290.0.0.16.119</td>\n",
              "      <td>en</td>\n",
              "      <td>((__label__en,), [0.9687220454216003])</td>\n",
              "      <td>True</td>\n",
              "    </tr>\n",
              "    <tr>\n",
              "      <th>1140106</th>\n",
              "      <td>fbm</td>\n",
              "      <td>why isn't there a way to change an individual'...</td>\n",
              "      <td>1.0</td>\n",
              "      <td>2020-12-28</td>\n",
              "      <td>294.0.0.24.129</td>\n",
              "      <td>en</td>\n",
              "      <td>((__label__en,), [0.9431992173194885])</td>\n",
              "      <td>True</td>\n",
              "    </tr>\n",
              "    <tr>\n",
              "      <th>1140107</th>\n",
              "      <td>fbm</td>\n",
              "      <td>The latest update ruined this app... The chat ...</td>\n",
              "      <td>1.0</td>\n",
              "      <td>2020-12-28</td>\n",
              "      <td>294.0.0.24.129</td>\n",
              "      <td>en</td>\n",
              "      <td>((__label__en,), [0.912397563457489])</td>\n",
              "      <td>True</td>\n",
              "    </tr>\n",
              "    <tr>\n",
              "      <th>1140108</th>\n",
              "      <td>fbm</td>\n",
              "      <td>Since Android 11 the app is baaaad. That or it...</td>\n",
              "      <td>2.0</td>\n",
              "      <td>2020-12-26</td>\n",
              "      <td>294.0.0.24.129</td>\n",
              "      <td>en</td>\n",
              "      <td>((__label__en,), [0.9451221823692322])</td>\n",
              "      <td>True</td>\n",
              "    </tr>\n",
              "    <tr>\n",
              "      <th>1140109</th>\n",
              "      <td>fbm</td>\n",
              "      <td>Censor this Facebook!!!🖕🖕🖕🖕🖕</td>\n",
              "      <td>1.0</td>\n",
              "      <td>2020-12-23</td>\n",
              "      <td>283.0.0.16.120</td>\n",
              "      <td>en</td>\n",
              "      <td>((__label__en,), [0.36220863461494446])</td>\n",
              "      <td>True</td>\n",
              "    </tr>\n",
              "  </tbody>\n",
              "</table>\n",
              "<p>1140110 rows × 8 columns</p>\n",
              "</div>"
            ],
            "text/plain": [
              "        app_nm  ... lang_en\n",
              "0         zoom  ...    True\n",
              "1         zoom  ...    True\n",
              "2         zoom  ...    True\n",
              "3         zoom  ...    True\n",
              "4         zoom  ...    True\n",
              "...        ...  ...     ...\n",
              "1140105    fbm  ...    True\n",
              "1140106    fbm  ...    True\n",
              "1140107    fbm  ...    True\n",
              "1140108    fbm  ...    True\n",
              "1140109    fbm  ...    True\n",
              "\n",
              "[1140110 rows x 8 columns]"
            ]
          },
          "metadata": {
            "tags": []
          },
          "execution_count": 28
        }
      ]
    },
    {
      "cell_type": "code",
      "metadata": {
        "colab": {
          "base_uri": "https://localhost:8080/",
          "height": 742
        },
        "id": "NSLxUnACY_qb",
        "outputId": "d56cd5a6-0a6b-4707-c139-aa29b047a77e"
      },
      "source": [
        "df = df[['app_nm','review','rating','dt','app_ver']]\n",
        "print(df.groupby('app_nm').size())\n",
        "print(\"\\n\",df.info())\n",
        "df"
      ],
      "execution_count": 32,
      "outputs": [
        {
          "output_type": "stream",
          "text": [
            "app_nm\n",
            "discord    165190\n",
            "fbm        673606\n",
            "zoom       301314\n",
            "dtype: int64\n",
            "<class 'pandas.core.frame.DataFrame'>\n",
            "RangeIndex: 1140110 entries, 0 to 1140109\n",
            "Data columns (total 5 columns):\n",
            " #   Column   Non-Null Count    Dtype  \n",
            "---  ------   --------------    -----  \n",
            " 0   app_nm   1140110 non-null  object \n",
            " 1   review   1140110 non-null  object \n",
            " 2   rating   1140110 non-null  float64\n",
            " 3   dt       1140110 non-null  object \n",
            " 4   app_ver  1140110 non-null  object \n",
            "dtypes: float64(1), object(4)\n",
            "memory usage: 43.5+ MB\n",
            "\n",
            " None\n"
          ],
          "name": "stdout"
        },
        {
          "output_type": "execute_result",
          "data": {
            "text/html": [
              "<div>\n",
              "<style scoped>\n",
              "    .dataframe tbody tr th:only-of-type {\n",
              "        vertical-align: middle;\n",
              "    }\n",
              "\n",
              "    .dataframe tbody tr th {\n",
              "        vertical-align: top;\n",
              "    }\n",
              "\n",
              "    .dataframe thead th {\n",
              "        text-align: right;\n",
              "    }\n",
              "</style>\n",
              "<table border=\"1\" class=\"dataframe\">\n",
              "  <thead>\n",
              "    <tr style=\"text-align: right;\">\n",
              "      <th></th>\n",
              "      <th>app_nm</th>\n",
              "      <th>review</th>\n",
              "      <th>rating</th>\n",
              "      <th>dt</th>\n",
              "      <th>app_ver</th>\n",
              "    </tr>\n",
              "  </thead>\n",
              "  <tbody>\n",
              "    <tr>\n",
              "      <th>0</th>\n",
              "      <td>zoom</td>\n",
              "      <td>This is our one of the education thing. We can...</td>\n",
              "      <td>5.0</td>\n",
              "      <td>2020-12-26</td>\n",
              "      <td>Unknown</td>\n",
              "    </tr>\n",
              "    <tr>\n",
              "      <th>1</th>\n",
              "      <td>zoom</td>\n",
              "      <td>Good</td>\n",
              "      <td>5.0</td>\n",
              "      <td>2020-12-26</td>\n",
              "      <td>5.4.6.812</td>\n",
              "    </tr>\n",
              "    <tr>\n",
              "      <th>2</th>\n",
              "      <td>zoom</td>\n",
              "      <td>Good</td>\n",
              "      <td>4.0</td>\n",
              "      <td>2020-12-28</td>\n",
              "      <td>5.4.7.946</td>\n",
              "    </tr>\n",
              "    <tr>\n",
              "      <th>3</th>\n",
              "      <td>zoom</td>\n",
              "      <td>Pro</td>\n",
              "      <td>5.0</td>\n",
              "      <td>2020-12-26</td>\n",
              "      <td>5.2.42588.0803</td>\n",
              "    </tr>\n",
              "    <tr>\n",
              "      <th>4</th>\n",
              "      <td>zoom</td>\n",
              "      <td>It's very very useful for school students</td>\n",
              "      <td>5.0</td>\n",
              "      <td>2020-12-26</td>\n",
              "      <td>5.4.7.946</td>\n",
              "    </tr>\n",
              "    <tr>\n",
              "      <th>...</th>\n",
              "      <td>...</td>\n",
              "      <td>...</td>\n",
              "      <td>...</td>\n",
              "      <td>...</td>\n",
              "      <td>...</td>\n",
              "    </tr>\n",
              "    <tr>\n",
              "      <th>1140105</th>\n",
              "      <td>fbm</td>\n",
              "      <td>problem in archive story and how many other se...</td>\n",
              "      <td>1.0</td>\n",
              "      <td>2020-12-25</td>\n",
              "      <td>290.0.0.16.119</td>\n",
              "    </tr>\n",
              "    <tr>\n",
              "      <th>1140106</th>\n",
              "      <td>fbm</td>\n",
              "      <td>why isn't there a way to change an individual'...</td>\n",
              "      <td>1.0</td>\n",
              "      <td>2020-12-28</td>\n",
              "      <td>294.0.0.24.129</td>\n",
              "    </tr>\n",
              "    <tr>\n",
              "      <th>1140107</th>\n",
              "      <td>fbm</td>\n",
              "      <td>The latest update ruined this app... The chat ...</td>\n",
              "      <td>1.0</td>\n",
              "      <td>2020-12-28</td>\n",
              "      <td>294.0.0.24.129</td>\n",
              "    </tr>\n",
              "    <tr>\n",
              "      <th>1140108</th>\n",
              "      <td>fbm</td>\n",
              "      <td>Since Android 11 the app is baaaad. That or it...</td>\n",
              "      <td>2.0</td>\n",
              "      <td>2020-12-26</td>\n",
              "      <td>294.0.0.24.129</td>\n",
              "    </tr>\n",
              "    <tr>\n",
              "      <th>1140109</th>\n",
              "      <td>fbm</td>\n",
              "      <td>Censor this Facebook!!!🖕🖕🖕🖕🖕</td>\n",
              "      <td>1.0</td>\n",
              "      <td>2020-12-23</td>\n",
              "      <td>283.0.0.16.120</td>\n",
              "    </tr>\n",
              "  </tbody>\n",
              "</table>\n",
              "<p>1140110 rows × 5 columns</p>\n",
              "</div>"
            ],
            "text/plain": [
              "        app_nm  ...         app_ver\n",
              "0         zoom  ...         Unknown\n",
              "1         zoom  ...       5.4.6.812\n",
              "2         zoom  ...       5.4.7.946\n",
              "3         zoom  ...  5.2.42588.0803\n",
              "4         zoom  ...       5.4.7.946\n",
              "...        ...  ...             ...\n",
              "1140105    fbm  ...  290.0.0.16.119\n",
              "1140106    fbm  ...  294.0.0.24.129\n",
              "1140107    fbm  ...  294.0.0.24.129\n",
              "1140108    fbm  ...  294.0.0.24.129\n",
              "1140109    fbm  ...  283.0.0.16.120\n",
              "\n",
              "[1140110 rows x 5 columns]"
            ]
          },
          "metadata": {
            "tags": []
          },
          "execution_count": 32
        }
      ]
    },
    {
      "cell_type": "markdown",
      "metadata": {
        "id": "y1i4h7Jx1Dd3"
      },
      "source": [
        "### Preprocessing\n",
        "- tokenize\n",
        "- lemmatize\n",
        "- stop words\n",
        "- detokenize\n",
        "- only contains English\n",
        "\n",
        "### Columns\n",
        "- app name\n",
        "- review\n",
        "- rating\n",
        "- tokens_l (list)\n",
        "- tokens_s (set)\n",
        "- tokens_d (dict)\n",
        "- detokens\n",
        "- n_words (from list)\n",
        "- n_words_unq (from set)\n"
      ]
    },
    {
      "cell_type": "code",
      "metadata": {
        "colab": {
          "base_uri": "https://localhost:8080/"
        },
        "id": "95vXk1d78TAs",
        "outputId": "5d1aedb3-c520-448b-af34-77c9d343a8e0"
      },
      "source": [
        "rv = df['review']\n",
        "rv = rv.tolist()\n",
        "rv[:20]"
      ],
      "execution_count": 50,
      "outputs": [
        {
          "output_type": "execute_result",
          "data": {
            "text/plain": [
              "['This is our one of the education thing. We cant unlike this never',\n",
              " 'Good',\n",
              " 'Good',\n",
              " 'Pro',\n",
              " \"It's very very useful for school students\",\n",
              " 'Max 4 people on one screen including myself. This is not usable',\n",
              " 'Super',\n",
              " \"Won't let me Unmute. . The level of Simplicity is too complicated.\",\n",
              " 'Voice bug and video clarity not good',\n",
              " 'Sucks',\n",
              " 'Not working share option',\n",
              " 'Very good',\n",
              " \"It's amazing\",\n",
              " 'Woooooow',\n",
              " 'Super it works',\n",
              " \"Most of the time I can't join. After accepting my joining request by the host the screen shows blank or connecting. I've missed many of my class due to this problem...\",\n",
              " 'Aaje land mera',\n",
              " 'Nice',\n",
              " 'Worst app I dont want online classes',\n",
              " 'Awesome']"
            ]
          },
          "metadata": {
            "tags": []
          },
          "execution_count": 50
        }
      ]
    },
    {
      "cell_type": "code",
      "metadata": {
        "colab": {
          "base_uri": "https://localhost:8080/"
        },
        "id": "NesrKobH4H_o",
        "outputId": "de469af7-d0c5-42eb-9e67-db7707744a43"
      },
      "source": [
        "import nltk\n",
        "from nltk.stem import WordNetLemmatizer\n",
        "from nltk.tokenize import RegexpTokenizer\n",
        "from nltk.corpus import stopwords\n",
        "from nltk.corpus import wordnet\n",
        "from nltk.tokenize import sent_tokenize\n",
        "import re\n",
        "\n",
        "nltk.download('stopwords') \n",
        "nltk.download('wordnet')\n",
        "nltk.download('punkt')\n",
        "nltk.download('averaged_perceptron_tagger')\n"
      ],
      "execution_count": 97,
      "outputs": [
        {
          "output_type": "stream",
          "text": [
            "[nltk_data] Downloading package stopwords to /root/nltk_data...\n",
            "[nltk_data]   Package stopwords is already up-to-date!\n",
            "[nltk_data] Downloading package wordnet to /root/nltk_data...\n",
            "[nltk_data]   Package wordnet is already up-to-date!\n",
            "[nltk_data] Downloading package punkt to /root/nltk_data...\n",
            "[nltk_data]   Package punkt is already up-to-date!\n",
            "[nltk_data] Downloading package averaged_perceptron_tagger to\n",
            "[nltk_data]     /root/nltk_data...\n",
            "[nltk_data]   Package averaged_perceptron_tagger is already up-to-\n",
            "[nltk_data]       date!\n"
          ],
          "name": "stdout"
        },
        {
          "output_type": "execute_result",
          "data": {
            "text/plain": [
              "True"
            ]
          },
          "metadata": {
            "tags": []
          },
          "execution_count": 97
        }
      ]
    },
    {
      "cell_type": "code",
      "metadata": {
        "colab": {
          "base_uri": "https://localhost:8080/",
          "height": 232
        },
        "id": "Pb9Bfr7K8rhX",
        "outputId": "34934abd-b137-42c9-fcab-cd5a7ba97ec0"
      },
      "source": [
        "rv_new = []\n",
        "for l in rv:\n",
        "  for elem in sent_tokenize(l):\n",
        "    rv_new.append(elem)"
      ],
      "execution_count": 70,
      "outputs": [
        {
          "output_type": "error",
          "ename": "NameError",
          "evalue": "ignored",
          "traceback": [
            "\u001b[0;31m---------------------------------------------------------------------------\u001b[0m",
            "\u001b[0;31mNameError\u001b[0m                                 Traceback (most recent call last)",
            "\u001b[0;32m<ipython-input-70-82dc4db6cc8f>\u001b[0m in \u001b[0;36m<module>\u001b[0;34m()\u001b[0m\n\u001b[1;32m      4\u001b[0m     \u001b[0mrv_new\u001b[0m\u001b[0;34m.\u001b[0m\u001b[0mappend\u001b[0m\u001b[0;34m(\u001b[0m\u001b[0melem\u001b[0m\u001b[0;34m)\u001b[0m\u001b[0;34m\u001b[0m\u001b[0;34m\u001b[0m\u001b[0m\n\u001b[1;32m      5\u001b[0m \u001b[0;34m\u001b[0m\u001b[0m\n\u001b[0;32m----> 6\u001b[0;31m \u001b[0mrv_new\u001b[0m \u001b[0;34m=\u001b[0m \u001b[0mnp\u001b[0m\u001b[0;34m.\u001b[0m\u001b[0marray\u001b[0m\u001b[0;34m(\u001b[0m\u001b[0mrv_new\u001b[0m\u001b[0;34m)\u001b[0m\u001b[0;34m\u001b[0m\u001b[0;34m\u001b[0m\u001b[0m\n\u001b[0m\u001b[1;32m      7\u001b[0m \u001b[0mprint\u001b[0m\u001b[0;34m(\u001b[0m\u001b[0mlen\u001b[0m\u001b[0;34m(\u001b[0m\u001b[0mrv\u001b[0m\u001b[0;34m)\u001b[0m\u001b[0;34m)\u001b[0m\u001b[0;34m\u001b[0m\u001b[0;34m\u001b[0m\u001b[0m\n\u001b[1;32m      8\u001b[0m \u001b[0mprint\u001b[0m\u001b[0;34m(\u001b[0m\u001b[0mlen\u001b[0m\u001b[0;34m(\u001b[0m\u001b[0mrv_new\u001b[0m\u001b[0;34m)\u001b[0m\u001b[0;34m)\u001b[0m\u001b[0;34m\u001b[0m\u001b[0;34m\u001b[0m\u001b[0m\n",
            "\u001b[0;31mNameError\u001b[0m: name 'np' is not defined"
          ]
        }
      ]
    },
    {
      "cell_type": "code",
      "metadata": {
        "colab": {
          "base_uri": "https://localhost:8080/"
        },
        "id": "yW4bCmq2B2k-",
        "outputId": "4b573e01-c777-4514-e238-34f80de35875"
      },
      "source": [
        "rv_new = np.array(rv_new)\n",
        "print(len(rv))\n",
        "print(len(rv_new))"
      ],
      "execution_count": 88,
      "outputs": [
        {
          "output_type": "stream",
          "text": [
            "1140110\n",
            "1432188\n"
          ],
          "name": "stdout"
        }
      ]
    },
    {
      "cell_type": "code",
      "metadata": {
        "colab": {
          "base_uri": "https://localhost:8080/"
        },
        "id": "aUiQAHWdB-6R",
        "outputId": "c89e9118-7173-46b9-f953-5fe2d01f1236"
      },
      "source": [
        "rv_new"
      ],
      "execution_count": 89,
      "outputs": [
        {
          "output_type": "execute_result",
          "data": {
            "text/plain": [
              "array(['This is our one of the education thing.',\n",
              "       'We cant unlike this never', 'Good', ..., '!',\n",
              "       'Censor this Facebook!!', '!🖕🖕🖕🖕🖕'], dtype='<U862')"
            ]
          },
          "metadata": {
            "tags": []
          },
          "execution_count": 89
        }
      ]
    },
    {
      "cell_type": "code",
      "metadata": {
        "id": "vU8-Zs2g4NF2"
      },
      "source": [
        "# function to convert nltk tag to wordnet tag\n",
        "def nltk_tag_to_wordnet_tag(nltk_tag):\n",
        "    if nltk_tag.startswith('J'):\n",
        "        return wordnet.ADJ\n",
        "    elif nltk_tag.startswith('V'):\n",
        "        return wordnet.VERB\n",
        "    elif nltk_tag.startswith('N'):\n",
        "        return wordnet.NOUN\n",
        "    elif nltk_tag.startswith('R'):\n",
        "        return wordnet.ADV\n",
        "    else:          \n",
        "        return None\n",
        "\n",
        "def preprocess_text(sentence):\n",
        "    tokeniser = RegexpTokenizer(\"[\\s]+\", gaps=True)\n",
        "    lemmatizer = WordNetLemmatizer()\n",
        "\n",
        "    tokens = \" \".join(tokeniser.tokenize(sentence))\n",
        "    tokens = re.sub('[=.#/?:!$}]', '', tokens)\n",
        "    #tokenize the sentence and find the POS tag for each token\n",
        "    # sentence2 = re.sub(r'[^ ㄱ-ㅣ가-힣A-Za-z]', '', sentence)\n",
        "    nltk_tagged = nltk.pos_tag(nltk.word_tokenize(tokens))  \n",
        "    \n",
        "    #tuple of (token, wordnet_tag)\n",
        "    wordnet_tagged = map(lambda x: (x[0], nltk_tag_to_wordnet_tag(x[1])), nltk_tagged)\n",
        "    lemmas = []\n",
        "    for word, tag in wordnet_tagged:\n",
        "        if tag is None:\n",
        "            #if there is no available tag, append the token as is\n",
        "            lemmas.append(word)\n",
        "        else:        \n",
        "            #else use the tag to lemmatize the token\n",
        "            lemmas.append(lemmatizer.lemmatize(word, tag))\n",
        "    detoken = \" \".join(lemmas)\n",
        "    keywords_l = [lemma for lemma in lemmas if lemma not in stopwords.words('english')] \n",
        "    keywords_s = list(set(keywords_l))\n",
        "    freqs = dict((x, keywords_l.count(x)) for x in keywords_s)\n",
        "\n",
        "    return lemmas, keywords_l, keywords_s, detoken, freqs\n",
        "\n",
        "# def preprocess_text(lemmas):\n",
        "#     keywords= [lemma for lemma in lemmas if lemma not in stopwords.words('english')] \n",
        "#     return keywords\n",
        "\n",
        "# def build_freqs(text):\n",
        "#     return dict((x, text.count(x)) for x in set(text))\n",
        "\n",
        "# >>> l = [\"a\",\"b\",\"b\"]\n",
        "# >>> [[x,l.count(x)] for x in set(l)]\n",
        "# [['a', 1], ['b', 2]]\n",
        "# >>> dict((x,l.count(x)) for x in set(l))\n",
        "# {'a': 1, 'b': 2}\n"
      ],
      "execution_count": 108,
      "outputs": []
    },
    {
      "cell_type": "code",
      "metadata": {
        "colab": {
          "base_uri": "https://localhost:8080/"
        },
        "id": "VL1pBmug7P3-",
        "outputId": "504bdff1-73d2-4e78-c68e-bc47bea1d08b"
      },
      "source": [
        "# text = \"Many existing state-of-the-art models are first pre-trained on a large text corpus and then fine-tuned on downstream tasks.\"\n",
        "text = \"Censor this Facebook!!\"\n",
        "lemmas, keywords_l, keywords_s, detoken, freqs = preprocess_text(text) \n",
        "# keywords = preprocess_text(lemm)\n",
        "print(lemmas)\n",
        "print(detoken)\n",
        "print(keywords_l)\n",
        "print(keywords_s)\n",
        "print(freqs)"
      ],
      "execution_count": 110,
      "outputs": [
        {
          "output_type": "stream",
          "text": [
            "['Censor', 'this', 'Facebook']\n",
            "Censor this Facebook\n",
            "['Censor', 'Facebook']\n",
            "['Facebook', 'Censor']\n",
            "{'Facebook': 1, 'Censor': 1}\n"
          ],
          "name": "stdout"
        }
      ]
    },
    {
      "cell_type": "code",
      "metadata": {
        "id": "YBfDE1h2Bxeu"
      },
      "source": [
        ""
      ],
      "execution_count": null,
      "outputs": []
    },
    {
      "cell_type": "code",
      "metadata": {
        "id": "eIRQ4a51EFRT"
      },
      "source": [
        "# word 추출 (list)\n",
        "keywords_l = []\n",
        "for i in range(len(rv)):\n",
        "  a = list(rv_dict[i].keys())\n",
        "  keywords_l.append(a)"
      ],
      "execution_count": null,
      "outputs": []
    },
    {
      "cell_type": "code",
      "metadata": {
        "id": "GfXKD2YjETmB"
      },
      "source": [
        "# 역토큰화 (list)\n",
        "detoken_1 = []\n",
        "for i in range(len(rv)):\n",
        "  a = ' '.join(keywords_l[i])\n",
        "  detoken_1.append(a)"
      ],
      "execution_count": null,
      "outputs": []
    },
    {
      "cell_type": "code",
      "metadata": {
        "id": "kTmdkwgDJ0Oc"
      },
      "source": [
        "# key value (list)\n",
        "items_l = []\n",
        "for i in range(len(rv)):\n",
        "  a = rv_dict[i]\n",
        "  items_l.append(a)"
      ],
      "execution_count": null,
      "outputs": []
    },
    {
      "cell_type": "code",
      "metadata": {
        "id": "4qNG6S4pE6hd"
      },
      "source": [
        "df2 = pd.DataFrame.from_dict({'keywords':keywords_l, \n",
        "                              'detoken':detoken_1,\n",
        "                              'items': items_l})"
      ],
      "execution_count": null,
      "outputs": []
    },
    {
      "cell_type": "code",
      "metadata": {
        "id": "_n-tu_ROHBKW"
      },
      "source": [
        "df_m = pd.merge(df, df2, left_index=True, right_index=True)"
      ],
      "execution_count": null,
      "outputs": []
    },
    {
      "cell_type": "code",
      "metadata": {
        "id": "BI0nAwDDeYJS"
      },
      "source": [
        "df_en.to_pickle('data/processed/rv_en_1.pkl')\n",
        "df_ko.to_pickle('data/processed/rv_ko_1.pkl')"
      ],
      "execution_count": null,
      "outputs": []
    },
    {
      "cell_type": "code",
      "metadata": {
        "id": "720IcG10bQH9"
      },
      "source": [
        "import csv\n",
        "import json\n",
        "\n",
        "csvfile = open('file.csv', 'r')\n",
        "jsonfile = open('file.json', 'w')\n",
        "\n",
        "fieldnames = (\"FirstName\",\"LastName\",\"IDNumber\",\"Message\")\n",
        "reader = csv.DictReader( csvfile, fieldnames)\n",
        "out = json.dumps( [ row for row in reader ] )\n",
        "jsonfile.write(out)"
      ],
      "execution_count": null,
      "outputs": []
    }
  ]
}