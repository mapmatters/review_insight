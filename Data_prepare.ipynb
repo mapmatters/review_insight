{
  "nbformat": 4,
  "nbformat_minor": 0,
  "metadata": {
    "colab": {
      "name": "Data prepare",
      "provenance": [],
      "collapsed_sections": [],
      "authorship_tag": "ABX9TyPjsf9ccFIXUU+FVjHB6mKk"
    },
    "kernelspec": {
      "name": "python3",
      "display_name": "Python 3"
    }
  },
  "cells": [
    {
      "cell_type": "code",
      "metadata": {
        "colab": {
          "base_uri": "https://localhost:8080/"
        },
        "id": "45wPiKfrWZCu",
        "outputId": "0012144a-3604-4ff1-9fb9-282567e7a4c6"
      },
      "source": [
        "from google.colab import drive\n",
        "drive.mount('/content/drive')\n",
        "\n",
        "import os\n",
        "os.chdir('/content/drive/MyDrive/master_degree/paper')\n",
        "!ls"
      ],
      "execution_count": 1,
      "outputs": [
        {
          "output_type": "stream",
          "text": [
            "Mounted at /content/drive\n",
            "'논문계획서 (2021.01.22).gdoc'\t\t '기존 분석결과.gdoc'\n",
            " archive.zip\t\t\t\t '논문 지도교수 배정신청서.gdoc'\n",
            " booking.com_hotel_review_korea.csv.zip  '레퍼런스 링크.gdoc'\n",
            " code_R\t\t\t\t\t '논문계획 정보모음.gdoc'\n",
            " colab\t\t\t\t\t '연구계획 표.gsheet'\n",
            " data\t\t\t\t\t  model\n"
          ],
          "name": "stdout"
        }
      ]
    },
    {
      "cell_type": "code",
      "metadata": {
        "id": "tHBWvuw4XGqC"
      },
      "source": [
        "import pandas as pd\n",
        "import numpy as np\n",
        "import json\n",
        "import pickle\n",
        "from io import StringIO\n",
        "import sys"
      ],
      "execution_count": 2,
      "outputs": []
    },
    {
      "cell_type": "code",
      "metadata": {
        "id": "3QiB2_ywYItI"
      },
      "source": [
        "file_ls = os.listdir('data/downloads')\n",
        "\n",
        "col_nm_init = ['id', 'review', 'rating', 'start_dt', 'dt', 'app_ver_long', 'app_ver', 'lang', 'lang_nm']\n",
        "col_nm = ['app_nm', 'review', 'rating', 'dt', 'app_ver', 'lang']\n",
        "\n",
        "df_raw = pd.DataFrame(columns = col_nm)\n",
        "\n",
        "for f in file_ls:\n",
        "  d = pd.read_csv('data/downloads/'+f, sep=',', skiprows = lambda x: x in [0,1,2,3,4,5,6,7,8], error_bad_lines=False)\n",
        "  d.drop(d.tail(3).index, inplace=True)\n",
        "  d.columns = col_nm_init\n",
        "  d['app_nm'] = f.split('_')[1]\n",
        "  d = d[col_nm]\n",
        "  df_raw = df_raw.append(d)"
      ],
      "execution_count": null,
      "outputs": []
    },
    {
      "cell_type": "code",
      "metadata": {
        "colab": {
          "base_uri": "https://localhost:8080/",
          "height": 436
        },
        "id": "BEMFeaon1iBk",
        "outputId": "eae06e9b-4fcb-49f7-b2e9-e1a60578f923"
      },
      "source": [
        "df = df_raw[df_raw['lang']=='en']\n",
        "df_ko = df_raw[df_raw['lang']=='ko']\n",
        "\n",
        "df = df[df['app_nm'].isin(['zoom','fbm','discord'])]\n",
        "df = df[df['review'].notnull()]\n",
        "print(df.shape)\n",
        "df"
      ],
      "execution_count": null,
      "outputs": [
        {
          "output_type": "stream",
          "text": [
            "(1313952, 6)\n"
          ],
          "name": "stdout"
        },
        {
          "output_type": "execute_result",
          "data": {
            "text/html": [
              "<div>\n",
              "<style scoped>\n",
              "    .dataframe tbody tr th:only-of-type {\n",
              "        vertical-align: middle;\n",
              "    }\n",
              "\n",
              "    .dataframe tbody tr th {\n",
              "        vertical-align: top;\n",
              "    }\n",
              "\n",
              "    .dataframe thead th {\n",
              "        text-align: right;\n",
              "    }\n",
              "</style>\n",
              "<table border=\"1\" class=\"dataframe\">\n",
              "  <thead>\n",
              "    <tr style=\"text-align: right;\">\n",
              "      <th></th>\n",
              "      <th>app_nm</th>\n",
              "      <th>review</th>\n",
              "      <th>rating</th>\n",
              "      <th>dt</th>\n",
              "      <th>app_ver</th>\n",
              "      <th>lang</th>\n",
              "    </tr>\n",
              "  </thead>\n",
              "  <tbody>\n",
              "    <tr>\n",
              "      <th>0</th>\n",
              "      <td>zoom</td>\n",
              "      <td>ভাল</td>\n",
              "      <td>2.0</td>\n",
              "      <td>2020-12-28</td>\n",
              "      <td>5.2.45092.0831</td>\n",
              "      <td>en</td>\n",
              "    </tr>\n",
              "    <tr>\n",
              "      <th>1</th>\n",
              "      <td>zoom</td>\n",
              "      <td>This is our one of the education thing. We can...</td>\n",
              "      <td>5.0</td>\n",
              "      <td>2020-12-26</td>\n",
              "      <td>Unknown</td>\n",
              "      <td>en</td>\n",
              "    </tr>\n",
              "    <tr>\n",
              "      <th>2</th>\n",
              "      <td>zoom</td>\n",
              "      <td>Good</td>\n",
              "      <td>5.0</td>\n",
              "      <td>2020-12-26</td>\n",
              "      <td>5.4.6.812</td>\n",
              "      <td>en</td>\n",
              "    </tr>\n",
              "    <tr>\n",
              "      <th>3</th>\n",
              "      <td>zoom</td>\n",
              "      <td>Worst appp</td>\n",
              "      <td>2.0</td>\n",
              "      <td>2020-12-28</td>\n",
              "      <td>Unknown</td>\n",
              "      <td>en</td>\n",
              "    </tr>\n",
              "    <tr>\n",
              "      <th>4</th>\n",
              "      <td>zoom</td>\n",
              "      <td>Good</td>\n",
              "      <td>4.0</td>\n",
              "      <td>2020-12-28</td>\n",
              "      <td>5.4.7.946</td>\n",
              "      <td>en</td>\n",
              "    </tr>\n",
              "    <tr>\n",
              "      <th>...</th>\n",
              "      <td>...</td>\n",
              "      <td>...</td>\n",
              "      <td>...</td>\n",
              "      <td>...</td>\n",
              "      <td>...</td>\n",
              "      <td>...</td>\n",
              "    </tr>\n",
              "    <tr>\n",
              "      <th>18673</th>\n",
              "      <td>fbm</td>\n",
              "      <td>problem in archive story and how many other se...</td>\n",
              "      <td>1.0</td>\n",
              "      <td>2020-12-25</td>\n",
              "      <td>290.0.0.16.119</td>\n",
              "      <td>en</td>\n",
              "    </tr>\n",
              "    <tr>\n",
              "      <th>18674</th>\n",
              "      <td>fbm</td>\n",
              "      <td>why isn't there a way to change an individual'...</td>\n",
              "      <td>1.0</td>\n",
              "      <td>2020-12-28</td>\n",
              "      <td>294.0.0.24.129</td>\n",
              "      <td>en</td>\n",
              "    </tr>\n",
              "    <tr>\n",
              "      <th>18675</th>\n",
              "      <td>fbm</td>\n",
              "      <td>The latest update ruined this app... The chat ...</td>\n",
              "      <td>1.0</td>\n",
              "      <td>2020-12-28</td>\n",
              "      <td>294.0.0.24.129</td>\n",
              "      <td>en</td>\n",
              "    </tr>\n",
              "    <tr>\n",
              "      <th>18676</th>\n",
              "      <td>fbm</td>\n",
              "      <td>Since Android 11 the app is baaaad. That or it...</td>\n",
              "      <td>2.0</td>\n",
              "      <td>2020-12-26</td>\n",
              "      <td>294.0.0.24.129</td>\n",
              "      <td>en</td>\n",
              "    </tr>\n",
              "    <tr>\n",
              "      <th>18677</th>\n",
              "      <td>fbm</td>\n",
              "      <td>Censor this Facebook!!!🖕🖕🖕🖕🖕</td>\n",
              "      <td>1.0</td>\n",
              "      <td>2020-12-23</td>\n",
              "      <td>283.0.0.16.120</td>\n",
              "      <td>en</td>\n",
              "    </tr>\n",
              "  </tbody>\n",
              "</table>\n",
              "<p>1313952 rows × 6 columns</p>\n",
              "</div>"
            ],
            "text/plain": [
              "      app_nm  ... lang\n",
              "0       zoom  ...   en\n",
              "1       zoom  ...   en\n",
              "2       zoom  ...   en\n",
              "3       zoom  ...   en\n",
              "4       zoom  ...   en\n",
              "...      ...  ...  ...\n",
              "18673    fbm  ...   en\n",
              "18674    fbm  ...   en\n",
              "18675    fbm  ...   en\n",
              "18676    fbm  ...   en\n",
              "18677    fbm  ...   en\n",
              "\n",
              "[1313952 rows x 6 columns]"
            ]
          },
          "metadata": {
            "tags": []
          },
          "execution_count": 5
        }
      ]
    },
    {
      "cell_type": "code",
      "metadata": {
        "colab": {
          "base_uri": "https://localhost:8080/",
          "height": 878
        },
        "id": "xPAMHgWe3fvq",
        "outputId": "68274dc5-b841-4cb8-a9d1-688884fb359d"
      },
      "source": [
        "!pip install fasttext\n",
        "\n",
        "import fasttext\n",
        "!wget -O /tmp/lid.176.bin https://dl.fbaipublicfiles.com/fasttext/supervised-models/lid.176.bin\n",
        "path_to_pretrained_model = '/tmp/lid.176.bin'\n",
        "\n",
        "text2 = 'In 1793, Alexander Hamilton recruited Webster to move to New York City and become an editor for a Federalist Party newspaper.'\n",
        "fmodel = fasttext.load_model(path_to_pretrained_model)\n",
        "print(fmodel.predict([text2]))  # ([['__label__en']], [array([0.9331119], dtype=float32)]\n",
        "\n",
        "# filter out non-english\n",
        "df['lang_ft'] = df['review'].apply(lambda x: fmodel.predict(x))\n",
        "df['lang_en'] = df['lang_ft'].apply(lambda x: '__label__en' in list(x)[0])\n",
        "df = df[df['lang_en']]\n",
        "df.reset_index(inplace=True, drop=True)\n",
        "print(df.shape)\n",
        "df"
      ],
      "execution_count": null,
      "outputs": [
        {
          "output_type": "stream",
          "text": [
            "Collecting fasttext\n",
            "\u001b[?25l  Downloading https://files.pythonhosted.org/packages/f8/85/e2b368ab6d3528827b147fdb814f8189acc981a4bc2f99ab894650e05c40/fasttext-0.9.2.tar.gz (68kB)\n",
            "\r\u001b[K     |████▊                           | 10kB 16.6MB/s eta 0:00:01\r\u001b[K     |█████████▌                      | 20kB 10.5MB/s eta 0:00:01\r\u001b[K     |██████████████▎                 | 30kB 8.5MB/s eta 0:00:01\r\u001b[K     |███████████████████             | 40kB 7.3MB/s eta 0:00:01\r\u001b[K     |███████████████████████▉        | 51kB 4.5MB/s eta 0:00:01\r\u001b[K     |████████████████████████████▋   | 61kB 5.0MB/s eta 0:00:01\r\u001b[K     |████████████████████████████████| 71kB 3.4MB/s \n",
            "\u001b[?25hRequirement already satisfied: pybind11>=2.2 in /usr/local/lib/python3.6/dist-packages (from fasttext) (2.6.1)\n",
            "Requirement already satisfied: setuptools>=0.7.0 in /usr/local/lib/python3.6/dist-packages (from fasttext) (51.1.2)\n",
            "Requirement already satisfied: numpy in /usr/local/lib/python3.6/dist-packages (from fasttext) (1.19.5)\n",
            "Building wheels for collected packages: fasttext\n",
            "  Building wheel for fasttext (setup.py) ... \u001b[?25l\u001b[?25hdone\n",
            "  Created wheel for fasttext: filename=fasttext-0.9.2-cp36-cp36m-linux_x86_64.whl size=3038679 sha256=c13315108f5fe08d4261557d2f0c0ee3f94397ee6795bf99163fcc187f8e1aa3\n",
            "  Stored in directory: /root/.cache/pip/wheels/98/ba/7f/b154944a1cf5a8cee91c154b75231136cc3a3321ab0e30f592\n",
            "Successfully built fasttext\n",
            "Installing collected packages: fasttext\n",
            "Successfully installed fasttext-0.9.2\n",
            "--2021-01-19 21:42:50--  https://dl.fbaipublicfiles.com/fasttext/supervised-models/lid.176.bin\n",
            "Resolving dl.fbaipublicfiles.com (dl.fbaipublicfiles.com)... 172.67.9.4, 104.22.74.142, 104.22.75.142, ...\n",
            "Connecting to dl.fbaipublicfiles.com (dl.fbaipublicfiles.com)|172.67.9.4|:443... connected.\n",
            "HTTP request sent, awaiting response... 200 OK\n",
            "Length: 131266198 (125M) [application/octet-stream]\n",
            "Saving to: ‘/tmp/lid.176.bin’\n",
            "\n",
            "/tmp/lid.176.bin    100%[===================>] 125.18M  25.2MB/s    in 5.7s    \n",
            "\n",
            "2021-01-19 21:42:56 (22.1 MB/s) - ‘/tmp/lid.176.bin’ saved [131266198/131266198]\n",
            "\n",
            "([['__label__en']], [array([0.9331119], dtype=float32)])\n"
          ],
          "name": "stdout"
        },
        {
          "output_type": "stream",
          "text": [
            "Warning : `load_model` does not return WordVectorModel or SupervisedModel any more, but a `FastText` object which is very similar.\n"
          ],
          "name": "stderr"
        },
        {
          "output_type": "stream",
          "text": [
            "(1140110, 8)\n"
          ],
          "name": "stdout"
        },
        {
          "output_type": "execute_result",
          "data": {
            "text/html": [
              "<div>\n",
              "<style scoped>\n",
              "    .dataframe tbody tr th:only-of-type {\n",
              "        vertical-align: middle;\n",
              "    }\n",
              "\n",
              "    .dataframe tbody tr th {\n",
              "        vertical-align: top;\n",
              "    }\n",
              "\n",
              "    .dataframe thead th {\n",
              "        text-align: right;\n",
              "    }\n",
              "</style>\n",
              "<table border=\"1\" class=\"dataframe\">\n",
              "  <thead>\n",
              "    <tr style=\"text-align: right;\">\n",
              "      <th></th>\n",
              "      <th>app_nm</th>\n",
              "      <th>review</th>\n",
              "      <th>rating</th>\n",
              "      <th>dt</th>\n",
              "      <th>app_ver</th>\n",
              "      <th>lang</th>\n",
              "      <th>lang_ft</th>\n",
              "      <th>lang_en</th>\n",
              "    </tr>\n",
              "  </thead>\n",
              "  <tbody>\n",
              "    <tr>\n",
              "      <th>0</th>\n",
              "      <td>zoom</td>\n",
              "      <td>This is our one of the education thing. We can...</td>\n",
              "      <td>5.0</td>\n",
              "      <td>2020-12-26</td>\n",
              "      <td>Unknown</td>\n",
              "      <td>en</td>\n",
              "      <td>((__label__en,), [0.9754365682601929])</td>\n",
              "      <td>True</td>\n",
              "    </tr>\n",
              "    <tr>\n",
              "      <th>1</th>\n",
              "      <td>zoom</td>\n",
              "      <td>Good</td>\n",
              "      <td>5.0</td>\n",
              "      <td>2020-12-26</td>\n",
              "      <td>5.4.6.812</td>\n",
              "      <td>en</td>\n",
              "      <td>((__label__en,), [0.5064521431922913])</td>\n",
              "      <td>True</td>\n",
              "    </tr>\n",
              "    <tr>\n",
              "      <th>2</th>\n",
              "      <td>zoom</td>\n",
              "      <td>Good</td>\n",
              "      <td>4.0</td>\n",
              "      <td>2020-12-28</td>\n",
              "      <td>5.4.7.946</td>\n",
              "      <td>en</td>\n",
              "      <td>((__label__en,), [0.5064521431922913])</td>\n",
              "      <td>True</td>\n",
              "    </tr>\n",
              "    <tr>\n",
              "      <th>3</th>\n",
              "      <td>zoom</td>\n",
              "      <td>Pro</td>\n",
              "      <td>5.0</td>\n",
              "      <td>2020-12-26</td>\n",
              "      <td>5.2.42588.0803</td>\n",
              "      <td>en</td>\n",
              "      <td>((__label__en,), [0.25253161787986755])</td>\n",
              "      <td>True</td>\n",
              "    </tr>\n",
              "    <tr>\n",
              "      <th>4</th>\n",
              "      <td>zoom</td>\n",
              "      <td>It's very very useful for school students</td>\n",
              "      <td>5.0</td>\n",
              "      <td>2020-12-26</td>\n",
              "      <td>5.4.7.946</td>\n",
              "      <td>en</td>\n",
              "      <td>((__label__en,), [0.9959578514099121])</td>\n",
              "      <td>True</td>\n",
              "    </tr>\n",
              "    <tr>\n",
              "      <th>...</th>\n",
              "      <td>...</td>\n",
              "      <td>...</td>\n",
              "      <td>...</td>\n",
              "      <td>...</td>\n",
              "      <td>...</td>\n",
              "      <td>...</td>\n",
              "      <td>...</td>\n",
              "      <td>...</td>\n",
              "    </tr>\n",
              "    <tr>\n",
              "      <th>1140105</th>\n",
              "      <td>fbm</td>\n",
              "      <td>problem in archive story and how many other se...</td>\n",
              "      <td>1.0</td>\n",
              "      <td>2020-12-25</td>\n",
              "      <td>290.0.0.16.119</td>\n",
              "      <td>en</td>\n",
              "      <td>((__label__en,), [0.9687220454216003])</td>\n",
              "      <td>True</td>\n",
              "    </tr>\n",
              "    <tr>\n",
              "      <th>1140106</th>\n",
              "      <td>fbm</td>\n",
              "      <td>why isn't there a way to change an individual'...</td>\n",
              "      <td>1.0</td>\n",
              "      <td>2020-12-28</td>\n",
              "      <td>294.0.0.24.129</td>\n",
              "      <td>en</td>\n",
              "      <td>((__label__en,), [0.9431992173194885])</td>\n",
              "      <td>True</td>\n",
              "    </tr>\n",
              "    <tr>\n",
              "      <th>1140107</th>\n",
              "      <td>fbm</td>\n",
              "      <td>The latest update ruined this app... The chat ...</td>\n",
              "      <td>1.0</td>\n",
              "      <td>2020-12-28</td>\n",
              "      <td>294.0.0.24.129</td>\n",
              "      <td>en</td>\n",
              "      <td>((__label__en,), [0.912397563457489])</td>\n",
              "      <td>True</td>\n",
              "    </tr>\n",
              "    <tr>\n",
              "      <th>1140108</th>\n",
              "      <td>fbm</td>\n",
              "      <td>Since Android 11 the app is baaaad. That or it...</td>\n",
              "      <td>2.0</td>\n",
              "      <td>2020-12-26</td>\n",
              "      <td>294.0.0.24.129</td>\n",
              "      <td>en</td>\n",
              "      <td>((__label__en,), [0.9451221823692322])</td>\n",
              "      <td>True</td>\n",
              "    </tr>\n",
              "    <tr>\n",
              "      <th>1140109</th>\n",
              "      <td>fbm</td>\n",
              "      <td>Censor this Facebook!!!🖕🖕🖕🖕🖕</td>\n",
              "      <td>1.0</td>\n",
              "      <td>2020-12-23</td>\n",
              "      <td>283.0.0.16.120</td>\n",
              "      <td>en</td>\n",
              "      <td>((__label__en,), [0.36220863461494446])</td>\n",
              "      <td>True</td>\n",
              "    </tr>\n",
              "  </tbody>\n",
              "</table>\n",
              "<p>1140110 rows × 8 columns</p>\n",
              "</div>"
            ],
            "text/plain": [
              "        app_nm  ... lang_en\n",
              "0         zoom  ...    True\n",
              "1         zoom  ...    True\n",
              "2         zoom  ...    True\n",
              "3         zoom  ...    True\n",
              "4         zoom  ...    True\n",
              "...        ...  ...     ...\n",
              "1140105    fbm  ...    True\n",
              "1140106    fbm  ...    True\n",
              "1140107    fbm  ...    True\n",
              "1140108    fbm  ...    True\n",
              "1140109    fbm  ...    True\n",
              "\n",
              "[1140110 rows x 8 columns]"
            ]
          },
          "metadata": {
            "tags": []
          },
          "execution_count": 8
        }
      ]
    },
    {
      "cell_type": "code",
      "metadata": {
        "colab": {
          "base_uri": "https://localhost:8080/",
          "height": 742
        },
        "id": "NSLxUnACY_qb",
        "outputId": "22f13bab-1b59-4967-fcd9-4fad432882a5"
      },
      "source": [
        "df = df[['app_nm','review','rating','dt','app_ver']]\n",
        "print(df.groupby('app_nm').size())\n",
        "print(\"\\n\",df.info())\n",
        "df"
      ],
      "execution_count": null,
      "outputs": [
        {
          "output_type": "stream",
          "text": [
            "app_nm\n",
            "discord    165190\n",
            "fbm        673606\n",
            "zoom       301314\n",
            "dtype: int64\n",
            "<class 'pandas.core.frame.DataFrame'>\n",
            "RangeIndex: 1140110 entries, 0 to 1140109\n",
            "Data columns (total 5 columns):\n",
            " #   Column   Non-Null Count    Dtype  \n",
            "---  ------   --------------    -----  \n",
            " 0   app_nm   1140110 non-null  object \n",
            " 1   review   1140110 non-null  object \n",
            " 2   rating   1140110 non-null  float64\n",
            " 3   dt       1140110 non-null  object \n",
            " 4   app_ver  1140110 non-null  object \n",
            "dtypes: float64(1), object(4)\n",
            "memory usage: 43.5+ MB\n",
            "\n",
            " None\n"
          ],
          "name": "stdout"
        },
        {
          "output_type": "execute_result",
          "data": {
            "text/html": [
              "<div>\n",
              "<style scoped>\n",
              "    .dataframe tbody tr th:only-of-type {\n",
              "        vertical-align: middle;\n",
              "    }\n",
              "\n",
              "    .dataframe tbody tr th {\n",
              "        vertical-align: top;\n",
              "    }\n",
              "\n",
              "    .dataframe thead th {\n",
              "        text-align: right;\n",
              "    }\n",
              "</style>\n",
              "<table border=\"1\" class=\"dataframe\">\n",
              "  <thead>\n",
              "    <tr style=\"text-align: right;\">\n",
              "      <th></th>\n",
              "      <th>app_nm</th>\n",
              "      <th>review</th>\n",
              "      <th>rating</th>\n",
              "      <th>dt</th>\n",
              "      <th>app_ver</th>\n",
              "    </tr>\n",
              "  </thead>\n",
              "  <tbody>\n",
              "    <tr>\n",
              "      <th>0</th>\n",
              "      <td>zoom</td>\n",
              "      <td>This is our one of the education thing. We can...</td>\n",
              "      <td>5.0</td>\n",
              "      <td>2020-12-26</td>\n",
              "      <td>Unknown</td>\n",
              "    </tr>\n",
              "    <tr>\n",
              "      <th>1</th>\n",
              "      <td>zoom</td>\n",
              "      <td>Good</td>\n",
              "      <td>5.0</td>\n",
              "      <td>2020-12-26</td>\n",
              "      <td>5.4.6.812</td>\n",
              "    </tr>\n",
              "    <tr>\n",
              "      <th>2</th>\n",
              "      <td>zoom</td>\n",
              "      <td>Good</td>\n",
              "      <td>4.0</td>\n",
              "      <td>2020-12-28</td>\n",
              "      <td>5.4.7.946</td>\n",
              "    </tr>\n",
              "    <tr>\n",
              "      <th>3</th>\n",
              "      <td>zoom</td>\n",
              "      <td>Pro</td>\n",
              "      <td>5.0</td>\n",
              "      <td>2020-12-26</td>\n",
              "      <td>5.2.42588.0803</td>\n",
              "    </tr>\n",
              "    <tr>\n",
              "      <th>4</th>\n",
              "      <td>zoom</td>\n",
              "      <td>It's very very useful for school students</td>\n",
              "      <td>5.0</td>\n",
              "      <td>2020-12-26</td>\n",
              "      <td>5.4.7.946</td>\n",
              "    </tr>\n",
              "    <tr>\n",
              "      <th>...</th>\n",
              "      <td>...</td>\n",
              "      <td>...</td>\n",
              "      <td>...</td>\n",
              "      <td>...</td>\n",
              "      <td>...</td>\n",
              "    </tr>\n",
              "    <tr>\n",
              "      <th>1140105</th>\n",
              "      <td>fbm</td>\n",
              "      <td>problem in archive story and how many other se...</td>\n",
              "      <td>1.0</td>\n",
              "      <td>2020-12-25</td>\n",
              "      <td>290.0.0.16.119</td>\n",
              "    </tr>\n",
              "    <tr>\n",
              "      <th>1140106</th>\n",
              "      <td>fbm</td>\n",
              "      <td>why isn't there a way to change an individual'...</td>\n",
              "      <td>1.0</td>\n",
              "      <td>2020-12-28</td>\n",
              "      <td>294.0.0.24.129</td>\n",
              "    </tr>\n",
              "    <tr>\n",
              "      <th>1140107</th>\n",
              "      <td>fbm</td>\n",
              "      <td>The latest update ruined this app... The chat ...</td>\n",
              "      <td>1.0</td>\n",
              "      <td>2020-12-28</td>\n",
              "      <td>294.0.0.24.129</td>\n",
              "    </tr>\n",
              "    <tr>\n",
              "      <th>1140108</th>\n",
              "      <td>fbm</td>\n",
              "      <td>Since Android 11 the app is baaaad. That or it...</td>\n",
              "      <td>2.0</td>\n",
              "      <td>2020-12-26</td>\n",
              "      <td>294.0.0.24.129</td>\n",
              "    </tr>\n",
              "    <tr>\n",
              "      <th>1140109</th>\n",
              "      <td>fbm</td>\n",
              "      <td>Censor this Facebook!!!🖕🖕🖕🖕🖕</td>\n",
              "      <td>1.0</td>\n",
              "      <td>2020-12-23</td>\n",
              "      <td>283.0.0.16.120</td>\n",
              "    </tr>\n",
              "  </tbody>\n",
              "</table>\n",
              "<p>1140110 rows × 5 columns</p>\n",
              "</div>"
            ],
            "text/plain": [
              "        app_nm  ...         app_ver\n",
              "0         zoom  ...         Unknown\n",
              "1         zoom  ...       5.4.6.812\n",
              "2         zoom  ...       5.4.7.946\n",
              "3         zoom  ...  5.2.42588.0803\n",
              "4         zoom  ...       5.4.7.946\n",
              "...        ...  ...             ...\n",
              "1140105    fbm  ...  290.0.0.16.119\n",
              "1140106    fbm  ...  294.0.0.24.129\n",
              "1140107    fbm  ...  294.0.0.24.129\n",
              "1140108    fbm  ...  294.0.0.24.129\n",
              "1140109    fbm  ...  283.0.0.16.120\n",
              "\n",
              "[1140110 rows x 5 columns]"
            ]
          },
          "metadata": {
            "tags": []
          },
          "execution_count": 9
        }
      ]
    },
    {
      "cell_type": "code",
      "metadata": {
        "id": "KMlvzgkSl6-D"
      },
      "source": [
        "df.to_pickle('data/processed/rv_3apps.pkl')"
      ],
      "execution_count": null,
      "outputs": []
    },
    {
      "cell_type": "code",
      "metadata": {
        "id": "kOz4Om3ZmGN7"
      },
      "source": [
        "df = pd.read_pickle('data/processed/rv_3apps.pkl')"
      ],
      "execution_count": 3,
      "outputs": []
    },
    {
      "cell_type": "markdown",
      "metadata": {
        "id": "y1i4h7Jx1Dd3"
      },
      "source": [
        "### Preprocessing\n",
        "- tokenize\n",
        "- lemmatize\n",
        "- stop words\n",
        "- detokenize\n",
        "- only contains English\n",
        "\n",
        "### Columns\n",
        "- app name\n",
        "- review\n",
        "- rating\n",
        "- tokens_l (list)\n",
        "- tokens_s (set)\n",
        "- tokens_d (dict)\n",
        "- detokens\n",
        "- n_words (from list)\n",
        "- n_words_unq (from set)\n"
      ]
    },
    {
      "cell_type": "code",
      "metadata": {
        "colab": {
          "base_uri": "https://localhost:8080/"
        },
        "id": "NesrKobH4H_o",
        "outputId": "08e02d2c-b67c-4b7b-f410-68d68f985528"
      },
      "source": [
        "import pandas as pd\n",
        "import numpy as np\n",
        "import json\n",
        "import pickle\n",
        "from io import StringIO\n",
        "import sys\n",
        "\n",
        "import nltk\n",
        "from nltk.stem import WordNetLemmatizer\n",
        "from nltk.tokenize import RegexpTokenizer\n",
        "from nltk.corpus import stopwords\n",
        "from nltk.corpus import wordnet\n",
        "from nltk.tokenize import sent_tokenize\n",
        "import re\n",
        "\n",
        "nltk.download('stopwords') \n",
        "nltk.download('wordnet')\n",
        "nltk.download('punkt')\n",
        "nltk.download('averaged_perceptron_tagger')\n"
      ],
      "execution_count": 4,
      "outputs": [
        {
          "output_type": "stream",
          "text": [
            "[nltk_data] Downloading package stopwords to /root/nltk_data...\n",
            "[nltk_data]   Unzipping corpora/stopwords.zip.\n",
            "[nltk_data] Downloading package wordnet to /root/nltk_data...\n",
            "[nltk_data]   Unzipping corpora/wordnet.zip.\n",
            "[nltk_data] Downloading package punkt to /root/nltk_data...\n",
            "[nltk_data]   Unzipping tokenizers/punkt.zip.\n",
            "[nltk_data] Downloading package averaged_perceptron_tagger to\n",
            "[nltk_data]     /root/nltk_data...\n",
            "[nltk_data]   Unzipping taggers/averaged_perceptron_tagger.zip.\n"
          ],
          "name": "stdout"
        },
        {
          "output_type": "execute_result",
          "data": {
            "text/plain": [
              "True"
            ]
          },
          "metadata": {
            "tags": []
          },
          "execution_count": 4
        }
      ]
    },
    {
      "cell_type": "code",
      "metadata": {
        "id": "Pb9Bfr7K8rhX"
      },
      "source": [
        "def clean(text):\n",
        "  tokeniser = RegexpTokenizer(\"[\\s]+\", gaps=True)\n",
        "  lemmatizer = WordNetLemmatizer()\n",
        "  tokens = tokeniser.tokenize(text)\n",
        "  text_refined = \" \".join(tokens)\n",
        "  text_refined = re.sub('[=.#/?:!$}]', '', text_refined)\n",
        "  return tokens, text_refined\n",
        "\n",
        "def meaningful_sentences(review_list, n_words):\n",
        "  review_sentence = []\n",
        "  review_sentence_token = []\n",
        "  review_sentence_over_n = []\n",
        "  review_sentence_token_over_n = []\n",
        "\n",
        "  # sentence 분리 후 저장\n",
        "  for review in review_list:\n",
        "    for elem in sent_tokenize(review):\n",
        "      tokens, text_refined = clean(elem)\n",
        "      review_sentence.append(text_refined) if len(text_refined) > 0 else True\n",
        "      review_sentence_token.append(tokens) if len(text_refined) > 0 else True\n",
        "      review_sentence_over_n.append(text_refined) if len(tokens) >= n_words else True\n",
        "      review_sentence_token_over_n.append(tokens) if len(tokens) > n_words else True\n",
        "  # 특정 단어 수 이상의 결과만 필터하여 저장\n",
        "  # for i, r in enumerate(review_sentence):\n",
        "\n",
        "  return review_sentence, review_sentence_token, review_sentence_over_n, review_sentence_token_over_n"
      ],
      "execution_count": 21,
      "outputs": []
    },
    {
      "cell_type": "code",
      "metadata": {
        "colab": {
          "base_uri": "https://localhost:8080/"
        },
        "id": "95vXk1d78TAs",
        "outputId": "6a7bfd8e-acbe-4db9-8dd2-77d730b70dac"
      },
      "source": [
        "rv = df[df['app_nm']=='zoom']['review']\n",
        "n_words = 20\n",
        "rvs, rvs_t, rvs_n, rvs_t_n = meaningful_sentences(rv, n_words)\n",
        "\n",
        "print('ZOOM MEETING\\n')\n",
        "print(\"Review numbers: \",len(rv))\n",
        "print(\"Sentence numbers: \", len(rvs))\n",
        "print(\"Sentence more than 10 words numbers: \", len(rvs_n))\n",
        "for i in range(10):\n",
        "  print(rvs_n[i], \" --- \", rvs_t_n[i])"
      ],
      "execution_count": 22,
      "outputs": [
        {
          "output_type": "stream",
          "text": [
            "ZOOM MEETING\n",
            "\n",
            "Review numbers:  301314\n",
            "Sentence numbers:  364045\n",
            "Sentence more than 10 words numbers:  31010\n",
            "The overall experience is good but when it used to use in mobile phone it produced heat on the other hand it falls in decrease the battery level in gigantic manner  ---  ['The', 'overall', 'experience', 'is', 'good', 'but', 'when', 'it', 'used', 'to', 'use', 'in', 'mobile', 'phone', 'it', 'produced', 'heat', 'on', 'the', 'other', 'hand', 'it', 'falls', 'in', 'decrease', 'the', 'battery', 'level', 'in', 'gigantic', 'manner....']\n",
            "Gets disconnected again and again and hacker entered in my online class thrice Edit I was sending a private message to my friend but it automatically sent it to every one what the hell is this bug  ---  ['Gets', 'disconnected', 'again', 'and', 'again', 'and', 'hacker', 'entered', 'in', 'my', 'online', 'class', 'thrice', 'Edit:', 'I', 'was', 'sending', 'a', 'private', 'message', 'to', 'my', 'friend', 'but', 'it', 'automatically', 'sent', 'it', 'to', 'every', 'one', 'what', 'the', 'hell', 'is', 'this', 'bug?']\n",
            "The only reason I have gave it 4 star because it really faces so much network problem during online class  ---  ['Covid-19', 'has', 'made', 'this', 'app', 'response', 'extremely', 'slow', 'to', 'verify', 'my', 'account', 'and', 'wait', 'infinately', 'to', 'join', 'a', 'webinar', 'only', 'for', 'a', 'lecture.']\n",
            "Covid-19 has made this app response extremely slow to verify my account and wait infinately to join a webinar only for a lecture  ---  ['I', 'have', 'a', 'very', 'High', 'internet', 'speed', 'but', 'then', 'also', 'it', 'keeps', 'on', 'disconnecting', 'and', 'it', 'sometime', 'changes', 'my', 'name', 'to', 'phone', 'name.']\n",
            "I have a very High internet speed but then also it keeps on disconnecting and it sometime changes my name to phone name  ---  ['First', 'app', 'to', 'use', 'for', 'our', 'online', 'meetings', 'is', 'this', 'but', 'we', 'have', 'problem', 'but', 'now', 'when', 'zoom.us', 'upgrade', 'this', 'app', 'ots', 'best']\n",
            "First app to use for our online meetings is this but we have problem but now when zoomus upgrade this app ots best  ---  ['Of', 'host', 'changes', 'the', 'passward', '&', 'we', 'dialing', 'the', 'old', 'passward', 'more&', 'more', 'times,then', 'after', 'dialing', 'new', 'password', 'it', \"doesn't\", 'let', 'to', 'join', 'the', 'meeting']\n",
            "Of host changes the passward & we dialing the old passward more& more times,then after dialing new password it doesn't let to join the meeting  ---  ['This', 'is', 'a', 'good', 'app', 'for', 'meeting', 'but', 'new', 'update', 'is', 'not', 'good', 'we', \"can't\", 'see', 'some', 'messages', 'please', 'fix', 'it']\n",
            "This is a good app for meeting but new update is not good we can't see some messages please fix it  ---  ['Wish', 'u', 'could', 'make', 'other', 'ppls', 'screen', 'smaller', 'to', 'fit', 'more', 'to', 'view', 'on', 'one', 'screen', 'but', 'regardless', 'a', 'great', 'family', 'app', 'during', 'covid', 'times.']\n",
            "It uses lot of mbs😔 Even if ur video is off during online lectures, it eats 800-900mbs in single lecture😑  ---  ['The', 'worst', 'app', 'I', 'have', 'ever', 'seen', ',', 'even', 'my', 'network', 'is', 'gud', 'I', \"can't\", 'able', 'to', 'listen', 'any', 'thing', 'it', 'sounds', 'like', 'a', 'violin', '😂']\n",
            "Wish u could make other ppls screen smaller to fit more to view on one screen but regardless a great family app during covid times  ---  [\"Zoom's\", 'a', 'good', 'thing', 'you', 'know', 'when', 'you', \"can't\", 'get', 'to', 'the', 'people', 'you', 'love', \"it's\", 'a', 'wonderful', 'thing', 'to', 'have']\n"
          ],
          "name": "stdout"
        }
      ]
    },
    {
      "cell_type": "code",
      "metadata": {
        "colab": {
          "base_uri": "https://localhost:8080/"
        },
        "id": "omra2Oe6yZr0",
        "outputId": "0c2410f2-6be0-49a4-a984-0bafcdb41c9c"
      },
      "source": [
        "rv = df[df['app_nm']=='discord']['review']\n",
        "rvs, rvs_t, rvs_10 = meaningful_sentences(rv, 20)\n",
        "\n",
        "print('DISCORD\\n')\n",
        "print(\"Review numbers: \",len(rv))\n",
        "print(\"Sentence numbers: \", len(rvs))\n",
        "print(\"Sentence more than 10 words numbers: \", len(rvs_10))\n",
        "for i in range(10):\n",
        "  print(rvs[i], \" --- \", rvs_t[i])"
      ],
      "execution_count": 16,
      "outputs": [
        {
          "output_type": "stream",
          "text": [
            "DISCORD\n",
            "\n",
            "Review numbers:  165190\n",
            "Sentence numbers:  235963\n",
            "Sentence more than 10 words numbers:  30145\n",
            "Great app  ---  ['Great', 'app..']\n",
            "Although I got HACKED  ---  ['Although', 'I', 'got', 'HACKED']\n",
            "Edit 19032020 The app has corrected the notifications error  ---  ['Edit', '19/03/2020:', 'The', 'app', 'has', 'corrected', 'the', 'notifications', 'error.']\n",
            "But now the server shuts down sometimes (more frequently than other apps)  ---  ['But', 'now', 'the', 'server', 'shuts', 'down', 'sometimes', '(more', 'frequently', 'than', 'other', 'apps).']\n",
            "A must have app for chat or video calls, especially gaming related  ---  ['A', 'must', 'have', 'app', 'for', 'chat', 'or', 'video', 'calls,', 'especially', 'gaming', 'related.']\n",
            "Its great,much better than using the game mic  ---  ['Its', 'great,much', 'better', 'than', 'using', 'the', 'game', 'mic']\n",
            "Cannot boost serverI get an error every time I try to boost  ---  ['Cannot', 'boost', 'server...I', 'get', 'an', 'error', 'every', 'time', 'I', 'try', 'to', 'boost.']\n",
            "I haven't even boosted a server yet  ---  ['I', \"haven't\", 'even', 'boosted', 'a', 'server', 'yet']\n",
            "Great app for rust so ik when am getting raided and can hop on to get some easy loot  ---  ['Great', 'app', 'for', 'rust', 'so', 'ik', 'when', 'am', 'getting', 'raided', 'and', 'can', 'hop', 'on', 'to', 'get', 'some', 'easy', 'loot']\n",
            "I lost my gamer friends, now they're gone my gaming life is pointless  ---  ['I', 'lost', 'my', 'gamer', 'friends,', 'now', \"they're\", 'gone', 'my', 'gaming', 'life', 'is', 'pointless.']\n"
          ],
          "name": "stdout"
        }
      ]
    },
    {
      "cell_type": "code",
      "metadata": {
        "colab": {
          "base_uri": "https://localhost:8080/"
        },
        "id": "sZQGVGxKLryn",
        "outputId": "3dda7e08-56df-4c59-ccb1-c457e9130009"
      },
      "source": [
        "rv = df[df['app_nm']=='fbm']['review']\n",
        "rvs, rvs_t, rvs_10 = meaningful_sentences(rv, 20)\n",
        "\n",
        "print('FACEBOOK MESSENGER\\n')\n",
        "print(\"Review numbers: \",len(rv))\n",
        "print(\"Sentence numbers: \", len(rvs))\n",
        "print(\"Sentence more than 10 words numbers: \", len(rvs_10))\n",
        "for i in range(10):\n",
        "  print(rvs[i], \" --- \", rvs_t[i])"
      ],
      "execution_count": 17,
      "outputs": [
        {
          "output_type": "stream",
          "text": [
            "FACEBOOK MESSENGER\n",
            "\n",
            "Review numbers:  673606\n",
            "Sentence numbers:  816739\n",
            "Sentence more than 10 words numbers:  46868\n",
            "Unreliable  ---  ['Unreliable']\n",
            "This app is auto save(photos)  ---  ['This', 'app', 'is', 'auto', 'save(photos)?']\n",
            "Well, the only thing that I can say is \"I did enjoy this Messenger\" that's all thank you Google Play Store  ---  ['Well,', 'the', 'only', 'thing', 'that', 'I', 'can', 'say', 'is', '\"I', 'did', 'enjoy', 'this', 'Messenger\"', \"that's\", 'all', 'thank', 'you', 'Google', 'Play', 'Store.']\n",
            "Good app  ---  ['Good', 'app']\n",
            "Good apps  ---  ['Good', 'apps']\n",
            "Good  ---  ['Good']\n",
            "it should have some users' identification system to avoid unwanted trespass  ---  ['it', 'should', 'have', 'some', \"users'\", 'identification', 'system', 'to', 'avoid', 'unwanted', 'trespass.']\n",
            "Good  ---  ['Good']\n",
            "Good  ---  ['Good']\n",
            "Good  ---  ['Good']\n"
          ],
          "name": "stdout"
        }
      ]
    },
    {
      "cell_type": "code",
      "metadata": {
        "id": "6mYgceFR1W5X"
      },
      "source": [
        "# autocorrect slangs"
      ],
      "execution_count": null,
      "outputs": []
    },
    {
      "cell_type": "code",
      "metadata": {
        "id": "vU8-Zs2g4NF2"
      },
      "source": [
        "# function to convert nltk tag to wordnet tag\n",
        "def nltk_tag_to_wordnet_tag(nltk_tag):\n",
        "    if nltk_tag.startswith('J'):\n",
        "        return wordnet.ADJ\n",
        "    elif nltk_tag.startswith('V'):\n",
        "        return wordnet.VERB\n",
        "    elif nltk_tag.startswith('N'):\n",
        "        return wordnet.NOUN\n",
        "    elif nltk_tag.startswith('R'):\n",
        "        return wordnet.ADV\n",
        "    else:          \n",
        "        return None\n",
        "\n",
        "def preprocess_text(sentence):\n",
        "    nltk_tagged = nltk.pos_tag(nltk.word_tokenize(sentence))  \n",
        "    \n",
        "    #tuple of (token, wordnet_tag)\n",
        "    wordnet_tagged = map(lambda x: (x[0], nltk_tag_to_wordnet_tag(x[1])), nltk_tagged)\n",
        "    lemmas = []\n",
        "    for word, tag in wordnet_tagged:\n",
        "        if tag is None:\n",
        "            #if there is no available tag, append the token as is\n",
        "            lemmas.append(word)\n",
        "        else:        \n",
        "            #else use the tag to lemmatize the token\n",
        "            lemmas.append(lemmatizer.lemmatize(word, tag))\n",
        "    keywords_l = [lemma for lemma in lemmas if lemma not in stopwords.words('english')] \n",
        "    detoken = \" \".join(lemmas)\n",
        "    keywords_s = list(set(keywords_l))\n",
        "    freqs = dict((x, keywords_l.count(x)) for x in keywords_s)\n",
        "\n",
        "    return lemmas, keywords_l, keywords_s, detoken, freqs"
      ],
      "execution_count": null,
      "outputs": []
    },
    {
      "cell_type": "code",
      "metadata": {
        "colab": {
          "base_uri": "https://localhost:8080/"
        },
        "id": "VL1pBmug7P3-",
        "outputId": "3673a8b7-5754-437d-cfc2-f39f5f4f67a1"
      },
      "source": [
        "# text = \"Many existing state-of-the-art models are first pre-trained on a large text corpus and then fine-tuned on downstream tasks.\"\n",
        "text = \"Censor this Facebook!!\"\n",
        "lemmas, keywords_l, keywords_s, detoken, freqs = preprocess_text(text) \n",
        "# keywords = preprocess_text(lemm)\n",
        "print(lemmas)\n",
        "print(detoken)\n",
        "print(keywords_l)\n",
        "print(keywords_s)\n",
        "print(freqs)"
      ],
      "execution_count": null,
      "outputs": [
        {
          "output_type": "stream",
          "text": [
            "['Censor', 'this', 'Facebook', '!', '!']\n",
            "Censor this Facebook ! !\n",
            "['Censor', 'Facebook', '!', '!']\n",
            "['Censor', 'Facebook', '!']\n",
            "{'Censor': 1, 'Facebook': 1, '!': 2}\n"
          ],
          "name": "stdout"
        }
      ]
    },
    {
      "cell_type": "code",
      "metadata": {
        "colab": {
          "base_uri": "https://localhost:8080/"
        },
        "id": "_vtUBybnoiKT",
        "outputId": "c8ffcd69-4c47-408b-8140-cafe6cfec0c1"
      },
      "source": [
        "result = dict({'lemmas':[], \n",
        "               'keywords_l':[],\n",
        "               'keywords_s':[],\n",
        "               'detoken':[],\n",
        "               'freqs':[]\n",
        "               })\n",
        "print(len(rvs_new))\n",
        "rvs_test = rvs_new[:10]\n",
        "for i, r in enumerate(rvs_new):\n",
        "  if i%1000==0:\n",
        "    print(i, end=\" - \")\n",
        "  if i%10000==0:\n",
        "    print('\\n')\n",
        "  lemmas, keywords_l, keywords_s, detoken, freqs = preprocess_text(r) \n",
        "  result['lemmas'].append(lemmas)\n",
        "  result['keywords_l'].append(keywords_l)\n",
        "  result['keywords_s'].append(keywords_s)\n",
        "  result['detoken'].append(detoken)\n",
        "  result['freqs'].append(freqs)\n",
        "\n",
        "# print(result.items())\n",
        "# for key, value in result.items():\n",
        "#     print(key, \":\", value)\n",
        "\n",
        "print(\"\\n\",len(result['lemmas']))\n",
        "print(len(result['keywords_l']))\n",
        "print(len(result['keywords_s']))\n",
        "print(len(result['detoken']))\n",
        "print(len(result['freqs']))"
      ],
      "execution_count": null,
      "outputs": [
        {
          "output_type": "stream",
          "text": [
            "95769\n",
            "0 - \n",
            "\n",
            "1000 - 2000 - 3000 - 4000 - 5000 - 6000 - 7000 - 8000 - 9000 - 10000 - \n",
            "\n",
            "11000 - 12000 - 13000 - 14000 - 15000 - 16000 - 17000 - 18000 - 19000 - 20000 - \n",
            "\n",
            "21000 - 22000 - 23000 - 24000 - 25000 - 26000 - 27000 - 28000 - 29000 - 30000 - \n",
            "\n",
            "31000 - 32000 - 33000 - 34000 - 35000 - 36000 - 37000 - 38000 - 39000 - 40000 - \n",
            "\n",
            "41000 - 42000 - 43000 - 44000 - 45000 - 46000 - 47000 - 48000 - 49000 - 50000 - \n",
            "\n",
            "51000 - 52000 - 53000 - 54000 - 55000 - 56000 - 57000 - 58000 - 59000 - 60000 - \n",
            "\n",
            "61000 - 62000 - 63000 - 64000 - 65000 - 66000 - 67000 - 68000 - 69000 - 70000 - \n",
            "\n",
            "71000 - 72000 - 73000 - 74000 - 75000 - 76000 - 77000 - 78000 - 79000 - 80000 - \n",
            "\n",
            "81000 - 82000 - 83000 - 84000 - 85000 - 86000 - 87000 - 88000 - 89000 - 90000 - \n",
            "\n",
            "91000 - 92000 - 93000 - 94000 - 95000 - \n",
            " 95769\n",
            "95769\n",
            "95769\n",
            "95769\n",
            "95769\n"
          ],
          "name": "stdout"
        }
      ]
    },
    {
      "cell_type": "code",
      "metadata": {
        "colab": {
          "base_uri": "https://localhost:8080/"
        },
        "id": "v_mrZwU666PV",
        "outputId": "38aff399-fcb8-4b40-bcaf-485a7a548c00"
      },
      "source": [
        "keyw_l_l[:10]"
      ],
      "execution_count": null,
      "outputs": [
        {
          "output_type": "execute_result",
          "data": {
            "text/plain": [
              "[['After',\n",
              "  'accept',\n",
              "  'my',\n",
              "  'join',\n",
              "  'request',\n",
              "  'by',\n",
              "  'the',\n",
              "  'host',\n",
              "  'the',\n",
              "  'screen',\n",
              "  'show',\n",
              "  'blank',\n",
              "  'or',\n",
              "  'connecting'],\n",
              " ['After',\n",
              "  'accept',\n",
              "  'join',\n",
              "  'request',\n",
              "  'host',\n",
              "  'screen',\n",
              "  'show',\n",
              "  'blank',\n",
              "  'connecting'],\n",
              " ['request',\n",
              "  'After',\n",
              "  'join',\n",
              "  'screen',\n",
              "  'accept',\n",
              "  'show',\n",
              "  'blank',\n",
              "  'host',\n",
              "  'connecting'],\n",
              " 'After accept my join request by the host the screen show blank or connecting',\n",
              " {'After': 1,\n",
              "  'accept': 1,\n",
              "  'blank': 1,\n",
              "  'connecting': 1,\n",
              "  'host': 1,\n",
              "  'join': 1,\n",
              "  'request': 1,\n",
              "  'screen': 1,\n",
              "  'show': 1},\n",
              " ['I',\n",
              "  \"'ve\",\n",
              "  'miss',\n",
              "  'many',\n",
              "  'of',\n",
              "  'my',\n",
              "  'class',\n",
              "  'due',\n",
              "  'to',\n",
              "  'this',\n",
              "  'problem'],\n",
              " ['I', \"'ve\", 'miss', 'many', 'class', 'due', 'problem'],\n",
              " ['I', 'due', \"'ve\", 'problem', 'miss', 'many', 'class'],\n",
              " \"I 've miss many of my class due to this problem\",\n",
              " {\"'ve\": 1, 'I': 1, 'class': 1, 'due': 1, 'many': 1, 'miss': 1, 'problem': 1}]"
            ]
          },
          "metadata": {
            "tags": []
          },
          "execution_count": 117
        }
      ]
    },
    {
      "cell_type": "code",
      "metadata": {
        "id": "4qNG6S4pE6hd"
      },
      "source": [
        "df2 = pd.DataFrame.from_dict({'review':rvs, \n",
        "                              'detoken':detoken_1,\n",
        "                              'items': items_l})"
      ],
      "execution_count": null,
      "outputs": []
    },
    {
      "cell_type": "code",
      "metadata": {
        "id": "_n-tu_ROHBKW"
      },
      "source": [
        "df_m = pd.merge(df, df2, left_index=True, right_index=True)"
      ],
      "execution_count": null,
      "outputs": []
    },
    {
      "cell_type": "code",
      "metadata": {
        "id": "BI0nAwDDeYJS"
      },
      "source": [
        "df_en.to_pickle('data/processed/rv_en_1.pkl')\n",
        "df_ko.to_pickle('data/processed/rv_ko_1.pkl')"
      ],
      "execution_count": null,
      "outputs": []
    },
    {
      "cell_type": "code",
      "metadata": {
        "id": "720IcG10bQH9"
      },
      "source": [
        "import csv\n",
        "import json\n",
        "\n",
        "csvfile = open('file.csv', 'r')\n",
        "jsonfile = open('file.json', 'w')\n",
        "\n",
        "fieldnames = (\"FirstName\",\"LastName\",\"IDNumber\",\"Message\")\n",
        "reader = csv.DictReader( csvfile, fieldnames)\n",
        "out = json.dumps( [ row for row in reader ] )\n",
        "jsonfile.write(out)"
      ],
      "execution_count": null,
      "outputs": []
    }
  ]
}