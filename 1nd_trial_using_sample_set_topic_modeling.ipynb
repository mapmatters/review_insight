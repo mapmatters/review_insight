{
  "nbformat": 4,
  "nbformat_minor": 0,
  "metadata": {
    "colab": {
      "name": "1nd trial using sample set - topic modeling",
      "provenance": [],
      "authorship_tag": "ABX9TyNKKk9QX0cgg25NJNtX+s5g",
      "include_colab_link": true
    },
    "kernelspec": {
      "display_name": "Python 3",
      "name": "python3"
    }
  },
  "cells": [
    {
      "cell_type": "markdown",
      "metadata": {
        "id": "view-in-github",
        "colab_type": "text"
      },
      "source": [
        "<a href=\"https://colab.research.google.com/github/mapmatters/review_insight/blob/main/1nd_trial_using_sample_set_topic_modeling.ipynb\" target=\"_parent\"><img src=\"https://colab.research.google.com/assets/colab-badge.svg\" alt=\"Open In Colab\"/></a>"
      ]
    },
    {
      "cell_type": "code",
      "metadata": {
        "colab": {
          "base_uri": "https://localhost:8080/"
        },
        "id": "YRqq5d-fgixr",
        "outputId": "5bfb7d14-d34a-44a7-ab0c-5a8beeec8be2"
      },
      "source": [
        "from google.colab import drive\n",
        "drive.mount('/content/drive')\n",
        "\n",
        "import os\n",
        "os.chdir('/content/drive/MyDrive/master_degree/paper')\n",
        "!ls"
      ],
      "execution_count": 2,
      "outputs": [
        {
          "output_type": "stream",
          "text": [
            "Drive already mounted at /content/drive; to attempt to forcibly remount, call drive.mount(\"/content/drive\", force_remount=True).\n",
            " 논문계획서_2nd.gdoc\t\t\t  data\n",
            " archive.zip\t\t\t\t '기존 분석결과.gdoc'\n",
            " booking.com_hotel_review_korea.csv.zip  '논문 지도교수 배정신청서.gdoc'\n",
            " code_R\t\t\t\t\t '레퍼런스 링크.gdoc'\n",
            " colab\t\t\t\t\t  model\n"
          ],
          "name": "stdout"
        }
      ]
    },
    {
      "cell_type": "code",
      "metadata": {
        "id": "2DXL_GfgguUO"
      },
      "source": [
        "import pandas as pd\n",
        "import pickle\n",
        "import json\n",
        "from io import StringIO\n",
        "import sys"
      ],
      "execution_count": 3,
      "outputs": []
    },
    {
      "cell_type": "code",
      "metadata": {
        "colab": {
          "base_uri": "https://localhost:8080/"
        },
        "id": "pvwbakhFinV5",
        "outputId": "b12d289b-6027-4c2e-9cf4-604e1e9b4d1d"
      },
      "source": [
        "import nltk\n",
        "from nltk.stem import WordNetLemmatizer\n",
        "from nltk.tokenize import RegexpTokenizer\n",
        "from nltk.corpus import stopwords\n",
        "from sklearn.feature_extraction.text import TfidfVectorizer\n",
        "\n",
        "nltk.download('stopwords') \n",
        "nltk.download('wordnet')"
      ],
      "execution_count": 4,
      "outputs": [
        {
          "output_type": "stream",
          "text": [
            "[nltk_data] Downloading package stopwords to /root/nltk_data...\n",
            "[nltk_data]   Package stopwords is already up-to-date!\n",
            "[nltk_data] Downloading package wordnet to /root/nltk_data...\n",
            "[nltk_data]   Package wordnet is already up-to-date!\n"
          ],
          "name": "stdout"
        },
        {
          "output_type": "execute_result",
          "data": {
            "text/plain": [
              "True"
            ]
          },
          "metadata": {
            "tags": []
          },
          "execution_count": 4
        }
      ]
    },
    {
      "cell_type": "code",
      "metadata": {
        "colab": {
          "base_uri": "https://localhost:8080/"
        },
        "id": "ZaqftlxdpNil",
        "outputId": "7e54d7ab-5bac-463b-880d-8fe776524cfc"
      },
      "source": [
        "# Language detection 등을 위한 라이브러리 import\n",
        "!pip install fasttext"
      ],
      "execution_count": 16,
      "outputs": [
        {
          "output_type": "stream",
          "text": [
            "Collecting fasttext\n",
            "\u001b[?25l  Downloading https://files.pythonhosted.org/packages/f8/85/e2b368ab6d3528827b147fdb814f8189acc981a4bc2f99ab894650e05c40/fasttext-0.9.2.tar.gz (68kB)\n",
            "\r\u001b[K     |████▊                           | 10kB 20.5MB/s eta 0:00:01\r\u001b[K     |█████████▌                      | 20kB 17.9MB/s eta 0:00:01\r\u001b[K     |██████████████▎                 | 30kB 10.8MB/s eta 0:00:01\r\u001b[K     |███████████████████             | 40kB 9.0MB/s eta 0:00:01\r\u001b[K     |███████████████████████▉        | 51kB 7.8MB/s eta 0:00:01\r\u001b[K     |████████████████████████████▋   | 61kB 8.2MB/s eta 0:00:01\r\u001b[K     |████████████████████████████████| 71kB 5.1MB/s \n",
            "\u001b[?25hRequirement already satisfied: pybind11>=2.2 in /usr/local/lib/python3.6/dist-packages (from fasttext) (2.6.1)\n",
            "Requirement already satisfied: setuptools>=0.7.0 in /usr/local/lib/python3.6/dist-packages (from fasttext) (51.1.1)\n",
            "Requirement already satisfied: numpy in /usr/local/lib/python3.6/dist-packages (from fasttext) (1.19.5)\n",
            "Building wheels for collected packages: fasttext\n",
            "  Building wheel for fasttext (setup.py) ... \u001b[?25l\u001b[?25hdone\n",
            "  Created wheel for fasttext: filename=fasttext-0.9.2-cp36-cp36m-linux_x86_64.whl size=3039069 sha256=094c4092b76b750c81eea549de486a22f1797438f79d4b19d9dc075230b33dba\n",
            "  Stored in directory: /root/.cache/pip/wheels/98/ba/7f/b154944a1cf5a8cee91c154b75231136cc3a3321ab0e30f592\n",
            "Successfully built fasttext\n",
            "Installing collected packages: fasttext\n",
            "Successfully installed fasttext-0.9.2\n"
          ],
          "name": "stdout"
        }
      ]
    },
    {
      "cell_type": "code",
      "metadata": {
        "colab": {
          "base_uri": "https://localhost:8080/"
        },
        "id": "2ZuTcujxo9EM",
        "outputId": "490fd516-cfe2-4178-8871-38f709201af9"
      },
      "source": [
        "import fasttext\n",
        "!wget -O /tmp/lid.176.bin https://dl.fbaipublicfiles.com/fasttext/supervised-models/lid.176.bin\n",
        "path_to_pretrained_model = '/tmp/lid.176.bin'\n",
        "\n",
        "text2 = 'In 1793, Alexander Hamilton recruited Webster to move to New York City and become an editor for a Federalist Party newspaper.'\n",
        "fmodel = fasttext.load_model(path_to_pretrained_model)\n",
        "fmodel.predict([text2])  # ([['__label__en']], [array([0.9331119], dtype=float32)]"
      ],
      "execution_count": 26,
      "outputs": [
        {
          "output_type": "stream",
          "text": [
            "--2021-01-17 00:07:54--  https://dl.fbaipublicfiles.com/fasttext/supervised-models/lid.176.bin\n",
            "Resolving dl.fbaipublicfiles.com (dl.fbaipublicfiles.com)... 172.67.9.4, 104.22.75.142, 104.22.74.142, ...\n",
            "Connecting to dl.fbaipublicfiles.com (dl.fbaipublicfiles.com)|172.67.9.4|:443... connected.\n",
            "HTTP request sent, awaiting response... 200 OK\n",
            "Length: 131266198 (125M) [application/octet-stream]\n",
            "Saving to: ‘/tmp/lid.176.bin’\n",
            "\n",
            "/tmp/lid.176.bin    100%[===================>] 125.18M  62.7MB/s    in 2.0s    \n",
            "\n",
            "2021-01-17 00:07:56 (62.7 MB/s) - ‘/tmp/lid.176.bin’ saved [131266198/131266198]\n",
            "\n"
          ],
          "name": "stdout"
        },
        {
          "output_type": "stream",
          "text": [
            "Warning : `load_model` does not return WordVectorModel or SupervisedModel any more, but a `FastText` object which is very similar.\n"
          ],
          "name": "stderr"
        },
        {
          "output_type": "execute_result",
          "data": {
            "text/plain": [
              "([['__label__en']], [array([0.9331119], dtype=float32)])"
            ]
          },
          "metadata": {
            "tags": []
          },
          "execution_count": 26
        }
      ]
    },
    {
      "cell_type": "code",
      "metadata": {
        "colab": {
          "base_uri": "https://localhost:8080/"
        },
        "id": "Z-9i3kWMLzOx",
        "outputId": "b280cff4-3e89-4366-e9aa-283f83578633"
      },
      "source": [
        "# stopwords 점검\n",
        "original_stops = stopwords.words('english')\n",
        "print(len(original_stops))\n",
        "my_stops = ['zoom', 'fbm'] + original_stops\n",
        "print(my_stops)"
      ],
      "execution_count": 28,
      "outputs": [
        {
          "output_type": "stream",
          "text": [
            "179\n",
            "['zoom', 'fbm', 'i', 'me', 'my', 'myself', 'we', 'our', 'ours', 'ourselves', 'you', \"you're\", \"you've\", \"you'll\", \"you'd\", 'your', 'yours', 'yourself', 'yourselves', 'he', 'him', 'his', 'himself', 'she', \"she's\", 'her', 'hers', 'herself', 'it', \"it's\", 'its', 'itself', 'they', 'them', 'their', 'theirs', 'themselves', 'what', 'which', 'who', 'whom', 'this', 'that', \"that'll\", 'these', 'those', 'am', 'is', 'are', 'was', 'were', 'be', 'been', 'being', 'have', 'has', 'had', 'having', 'do', 'does', 'did', 'doing', 'a', 'an', 'the', 'and', 'but', 'if', 'or', 'because', 'as', 'until', 'while', 'of', 'at', 'by', 'for', 'with', 'about', 'against', 'between', 'into', 'through', 'during', 'before', 'after', 'above', 'below', 'to', 'from', 'up', 'down', 'in', 'out', 'on', 'off', 'over', 'under', 'again', 'further', 'then', 'once', 'here', 'there', 'when', 'where', 'why', 'how', 'all', 'any', 'both', 'each', 'few', 'more', 'most', 'other', 'some', 'such', 'no', 'nor', 'not', 'only', 'own', 'same', 'so', 'than', 'too', 'very', 's', 't', 'can', 'will', 'just', 'don', \"don't\", 'should', \"should've\", 'now', 'd', 'll', 'm', 'o', 're', 've', 'y', 'ain', 'aren', \"aren't\", 'couldn', \"couldn't\", 'didn', \"didn't\", 'doesn', \"doesn't\", 'hadn', \"hadn't\", 'hasn', \"hasn't\", 'haven', \"haven't\", 'isn', \"isn't\", 'ma', 'mightn', \"mightn't\", 'mustn', \"mustn't\", 'needn', \"needn't\", 'shan', \"shan't\", 'shouldn', \"shouldn't\", 'wasn', \"wasn't\", 'weren', \"weren't\", 'won', \"won't\", 'wouldn', \"wouldn't\"]\n"
          ],
          "name": "stdout"
        }
      ]
    },
    {
      "cell_type": "code",
      "metadata": {
        "id": "YQkrV2NEwyyd"
      },
      "source": [
        "def preprocess_text(text):\n",
        "    # Tokenise words while ignoring punctuation\n",
        "    tokeniser = RegexpTokenizer(r'\\w+')\n",
        "    tokens = tokeniser.tokenize(text)\n",
        "    \n",
        "    # Lowercase and lemmatise \n",
        "    lemmatiser = WordNetLemmatizer()\n",
        "    lemmas = [lemmatiser.lemmatize(token.lower(), pos='v') for token in tokens]\n",
        "    \n",
        "    # Remove stopwords\n",
        "    # keywords= [lemma for lemma in lemmas if lemma not in my_stops] # apply customized stopwords\n",
        "    keywords= [lemma for lemma in lemmas if lemma not in stopwords.words('english')]\n",
        "    return keywords\n",
        "\n",
        "def build_freqs(text):\n",
        "    freqs = {}\n",
        "    for word in preprocess_text(text):\n",
        "        if word in freqs:\n",
        "            freqs[word] += 1\n",
        "        else:\n",
        "            freqs[word] = 1\n",
        "    return freqs\n",
        "\n",
        "# >>> l = [\"a\",\"b\",\"b\"]\n",
        "# >>> [[x,l.count(x)] for x in set(l)]\n",
        "# [['a', 1], ['b', 2]]\n",
        "# >>> dict((x,l.count(x)) for x in set(l))\n",
        "# {'a': 1, 'b': 2}\n"
      ],
      "execution_count": 29,
      "outputs": []
    },
    {
      "cell_type": "markdown",
      "metadata": {
        "id": "W6kS_QSAMT-R"
      },
      "source": [
        "# Dataset 점검"
      ]
    },
    {
      "cell_type": "code",
      "metadata": {
        "colab": {
          "base_uri": "https://localhost:8080/",
          "height": 359
        },
        "id": "cEknl8SSMTnS",
        "outputId": "bcc17b43-7db5-4fc9-c1a4-fea181ad4be9"
      },
      "source": [
        "df = pd.read_pickle('data/processed/rv_en_2.pkl')\n",
        "df.head(10)"
      ],
      "execution_count": 30,
      "outputs": [
        {
          "output_type": "execute_result",
          "data": {
            "text/html": [
              "<div>\n",
              "<style scoped>\n",
              "    .dataframe tbody tr th:only-of-type {\n",
              "        vertical-align: middle;\n",
              "    }\n",
              "\n",
              "    .dataframe tbody tr th {\n",
              "        vertical-align: top;\n",
              "    }\n",
              "\n",
              "    .dataframe thead th {\n",
              "        text-align: right;\n",
              "    }\n",
              "</style>\n",
              "<table border=\"1\" class=\"dataframe\">\n",
              "  <thead>\n",
              "    <tr style=\"text-align: right;\">\n",
              "      <th></th>\n",
              "      <th>app_nm</th>\n",
              "      <th>review</th>\n",
              "      <th>rating</th>\n",
              "      <th>dt</th>\n",
              "      <th>app_ver</th>\n",
              "      <th>lang</th>\n",
              "      <th>keywords</th>\n",
              "      <th>detoken</th>\n",
              "      <th>items</th>\n",
              "    </tr>\n",
              "  </thead>\n",
              "  <tbody>\n",
              "    <tr>\n",
              "      <th>0</th>\n",
              "      <td>zoom</td>\n",
              "      <td>ভাল</td>\n",
              "      <td>2.0</td>\n",
              "      <td>2020-12-28</td>\n",
              "      <td>5.2.45092.0831</td>\n",
              "      <td>en</td>\n",
              "      <td>[ভ, ল]</td>\n",
              "      <td>ভ ল</td>\n",
              "      <td>{'ভ': 1, 'ল': 1}</td>\n",
              "    </tr>\n",
              "    <tr>\n",
              "      <th>1</th>\n",
              "      <td>zoom</td>\n",
              "      <td>This is our one of the education thing. We can...</td>\n",
              "      <td>5.0</td>\n",
              "      <td>2020-12-26</td>\n",
              "      <td>Unknown</td>\n",
              "      <td>en</td>\n",
              "      <td>[one, education, thing, cant, unlike, never]</td>\n",
              "      <td>one education thing cant unlike never</td>\n",
              "      <td>{'one': 1, 'education': 1, 'thing': 1, 'cant':...</td>\n",
              "    </tr>\n",
              "    <tr>\n",
              "      <th>2</th>\n",
              "      <td>zoom</td>\n",
              "      <td>Good</td>\n",
              "      <td>5.0</td>\n",
              "      <td>2020-12-26</td>\n",
              "      <td>5.4.6.812</td>\n",
              "      <td>en</td>\n",
              "      <td>[good]</td>\n",
              "      <td>good</td>\n",
              "      <td>{'good': 1}</td>\n",
              "    </tr>\n",
              "    <tr>\n",
              "      <th>3</th>\n",
              "      <td>zoom</td>\n",
              "      <td>Worst appp</td>\n",
              "      <td>2.0</td>\n",
              "      <td>2020-12-28</td>\n",
              "      <td>Unknown</td>\n",
              "      <td>en</td>\n",
              "      <td>[worst, appp]</td>\n",
              "      <td>worst appp</td>\n",
              "      <td>{'worst': 1, 'appp': 1}</td>\n",
              "    </tr>\n",
              "    <tr>\n",
              "      <th>4</th>\n",
              "      <td>zoom</td>\n",
              "      <td>Good</td>\n",
              "      <td>4.0</td>\n",
              "      <td>2020-12-28</td>\n",
              "      <td>5.4.7.946</td>\n",
              "      <td>en</td>\n",
              "      <td>[good]</td>\n",
              "      <td>good</td>\n",
              "      <td>{'good': 1}</td>\n",
              "    </tr>\n",
              "    <tr>\n",
              "      <th>5</th>\n",
              "      <td>zoom</td>\n",
              "      <td>Pro</td>\n",
              "      <td>5.0</td>\n",
              "      <td>2020-12-26</td>\n",
              "      <td>5.2.42588.0803</td>\n",
              "      <td>en</td>\n",
              "      <td>[pro]</td>\n",
              "      <td>pro</td>\n",
              "      <td>{'pro': 1}</td>\n",
              "    </tr>\n",
              "    <tr>\n",
              "      <th>6</th>\n",
              "      <td>zoom</td>\n",
              "      <td>It's very very useful for school students</td>\n",
              "      <td>5.0</td>\n",
              "      <td>2020-12-26</td>\n",
              "      <td>5.4.7.946</td>\n",
              "      <td>en</td>\n",
              "      <td>[useful, school, students]</td>\n",
              "      <td>useful school students</td>\n",
              "      <td>{'useful': 1, 'school': 1, 'students': 1}</td>\n",
              "    </tr>\n",
              "    <tr>\n",
              "      <th>7</th>\n",
              "      <td>zoom</td>\n",
              "      <td>Max 4 people on one screen including myself. T...</td>\n",
              "      <td>1.0</td>\n",
              "      <td>2020-12-23</td>\n",
              "      <td>Unknown</td>\n",
              "      <td>en</td>\n",
              "      <td>[max, 4, people, one, screen, include, usable]</td>\n",
              "      <td>max 4 people one screen include usable</td>\n",
              "      <td>{'max': 1, '4': 1, 'people': 1, 'one': 1, 'scr...</td>\n",
              "    </tr>\n",
              "    <tr>\n",
              "      <th>8</th>\n",
              "      <td>zoom</td>\n",
              "      <td>Super</td>\n",
              "      <td>5.0</td>\n",
              "      <td>2020-12-23</td>\n",
              "      <td>5.4.4.615</td>\n",
              "      <td>en</td>\n",
              "      <td>[super]</td>\n",
              "      <td>super</td>\n",
              "      <td>{'super': 1}</td>\n",
              "    </tr>\n",
              "    <tr>\n",
              "      <th>9</th>\n",
              "      <td>zoom</td>\n",
              "      <td>Won't let me Unmute. . The level of Simplicity...</td>\n",
              "      <td>3.0</td>\n",
              "      <td>2020-12-24</td>\n",
              "      <td>Unknown</td>\n",
              "      <td>en</td>\n",
              "      <td>[win, let, unmute, level, simplicity, complicate]</td>\n",
              "      <td>win let unmute level simplicity complicate</td>\n",
              "      <td>{'win': 1, 'let': 1, 'unmute': 1, 'level': 1, ...</td>\n",
              "    </tr>\n",
              "  </tbody>\n",
              "</table>\n",
              "</div>"
            ],
            "text/plain": [
              "  app_nm  ...                                              items\n",
              "0   zoom  ...                                   {'ভ': 1, 'ল': 1}\n",
              "1   zoom  ...  {'one': 1, 'education': 1, 'thing': 1, 'cant':...\n",
              "2   zoom  ...                                        {'good': 1}\n",
              "3   zoom  ...                            {'worst': 1, 'appp': 1}\n",
              "4   zoom  ...                                        {'good': 1}\n",
              "5   zoom  ...                                         {'pro': 1}\n",
              "6   zoom  ...          {'useful': 1, 'school': 1, 'students': 1}\n",
              "7   zoom  ...  {'max': 1, '4': 1, 'people': 1, 'one': 1, 'scr...\n",
              "8   zoom  ...                                       {'super': 1}\n",
              "9   zoom  ...  {'win': 1, 'let': 1, 'unmute': 1, 'level': 1, ...\n",
              "\n",
              "[10 rows x 9 columns]"
            ]
          },
          "metadata": {
            "tags": []
          },
          "execution_count": 30
        }
      ]
    },
    {
      "cell_type": "code",
      "metadata": {
        "colab": {
          "base_uri": "https://localhost:8080/"
        },
        "id": "v0XHL4qbhGXe",
        "outputId": "60bb99ce-da2e-46b0-a536-60c938cdbd49"
      },
      "source": [
        "print(df['app_nm'].unique())\n",
        "print('Number of apps: ',len(df['app_nm'].unique()))"
      ],
      "execution_count": 31,
      "outputs": [
        {
          "output_type": "stream",
          "text": [
            "['zoom' 'discord' 'fbm']\n",
            "Number of apps:  3\n"
          ],
          "name": "stdout"
        }
      ]
    },
    {
      "cell_type": "code",
      "metadata": {
        "colab": {
          "base_uri": "https://localhost:8080/"
        },
        "id": "ZKqQA9eNh8c9",
        "outputId": "abf2446a-c5ae-4852-a2c4-2abcfc1a1675"
      },
      "source": [
        "print('rows and columns', df.shape, '\\n')\n",
        "print('reviews of each app', df.groupby(['app_nm']).size())\n",
        "print('reviews of each app', df.groupby(['app_nm']).count())"
      ],
      "execution_count": 32,
      "outputs": [
        {
          "output_type": "stream",
          "text": [
            "rows and columns (1250624, 9) \n",
            "\n",
            "reviews of each app app_nm\n",
            "discord    118292\n",
            "fbm        795610\n",
            "zoom       336722\n",
            "dtype: int64\n",
            "reviews of each app          review  rating      dt  app_ver    lang  keywords  detoken   items\n",
            "app_nm                                                                     \n",
            "discord  118292  118292  118292   118292  118292    118292   118292  118292\n",
            "fbm      795610  795610  795610   795610  795610    795610   795610  795610\n",
            "zoom     336722  336722  336722   336722  336722    336722   336722  336722\n"
          ],
          "name": "stdout"
        }
      ]
    },
    {
      "cell_type": "code",
      "metadata": {
        "colab": {
          "base_uri": "https://localhost:8080/",
          "height": 589
        },
        "id": "8Vx68Pv3hzt8",
        "outputId": "f7644d7f-f311-416d-cb21-829188325ca5"
      },
      "source": [
        "# filter out non-english\n",
        "df['lang'] = df['detoken'].apply(lambda x: fmodel.predict(x))\n",
        "df['lang2'] = df['lang'].apply(lambda x: '__label__en' in list(x)[0])\n",
        "df = df[df['lang2']]\n",
        "df"
      ],
      "execution_count": 43,
      "outputs": [
        {
          "output_type": "execute_result",
          "data": {
            "text/html": [
              "<div>\n",
              "<style scoped>\n",
              "    .dataframe tbody tr th:only-of-type {\n",
              "        vertical-align: middle;\n",
              "    }\n",
              "\n",
              "    .dataframe tbody tr th {\n",
              "        vertical-align: top;\n",
              "    }\n",
              "\n",
              "    .dataframe thead th {\n",
              "        text-align: right;\n",
              "    }\n",
              "</style>\n",
              "<table border=\"1\" class=\"dataframe\">\n",
              "  <thead>\n",
              "    <tr style=\"text-align: right;\">\n",
              "      <th></th>\n",
              "      <th>app_nm</th>\n",
              "      <th>review</th>\n",
              "      <th>rating</th>\n",
              "      <th>dt</th>\n",
              "      <th>app_ver</th>\n",
              "      <th>lang</th>\n",
              "      <th>keywords</th>\n",
              "      <th>detoken</th>\n",
              "      <th>items</th>\n",
              "      <th>lang2</th>\n",
              "    </tr>\n",
              "  </thead>\n",
              "  <tbody>\n",
              "    <tr>\n",
              "      <th>1</th>\n",
              "      <td>zoom</td>\n",
              "      <td>This is our one of the education thing. We can...</td>\n",
              "      <td>5.0</td>\n",
              "      <td>2020-12-26</td>\n",
              "      <td>Unknown</td>\n",
              "      <td>((__label__en,), [0.8765208721160889])</td>\n",
              "      <td>[one, education, thing, cant, unlike, never]</td>\n",
              "      <td>one education thing cant unlike never</td>\n",
              "      <td>{'one': 1, 'education': 1, 'thing': 1, 'cant':...</td>\n",
              "      <td>True</td>\n",
              "    </tr>\n",
              "    <tr>\n",
              "      <th>2</th>\n",
              "      <td>zoom</td>\n",
              "      <td>Good</td>\n",
              "      <td>5.0</td>\n",
              "      <td>2020-12-26</td>\n",
              "      <td>5.4.6.812</td>\n",
              "      <td>((__label__en,), [0.8952815532684326])</td>\n",
              "      <td>[good]</td>\n",
              "      <td>good</td>\n",
              "      <td>{'good': 1}</td>\n",
              "      <td>True</td>\n",
              "    </tr>\n",
              "    <tr>\n",
              "      <th>3</th>\n",
              "      <td>zoom</td>\n",
              "      <td>Worst appp</td>\n",
              "      <td>2.0</td>\n",
              "      <td>2020-12-28</td>\n",
              "      <td>Unknown</td>\n",
              "      <td>((__label__en,), [0.6274816393852234])</td>\n",
              "      <td>[worst, appp]</td>\n",
              "      <td>worst appp</td>\n",
              "      <td>{'worst': 1, 'appp': 1}</td>\n",
              "      <td>True</td>\n",
              "    </tr>\n",
              "    <tr>\n",
              "      <th>4</th>\n",
              "      <td>zoom</td>\n",
              "      <td>Good</td>\n",
              "      <td>4.0</td>\n",
              "      <td>2020-12-28</td>\n",
              "      <td>5.4.7.946</td>\n",
              "      <td>((__label__en,), [0.8952815532684326])</td>\n",
              "      <td>[good]</td>\n",
              "      <td>good</td>\n",
              "      <td>{'good': 1}</td>\n",
              "      <td>True</td>\n",
              "    </tr>\n",
              "    <tr>\n",
              "      <th>6</th>\n",
              "      <td>zoom</td>\n",
              "      <td>It's very very useful for school students</td>\n",
              "      <td>5.0</td>\n",
              "      <td>2020-12-26</td>\n",
              "      <td>5.4.7.946</td>\n",
              "      <td>((__label__en,), [0.9363648891448975])</td>\n",
              "      <td>[useful, school, students]</td>\n",
              "      <td>useful school students</td>\n",
              "      <td>{'useful': 1, 'school': 1, 'students': 1}</td>\n",
              "      <td>True</td>\n",
              "    </tr>\n",
              "    <tr>\n",
              "      <th>...</th>\n",
              "      <td>...</td>\n",
              "      <td>...</td>\n",
              "      <td>...</td>\n",
              "      <td>...</td>\n",
              "      <td>...</td>\n",
              "      <td>...</td>\n",
              "      <td>...</td>\n",
              "      <td>...</td>\n",
              "      <td>...</td>\n",
              "      <td>...</td>\n",
              "    </tr>\n",
              "    <tr>\n",
              "      <th>1250618</th>\n",
              "      <td>fbm</td>\n",
              "      <td>You can't see pictures and videos you have sen...</td>\n",
              "      <td>3.0</td>\n",
              "      <td>2020-12-24</td>\n",
              "      <td>294.0.0.24.129</td>\n",
              "      <td>((__label__en,), [0.8736512064933777])</td>\n",
              "      <td>[see, picture, videos, send, anymore, set, nic...</td>\n",
              "      <td>see picture videos send anymore set nickname</td>\n",
              "      <td>{'see': 1, 'picture': 1, 'videos': 1, 'send': ...</td>\n",
              "      <td>True</td>\n",
              "    </tr>\n",
              "    <tr>\n",
              "      <th>1250619</th>\n",
              "      <td>fbm</td>\n",
              "      <td>problem in archive story and how many other se...</td>\n",
              "      <td>1.0</td>\n",
              "      <td>2020-12-25</td>\n",
              "      <td>290.0.0.16.119</td>\n",
              "      <td>((__label__en,), [0.9673799872398376])</td>\n",
              "      <td>[problem, archive, story, many, see]</td>\n",
              "      <td>problem archive story many see</td>\n",
              "      <td>{'problem': 1, 'archive': 1, 'story': 2, 'many...</td>\n",
              "      <td>True</td>\n",
              "    </tr>\n",
              "    <tr>\n",
              "      <th>1250620</th>\n",
              "      <td>fbm</td>\n",
              "      <td>why isn't there a way to change an individual'...</td>\n",
              "      <td>1.0</td>\n",
              "      <td>2020-12-28</td>\n",
              "      <td>294.0.0.24.129</td>\n",
              "      <td>((__label__en,), [0.695924699306488])</td>\n",
              "      <td>[way, change, individual, notification, sound,...</td>\n",
              "      <td>way change individual notification sound whole...</td>\n",
              "      <td>{'way': 1, 'change': 2, 'individual': 1, 'noti...</td>\n",
              "      <td>True</td>\n",
              "    </tr>\n",
              "    <tr>\n",
              "      <th>1250621</th>\n",
              "      <td>fbm</td>\n",
              "      <td>The latest update ruined this app... The chat ...</td>\n",
              "      <td>1.0</td>\n",
              "      <td>2020-12-28</td>\n",
              "      <td>294.0.0.24.129</td>\n",
              "      <td>((__label__en,), [0.7956023812294006])</td>\n",
              "      <td>[latest, update, ruin, app, chat, bubble, suck...</td>\n",
              "      <td>latest update ruin app chat bubble suck notifi...</td>\n",
              "      <td>{'latest': 1, 'update': 1, 'ruin': 1, 'app': 1...</td>\n",
              "      <td>True</td>\n",
              "    </tr>\n",
              "    <tr>\n",
              "      <th>1250622</th>\n",
              "      <td>fbm</td>\n",
              "      <td>Since Android 11 the app is baaaad. That or it...</td>\n",
              "      <td>2.0</td>\n",
              "      <td>2020-12-26</td>\n",
              "      <td>294.0.0.24.129</td>\n",
              "      <td>((__label__en,), [0.7544938921928406])</td>\n",
              "      <td>[since, android, 11, app, baaaad, update, noti...</td>\n",
              "      <td>since android 11 app baaaad update notice chat...</td>\n",
              "      <td>{'since': 1, 'android': 1, '11': 1, 'app': 1, ...</td>\n",
              "      <td>True</td>\n",
              "    </tr>\n",
              "  </tbody>\n",
              "</table>\n",
              "<p>1083801 rows × 10 columns</p>\n",
              "</div>"
            ],
            "text/plain": [
              "        app_nm  ... lang2\n",
              "1         zoom  ...  True\n",
              "2         zoom  ...  True\n",
              "3         zoom  ...  True\n",
              "4         zoom  ...  True\n",
              "6         zoom  ...  True\n",
              "...        ...  ...   ...\n",
              "1250618    fbm  ...  True\n",
              "1250619    fbm  ...  True\n",
              "1250620    fbm  ...  True\n",
              "1250621    fbm  ...  True\n",
              "1250622    fbm  ...  True\n",
              "\n",
              "[1083801 rows x 10 columns]"
            ]
          },
          "metadata": {
            "tags": []
          },
          "execution_count": 43
        }
      ]
    },
    {
      "cell_type": "code",
      "metadata": {
        "colab": {
          "base_uri": "https://localhost:8080/",
          "height": 691
        },
        "id": "Rxvqnh-LjYXo",
        "outputId": "cc0401b7-8067-408f-842d-035a124e27fb"
      },
      "source": [
        "# len(df['keywords'][0])\n",
        "df['n_words'] = df['keywords'].apply(lambda x: len(x))\n",
        "df"
      ],
      "execution_count": 44,
      "outputs": [
        {
          "output_type": "stream",
          "text": [
            "/usr/local/lib/python3.6/dist-packages/ipykernel_launcher.py:2: SettingWithCopyWarning: \n",
            "A value is trying to be set on a copy of a slice from a DataFrame.\n",
            "Try using .loc[row_indexer,col_indexer] = value instead\n",
            "\n",
            "See the caveats in the documentation: https://pandas.pydata.org/pandas-docs/stable/user_guide/indexing.html#returning-a-view-versus-a-copy\n",
            "  \n"
          ],
          "name": "stderr"
        },
        {
          "output_type": "execute_result",
          "data": {
            "text/html": [
              "<div>\n",
              "<style scoped>\n",
              "    .dataframe tbody tr th:only-of-type {\n",
              "        vertical-align: middle;\n",
              "    }\n",
              "\n",
              "    .dataframe tbody tr th {\n",
              "        vertical-align: top;\n",
              "    }\n",
              "\n",
              "    .dataframe thead th {\n",
              "        text-align: right;\n",
              "    }\n",
              "</style>\n",
              "<table border=\"1\" class=\"dataframe\">\n",
              "  <thead>\n",
              "    <tr style=\"text-align: right;\">\n",
              "      <th></th>\n",
              "      <th>app_nm</th>\n",
              "      <th>review</th>\n",
              "      <th>rating</th>\n",
              "      <th>dt</th>\n",
              "      <th>app_ver</th>\n",
              "      <th>lang</th>\n",
              "      <th>keywords</th>\n",
              "      <th>detoken</th>\n",
              "      <th>items</th>\n",
              "      <th>lang2</th>\n",
              "      <th>n_words</th>\n",
              "    </tr>\n",
              "  </thead>\n",
              "  <tbody>\n",
              "    <tr>\n",
              "      <th>1</th>\n",
              "      <td>zoom</td>\n",
              "      <td>This is our one of the education thing. We can...</td>\n",
              "      <td>5.0</td>\n",
              "      <td>2020-12-26</td>\n",
              "      <td>Unknown</td>\n",
              "      <td>((__label__en,), [0.8765208721160889])</td>\n",
              "      <td>[one, education, thing, cant, unlike, never]</td>\n",
              "      <td>one education thing cant unlike never</td>\n",
              "      <td>{'one': 1, 'education': 1, 'thing': 1, 'cant':...</td>\n",
              "      <td>True</td>\n",
              "      <td>6</td>\n",
              "    </tr>\n",
              "    <tr>\n",
              "      <th>2</th>\n",
              "      <td>zoom</td>\n",
              "      <td>Good</td>\n",
              "      <td>5.0</td>\n",
              "      <td>2020-12-26</td>\n",
              "      <td>5.4.6.812</td>\n",
              "      <td>((__label__en,), [0.8952815532684326])</td>\n",
              "      <td>[good]</td>\n",
              "      <td>good</td>\n",
              "      <td>{'good': 1}</td>\n",
              "      <td>True</td>\n",
              "      <td>1</td>\n",
              "    </tr>\n",
              "    <tr>\n",
              "      <th>3</th>\n",
              "      <td>zoom</td>\n",
              "      <td>Worst appp</td>\n",
              "      <td>2.0</td>\n",
              "      <td>2020-12-28</td>\n",
              "      <td>Unknown</td>\n",
              "      <td>((__label__en,), [0.6274816393852234])</td>\n",
              "      <td>[worst, appp]</td>\n",
              "      <td>worst appp</td>\n",
              "      <td>{'worst': 1, 'appp': 1}</td>\n",
              "      <td>True</td>\n",
              "      <td>2</td>\n",
              "    </tr>\n",
              "    <tr>\n",
              "      <th>4</th>\n",
              "      <td>zoom</td>\n",
              "      <td>Good</td>\n",
              "      <td>4.0</td>\n",
              "      <td>2020-12-28</td>\n",
              "      <td>5.4.7.946</td>\n",
              "      <td>((__label__en,), [0.8952815532684326])</td>\n",
              "      <td>[good]</td>\n",
              "      <td>good</td>\n",
              "      <td>{'good': 1}</td>\n",
              "      <td>True</td>\n",
              "      <td>1</td>\n",
              "    </tr>\n",
              "    <tr>\n",
              "      <th>6</th>\n",
              "      <td>zoom</td>\n",
              "      <td>It's very very useful for school students</td>\n",
              "      <td>5.0</td>\n",
              "      <td>2020-12-26</td>\n",
              "      <td>5.4.7.946</td>\n",
              "      <td>((__label__en,), [0.9363648891448975])</td>\n",
              "      <td>[useful, school, students]</td>\n",
              "      <td>useful school students</td>\n",
              "      <td>{'useful': 1, 'school': 1, 'students': 1}</td>\n",
              "      <td>True</td>\n",
              "      <td>3</td>\n",
              "    </tr>\n",
              "    <tr>\n",
              "      <th>...</th>\n",
              "      <td>...</td>\n",
              "      <td>...</td>\n",
              "      <td>...</td>\n",
              "      <td>...</td>\n",
              "      <td>...</td>\n",
              "      <td>...</td>\n",
              "      <td>...</td>\n",
              "      <td>...</td>\n",
              "      <td>...</td>\n",
              "      <td>...</td>\n",
              "      <td>...</td>\n",
              "    </tr>\n",
              "    <tr>\n",
              "      <th>1250618</th>\n",
              "      <td>fbm</td>\n",
              "      <td>You can't see pictures and videos you have sen...</td>\n",
              "      <td>3.0</td>\n",
              "      <td>2020-12-24</td>\n",
              "      <td>294.0.0.24.129</td>\n",
              "      <td>((__label__en,), [0.8736512064933777])</td>\n",
              "      <td>[see, picture, videos, send, anymore, set, nic...</td>\n",
              "      <td>see picture videos send anymore set nickname</td>\n",
              "      <td>{'see': 1, 'picture': 1, 'videos': 1, 'send': ...</td>\n",
              "      <td>True</td>\n",
              "      <td>7</td>\n",
              "    </tr>\n",
              "    <tr>\n",
              "      <th>1250619</th>\n",
              "      <td>fbm</td>\n",
              "      <td>problem in archive story and how many other se...</td>\n",
              "      <td>1.0</td>\n",
              "      <td>2020-12-25</td>\n",
              "      <td>290.0.0.16.119</td>\n",
              "      <td>((__label__en,), [0.9673799872398376])</td>\n",
              "      <td>[problem, archive, story, many, see]</td>\n",
              "      <td>problem archive story many see</td>\n",
              "      <td>{'problem': 1, 'archive': 1, 'story': 2, 'many...</td>\n",
              "      <td>True</td>\n",
              "      <td>5</td>\n",
              "    </tr>\n",
              "    <tr>\n",
              "      <th>1250620</th>\n",
              "      <td>fbm</td>\n",
              "      <td>why isn't there a way to change an individual'...</td>\n",
              "      <td>1.0</td>\n",
              "      <td>2020-12-28</td>\n",
              "      <td>294.0.0.24.129</td>\n",
              "      <td>((__label__en,), [0.695924699306488])</td>\n",
              "      <td>[way, change, individual, notification, sound,...</td>\n",
              "      <td>way change individual notification sound whole...</td>\n",
              "      <td>{'way': 1, 'change': 2, 'individual': 1, 'noti...</td>\n",
              "      <td>True</td>\n",
              "      <td>24</td>\n",
              "    </tr>\n",
              "    <tr>\n",
              "      <th>1250621</th>\n",
              "      <td>fbm</td>\n",
              "      <td>The latest update ruined this app... The chat ...</td>\n",
              "      <td>1.0</td>\n",
              "      <td>2020-12-28</td>\n",
              "      <td>294.0.0.24.129</td>\n",
              "      <td>((__label__en,), [0.7956023812294006])</td>\n",
              "      <td>[latest, update, ruin, app, chat, bubble, suck...</td>\n",
              "      <td>latest update ruin app chat bubble suck notifi...</td>\n",
              "      <td>{'latest': 1, 'update': 1, 'ruin': 1, 'app': 1...</td>\n",
              "      <td>True</td>\n",
              "      <td>14</td>\n",
              "    </tr>\n",
              "    <tr>\n",
              "      <th>1250622</th>\n",
              "      <td>fbm</td>\n",
              "      <td>Since Android 11 the app is baaaad. That or it...</td>\n",
              "      <td>2.0</td>\n",
              "      <td>2020-12-26</td>\n",
              "      <td>294.0.0.24.129</td>\n",
              "      <td>((__label__en,), [0.7544938921928406])</td>\n",
              "      <td>[since, android, 11, app, baaaad, update, noti...</td>\n",
              "      <td>since android 11 app baaaad update notice chat...</td>\n",
              "      <td>{'since': 1, 'android': 1, '11': 1, 'app': 1, ...</td>\n",
              "      <td>True</td>\n",
              "      <td>16</td>\n",
              "    </tr>\n",
              "  </tbody>\n",
              "</table>\n",
              "<p>1083801 rows × 11 columns</p>\n",
              "</div>"
            ],
            "text/plain": [
              "        app_nm  ... n_words\n",
              "1         zoom  ...       6\n",
              "2         zoom  ...       1\n",
              "3         zoom  ...       2\n",
              "4         zoom  ...       1\n",
              "6         zoom  ...       3\n",
              "...        ...  ...     ...\n",
              "1250618    fbm  ...       7\n",
              "1250619    fbm  ...       5\n",
              "1250620    fbm  ...      24\n",
              "1250621    fbm  ...      14\n",
              "1250622    fbm  ...      16\n",
              "\n",
              "[1083801 rows x 11 columns]"
            ]
          },
          "metadata": {
            "tags": []
          },
          "execution_count": 44
        }
      ]
    },
    {
      "cell_type": "code",
      "metadata": {
        "colab": {
          "base_uri": "https://localhost:8080/",
          "height": 307
        },
        "id": "iB7M9Q-XtOI0",
        "outputId": "fbc3fa61-d1e9-42d1-fdb1-1b626483d863"
      },
      "source": [
        "# 3글자 이하 keyword 제거하기\n",
        "df['keywords_2'] = df['keywords'].apply(lambda x: [word for x in x if len(word)>3])"
      ],
      "execution_count": 48,
      "outputs": [
        {
          "output_type": "error",
          "ename": "NameError",
          "evalue": "ignored",
          "traceback": [
            "\u001b[0;31m---------------------------------------------------------------------------\u001b[0m",
            "\u001b[0;31mNameError\u001b[0m                                 Traceback (most recent call last)",
            "\u001b[0;32m<ipython-input-48-6008b1ca43dd>\u001b[0m in \u001b[0;36m<module>\u001b[0;34m()\u001b[0m\n\u001b[1;32m      1\u001b[0m \u001b[0;31m# 3글자 이하 keyword 제거하기\u001b[0m\u001b[0;34m\u001b[0m\u001b[0;34m\u001b[0m\u001b[0;34m\u001b[0m\u001b[0m\n\u001b[0;32m----> 2\u001b[0;31m \u001b[0mdf\u001b[0m\u001b[0;34m[\u001b[0m\u001b[0;34m'keywords_2'\u001b[0m\u001b[0;34m]\u001b[0m \u001b[0;34m=\u001b[0m \u001b[0mdf\u001b[0m\u001b[0;34m[\u001b[0m\u001b[0;34m'keywords'\u001b[0m\u001b[0;34m]\u001b[0m\u001b[0;34m.\u001b[0m\u001b[0mapply\u001b[0m\u001b[0;34m(\u001b[0m\u001b[0;32mlambda\u001b[0m \u001b[0mx\u001b[0m\u001b[0;34m:\u001b[0m \u001b[0;34m[\u001b[0m\u001b[0mword\u001b[0m \u001b[0;32mfor\u001b[0m \u001b[0mx\u001b[0m \u001b[0;32min\u001b[0m \u001b[0mx\u001b[0m \u001b[0;32mif\u001b[0m \u001b[0mlen\u001b[0m\u001b[0;34m(\u001b[0m\u001b[0mword\u001b[0m\u001b[0;34m)\u001b[0m\u001b[0;34m>\u001b[0m\u001b[0;36m3\u001b[0m\u001b[0;34m]\u001b[0m\u001b[0;34m)\u001b[0m\u001b[0;34m\u001b[0m\u001b[0;34m\u001b[0m\u001b[0m\n\u001b[0m",
            "\u001b[0;32m/usr/local/lib/python3.6/dist-packages/pandas/core/series.py\u001b[0m in \u001b[0;36mapply\u001b[0;34m(self, func, convert_dtype, args, **kwds)\u001b[0m\n\u001b[1;32m   4211\u001b[0m             \u001b[0;32melse\u001b[0m\u001b[0;34m:\u001b[0m\u001b[0;34m\u001b[0m\u001b[0;34m\u001b[0m\u001b[0m\n\u001b[1;32m   4212\u001b[0m                 \u001b[0mvalues\u001b[0m \u001b[0;34m=\u001b[0m \u001b[0mself\u001b[0m\u001b[0;34m.\u001b[0m\u001b[0mastype\u001b[0m\u001b[0;34m(\u001b[0m\u001b[0mobject\u001b[0m\u001b[0;34m)\u001b[0m\u001b[0;34m.\u001b[0m\u001b[0m_values\u001b[0m\u001b[0;34m\u001b[0m\u001b[0;34m\u001b[0m\u001b[0m\n\u001b[0;32m-> 4213\u001b[0;31m                 \u001b[0mmapped\u001b[0m \u001b[0;34m=\u001b[0m \u001b[0mlib\u001b[0m\u001b[0;34m.\u001b[0m\u001b[0mmap_infer\u001b[0m\u001b[0;34m(\u001b[0m\u001b[0mvalues\u001b[0m\u001b[0;34m,\u001b[0m \u001b[0mf\u001b[0m\u001b[0;34m,\u001b[0m \u001b[0mconvert\u001b[0m\u001b[0;34m=\u001b[0m\u001b[0mconvert_dtype\u001b[0m\u001b[0;34m)\u001b[0m\u001b[0;34m\u001b[0m\u001b[0;34m\u001b[0m\u001b[0m\n\u001b[0m\u001b[1;32m   4214\u001b[0m \u001b[0;34m\u001b[0m\u001b[0m\n\u001b[1;32m   4215\u001b[0m         \u001b[0;32mif\u001b[0m \u001b[0mlen\u001b[0m\u001b[0;34m(\u001b[0m\u001b[0mmapped\u001b[0m\u001b[0;34m)\u001b[0m \u001b[0;32mand\u001b[0m \u001b[0misinstance\u001b[0m\u001b[0;34m(\u001b[0m\u001b[0mmapped\u001b[0m\u001b[0;34m[\u001b[0m\u001b[0;36m0\u001b[0m\u001b[0;34m]\u001b[0m\u001b[0;34m,\u001b[0m \u001b[0mSeries\u001b[0m\u001b[0;34m)\u001b[0m\u001b[0;34m:\u001b[0m\u001b[0;34m\u001b[0m\u001b[0;34m\u001b[0m\u001b[0m\n",
            "\u001b[0;32mpandas/_libs/lib.pyx\u001b[0m in \u001b[0;36mpandas._libs.lib.map_infer\u001b[0;34m()\u001b[0m\n",
            "\u001b[0;32m<ipython-input-48-6008b1ca43dd>\u001b[0m in \u001b[0;36m<lambda>\u001b[0;34m(x)\u001b[0m\n\u001b[1;32m      1\u001b[0m \u001b[0;31m# 3글자 이하 keyword 제거하기\u001b[0m\u001b[0;34m\u001b[0m\u001b[0;34m\u001b[0m\u001b[0;34m\u001b[0m\u001b[0m\n\u001b[0;32m----> 2\u001b[0;31m \u001b[0mdf\u001b[0m\u001b[0;34m[\u001b[0m\u001b[0;34m'keywords_2'\u001b[0m\u001b[0;34m]\u001b[0m \u001b[0;34m=\u001b[0m \u001b[0mdf\u001b[0m\u001b[0;34m[\u001b[0m\u001b[0;34m'keywords'\u001b[0m\u001b[0;34m]\u001b[0m\u001b[0;34m.\u001b[0m\u001b[0mapply\u001b[0m\u001b[0;34m(\u001b[0m\u001b[0;32mlambda\u001b[0m \u001b[0mx\u001b[0m\u001b[0;34m:\u001b[0m \u001b[0;34m[\u001b[0m\u001b[0mword\u001b[0m \u001b[0;32mfor\u001b[0m \u001b[0mx\u001b[0m \u001b[0;32min\u001b[0m \u001b[0mx\u001b[0m \u001b[0;32mif\u001b[0m \u001b[0mlen\u001b[0m\u001b[0;34m(\u001b[0m\u001b[0mword\u001b[0m\u001b[0;34m)\u001b[0m\u001b[0;34m>\u001b[0m\u001b[0;36m3\u001b[0m\u001b[0;34m]\u001b[0m\u001b[0;34m)\u001b[0m\u001b[0;34m\u001b[0m\u001b[0;34m\u001b[0m\u001b[0m\n\u001b[0m",
            "\u001b[0;32m<ipython-input-48-6008b1ca43dd>\u001b[0m in \u001b[0;36m<listcomp>\u001b[0;34m(.0)\u001b[0m\n\u001b[1;32m      1\u001b[0m \u001b[0;31m# 3글자 이하 keyword 제거하기\u001b[0m\u001b[0;34m\u001b[0m\u001b[0;34m\u001b[0m\u001b[0;34m\u001b[0m\u001b[0m\n\u001b[0;32m----> 2\u001b[0;31m \u001b[0mdf\u001b[0m\u001b[0;34m[\u001b[0m\u001b[0;34m'keywords_2'\u001b[0m\u001b[0;34m]\u001b[0m \u001b[0;34m=\u001b[0m \u001b[0mdf\u001b[0m\u001b[0;34m[\u001b[0m\u001b[0;34m'keywords'\u001b[0m\u001b[0;34m]\u001b[0m\u001b[0;34m.\u001b[0m\u001b[0mapply\u001b[0m\u001b[0;34m(\u001b[0m\u001b[0;32mlambda\u001b[0m \u001b[0mx\u001b[0m\u001b[0;34m:\u001b[0m \u001b[0;34m[\u001b[0m\u001b[0mword\u001b[0m \u001b[0;32mfor\u001b[0m \u001b[0mx\u001b[0m \u001b[0;32min\u001b[0m \u001b[0mx\u001b[0m \u001b[0;32mif\u001b[0m \u001b[0mlen\u001b[0m\u001b[0;34m(\u001b[0m\u001b[0mword\u001b[0m\u001b[0;34m)\u001b[0m\u001b[0;34m>\u001b[0m\u001b[0;36m3\u001b[0m\u001b[0;34m]\u001b[0m\u001b[0;34m)\u001b[0m\u001b[0;34m\u001b[0m\u001b[0;34m\u001b[0m\u001b[0m\n\u001b[0m",
            "\u001b[0;31mNameError\u001b[0m: name 'word' is not defined"
          ]
        }
      ]
    },
    {
      "cell_type": "code",
      "metadata": {
        "colab": {
          "base_uri": "https://localhost:8080/"
        },
        "id": "AFrYQ-9vk-u5",
        "outputId": "6303a188-1b01-472d-96c5-3424bc2fcc2b"
      },
      "source": [
        "# df[['n_words']].groupby(['n_words']).size()\n",
        "df_model = df[df['n_words']>20]\n",
        "print(\"\\ngroup by n_words\", df_model.groupby(['n_words']).size())\n",
        "print(\"\\ngroup by rating\", df_model.groupby(['rating']).size())\n",
        "print(df_model.shape)\n",
        "\n",
        "df_model_1 = df_model[df_model['rating']==1.0]\n",
        "df_model_5 = df_model[df_model['rating']==5.0]\n",
        "print(\"\\nrating 1: \", df_model_1.shape)\n",
        "print(\"\\nrating 5: \", df_model_5.shape)"
      ],
      "execution_count": 14,
      "outputs": [
        {
          "output_type": "stream",
          "text": [
            "\n",
            "group by n_words n_words\n",
            "21     3680\n",
            "22     3384\n",
            "23     2860\n",
            "24     2445\n",
            "25     2151\n",
            "       ... \n",
            "96        1\n",
            "105       1\n",
            "108       1\n",
            "109       1\n",
            "127       1\n",
            "Length: 72, dtype: int64\n",
            "\n",
            "group by rating rating\n",
            "1.0    13512\n",
            "2.0     4131\n",
            "3.0     4225\n",
            "4.0     4070\n",
            "5.0     6860\n",
            "dtype: int64\n",
            "(32798, 10)\n",
            "\n",
            "rating 1:  (13512, 10)\n",
            "\n",
            "rating 5:  (6860, 10)\n"
          ],
          "name": "stdout"
        }
      ]
    },
    {
      "cell_type": "markdown",
      "metadata": {
        "id": "_7ee_ojA-8AJ"
      },
      "source": [
        "#### Gensim 으로 동일한 과정 해보기"
      ]
    },
    {
      "cell_type": "code",
      "metadata": {
        "id": "y36ZBBimTPMW"
      },
      "source": [
        "import gensim\n",
        "from gensim import corpora\n",
        "from gensim.models import LdaModel"
      ],
      "execution_count": 22,
      "outputs": []
    },
    {
      "cell_type": "code",
      "metadata": {
        "colab": {
          "base_uri": "https://localhost:8080/"
        },
        "id": "dFTLREX2Ta-s",
        "outputId": "dc7581bd-285a-4260-a65f-e2e12377ba67"
      },
      "source": [
        "tokenized_doc = df_model_5['keywords']\n",
        "tokenized_doc"
      ],
      "execution_count": 17,
      "outputs": [
        {
          "output_type": "execute_result",
          "data": {
            "text/plain": [
              "81         [सर, म, र, ब, इल, जगह, त, ह, फ, भ, ज, ल, ग, क,...\n",
              "164        [kinda, fun, wish, u, could, make, ppls, scree...\n",
              "222        [arooj, sajjad, r, 4r, d7, 4r7, f, f7, r7, gam...\n",
              "499        [hi, friends, please, make, zoom, version, and...\n",
              "866        [hi, share, screen, option, please, fix, mean,...\n",
              "                                 ...                        \n",
              "1249903    [hogy, beszélsz, másokal, ha, karantén, lenne,...\n",
              "1249961    [က, ဇ, ပ, လက, ဆ, င, အ, ဖစ, ခမ, ကအရမ, သ, ဘ, ထ, ...\n",
              "1250243    [five, star, para, saken, pero, sana, bumalik,...\n",
              "1250417    [since, days, see, friends, list, face, diffic...\n",
              "1250563    [gjbhhkb, ut, ng, kv, f, uf, hm, gy, či, h, hi...\n",
              "Name: keywords, Length: 6860, dtype: object"
            ]
          },
          "metadata": {
            "tags": []
          },
          "execution_count": 17
        }
      ]
    },
    {
      "cell_type": "code",
      "metadata": {
        "colab": {
          "base_uri": "https://localhost:8080/"
        },
        "id": "02Hrw1zTTQtN",
        "outputId": "a6785fe8-feff-491f-b89c-68a8cd584324"
      },
      "source": [
        "dictionary = corpora.Dictionary(tokenized_doc)\n",
        "print(dictionary[36])\n",
        "print(len(dictionary))"
      ],
      "execution_count": 27,
      "outputs": [
        {
          "output_type": "stream",
          "text": [
            "ppls\n",
            "27212\n"
          ],
          "name": "stdout"
        }
      ]
    },
    {
      "cell_type": "code",
      "metadata": {
        "colab": {
          "base_uri": "https://localhost:8080/"
        },
        "id": "twp1I4xOuD2M",
        "outputId": "1ecad94b-5a89-4daa-fcad-be17f87ddf6b"
      },
      "source": [
        "from collections import Counter\n",
        "\n",
        "min_count = 20\n",
        "word_counter = Counter((word for words in tokenized_doc for word in words))\n",
        "removal_word_idxs = {\n",
        "    dictionary.token2id[word] for word, count in word_counter.items()\n",
        "    if count < min_count\n",
        "}\n",
        "\n",
        "dictionary.filter_tokens(removal_word_idxs)\n",
        "dictionary.compactify()\n",
        "print('dictionary size : %d' % len(dictionary)) # dictionary size : 10354"
      ],
      "execution_count": 28,
      "outputs": [
        {
          "output_type": "stream",
          "text": [
            "dictionary size : 1286\n"
          ],
          "name": "stdout"
        }
      ]
    },
    {
      "cell_type": "code",
      "metadata": {
        "colab": {
          "base_uri": "https://localhost:8080/"
        },
        "id": "2ajcgQ1Xv5vv",
        "outputId": "b4886bb4-2b8c-4057-a1f4-ace8281f7475"
      },
      "source": [
        "corpus = [dictionary.doc2bow(text) for text in tokenized_doc]\n",
        "print(corpus[1]) # 수행된 결과에서 두번째 리뷰 출력. 첫번째 문서의 인덱스는 0"
      ],
      "execution_count": 29,
      "outputs": [
        {
          "output_type": "stream",
          "text": [
            "[(18, 1), (19, 1), (20, 1), (21, 1), (22, 1), (23, 1), (24, 1), (25, 1), (26, 1), (27, 1), (28, 1), (29, 1), (30, 1), (31, 1), (32, 1), (33, 1), (34, 1), (35, 1)]\n"
          ],
          "name": "stdout"
        }
      ]
    },
    {
      "cell_type": "code",
      "metadata": {
        "id": "9klHtSQfTtw2"
      },
      "source": [
        "NUM_TOPICS = 10 #20개의 토픽, k=20\n",
        "lda_model = LdaModel(corpus, id2word=dictionary, num_topics=10)"
      ],
      "execution_count": 30,
      "outputs": []
    },
    {
      "cell_type": "code",
      "metadata": {
        "id": "45OKj9mIzF4Q"
      },
      "source": [
        "topics = lda_model.print_topics(num_words=10)"
      ],
      "execution_count": 31,
      "outputs": []
    },
    {
      "cell_type": "code",
      "metadata": {
        "colab": {
          "base_uri": "https://localhost:8080/"
        },
        "id": "RP96zTJFTwY6",
        "outputId": "8ced5062-4a5d-4f0e-fa47-8018dc631815"
      },
      "source": [
        "for topic in topics:\n",
        "    print(topic)\n",
        "print(lda_model.print_topics())"
      ],
      "execution_count": 32,
      "outputs": [
        {
          "output_type": "stream",
          "text": [
            "(0, '0.025*\"app\" + 0.015*\"call\" + 0.014*\"use\" + 0.013*\"messenger\" + 0.013*\"star\" + 0.012*\"chat\" + 0.012*\"love\" + 0.012*\"friends\" + 0.011*\"5\" + 0.011*\"ako\"')\n",
            "(1, '0.019*\"app\" + 0.015*\"chat\" + 0.014*\"love\" + 0.013*\"use\" + 0.011*\"friends\" + 0.011*\"ng\" + 0.011*\"make\" + 0.010*\"messenger\" + 0.010*\"one\" + 0.009*\"new\"')\n",
            "(2, '0.018*\"get\" + 0.016*\"time\" + 0.016*\"app\" + 0.014*\"good\" + 0.014*\"go\" + 0.013*\"one\" + 0.013*\"work\" + 0.013*\"please\" + 0.011*\"know\" + 0.010*\"say\"')\n",
            "(3, '0.019*\"র\" + 0.018*\"ন\" + 0.017*\"ল\" + 0.016*\"ক\" + 0.016*\"প\" + 0.016*\"ব\" + 0.015*\"স\" + 0.015*\"য\" + 0.014*\"ত\" + 0.014*\"জ\"')\n",
            "(4, '0.023*\"app\" + 0.019*\"use\" + 0.015*\"work\" + 0.013*\"love\" + 0.012*\"great\" + 0.011*\"would\" + 0.010*\"time\" + 0.010*\"thank\" + 0.010*\"like\" + 0.010*\"update\"')\n",
            "(5, '0.025*\"app\" + 0.023*\"use\" + 0.020*\"messenger\" + 0.018*\"message\" + 0.017*\"chat\" + 0.016*\"friends\" + 0.014*\"great\" + 0.013*\"video\" + 0.012*\"call\" + 0.009*\"game\"')\n",
            "(6, '0.018*\"na\" + 0.014*\"ko\" + 0.012*\"sa\" + 0.012*\"app\" + 0.011*\"love\" + 0.009*\"get\" + 0.009*\"u\" + 0.008*\"thank\" + 0.008*\"hi\" + 0.008*\"ka\"')\n",
            "(7, '0.023*\"app\" + 0.018*\"thank\" + 0.012*\"like\" + 0.012*\"friends\" + 0.012*\"good\" + 0.011*\"make\" + 0.011*\"help\" + 0.011*\"please\" + 0.010*\"family\" + 0.009*\"time\"')\n",
            "(8, '0.027*\"messenger\" + 0.025*\"app\" + 0.022*\"facebook\" + 0.021*\"like\" + 0.020*\"use\" + 0.014*\"love\" + 0.013*\"chat\" + 0.012*\"friends\" + 0.011*\"make\" + 0.011*\"really\"')\n",
            "(9, '0.013*\"people\" + 0.011*\"love\" + 0.011*\"us\" + 0.011*\"অন\" + 0.010*\"nag\" + 0.010*\"one\" + 0.010*\"app\" + 0.010*\"use\" + 0.009*\"go\" + 0.009*\"life\"')\n",
            "[(0, '0.025*\"app\" + 0.015*\"call\" + 0.014*\"use\" + 0.013*\"messenger\" + 0.013*\"star\" + 0.012*\"chat\" + 0.012*\"love\" + 0.012*\"friends\" + 0.011*\"5\" + 0.011*\"ako\"'), (1, '0.019*\"app\" + 0.015*\"chat\" + 0.014*\"love\" + 0.013*\"use\" + 0.011*\"friends\" + 0.011*\"ng\" + 0.011*\"make\" + 0.010*\"messenger\" + 0.010*\"one\" + 0.009*\"new\"'), (2, '0.018*\"get\" + 0.016*\"time\" + 0.016*\"app\" + 0.014*\"good\" + 0.014*\"go\" + 0.013*\"one\" + 0.013*\"work\" + 0.013*\"please\" + 0.011*\"know\" + 0.010*\"say\"'), (3, '0.019*\"র\" + 0.018*\"ন\" + 0.017*\"ল\" + 0.016*\"ক\" + 0.016*\"প\" + 0.016*\"ব\" + 0.015*\"স\" + 0.015*\"য\" + 0.014*\"ত\" + 0.014*\"জ\"'), (4, '0.023*\"app\" + 0.019*\"use\" + 0.015*\"work\" + 0.013*\"love\" + 0.012*\"great\" + 0.011*\"would\" + 0.010*\"time\" + 0.010*\"thank\" + 0.010*\"like\" + 0.010*\"update\"'), (5, '0.025*\"app\" + 0.023*\"use\" + 0.020*\"messenger\" + 0.018*\"message\" + 0.017*\"chat\" + 0.016*\"friends\" + 0.014*\"great\" + 0.013*\"video\" + 0.012*\"call\" + 0.009*\"game\"'), (6, '0.018*\"na\" + 0.014*\"ko\" + 0.012*\"sa\" + 0.012*\"app\" + 0.011*\"love\" + 0.009*\"get\" + 0.009*\"u\" + 0.008*\"thank\" + 0.008*\"hi\" + 0.008*\"ka\"'), (7, '0.023*\"app\" + 0.018*\"thank\" + 0.012*\"like\" + 0.012*\"friends\" + 0.012*\"good\" + 0.011*\"make\" + 0.011*\"help\" + 0.011*\"please\" + 0.010*\"family\" + 0.009*\"time\"'), (8, '0.027*\"messenger\" + 0.025*\"app\" + 0.022*\"facebook\" + 0.021*\"like\" + 0.020*\"use\" + 0.014*\"love\" + 0.013*\"chat\" + 0.012*\"friends\" + 0.011*\"make\" + 0.011*\"really\"'), (9, '0.013*\"people\" + 0.011*\"love\" + 0.011*\"us\" + 0.011*\"অন\" + 0.010*\"nag\" + 0.010*\"one\" + 0.010*\"app\" + 0.010*\"use\" + 0.009*\"go\" + 0.009*\"life\"')]\n"
          ],
          "name": "stdout"
        }
      ]
    },
    {
      "cell_type": "code",
      "metadata": {
        "id": "4oBHGv4Ax_wU"
      },
      "source": [
        "def get_topic_term_prob(lda_model):\n",
        "    topic_term_freqs = lda_model.state.get_lambda()\n",
        "    topic_term_prob = topic_term_freqs / topic_term_freqs.sum(axis=1)[:, None]\n",
        "    return topic_term_prob"
      ],
      "execution_count": 33,
      "outputs": []
    },
    {
      "cell_type": "code",
      "metadata": {
        "colab": {
          "base_uri": "https://localhost:8080/"
        },
        "id": "z7Y3JnTvyDCK",
        "outputId": "88c81ed3-ae42-4e36-be46-014a8faff4c5"
      },
      "source": [
        "print(lda_model.alpha.shape) # (n_topics,)\n",
        "print(lda_model.alpha.sum()) # 1.0\n",
        "\n",
        "topic_term_prob = get_topic_term_prob(lda_model)\n",
        "print(topic_term_prob.shape)     # (n_topics, n_terms)\n",
        "print(topic_term_prob[0].sum())  # 1.0"
      ],
      "execution_count": 34,
      "outputs": [
        {
          "output_type": "stream",
          "text": [
            "(10,)\n",
            "1.0\n",
            "(10, 1286)\n",
            "1.0\n"
          ],
          "name": "stdout"
        }
      ]
    },
    {
      "cell_type": "markdown",
      "metadata": {
        "id": "lPbgxMeMT2JJ"
      },
      "source": [
        "### LDA 시각화"
      ]
    },
    {
      "cell_type": "code",
      "metadata": {
        "colab": {
          "base_uri": "https://localhost:8080/"
        },
        "id": "vJlSww2hyarT",
        "outputId": "83c58036-dc69-4b72-e33a-b113d06bdff8"
      },
      "source": [
        "!pip install pyLDAvis\n",
        "import pyLDAvis.gensim as gensimvis\n",
        "import pyLDAvis"
      ],
      "execution_count": 47,
      "outputs": [
        {
          "output_type": "stream",
          "text": [
            "Requirement already satisfied: pyLDAvis in /usr/local/lib/python3.6/dist-packages (2.1.2)\n",
            "Requirement already satisfied: numexpr in /usr/local/lib/python3.6/dist-packages (from pyLDAvis) (2.7.2)\n",
            "Requirement already satisfied: pytest in /usr/local/lib/python3.6/dist-packages (from pyLDAvis) (3.6.4)\n",
            "Requirement already satisfied: wheel>=0.23.0 in /usr/local/lib/python3.6/dist-packages (from pyLDAvis) (0.36.2)\n",
            "Requirement already satisfied: scipy>=0.18.0 in /usr/local/lib/python3.6/dist-packages (from pyLDAvis) (1.4.1)\n",
            "Requirement already satisfied: pandas>=0.17.0 in /usr/local/lib/python3.6/dist-packages (from pyLDAvis) (1.1.5)\n",
            "Requirement already satisfied: jinja2>=2.7.2 in /usr/local/lib/python3.6/dist-packages (from pyLDAvis) (2.11.2)\n",
            "Requirement already satisfied: joblib>=0.8.4 in /usr/local/lib/python3.6/dist-packages (from pyLDAvis) (1.0.0)\n",
            "Requirement already satisfied: future in /usr/local/lib/python3.6/dist-packages (from pyLDAvis) (0.16.0)\n",
            "Requirement already satisfied: funcy in /usr/local/lib/python3.6/dist-packages (from pyLDAvis) (1.15)\n",
            "Requirement already satisfied: numpy>=1.9.2 in /usr/local/lib/python3.6/dist-packages (from pyLDAvis) (1.19.5)\n",
            "Requirement already satisfied: six>=1.10.0 in /usr/local/lib/python3.6/dist-packages (from pytest->pyLDAvis) (1.15.0)\n",
            "Requirement already satisfied: more-itertools>=4.0.0 in /usr/local/lib/python3.6/dist-packages (from pytest->pyLDAvis) (8.6.0)\n",
            "Requirement already satisfied: atomicwrites>=1.0 in /usr/local/lib/python3.6/dist-packages (from pytest->pyLDAvis) (1.4.0)\n",
            "Requirement already satisfied: pluggy<0.8,>=0.5 in /usr/local/lib/python3.6/dist-packages (from pytest->pyLDAvis) (0.7.1)\n",
            "Requirement already satisfied: attrs>=17.4.0 in /usr/local/lib/python3.6/dist-packages (from pytest->pyLDAvis) (20.3.0)\n",
            "Requirement already satisfied: setuptools in /usr/local/lib/python3.6/dist-packages (from pytest->pyLDAvis) (51.1.1)\n",
            "Requirement already satisfied: py>=1.5.0 in /usr/local/lib/python3.6/dist-packages (from pytest->pyLDAvis) (1.10.0)\n",
            "Requirement already satisfied: python-dateutil>=2.7.3 in /usr/local/lib/python3.6/dist-packages (from pandas>=0.17.0->pyLDAvis) (2.8.1)\n",
            "Requirement already satisfied: pytz>=2017.2 in /usr/local/lib/python3.6/dist-packages (from pandas>=0.17.0->pyLDAvis) (2018.9)\n",
            "Requirement already satisfied: MarkupSafe>=0.23 in /usr/local/lib/python3.6/dist-packages (from jinja2>=2.7.2->pyLDAvis) (1.1.1)\n"
          ],
          "name": "stdout"
        }
      ]
    },
    {
      "cell_type": "code",
      "metadata": {
        "id": "dCb8bbW7XVGE"
      },
      "source": [
        "prepared_data = gensimvis.prepare(lda_model, corpus, dictionary)"
      ],
      "execution_count": 43,
      "outputs": []
    },
    {
      "cell_type": "code",
      "metadata": {
        "colab": {
          "base_uri": "https://localhost:8080/",
          "height": 861
        },
        "id": "VT70sq3SyYfC",
        "outputId": "2b249357-d0ad-42cb-c51a-826c47909294"
      },
      "source": [
        "import matplotlib.pyplot as plt\n",
        "from matplotlib import style\n",
        "style.use('ggplot') #or plt.style.use('ggplot')\n",
        "pyLDAvis.display(prepared_data)"
      ],
      "execution_count": 49,
      "outputs": [
        {
          "output_type": "execute_result",
          "data": {
            "text/html": [
              "\n",
              "<link rel=\"stylesheet\" type=\"text/css\" href=\"https://cdn.rawgit.com/bmabey/pyLDAvis/files/ldavis.v1.0.0.css\">\n",
              "\n",
              "\n",
              "<div id=\"ldavis_el621403433463900249737462596\"></div>\n",
              "<script type=\"text/javascript\">\n",
              "\n",
              "var ldavis_el621403433463900249737462596_data = {\"mdsDat\": {\"x\": [-0.0021086079700987663, -0.06135973292997748, -0.0755247031895242, 0.002706758875945636, -0.04326499016886827, -0.03382531332819517, -0.02432505875718999, 0.18748530990554155, 0.10790646291622433, -0.05769012535385742], \"y\": [0.001604277841678591, 0.044908228716213625, 0.06405177745352163, -0.008648820146188979, 0.03780865842771709, 0.014922271284918635, 0.04985893734619642, -0.001157221859110244, -0.003267042072895743, -0.20008106699205125], \"topics\": [1, 2, 3, 4, 5, 6, 7, 8, 9, 10], \"cluster\": [1, 1, 1, 1, 1, 1, 1, 1, 1, 1], \"Freq\": [15.864677552387283, 14.226278354538058, 13.455623781709654, 12.9843228967182, 11.866359037817398, 11.299776220615817, 8.962805142620965, 6.276596800454692, 2.708604787921047, 2.3549554252168847]}, \"tinfo\": {\"Term\": [\"facebook\", \"messenger\", \"na\", \"ako\", \"message\", \"use\", \"ko\", \"ng\", \"sa\", \"\\u09a6\", \"love\", \"people\", \"go\", \"us\", \"mga\", \"thank\", \"life\", \"\\u09b0\", \"ang\", \"\\u099b\", \"one\", \"\\u09a8\", \"help\", \"theme\", \"\\u09b2\", \"call\", \"right\", \"star\", \"\\u09df\", \"\\u0995\", \"lite\", \"ideas\", \"boy\", \"16\", \"1st\", \"asap\", \"hit\", \"disappear\", \"fault\", \"car\", \"suck\", \"address\", \"honest\", \"range\", \"section\", \"tomorrow\", \"weekend\", \"13\", \"die\", \"yo\", \"ride\", \"today\", \"four\", \"tire\", \"city\", \"connections\", \"office\", \"8\", \"sleep\", \"staff\", \"first\", \"head\", \"chance\", \"ago\", \"back\", \"yes\", \"year\", \"days\", \"please\", \"go\", \"say\", \"time\", \"day\", \"get\", \"morning\", \"work\", \"fix\", \"know\", \"one\", \"try\", \"sure\", \"good\", \"send\", \"last\", \"see\", \"thing\", \"new\", \"next\", \"give\", \"5\", \"star\", \"want\", \"app\", \"like\", \"phone\", \"problem\", \"able\", \"make\", \"thank\", \"messenger\", \"update\", \"use\", \"stories\", \"express\", \"greatly\", \"extremely\", \"plenty\", \"conversations\", \"certain\", \"notification\", \"instant\", \"rather\", \"simply\", \"direct\", \"tag\", \"usage\", \"closer\", \"letter\", \"bunch\", \"thats\", \"across\", \"inside\", \"relate\", \"privacy\", \"discuss\", \"basic\", \"quickly\", \"respond\", \"regret\", \"cross\", \"product\", \"necessary\", \"conversation\", \"single\", \"longer\", \"appear\", \"whatever\", \"communication\", \"message\", \"platform\", \"allow\", \"emojis\", \"game\", \"group\", \"messenger\", \"use\", \"video\", \"chat\", \"friends\", \"great\", \"app\", \"way\", \"call\", \"without\", \"voice\", \"discord\", \"people\", \"even\", \"family\", \"best\", \"easy\", \"connect\", \"free\", \"make\", \"experience\", \"keep\", \"get\", \"phone\", \"need\", \"thank\", \"love\", \"would\", \"good\", \"like\", \"ay\", \"gif\", \"messager\", \"btw\", \"facebook\", \"xbox\", \"hop\", \"vc\", \"waste\", \"cute\", \"theme\", \"filter\", \"seriously\", \"default\", \"shut\", \"photos\", \"instead\", \"boost\", \"stickers\", \"ability\", \"hack\", \"remove\", \"literally\", \"wanna\", \"sort\", \"similar\", \"background\", \"except\", \"color\", \"personally\", \"media\", \"videos\", \"load\", \"messenger\", \"like\", \"want\", \"things\", \"talk\", \"someone\", \"use\", \"phone\", \"really\", \"dont\", \"app\", \"love\", \"people\", \"chat\", \"also\", \"make\", \"friends\", \"send\", \"update\", \"feature\", \"much\", \"call\", \"message\", \"add\", \"new\", \"one\", \"discord\", \"great\", \"good\", \"text\", \"know\", \"get\", \"video\", \"\\u099b\", \"\\u09df\", \"\\u0995\\u09b0\", \"\\u09a6\", \"texts\", \"freinds\", \"\\u09b9\", \"verify\", \"pics\", \"fair\", \"dear\", \"news\", \"relationship\", \"relatives\", \"hell\", \"nd\", \"al\", \"near\", \"creator\", \"mistake\", \"dms\", \"offline\", \"organization\", \"kinds\", \"anywhere\", \"bless\", \"sometime\", \"hate\", \"gifs\", \"effect\", \"answer\", \"families\", \"god\", \"big\", \"class\", \"help\", \"students\", \"safe\", \"suggest\", \"thank\", \"add\", \"online\", \"family\", \"someone\", \"please\", \"us\", \"app\", \"make\", \"good\", \"like\", \"friends\", \"keep\", \"see\", \"need\", \"much\", \"time\", \"also\", \"love\", \"get\", \"update\", \"one\", \"great\", \"really\", \"chat\", \"want\", \"video\", \"use\", \"kung\", \"reaction\", \"rid\", \"ako\", \"mga\", \"classmates\", \"pag\", \"complaints\", \"bore\", \"sync\", \"laggy\", \"push\", \"chill\", \"disappoint\", \"dev\", \"bubble\", \"currently\", \"lovely\", \"greatest\", \"previous\", \"release\", \"switch\", \"among\", \"ppl\", \"ad\", \"texting\", \"connectivity\", \"wont\", \"huge\", \"kinda\", \"notifications\", \"cause\", \"star\", \"5\", \"yet\", \"call\", \"give\", \"app\", \"messenger\", \"rate\", \"love\", \"chat\", \"would\", \"friends\", \"use\", \"thank\", \"video\", \"discord\", \"voice\", \"update\", \"get\", \"good\", \"like\", \"best\", \"even\", \"need\", \"recommend\", \"play\", \"amaze\", \"go\", \"keep\", \"work\", \"make\", \"time\", \"see\", \"great\", \"sana\", \"\\u09a1\", \"catch\", \"25\", \"entire\", \"tho\", \"fi\", \"lately\", \"faster\", \"husband\", \"restart\", \"twice\", \"reinstall\", \"september\", \"wi\", \"signal\", \"move\", \"opportunity\", \"correct\", \"individual\", \"might\", \"general\", \"track\", \"forever\", \"apart\", \"events\", \"funny\", \"20\", \"eat\", \"month\", \"seem\", \"else\", \"away\", \"work\", \"would\", \"years\", \"use\", \"nothing\", \"app\", \"great\", \"love\", \"update\", \"everyone\", \"time\", \"even\", \"thank\", \"every\", \"better\", \"really\", \"need\", \"like\", \"good\", \"get\", \"see\", \"best\", \"chat\", \"make\", \"hope\", \"friends\", \"also\", \"people\", \"look\", \"phone\", \"much\", \"messenger\", \"keep\", \"ang\", \"mag\", \"react\", \"pero\", \"ill\", \"2019\", \"nickname\", \"es\", \"ng\", \"para\", \"pin\", \"explore\", \"que\", \"status\", \"solid\", \"sell\", \"po\", \"movies\", \"gc\", \"spend\", \"behind\", \"lo\", \"lang\", \"gusto\", \"exist\", \"idk\", \"en\", \"negative\", \"el\", \"role\", \"ive\", \"ones\", \"emoji\", \"group\", \"look\", \"fb\", \"chat\", \"touch\", \"find\", \"love\", \"new\", \"app\", \"fun\", \"make\", \"friends\", \"one\", \"use\", \"apps\", \"great\", \"messenger\", \"call\", \"keep\", \"game\", \"video\", \"discord\", \"message\", \"get\", \"like\", \"much\", \"best\", \"well\", \"update\", \"time\", \"people\", \"yall\", \"ram\", \"hurt\", \"un\", \"wala\", \"\\u0914\\u0930\", \"ne\", \"\\u0928\\u0939\", \"\\u091f\", \"pa\", \"\\u091c\", \"\\u092c\\u0939\", \"\\u092a\\u0930\", \"hindi\", \"koi\", \"z\", \"mere\", \"nhi\", \"\\u0915\\u0930\", \"kya\", \"\\u092e\", \"\\u0921\", \"h\", \"\\u0938\", \"\\u092f\", \"\\u0932\", \"\\u092d\", \"\\u0936\", \"\\u090f\", \"ft\", \"\\u0928\", \"\\u0915\", \"\\u0930\", \"\\u0926\", \"ka\", \"k\", \"\\u0939\", \"ho\", \"ko\", \"sa\", \"si\", \"\\u0924\", \"na\", \"ni\", \"mo\", \"j\", \"se\", \"hai\", \"hi\", \"e\", \"b\", \"u\", \"n\", \"love\", \"app\", \"help\", \"get\", \"thank\", \"work\", \"go\", \"see\", \"good\", \"may\", \"great\", \"us\", \"time\", \"know\", \"\\u0985\\u09a8\", \"spam\", \"outside\", \"ready\", \"local\", \"nag\", \"\\u0927\", \"stick\", \"witness\", \"aa\", \"gf\", \"storage\", \"din\", \"special\", \"sick\", \"per\", \"heart\", \"girls\", \"didnt\", \"project\", \"respect\", \"thankyou\", \"quick\", \"ta\", \"king\", \"ito\", \"church\", \"moment\", \"trust\", \"non\", \"dr\", \"specific\", \"block\", \"sad\", \"kindly\", \"believe\", \"house\", \"na\", \"life\", \"us\", \"people\", \"allow\", \"connect\", \"love\", \"one\", \"right\", \"go\", \"stay\", \"use\", \"facebook\", \"app\", \"thank\", \"live\", \"would\", \"world\", \"like\", \"good\", \"better\", \"get\", \"also\", \"\\u09b8\", \"\\u0987\", \"\\u0997\", \"\\u0996\", \"\\u099a\", \"\\u09b6\", \"\\u09b0\", \"\\u09af\", \"\\u09b2\", \"\\u09a8\", \"\\u09ab\", \"\\u0993\", \"\\u09aa\", \"\\u09a4\", \"\\u0995\", \"\\u09ac\", \"\\u099c\", \"\\u09ae\", \"\\u0986\\u09ae\", \"\\u098f\\u0995\\u099f\", \"\\u099c\\u09a8\", \"\\u099f\", \"\\u098f\\u0987\", \"\\u09ad\", \"\\u09b7\", \"\\u09a5\", \"\\u09b8\\u09ac\", \"\\u09a7\", \"realize\", \"straight\", \"wont\", \"alone\", \"messanger\", \"message\", \"app\", \"use\", \"really\", \"go\", \"person\", \"thank\", \"get\", \"good\", \"friends\", \"people\"], \"Freq\": [543.0, 1655.0, 280.0, 200.0, 1095.0, 1981.0, 188.0, 161.0, 171.0, 169.0, 1452.0, 996.0, 928.0, 499.0, 154.0, 1292.0, 310.0, 69.0, 106.0, 125.0, 1094.0, 65.0, 597.0, 243.0, 63.0, 1080.0, 295.0, 575.0, 113.0, 61.0, 57.59737584256123, 35.92159041794851, 29.97488555481987, 25.23403558100194, 20.261245856809616, 19.85389665569449, 23.103007713233563, 25.20271627236765, 15.587498533689592, 37.48919329976973, 26.651146136827265, 55.25637985251902, 25.009376879641028, 19.953640329762198, 21.988692845619834, 46.882476408925406, 37.3661631169649, 24.60745805354572, 44.08899199425199, 23.12542082412582, 14.457649759179262, 121.37364095936763, 22.713377963856896, 19.63498816518391, 27.84360345857083, 11.924793275421619, 38.261460148484964, 38.41336303250262, 21.771767610622405, 22.41132582561026, 149.63540653040062, 66.94186895254568, 39.35274273584224, 84.93338343626705, 225.04237314283037, 64.39913582899614, 88.85251502142087, 89.66419821919763, 305.5776038635775, 328.3749770038987, 238.84456310560208, 384.09337474861456, 187.7549607148012, 426.65649286918904, 65.53606199637146, 306.0282170114589, 190.42448004193443, 265.92303451475374, 316.40629377824774, 159.80277435859026, 96.50674957540132, 332.69622697083696, 206.94600717949157, 97.48075629126345, 236.00606111437375, 154.45579721499203, 212.3018194462028, 99.77171027520814, 184.66883471612516, 161.68129867226588, 161.05919884643686, 185.03938502807378, 377.2263409163588, 233.81866833216614, 170.86807718049184, 133.17459899512897, 127.78995229815897, 195.72233914961217, 193.27461640320269, 211.49624866652036, 154.14225969006242, 148.539304536469, 61.324090808619644, 42.879328407130046, 33.84268182627091, 54.965636991118146, 24.592218219721495, 72.84109823261505, 43.01864714416738, 50.03844455996045, 22.93422621535337, 49.19731081053987, 33.542560919543334, 18.19147655458247, 16.083174495438556, 22.701362376368575, 20.527807209567882, 20.89735951137315, 15.150432192655156, 58.35744545658873, 58.86783631837118, 37.79655023082403, 38.89890477369413, 41.24363612741316, 13.042372814916153, 26.984608279241282, 35.25880136374468, 24.67908590604292, 20.146785147221426, 14.574144749793815, 12.746029403592287, 12.167687748434831, 97.78991839189794, 41.45713693187887, 68.90031501330853, 48.35690755666134, 40.80245113859475, 126.48571492972924, 381.89538202361706, 65.92462426345821, 101.04170213806235, 95.89793493797674, 199.7566043817685, 183.43023492834521, 428.49409466895537, 484.0997291000422, 276.1674970540739, 364.7724488541478, 336.0355190438478, 289.9517027999104, 533.2710411330015, 191.5614053202272, 252.37493367415186, 114.42968514082658, 131.44877027961263, 164.2101225974571, 190.00157671848183, 159.30285945742995, 148.1121187973821, 157.0440691883045, 109.98000636940422, 104.13843452843471, 109.46392352557932, 162.57092001701463, 91.6398126888306, 126.81948765793777, 161.958902027103, 128.63611730997053, 124.83353011978772, 139.54917161094477, 139.92116543476308, 122.62526660943014, 118.81161903036899, 119.79086546378431, 38.542621053525885, 35.00576397333616, 53.91110402919434, 21.028386355435657, 437.1364025525503, 10.960121839669261, 40.18069686379819, 15.862363598741691, 17.62203502844312, 27.021813454346717, 158.48245105749953, 47.205888703204955, 19.735758494848234, 23.488348392294554, 13.280077922156197, 74.19529366163442, 47.62081853911449, 6.355355202336087, 44.20073684205313, 33.861520096881534, 25.700296635458464, 54.09831189829884, 20.656764453081596, 42.06503133602922, 25.116890382620387, 24.188662184811818, 63.01001763375709, 21.203519289160482, 59.297063108875186, 20.294442198540104, 46.58997889447448, 83.0038106348024, 55.80379914216637, 531.6227533501951, 418.83962950197645, 220.84127540199466, 130.93035132813418, 180.6276599643638, 97.60810183319067, 401.27191545299, 208.14521350763908, 222.96659386683177, 88.33306759857595, 488.0604300270866, 269.4063687264298, 208.63831973969528, 264.5839993725728, 185.10054247886015, 226.65128543812722, 247.543223632651, 157.5478399301402, 187.9644537652311, 135.46678955089234, 148.55884811635133, 185.98026922251984, 186.2900070810531, 130.25266180970195, 159.1502821609482, 176.5008328559789, 135.50333895206845, 170.38564784012016, 170.73634031818997, 108.50215119379268, 141.31089134006305, 146.99909476999235, 131.19818860445133, 124.595766084621, 112.55584564889668, 79.72620677778643, 167.5022237775674, 45.33590310805862, 42.264913350620176, 70.84564601026898, 31.522201365279702, 37.64569385365704, 34.930996058342245, 63.19326099282752, 58.312381720579864, 35.40544345511046, 46.70374618431897, 44.65518318373952, 15.666934978316174, 23.920265816619377, 26.277969129379585, 13.988570040938427, 18.151953339237732, 7.557534691296544, 26.313506818949833, 18.129694180742742, 17.233214347065733, 32.38822783320593, 108.71472346235537, 13.385107228086847, 35.02047344558619, 19.677348927430632, 59.21086060522836, 43.8339189013605, 33.896818864211596, 92.75136513405418, 86.92652213524396, 94.01002221645862, 212.4184805571236, 43.779354989673315, 56.19353982899182, 81.06747489328656, 340.5303927211682, 164.25339343409522, 115.18938443582816, 195.54814597921623, 102.64963637477324, 208.27668857544464, 143.30532599864486, 435.88602346598054, 219.9010480403318, 225.84190087794812, 238.5778355999849, 228.60746875937215, 151.79830579694726, 166.4102117008259, 152.35931981955605, 143.62318740840462, 178.17817171138017, 151.48327236752098, 174.85187618510267, 165.77396982162492, 138.73577514361446, 137.43010736281855, 139.9276614625126, 129.019121095577, 140.97345037968967, 113.56834315202155, 112.99258067501543, 113.93980194854439, 60.251274958949274, 62.01221112230159, 40.22739198026791, 193.58891697772776, 143.790931905047, 46.53556346932776, 71.65853544563491, 29.68834983703162, 22.53002893069673, 19.58508839965461, 15.606988466361587, 23.64057576282715, 12.824453578430605, 32.29210724843767, 13.819436572330192, 45.968599537770686, 19.016809732380654, 32.41175637743417, 10.428866063347579, 30.480233765989002, 24.9638357926226, 49.02241777050522, 18.65935701383443, 27.4296890820612, 22.159610832398183, 49.508710499925684, 8.076439399841105, 12.361759639486639, 16.046263547555473, 29.7148142606453, 44.31388911308621, 88.78871169243108, 232.0993295418308, 199.9601385298759, 52.88692290210763, 261.90281383217797, 166.0737680293792, 440.0304224218589, 236.69721593002447, 47.30702094445677, 209.65811990321123, 210.81597064017845, 142.17619926066808, 204.41663051014766, 239.11950300807956, 186.68133232565376, 161.5268026027613, 123.73185163145055, 99.84544687053751, 141.26304067410624, 166.22635098138008, 156.45166919402973, 165.68570221106137, 123.26689728763098, 111.34584707942439, 110.04917824402713, 75.58297453265448, 84.28267278231255, 85.26990640083581, 106.72754650554278, 97.72841566284738, 103.13706255875155, 106.08389442811111, 104.52741909328955, 99.02350599750835, 99.95070751549095, 89.73386280036421, 64.63244861964631, 30.23314024262964, 29.920973586019493, 26.472144089509857, 40.75939709975417, 31.270102785707977, 23.27288514388046, 36.142195878797644, 40.56936381973801, 16.348101626026093, 24.987832301724634, 55.44608409868162, 27.447517158064922, 26.8524871323881, 19.272920194078058, 49.65692271746807, 26.98023388957929, 24.43340241902831, 17.586906381941258, 35.16092710561257, 31.41640699363517, 17.26978250472741, 20.955096346430924, 19.45597909695264, 16.430666802656063, 23.70443203099912, 32.68359018250357, 20.977559604131194, 24.551406076494086, 44.98373177314941, 68.74781789875033, 69.98670248421959, 246.19487446122167, 185.82965040321034, 105.14132500212015, 314.59324140747015, 61.64423370326108, 380.63432339761, 202.93080757785782, 222.76911377416758, 164.0909802537423, 80.27929434235375, 173.33306190934778, 130.57041808475444, 170.04392851523207, 88.01299462608019, 93.99786692096282, 134.71311243610995, 121.21551585151312, 168.25856584948025, 155.7175687587877, 160.7840117690021, 123.37609299805749, 115.98431242987489, 146.4080564417732, 136.28809891498486, 86.59084474913303, 132.93748508183438, 108.2521542194863, 111.96647150113982, 88.13203801481161, 98.2871283336554, 91.84662009693729, 100.32922284540936, 89.57340929073744, 105.79918329560013, 48.712251316607585, 49.31527272829157, 69.6790807230275, 23.563496172654407, 20.13650780073436, 30.838461434446526, 25.44784889626503, 148.0139129548753, 72.2057901978829, 45.44542588382505, 9.775375502356956, 34.25927074497738, 24.77578601009868, 11.237426213461312, 12.636229188849006, 47.647404910777354, 11.80017793613674, 29.692000762639445, 31.135831659512604, 18.292098902110023, 16.918742663665533, 50.04951386754224, 28.765441163835266, 17.622635206225606, 24.08662684560732, 23.064935029229286, 12.689042326146252, 22.301455701970564, 9.88535615425383, 29.771347879873645, 78.772391939179, 46.910834847613934, 114.25699480438789, 100.51003647430694, 48.763234364490636, 193.880086433489, 59.53042721096554, 80.66586885541331, 179.86292968691018, 124.42742406390988, 246.3961963578629, 72.63491759449553, 141.58309303745773, 152.53570714574454, 129.20430028715364, 171.01158563452108, 69.78448769576814, 121.39572110604276, 137.2404468398768, 114.37851891900748, 95.18958817432436, 87.51690201239816, 104.11941758032476, 86.57339130691871, 103.61034693608649, 111.31872061377912, 107.42576058941991, 84.6101331585401, 88.02969769939344, 76.97928731932222, 84.79975822067728, 83.68482141817192, 77.97103207761532, 30.06699956007279, 18.504025685358727, 18.35553742485832, 18.60462860162539, 48.906873729627954, 22.143123662781893, 26.82669664750132, 18.676337650863672, 29.63740931743377, 42.95395410187805, 38.12549864168114, 13.315513015124571, 19.72604721110264, 30.91932105056516, 19.2741344121129, 25.922338942073946, 17.485949480289438, 18.57910258539527, 20.410462845323238, 14.879639613654495, 51.28923990400488, 25.356687094577435, 59.78874358192112, 43.563368542406316, 40.28324625581736, 41.588220304434344, 26.471019590236374, 15.17043092633313, 17.410703863257222, 16.132129698386414, 40.73443876301788, 49.743164942492875, 43.294182738846786, 36.98367825395777, 70.69886271579766, 62.15796713494272, 45.471631306785554, 46.742870608421356, 127.44900022739881, 114.48392971659648, 37.500172890637764, 38.16728421760975, 166.36357527961704, 31.597238917413904, 56.285568774897456, 29.872246071104794, 43.94543034214859, 38.42550774252728, 71.38997079084666, 61.889412938597765, 42.91626964676736, 79.65883833567649, 48.368770339271244, 97.72538301429083, 109.40870618288064, 69.90276075651765, 81.52048762240476, 72.58494135828417, 63.720597992414845, 60.195091976886836, 58.82724705395881, 59.84964609128264, 49.73960025519966, 54.69570958996963, 50.212583211303, 52.32534395266962, 47.09211478946663, 42.841377906163395, 19.886581152186164, 23.650488358859636, 33.83634129206145, 12.329127270799724, 41.8414003330454, 13.590063404097727, 11.028953122872933, 8.468541053536574, 12.841689471980708, 16.670553720237656, 19.638824210640063, 16.263955440948862, 22.112831625344, 9.484365609582369, 8.234674608129286, 26.232012936876032, 10.429790245005286, 8.139208133960839, 18.773941303551076, 15.901305306220749, 9.469553809788628, 20.677263177676718, 15.286145161850387, 6.962387864452414, 11.196375559399582, 6.221256480520398, 28.044849163887633, 9.728915256945754, 13.927801002608604, 14.144743277228127, 14.152367601699721, 21.046346569537327, 17.881895340374506, 13.520951628402715, 18.476251010721498, 18.281520835162464, 33.72288746082057, 34.950063929186626, 43.17710581189913, 52.19842159088656, 27.421870539868145, 29.865819372711858, 46.0578011159738, 41.710718963551855, 26.905901288696793, 35.38617752921389, 23.974380266272675, 38.958797080976126, 28.550899699114424, 39.956086351635975, 31.64736861299, 23.50234795840176, 27.567460786744192, 23.897024363039325, 29.779203761011537, 23.780075738602847, 22.19788466124052, 21.956913816524548, 21.70384561074689, 52.01607114345885, 36.36731205850903, 40.64453594289869, 28.71889091940142, 29.919310710514203, 28.212007619699662, 65.8438432742657, 51.17112930123005, 59.697766400188286, 61.70958772296706, 21.004174752969618, 23.543301568031506, 55.285371688124926, 49.13415599178456, 56.21419676931451, 54.9277706882239, 48.88734968792578, 45.75546313339942, 32.122716286921026, 18.008255981812184, 13.690862933378371, 39.79462408368658, 10.725301519385866, 37.05592398051202, 18.193917442503547, 18.562862481822087, 11.822532590806441, 13.855370170900697, 8.097356345625181, 5.88624334738776, 7.988911126912571, 8.628859246111714, 13.37996743272457, 44.49806831415193, 47.58430602555652, 36.60653835606079, 27.39601588292955, 26.511614183456643, 19.746831873808173, 23.684716567924283, 23.37396714876248, 23.013059837759222, 22.571634031494206, 21.70740618606626], \"Total\": [543.0, 1655.0, 280.0, 200.0, 1095.0, 1981.0, 188.0, 161.0, 171.0, 169.0, 1452.0, 996.0, 928.0, 499.0, 154.0, 1292.0, 310.0, 69.0, 106.0, 125.0, 1094.0, 65.0, 597.0, 243.0, 63.0, 1080.0, 295.0, 575.0, 113.0, 61.0, 58.535616887641346, 38.440310118182225, 32.77606305298631, 27.82776454287841, 23.01490776506011, 23.094926604123085, 27.50289140900344, 30.405572059666255, 19.26147282929794, 46.66454875903585, 33.64550387061962, 70.6086159099971, 33.152469953567895, 26.493394242164737, 29.390963562985355, 63.69287456542997, 51.33687012598727, 34.29640837666375, 62.060605274948095, 32.642996241289104, 21.200441955218125, 179.0790494237269, 34.874302484760825, 30.482549762444997, 43.25331711180164, 19.09311339350395, 61.415029513602114, 62.41969559168683, 35.68484666781187, 36.75145299290791, 266.95479919327914, 118.8462769236431, 67.60735653196522, 157.78873214476025, 473.1366629559436, 118.21493362855357, 178.99234031712973, 181.66751985722937, 827.5177027141705, 928.5685459986724, 644.0792510785107, 1210.5892123752951, 479.19033505870436, 1466.5689114397624, 124.69064062717295, 983.4780666260423, 527.500133896816, 843.9465056481056, 1094.0315959426446, 437.0879053393163, 212.7887884180157, 1324.5817220760305, 684.738514810079, 220.89889988062433, 881.3323036183173, 464.68555151906963, 835.6760268528974, 240.81741908270592, 688.1307584173569, 555.8320672801802, 575.5591983719869, 756.4448034444638, 3098.4538762798315, 1533.0370188130773, 807.9623657502124, 471.9680654740508, 428.16594829391545, 1248.8422780015537, 1292.702137493785, 1655.037421999523, 959.1731421238874, 1981.6083289255257, 62.187112438376005, 46.208935723680995, 36.694188531912026, 64.31529309954237, 28.797896218238208, 86.70603844165123, 51.85181772329439, 63.731183209225016, 29.794923126033087, 66.0627014542928, 45.275424307231866, 25.16486995405853, 22.594617459616156, 32.01688828472639, 29.199269872080613, 31.43893065405453, 23.0036409182767, 90.0477496395735, 91.05516862935593, 58.5350606035603, 60.70769791016553, 64.46395260953794, 20.58208079030691, 42.704808147741275, 56.6336249970158, 39.94837732826021, 32.65022142635838, 23.907595922563026, 21.243231758056048, 20.365729141347032, 166.37982795390866, 71.16464723053959, 126.40805126762822, 89.33375104233068, 74.45791589496051, 283.5578374702309, 1095.211090023186, 133.68954875254485, 227.33725645759745, 213.88526899541046, 582.6351942779692, 532.2110563659318, 1655.037421999523, 1981.6083289255257, 993.3987674105724, 1491.6478480697906, 1479.4605218602287, 1195.76783744032, 3098.4538762798315, 689.2605034642356, 1080.6945428761874, 342.0566525783726, 432.02309265267485, 631.1799722246974, 996.7158645272531, 741.9298595196697, 718.8963859315095, 826.1988096960272, 381.5449720222131, 351.8614179522442, 399.35251950726905, 1248.8422780015537, 272.3972495520318, 698.9192657258344, 1466.5689114397624, 807.9623657502124, 761.5674810720135, 1292.702137493785, 1452.8481102808473, 769.4511269177203, 1324.5817220760305, 1533.0370188130773, 39.476194822630475, 35.93756075178865, 59.03420818744144, 24.687360427076655, 543.0289498595735, 13.797684055753821, 52.22383909475282, 22.43479025325424, 25.267291246870485, 38.8750519763268, 243.2082154073399, 75.30048047448092, 31.775697006580597, 37.832508092764094, 21.47333733018689, 121.12939997941238, 78.814187323163, 10.673396185688828, 74.91919223070406, 58.175845120552765, 44.24629028419562, 93.19444568633418, 35.661086587536715, 74.02129086762682, 44.43043307844852, 44.167455885726454, 116.74808541250559, 40.43703766447246, 117.03509470334521, 40.30070376351287, 95.05712666680229, 175.5710113039955, 120.01007427628845, 1655.037421999523, 1533.0370188130773, 756.4448034444638, 391.3242177878288, 634.2678010273186, 277.64668594002524, 1981.6083289255257, 807.9623657502124, 909.2716323186303, 252.14411464954517, 3098.4538762798315, 1452.8481102808473, 996.7158645272531, 1491.6478480697906, 860.0073810862489, 1248.8422780015537, 1479.4605218602287, 684.738514810079, 959.1731421238874, 551.1657436268656, 688.781453647161, 1080.6945428761874, 1095.211090023186, 548.7859077310335, 835.6760268528974, 1094.0315959426446, 631.1799722246974, 1195.76783744032, 1324.5817220760305, 378.75263612956314, 843.9465056481056, 1466.5689114397624, 993.3987674105724, 125.50957030656075, 113.46469134893597, 80.63815166134044, 169.66428083130018, 46.24634808431921, 43.173320833730905, 72.48728612974514, 32.43096170274331, 38.966739672801, 38.30931006833061, 71.65472763710355, 70.26585403540975, 44.75223602554803, 59.41217777759152, 57.480240480857354, 20.18080210689192, 32.655778081357035, 36.36441224218093, 20.003177147936498, 26.09588143970307, 10.887495217806176, 38.34196369510703, 26.900908195630876, 25.65067653113574, 49.40911243992129, 172.26873709262549, 21.430807146293002, 56.629554803045586, 32.043756429913245, 98.3648807274235, 73.66151748590666, 59.32987265323716, 192.88711675245776, 187.44749134178358, 208.59059616325302, 597.5319746213506, 81.77208792147539, 113.45897045641715, 184.87248799575565, 1292.702137493785, 548.7859077310335, 325.8903039463809, 718.8963859315095, 277.64668594002524, 827.5177027141705, 499.1300096871033, 3098.4538762798315, 1248.8422780015537, 1324.5817220760305, 1533.0370188130773, 1479.4605218602287, 698.9192657258344, 881.3323036183173, 761.5674810720135, 688.781453647161, 1210.5892123752951, 860.0073810862489, 1452.8481102808473, 1466.5689114397624, 959.1731421238874, 1094.0315959426446, 1195.76783744032, 909.2716323186303, 1491.6478480697906, 756.4448034444638, 993.3987674105724, 1981.6083289255257, 61.16994871009616, 63.01051445987938, 41.14534267695011, 200.4395742361816, 154.0935385422758, 50.41585319879301, 78.09946657261548, 33.22031647578907, 25.80577083647197, 22.930869904847203, 18.649770796157537, 28.697193940122283, 15.627003098386023, 41.951276977966465, 18.254897256497134, 60.90193701785587, 25.269572492275216, 46.11719079764002, 15.125256978381108, 45.03190538162593, 37.75387323993625, 74.80640171014808, 29.776368933586113, 44.2688241247393, 36.19211900922901, 84.10192593352068, 13.860907431533457, 21.294429803208146, 29.583251145206013, 54.80109974913725, 84.7123996776344, 178.39948901659446, 575.5591983719869, 555.8320672801802, 111.80035420036099, 1080.6945428761874, 688.1307584173569, 3098.4538762798315, 1655.037421999523, 117.91092259029327, 1452.8481102808473, 1491.6478480697906, 769.4511269177203, 1479.4605218602287, 1981.6083289255257, 1292.702137493785, 993.3987674105724, 631.1799722246974, 432.02309265267485, 959.1731421238874, 1466.5689114397624, 1324.5817220760305, 1533.0370188130773, 826.1988096960272, 741.9298595196697, 761.5674810720135, 285.5487704266123, 409.273117485063, 425.70776536977854, 928.5685459986724, 698.9192657258344, 983.4780666260423, 1248.8422780015537, 1210.5892123752951, 881.3323036183173, 1195.76783744032, 90.63761170066905, 65.57573156632154, 32.819470419711514, 32.56489285686043, 30.104376338334173, 51.47597536309009, 40.038195582081094, 29.905645103239728, 47.08492244077265, 54.15623153210643, 22.34109239380744, 35.24499676459101, 81.83169877257495, 41.30495110844238, 40.4822558954832, 29.140766048301003, 78.41393122513081, 43.53159651983429, 39.752933129359945, 29.0765394309317, 58.92048788466675, 53.0301381757278, 29.265941830920724, 35.98258521283479, 34.12714897730549, 29.22666859404965, 42.28568140336905, 58.82557862711267, 37.92027942181282, 44.86662690179625, 88.77383839034361, 147.05699744190036, 180.13555192954382, 983.4780666260423, 769.4511269177203, 360.91320096742584, 1981.6083289255257, 176.25035085092023, 3098.4538762798315, 1195.76783744032, 1452.8481102808473, 959.1731421238874, 296.75368706800106, 1210.5892123752951, 741.9298595196697, 1292.702137493785, 377.03199078405055, 431.50292247482497, 909.2716323186303, 761.5674810720135, 1533.0370188130773, 1324.5817220760305, 1466.5689114397624, 881.3323036183173, 826.1988096960272, 1491.6478480697906, 1248.8422780015537, 424.1444478560095, 1479.4605218602287, 860.0073810862489, 996.7158645272531, 450.75736265946165, 807.9623657502124, 688.781453647161, 1655.037421999523, 698.9192657258344, 106.76711040922976, 49.67393806918327, 50.67120612105753, 71.93921433315849, 24.523492047357543, 21.097314913432836, 32.550449660374305, 27.369067244294243, 161.6855222021167, 79.84961994117198, 50.68213049141898, 12.426093324134222, 45.71803252575192, 35.02065930618508, 15.933659158313752, 18.24815453962102, 69.66476022085851, 17.613845229771478, 44.862565499165726, 48.923555246370576, 29.060738113255727, 27.60812896817294, 84.61235733417962, 49.260243312044274, 30.30757088167917, 41.53591955493258, 41.228842625165655, 23.337805220481826, 42.32869526461577, 18.94806717707793, 59.79252428793809, 170.47533052145872, 133.04872166716106, 532.2110563659318, 450.75736265946165, 149.33483718200895, 1491.6478480697906, 223.6154936139323, 372.7337129352778, 1452.8481102808473, 835.6760268528974, 3098.4538762798315, 337.35386327211216, 1248.8422780015537, 1479.4605218602287, 1094.0315959426446, 1981.6083289255257, 327.93970779330755, 1195.76783744032, 1655.037421999523, 1080.6945428761874, 698.9192657258344, 582.6351942779692, 993.3987674105724, 631.1799722246974, 1095.211090023186, 1466.5689114397624, 1533.0370188130773, 688.781453647161, 826.1988096960272, 492.1382559150505, 959.1731421238874, 1210.5892123752951, 996.7158645272531, 31.042393364870172, 19.47929781018634, 19.495196745010855, 20.715204681388574, 54.75437315252298, 24.873817954979895, 30.3586382025911, 21.441354017319973, 34.121380123894376, 49.8145928153634, 44.717790725308866, 15.631678315116135, 23.16204641931117, 36.360958490855296, 22.752013042676115, 30.68915795572932, 20.890161403021764, 22.207519086238708, 24.407908677454834, 17.826052611484158, 61.570640404714766, 30.502563249780575, 72.09104338870264, 52.76016670003994, 48.87165133864186, 50.52783997956291, 32.22285165554062, 18.46900679950452, 21.211570304242166, 19.66682714675222, 49.85101286400388, 61.12897229623315, 53.247815810773, 45.42292447274827, 89.12095197769743, 79.49074034433356, 57.685293188975855, 59.42274374484083, 188.60560821932896, 171.32957561839643, 48.06507505587053, 49.332481255447235, 280.3879228541746, 40.013980688316785, 86.6686044827294, 37.99003983163464, 69.877867322267, 57.11797039925674, 154.28041606496777, 131.97141191764024, 76.95966862663231, 388.1634964156763, 116.89476936717806, 1452.8481102808473, 3098.4538762798315, 597.5319746213506, 1466.5689114397624, 1292.702137493785, 983.4780666260423, 928.5685459986724, 881.3323036183173, 1324.5817220760305, 271.1045531835922, 1195.76783744032, 499.1300096871033, 1210.5892123752951, 843.9465056481056, 43.92391083028048, 20.830455339822006, 27.485999519235232, 39.99153685899685, 16.690628484576777, 58.39533595183348, 19.559992499878867, 16.642888853058704, 13.818959833697335, 23.934384716083287, 31.200535645926895, 39.63143919800273, 32.940153532107445, 45.714909424982835, 20.07167095047802, 17.516007887970538, 57.90261163441614, 23.897173078845732, 19.413630336274345, 45.67735478741097, 39.39448409738659, 24.154813688149133, 53.888877950291935, 40.82737104630059, 18.71296566168319, 30.419859406907154, 16.97730956804294, 77.29679209538484, 27.06120525048142, 38.852402382968855, 41.78998505619561, 41.969485524121524, 66.91959980353832, 59.685839493836625, 44.05347315761839, 76.77733458888163, 79.79949773199425, 280.3879228541746, 310.7382449136713, 499.1300096871033, 996.7158645272531, 227.33725645759745, 351.8614179522442, 1452.8481102808473, 1094.0315959426446, 295.04361247652423, 928.5685459986724, 238.6424200525354, 1981.6083289255257, 543.0289498595735, 3098.4538762798315, 1292.702137493785, 281.3456177778078, 769.4511269177203, 320.228664039116, 1533.0370188130773, 1324.5817220760305, 431.50292247482497, 1466.5689114397624, 860.0073810862489, 53.44685120036789, 37.376465337243815, 42.018054550532185, 29.71464528157788, 31.20444177804684, 29.581298103411974, 69.80839399910232, 54.27134834844769, 63.49854972390025, 65.66279355319406, 22.370437422240904, 25.277236328529046, 59.64785052380016, 53.33578520023305, 61.15152888010919, 60.00486897838481, 53.45384596657582, 51.170642893084846, 37.160933213663085, 20.87690283460338, 16.002073674091612, 47.549619972204546, 12.960205419883131, 46.85319916739368, 24.147504747718983, 25.96043065066284, 16.9719984595988, 20.23732894257619, 17.940776857928636, 14.051792844747117, 21.294429803208146, 24.200722805023947, 60.56989528373717, 1095.211090023186, 3098.4538762798315, 1981.6083289255257, 909.2716323186303, 928.5685459986724, 258.49041872883214, 1292.702137493785, 1466.5689114397624, 1324.5817220760305, 1479.4605218602287, 996.7158645272531], \"Category\": [\"Default\", \"Default\", \"Default\", \"Default\", \"Default\", \"Default\", \"Default\", \"Default\", \"Default\", \"Default\", \"Default\", \"Default\", \"Default\", \"Default\", \"Default\", \"Default\", \"Default\", \"Default\", \"Default\", \"Default\", \"Default\", \"Default\", \"Default\", \"Default\", \"Default\", \"Default\", \"Default\", \"Default\", \"Default\", \"Default\", \"Topic1\", \"Topic1\", \"Topic1\", \"Topic1\", \"Topic1\", \"Topic1\", \"Topic1\", \"Topic1\", \"Topic1\", \"Topic1\", \"Topic1\", \"Topic1\", \"Topic1\", \"Topic1\", \"Topic1\", \"Topic1\", \"Topic1\", \"Topic1\", \"Topic1\", \"Topic1\", \"Topic1\", \"Topic1\", \"Topic1\", \"Topic1\", \"Topic1\", \"Topic1\", \"Topic1\", \"Topic1\", \"Topic1\", \"Topic1\", \"Topic1\", \"Topic1\", \"Topic1\", \"Topic1\", \"Topic1\", \"Topic1\", \"Topic1\", \"Topic1\", \"Topic1\", \"Topic1\", \"Topic1\", \"Topic1\", \"Topic1\", \"Topic1\", \"Topic1\", \"Topic1\", \"Topic1\", \"Topic1\", \"Topic1\", \"Topic1\", \"Topic1\", \"Topic1\", \"Topic1\", \"Topic1\", \"Topic1\", \"Topic1\", \"Topic1\", \"Topic1\", \"Topic1\", \"Topic1\", \"Topic1\", \"Topic1\", \"Topic1\", \"Topic1\", \"Topic1\", \"Topic1\", \"Topic1\", \"Topic1\", \"Topic1\", \"Topic1\", \"Topic1\", \"Topic1\", \"Topic2\", \"Topic2\", \"Topic2\", \"Topic2\", \"Topic2\", \"Topic2\", \"Topic2\", \"Topic2\", \"Topic2\", \"Topic2\", \"Topic2\", \"Topic2\", \"Topic2\", \"Topic2\", \"Topic2\", \"Topic2\", \"Topic2\", \"Topic2\", \"Topic2\", \"Topic2\", \"Topic2\", \"Topic2\", \"Topic2\", \"Topic2\", \"Topic2\", \"Topic2\", \"Topic2\", \"Topic2\", \"Topic2\", \"Topic2\", \"Topic2\", \"Topic2\", \"Topic2\", \"Topic2\", \"Topic2\", \"Topic2\", \"Topic2\", \"Topic2\", \"Topic2\", \"Topic2\", \"Topic2\", \"Topic2\", \"Topic2\", \"Topic2\", \"Topic2\", \"Topic2\", \"Topic2\", \"Topic2\", \"Topic2\", \"Topic2\", \"Topic2\", \"Topic2\", \"Topic2\", \"Topic2\", \"Topic2\", \"Topic2\", \"Topic2\", \"Topic2\", \"Topic2\", \"Topic2\", \"Topic2\", \"Topic2\", \"Topic2\", \"Topic2\", \"Topic2\", \"Topic2\", \"Topic2\", \"Topic2\", \"Topic2\", \"Topic2\", \"Topic2\", \"Topic2\", \"Topic3\", \"Topic3\", \"Topic3\", \"Topic3\", \"Topic3\", \"Topic3\", \"Topic3\", \"Topic3\", \"Topic3\", \"Topic3\", \"Topic3\", \"Topic3\", \"Topic3\", \"Topic3\", \"Topic3\", \"Topic3\", \"Topic3\", \"Topic3\", \"Topic3\", \"Topic3\", \"Topic3\", \"Topic3\", \"Topic3\", \"Topic3\", \"Topic3\", \"Topic3\", \"Topic3\", \"Topic3\", \"Topic3\", \"Topic3\", \"Topic3\", \"Topic3\", \"Topic3\", \"Topic3\", \"Topic3\", \"Topic3\", \"Topic3\", \"Topic3\", \"Topic3\", \"Topic3\", \"Topic3\", \"Topic3\", \"Topic3\", \"Topic3\", \"Topic3\", \"Topic3\", \"Topic3\", \"Topic3\", \"Topic3\", \"Topic3\", \"Topic3\", \"Topic3\", \"Topic3\", \"Topic3\", \"Topic3\", \"Topic3\", \"Topic3\", \"Topic3\", \"Topic3\", \"Topic3\", \"Topic3\", \"Topic3\", \"Topic3\", \"Topic3\", \"Topic3\", \"Topic3\", \"Topic4\", \"Topic4\", \"Topic4\", \"Topic4\", \"Topic4\", \"Topic4\", \"Topic4\", \"Topic4\", \"Topic4\", \"Topic4\", \"Topic4\", \"Topic4\", \"Topic4\", \"Topic4\", \"Topic4\", \"Topic4\", \"Topic4\", \"Topic4\", \"Topic4\", \"Topic4\", \"Topic4\", \"Topic4\", \"Topic4\", \"Topic4\", \"Topic4\", \"Topic4\", \"Topic4\", \"Topic4\", \"Topic4\", \"Topic4\", \"Topic4\", \"Topic4\", \"Topic4\", \"Topic4\", \"Topic4\", \"Topic4\", \"Topic4\", \"Topic4\", \"Topic4\", \"Topic4\", \"Topic4\", \"Topic4\", \"Topic4\", \"Topic4\", \"Topic4\", \"Topic4\", \"Topic4\", \"Topic4\", \"Topic4\", \"Topic4\", \"Topic4\", \"Topic4\", \"Topic4\", \"Topic4\", \"Topic4\", \"Topic4\", \"Topic4\", \"Topic4\", \"Topic4\", \"Topic4\", \"Topic4\", \"Topic4\", \"Topic4\", \"Topic4\", \"Topic4\", \"Topic4\", \"Topic4\", \"Topic5\", \"Topic5\", \"Topic5\", \"Topic5\", \"Topic5\", \"Topic5\", \"Topic5\", \"Topic5\", \"Topic5\", \"Topic5\", \"Topic5\", \"Topic5\", \"Topic5\", \"Topic5\", \"Topic5\", \"Topic5\", \"Topic5\", \"Topic5\", \"Topic5\", \"Topic5\", \"Topic5\", \"Topic5\", \"Topic5\", \"Topic5\", \"Topic5\", \"Topic5\", \"Topic5\", \"Topic5\", \"Topic5\", \"Topic5\", \"Topic5\", \"Topic5\", \"Topic5\", \"Topic5\", \"Topic5\", \"Topic5\", \"Topic5\", \"Topic5\", \"Topic5\", \"Topic5\", \"Topic5\", \"Topic5\", \"Topic5\", \"Topic5\", \"Topic5\", \"Topic5\", \"Topic5\", \"Topic5\", \"Topic5\", \"Topic5\", \"Topic5\", \"Topic5\", \"Topic5\", \"Topic5\", \"Topic5\", \"Topic5\", \"Topic5\", \"Topic5\", \"Topic5\", \"Topic5\", \"Topic5\", \"Topic5\", \"Topic5\", \"Topic5\", \"Topic5\", \"Topic5\", \"Topic6\", \"Topic6\", \"Topic6\", \"Topic6\", \"Topic6\", \"Topic6\", \"Topic6\", \"Topic6\", \"Topic6\", \"Topic6\", \"Topic6\", \"Topic6\", \"Topic6\", \"Topic6\", \"Topic6\", \"Topic6\", \"Topic6\", \"Topic6\", \"Topic6\", \"Topic6\", \"Topic6\", \"Topic6\", \"Topic6\", \"Topic6\", \"Topic6\", \"Topic6\", \"Topic6\", \"Topic6\", \"Topic6\", \"Topic6\", \"Topic6\", \"Topic6\", \"Topic6\", \"Topic6\", \"Topic6\", \"Topic6\", \"Topic6\", \"Topic6\", \"Topic6\", \"Topic6\", \"Topic6\", \"Topic6\", \"Topic6\", \"Topic6\", \"Topic6\", \"Topic6\", \"Topic6\", \"Topic6\", \"Topic6\", \"Topic6\", \"Topic6\", \"Topic6\", \"Topic6\", \"Topic6\", \"Topic6\", \"Topic6\", \"Topic6\", \"Topic6\", \"Topic6\", \"Topic6\", \"Topic6\", \"Topic6\", \"Topic6\", \"Topic6\", \"Topic6\", \"Topic6\", \"Topic7\", \"Topic7\", \"Topic7\", \"Topic7\", \"Topic7\", \"Topic7\", \"Topic7\", \"Topic7\", \"Topic7\", \"Topic7\", \"Topic7\", \"Topic7\", \"Topic7\", \"Topic7\", \"Topic7\", \"Topic7\", \"Topic7\", \"Topic7\", \"Topic7\", \"Topic7\", \"Topic7\", \"Topic7\", \"Topic7\", \"Topic7\", \"Topic7\", \"Topic7\", \"Topic7\", \"Topic7\", \"Topic7\", \"Topic7\", \"Topic7\", \"Topic7\", \"Topic7\", \"Topic7\", \"Topic7\", \"Topic7\", \"Topic7\", \"Topic7\", \"Topic7\", \"Topic7\", \"Topic7\", \"Topic7\", \"Topic7\", \"Topic7\", \"Topic7\", \"Topic7\", \"Topic7\", \"Topic7\", \"Topic7\", \"Topic7\", \"Topic7\", \"Topic7\", \"Topic7\", \"Topic7\", \"Topic7\", \"Topic7\", \"Topic7\", \"Topic7\", \"Topic7\", \"Topic7\", \"Topic7\", \"Topic7\", \"Topic7\", \"Topic7\", \"Topic8\", \"Topic8\", \"Topic8\", \"Topic8\", \"Topic8\", \"Topic8\", \"Topic8\", \"Topic8\", \"Topic8\", \"Topic8\", \"Topic8\", \"Topic8\", \"Topic8\", \"Topic8\", \"Topic8\", \"Topic8\", \"Topic8\", \"Topic8\", \"Topic8\", \"Topic8\", \"Topic8\", \"Topic8\", \"Topic8\", \"Topic8\", \"Topic8\", \"Topic8\", \"Topic8\", \"Topic8\", \"Topic8\", \"Topic8\", \"Topic8\", \"Topic8\", \"Topic8\", \"Topic8\", \"Topic8\", \"Topic8\", \"Topic8\", \"Topic8\", \"Topic8\", \"Topic8\", \"Topic8\", \"Topic8\", \"Topic8\", \"Topic8\", \"Topic8\", \"Topic8\", \"Topic8\", \"Topic8\", \"Topic8\", \"Topic8\", \"Topic8\", \"Topic8\", \"Topic8\", \"Topic8\", \"Topic8\", \"Topic8\", \"Topic8\", \"Topic8\", \"Topic8\", \"Topic8\", \"Topic8\", \"Topic8\", \"Topic8\", \"Topic8\", \"Topic8\", \"Topic8\", \"Topic8\", \"Topic9\", \"Topic9\", \"Topic9\", \"Topic9\", \"Topic9\", \"Topic9\", \"Topic9\", \"Topic9\", \"Topic9\", \"Topic9\", \"Topic9\", \"Topic9\", \"Topic9\", \"Topic9\", \"Topic9\", \"Topic9\", \"Topic9\", \"Topic9\", \"Topic9\", \"Topic9\", \"Topic9\", \"Topic9\", \"Topic9\", \"Topic9\", \"Topic9\", \"Topic9\", \"Topic9\", \"Topic9\", \"Topic9\", \"Topic9\", \"Topic9\", \"Topic9\", \"Topic9\", \"Topic9\", \"Topic9\", \"Topic9\", \"Topic9\", \"Topic9\", \"Topic9\", \"Topic9\", \"Topic9\", \"Topic9\", \"Topic9\", \"Topic9\", \"Topic9\", \"Topic9\", \"Topic9\", \"Topic9\", \"Topic9\", \"Topic9\", \"Topic9\", \"Topic9\", \"Topic9\", \"Topic9\", \"Topic9\", \"Topic9\", \"Topic9\", \"Topic9\", \"Topic9\", \"Topic9\", \"Topic10\", \"Topic10\", \"Topic10\", \"Topic10\", \"Topic10\", \"Topic10\", \"Topic10\", \"Topic10\", \"Topic10\", \"Topic10\", \"Topic10\", \"Topic10\", \"Topic10\", \"Topic10\", \"Topic10\", \"Topic10\", \"Topic10\", \"Topic10\", \"Topic10\", \"Topic10\", \"Topic10\", \"Topic10\", \"Topic10\", \"Topic10\", \"Topic10\", \"Topic10\", \"Topic10\", \"Topic10\", \"Topic10\", \"Topic10\", \"Topic10\", \"Topic10\", \"Topic10\", \"Topic10\", \"Topic10\", \"Topic10\", \"Topic10\", \"Topic10\", \"Topic10\", \"Topic10\", \"Topic10\", \"Topic10\", \"Topic10\", \"Topic10\"], \"logprob\": [30.0, 29.0, 28.0, 27.0, 26.0, 25.0, 24.0, 23.0, 22.0, 21.0, 20.0, 19.0, 18.0, 17.0, 16.0, 15.0, 14.0, 13.0, 12.0, 11.0, 10.0, 9.0, 8.0, 7.0, 6.0, 5.0, 4.0, 3.0, 2.0, 1.0, -6.010499954223633, -6.482600212097168, -6.663599967956543, -6.8358001708984375, -7.055300235748291, -7.0756001472473145, -6.923999786376953, -6.836999893188477, -7.317500114440918, -6.439899921417236, -6.781099796295166, -6.052000045776367, -6.844699859619141, -7.0706000328063965, -6.973499774932861, -6.216300010681152, -6.44320011138916, -6.860899925231934, -6.2778000831604, -6.922999858856201, -7.3927998542785645, -5.265100002288818, -6.940999984741211, -7.086699962615967, -6.737400054931641, -7.585400104522705, -6.41949987411499, -6.415599822998047, -6.983399868011475, -6.954400062561035, -5.055799961090088, -5.860199928283691, -6.39139986038208, -5.622099876403809, -4.64769983291626, -5.898900032043457, -5.577000141143799, -5.56790018081665, -4.341800212860107, -4.269800186157227, -4.588200092315674, -4.113100051879883, -4.828800201416016, -4.007999897003174, -5.881400108337402, -4.3403000831604, -4.814700126647949, -4.480800151824951, -4.307000160217285, -4.989999771118164, -5.4944000244140625, -4.256800174713135, -4.731500148773193, -5.484300136566162, -4.600100040435791, -5.024099826812744, -4.705999851226807, -5.461100101470947, -4.845399856567383, -4.978400230407715, -4.9822001457214355, -4.843400001525879, -4.131100177764893, -4.609399795532227, -4.923099994659424, -5.172299861907959, -5.213600158691406, -4.787300109863281, -4.799900054931641, -4.709799766540527, -5.026100158691406, -5.0630998611450195, -5.838799953460693, -6.196599960327148, -6.433300018310547, -5.948299884796143, -6.752500057220459, -5.6666998863220215, -6.193299770355225, -6.042200088500977, -6.822299957275391, -6.059100151062012, -6.442200183868408, -7.053999900817871, -7.177199840545654, -6.832600116729736, -6.933199882507324, -6.91540002822876, -7.2368998527526855, -5.888400077819824, -5.879700183868408, -6.322800159454346, -6.294000148773193, -6.235499858856201, -7.3867998123168945, -6.6596999168396, -6.392300128936768, -6.749000072479248, -6.951900005340576, -7.275700092315674, -7.409800052642822, -7.456200122833252, -5.372200012207031, -6.230299949645996, -5.722300052642822, -6.076399803161621, -6.246200084686279, -5.114799976348877, -4.009799957275391, -5.766499996185303, -5.339399814605713, -5.39169979095459, -4.657899856567383, -4.743100166320801, -3.894700050354004, -3.772700071334839, -4.334000110626221, -4.055699825286865, -4.137800216674805, -4.285299777984619, -3.6758999824523926, -4.69980001449585, -4.424099922180176, -5.215000152587891, -5.076399803161621, -4.853799819946289, -4.707900047302246, -4.884200096130371, -4.956999778747559, -4.898399829864502, -5.254700183868408, -5.309299945831299, -5.259399890899658, -4.863900184631348, -5.437099933624268, -5.112199783325195, -4.867599964141846, -5.0980000495910645, -5.127999782562256, -5.016600131988525, -5.013899803161621, -5.1458001136779785, -5.1774001121521, -5.1691999435424805, -6.247499942779541, -6.343800067901611, -5.911900043487549, -6.853400230407715, -3.819000005722046, -7.505000114440918, -6.205900192260742, -7.135300159454346, -7.030099868774414, -6.60260009765625, -4.833600044250488, -6.0447998046875, -6.916800022125244, -6.742800235748291, -7.313000202178955, -5.592599868774414, -6.035999774932861, -8.050000190734863, -6.110499858856201, -6.376999855041504, -6.6528000831604, -5.9085001945495605, -6.871200084686279, -6.160099983215332, -6.6757001876831055, -6.713399887084961, -5.75600004196167, -6.845099925994873, -5.816699981689453, -6.888899803161621, -6.0578999519348145, -5.480400085449219, -5.877399921417236, -3.623300075531006, -3.861799955368042, -4.501800060272217, -5.024600028991699, -4.7027997970581055, -5.318299770355225, -3.904599905014038, -4.560999870300293, -4.492300033569336, -5.4182000160217285, -3.7088000774383545, -4.303100109100342, -4.558700084686279, -4.321100234985352, -4.678400039672852, -4.475900173187256, -4.387700080871582, -4.839600086212158, -4.663000106811523, -4.990600109100342, -4.8983001708984375, -4.673600196838379, -4.671999931335449, -5.029799938201904, -4.829400062561035, -4.72599983215332, -4.990300178527832, -4.761199951171875, -4.759200096130371, -5.212500095367432, -4.948299884796143, -4.908899784088135, -5.022600173950195, -5.038599967956543, -5.140200138092041, -5.485000133514404, -4.742599964141846, -6.049499988555908, -6.119699954986572, -5.603099822998047, -6.412899971008301, -6.235400199890137, -6.310299873352051, -5.717400074005127, -5.797800064086914, -6.296800136566162, -6.019800186157227, -6.064700126647949, -7.112100124359131, -6.688899993896484, -6.594900131225586, -7.225399971008301, -6.964799880981445, -7.841100215911865, -6.593500137329102, -6.966100215911865, -7.0167999267578125, -6.385799884796143, -5.174900054931641, -7.269499778747559, -6.307700157165527, -6.884200096130371, -5.78249979019165, -6.083199977874756, -6.3403000831604, -5.333700180053711, -5.398600101470947, -5.320199966430664, -4.505099773406982, -6.084499835968018, -5.834799766540527, -5.468299865722656, -4.033100128173828, -4.762199878692627, -5.117000102996826, -4.587800025939941, -5.2322998046875, -4.524799823760986, -4.898600101470947, -3.7862000465393066, -4.4704999923706055, -4.44379997253418, -4.388899803161621, -4.431600093841553, -4.841100215911865, -4.749199867248535, -4.837399959564209, -4.896399974822998, -4.680799961090088, -4.843200206756592, -4.699699878692627, -4.752999782562256, -4.931099891662598, -4.940499782562256, -4.922500133514404, -5.003699779510498, -4.91510009765625, -5.131199836730957, -5.136300086975098, -5.127999782562256, -5.675099849700928, -5.646299839019775, -6.078999996185303, -4.507900238037109, -4.805200099945068, -5.9334001541137695, -5.501699924468994, -6.382800102233887, -6.658699989318848, -6.798799991607666, -7.025899887084961, -6.610599994659424, -7.2221999168396, -6.298799991607666, -7.147500038146973, -5.9456000328063965, -6.8282999992370605, -6.295100212097168, -7.428999900817871, -6.356500148773193, -6.55620002746582, -5.88129997253418, -6.8471999168396, -6.461999893188477, -6.675300121307373, -5.871399879455566, -7.684599876403809, -7.258999824523926, -6.9980998039245605, -6.381899833679199, -5.9822998046875, -5.287300109863281, -4.326399803161621, -4.475500106811523, -5.8053998947143555, -4.205599784851074, -4.661200046539307, -3.6867001056671143, -4.30679988861084, -5.916900157928467, -4.428100109100342, -4.422599792480469, -4.816500186920166, -4.453400135040283, -4.296599864959717, -4.5441999435424805, -4.688899993896484, -4.95550012588501, -5.170000076293945, -4.822999954223633, -4.660200119018555, -4.720799922943115, -4.66349983215332, -4.959199905395508, -5.060999870300293, -5.072700023651123, -5.448400020599365, -5.339399814605713, -5.3277997970581055, -5.103300094604492, -5.191400051116943, -5.137499809265137, -5.109399795532227, -5.124100208282471, -5.178199768066406, -5.168900012969971, -5.227799892425537, -5.556000232696533, -6.315700054168701, -6.326099872589111, -6.448599815368652, -6.017000198364258, -6.2820000648498535, -6.577400207519531, -6.137199878692627, -6.021699905395508, -6.930600166320801, -6.50629997253418, -5.7093000411987305, -6.412399768829346, -6.434299945831299, -6.765999794006348, -5.819499969482422, -6.429599761962891, -6.52869987487793, -6.857500076293945, -6.164700031280518, -6.277299880981445, -6.875699996948242, -6.682300090789795, -6.756499767303467, -6.92549991607666, -6.559000015258789, -6.237800121307373, -6.68120002746582, -6.523900032043457, -5.918399810791016, -5.494200229644775, -5.476399898529053, -4.218500137329102, -4.499800205230713, -5.069399833679199, -3.973400115966797, -5.603300094604492, -3.7827999591827393, -4.411799907684326, -4.31850004196167, -4.624199867248535, -5.339200019836426, -4.569499969482422, -4.852799892425537, -4.588600158691406, -5.247200012207031, -5.181399822235107, -4.821499824523926, -4.92710018157959, -4.5991997718811035, -4.676599979400635, -4.644599914550781, -4.90939998626709, -4.971199989318848, -4.73829984664917, -4.809899806976318, -5.263500213623047, -4.834799766540527, -5.040200233459473, -5.006499767303467, -5.245800018310547, -5.1367998123168945, -5.204500198364258, -5.116199970245361, -5.229599952697754, -4.831399917602539, -5.60699987411499, -5.594699859619141, -5.249100208282471, -6.3333001136779785, -6.4903998374938965, -6.064199924468994, -6.25629997253418, -4.495699882507324, -5.213399887084961, -5.676499843597412, -7.213099956512451, -5.959000110626221, -6.283100128173828, -7.073699951171875, -6.956399917602539, -5.6290998458862305, -7.024899959564209, -6.102099895477295, -6.054599761962891, -6.58650016784668, -6.6645002365112305, -5.579999923706055, -6.133800029754639, -6.623799800872803, -6.311299800872803, -6.354700088500977, -6.952199935913086, -6.388299942016602, -7.201900005340576, -6.099400043487549, -5.126399993896484, -5.644700050354004, -4.754499912261963, -4.882699966430664, -5.605999946594238, -4.2256999015808105, -5.406499862670898, -5.102700233459473, -4.30079984664917, -4.6691999435424805, -3.9860000610351562, -5.207499980926514, -4.54010009765625, -4.46560001373291, -4.6315999031066895, -4.351200103759766, -5.247600078582764, -4.693900108337402, -4.571199893951416, -4.753499984741211, -4.937099933624268, -5.021100044250488, -4.847400188446045, -5.0320000648498535, -4.85230016708374, -4.780600070953369, -4.816199779510498, -5.054900169372559, -5.0152997970581055, -5.149400234222412, -5.052700042724609, -5.065899848937988, -5.136600017547607, -5.73330020904541, -6.218699932098389, -6.226799964904785, -6.2133002281188965, -5.246799945831299, -6.0391998291015625, -5.847300052642822, -6.209499835968018, -5.747700214385986, -5.3765997886657715, -5.495800018310547, -6.547800064086914, -6.154799938201904, -5.7052998542785645, -6.1778998374938965, -5.8815999031066895, -6.275300025939941, -6.214700222015381, -6.120699882507324, -6.436699867248535, -5.19920015335083, -5.90369987487793, -5.045899868011475, -5.362500190734863, -5.440800189971924, -5.408899784088135, -5.8607001304626465, -6.417399883270264, -6.279600143432617, -6.355899810791016, -5.429599761962891, -5.229800224304199, -5.36870002746582, -5.526199817657471, -4.878300189971924, -5.006999969482422, -5.3196001052856445, -5.292099952697754, -4.289000034332275, -4.396299839019775, -5.512400150299072, -5.494699954986572, -4.022500038146973, -5.683599948883057, -5.106299877166748, -5.739799976348877, -5.353799819946289, -5.48799991607666, -4.868599891662598, -5.01140022277832, -5.377500057220459, -4.758999824523926, -5.257900238037109, -4.554599761962891, -4.4415998458862305, -4.889599800109863, -4.735899925231934, -4.8520002365112305, -4.9822001457214355, -5.039100170135498, -5.062099933624268, -5.044899940490723, -5.229899883270264, -5.134900093078613, -5.220399856567383, -5.179200172424316, -5.284599781036377, -4.53879976272583, -5.306300163269043, -5.132900238037109, -4.774799823760986, -5.78439998626709, -4.562399864196777, -5.686999797821045, -5.8958001136779785, -6.159999847412109, -5.743599891662598, -5.482699871063232, -5.31879997253418, -5.507400035858154, -5.200200080871582, -6.0467000007629395, -6.188000202178955, -5.029300212860107, -5.951700210571289, -6.1996002197265625, -5.363800048828125, -5.529900074005127, -6.0482001304626465, -5.267300128936768, -5.569399833679199, -6.355800151824951, -5.88070011138916, -6.468299865722656, -4.962500095367432, -6.021200180053711, -5.662399768829346, -5.646999835968018, -5.646399974822998, -5.249599933624268, -5.412499904632568, -5.6921000480651855, -5.379799842834473, -5.390399932861328, -4.77810001373291, -4.742400169372559, -4.531000137329102, -4.341300010681152, -4.985000133514404, -4.899600028991699, -4.466400146484375, -4.5655999183654785, -5.004000186920166, -4.730000019073486, -5.11929988861084, -4.633800029754639, -4.9446001052856445, -4.608500003814697, -4.841700077056885, -5.139200210571289, -4.979700088500977, -5.122600078582764, -4.902500152587891, -5.127500057220459, -5.196300029754639, -5.207200050354004, -5.218800067901611, -4.204899787902832, -4.562699794769287, -4.451499938964844, -4.798900127410889, -4.757900238037109, -4.816699981689453, -3.969099998474121, -4.221199989318848, -4.0671000480651855, -4.033999919891357, -5.111700057983398, -4.997600078582764, -4.143899917602539, -4.261899948120117, -4.127200126647949, -4.150400161743164, -4.266900062561035, -4.333099842071533, -4.686800003051758, -5.265600204467773, -5.539700031280518, -4.472700119018555, -5.78380012512207, -4.544000148773193, -5.255300045013428, -5.235199928283691, -5.686399936676025, -5.527699947357178, -6.064899921417236, -6.383800029754639, -6.078400135040283, -6.001299858093262, -5.562600135803223, -4.361000061035156, -4.293900012969971, -4.55620002746582, -4.8460001945495605, -4.878799915313721, -5.173399925231934, -4.991600036621094, -5.004799842834473, -5.020299911499023, -5.039700031280518, -5.078800201416016], \"loglift\": [30.0, 29.0, 28.0, 27.0, 26.0, 25.0, 24.0, 23.0, 22.0, 21.0, 20.0, 19.0, 18.0, 17.0, 16.0, 15.0, 14.0, 13.0, 12.0, 11.0, 10.0, 9.0, 8.0, 7.0, 6.0, 5.0, 4.0, 3.0, 2.0, 1.0, 1.8249, 1.7733, 1.7517, 1.7432, 1.7136, 1.6899, 1.6667, 1.6534, 1.6294, 1.6221, 1.608, 1.5959, 1.5592, 1.5576, 1.5509, 1.5346, 1.5234, 1.5091, 1.4992, 1.4964, 1.4583, 1.4521, 1.4123, 1.4012, 1.4006, 1.3704, 1.3679, 1.3556, 1.347, 1.3465, 1.2622, 1.2671, 1.2999, 1.2217, 1.098, 1.2337, 1.1407, 1.135, 0.8448, 0.8016, 0.8491, 0.6931, 0.9041, 0.6064, 1.1978, 0.6737, 0.8222, 0.6862, 0.6005, 0.8349, 1.0504, 0.4595, 0.6445, 1.023, 0.5235, 0.7396, 0.4708, 0.9599, 0.5257, 0.6062, 0.5675, 0.433, -0.2647, -0.0394, 0.2875, 0.5758, 0.632, -0.0122, -0.0593, -0.2163, 0.0129, -0.7497, 1.9361, 1.8753, 1.8692, 1.793, 1.7922, 1.7758, 1.7633, 1.7082, 1.6884, 1.6553, 1.6501, 1.6256, 1.6101, 1.6062, 1.5977, 1.5417, 1.5325, 1.5163, 1.5139, 1.5127, 1.505, 1.5035, 1.4939, 1.491, 1.4762, 1.4684, 1.4673, 1.4551, 1.4393, 1.435, 1.4186, 1.4097, 1.3432, 1.3363, 1.3486, 1.1428, 0.8965, 1.2431, 1.1392, 1.1479, 0.8796, 0.8849, 0.5988, 0.5407, 0.67, 0.5417, 0.4679, 0.5332, 0.1905, 0.6697, 0.4956, 0.8551, 0.7602, 0.6036, 0.2926, 0.4116, 0.3703, 0.2898, 0.7061, 0.7326, 0.6558, -0.0888, 0.8607, 0.2433, -0.2533, 0.1126, 0.1417, -0.276, -0.3901, 0.1135, -0.4612, -0.5992, 1.9818, 1.9795, 1.915, 1.8454, 1.7889, 1.7755, 1.7436, 1.6591, 1.6454, 1.6421, 1.5775, 1.5388, 1.5295, 1.5291, 1.5252, 1.5156, 1.502, 1.4873, 1.4781, 1.4646, 1.4625, 1.4619, 1.4598, 1.4406, 1.4354, 1.4037, 1.389, 1.3602, 1.3259, 1.3198, 1.2927, 1.2566, 1.24, 0.8701, 0.7083, 0.7746, 0.9109, 0.7497, 0.9604, 0.4087, 0.6495, 0.6002, 0.9569, 0.1576, 0.3207, 0.4419, 0.2763, 0.4697, 0.2992, 0.2179, 0.5365, 0.376, 0.6025, 0.4718, 0.2461, 0.2344, 0.5675, 0.3474, 0.1815, 0.4672, 0.0573, -0.043, 0.7557, 0.2186, -0.2945, -0.0187, 2.0341, 2.0334, 2.0301, 2.0286, 2.0215, 2.0202, 2.0185, 2.013, 2.0069, 1.9491, 1.9158, 1.855, 1.8072, 1.8008, 1.789, 1.7882, 1.7301, 1.7166, 1.6838, 1.6784, 1.6764, 1.665, 1.6468, 1.6437, 1.6191, 1.5811, 1.5707, 1.5608, 1.5538, 1.5338, 1.5224, 1.4816, 1.3092, 1.273, 1.2445, 1.0072, 1.4167, 1.3388, 1.217, 0.7074, 0.8351, 1.0014, 0.7395, 1.0464, 0.6619, 0.7935, 0.0801, 0.3046, 0.2724, 0.1811, 0.174, 0.5144, 0.3744, 0.4323, 0.4737, 0.1253, 0.305, -0.0759, -0.1386, 0.1079, -0.0331, -0.104, 0.0887, -0.3176, 0.1452, -0.1324, -0.8146, 2.1163, 2.1155, 2.1089, 2.0967, 2.0623, 2.0514, 2.0454, 2.0191, 1.9957, 1.9737, 1.9533, 1.9376, 1.9338, 1.8698, 1.8531, 1.8502, 1.8472, 1.7788, 1.7597, 1.7412, 1.7178, 1.7088, 1.6641, 1.6528, 1.6409, 1.6016, 1.5913, 1.5876, 1.5197, 1.5194, 1.4835, 1.4337, 1.2233, 1.1091, 1.3829, 0.7141, 0.7099, 0.1796, 0.1867, 1.2182, 0.1957, 0.1748, 0.4429, 0.1522, 0.0168, 0.1964, 0.315, 0.502, 0.6666, 0.216, -0.0459, -0.0046, -0.0935, 0.229, 0.2348, 0.197, 0.8023, 0.5513, 0.5235, -0.0319, 0.1641, -0.1236, -0.3343, -0.318, -0.0546, -0.3504, 2.1704, 2.1659, 2.0983, 2.0957, 2.0518, 1.947, 1.9332, 1.9296, 1.9159, 1.8915, 1.8681, 1.8365, 1.7911, 1.7717, 1.7699, 1.767, 1.7235, 1.702, 1.6937, 1.6776, 1.6641, 1.6569, 1.6529, 1.6397, 1.6184, 1.6045, 1.6016, 1.5927, 1.5884, 1.5775, 1.5006, 1.42, 1.235, 0.7954, 0.7595, 0.9471, 0.34, 1.1299, 0.0836, 0.4067, 0.3052, 0.4147, 0.873, 0.2367, 0.443, 0.152, 0.7255, 0.6564, 0.2709, 0.3426, -0.0291, 0.0396, -0.0302, 0.2142, 0.217, -0.1409, -0.0348, 0.5915, -0.2292, 0.1079, -0.0059, 0.5483, 0.0738, 0.1656, -0.6227, 0.1259, 2.403, 2.3925, 2.385, 2.3802, 2.3722, 2.3655, 2.3581, 2.3393, 2.3237, 2.3115, 2.303, 2.1722, 2.1236, 2.066, 2.0629, 2.0446, 2.0322, 2.0115, 1.9994, 1.9602, 1.9492, 1.9224, 1.887, 1.8741, 1.8699, 1.8672, 1.8313, 1.8028, 1.7713, 1.7614, 1.7148, 1.6401, 1.3696, 0.8735, 0.9114, 1.2929, 0.3717, 1.0886, 0.8815, 0.323, 0.5076, -0.1196, 0.8764, 0.235, 0.1401, 0.2759, -0.0378, 0.8647, 0.1246, -0.0778, 0.1662, 0.4184, 0.5164, 0.1565, 0.4255, 0.054, -0.1662, -0.2461, 0.3152, 0.1729, 0.5569, -0.0137, -0.2597, -0.136, 2.7364, 2.717, 2.7081, 2.6609, 2.6554, 2.6521, 2.6447, 2.6303, 2.6275, 2.6202, 2.6089, 2.608, 2.6078, 2.6062, 2.6025, 2.5995, 2.5905, 2.5899, 2.5895, 2.5877, 2.5856, 2.5836, 2.5812, 2.5768, 2.5751, 2.5736, 2.5717, 2.5716, 2.5709, 2.5702, 2.5664, 2.5622, 2.5614, 2.5628, 2.5368, 2.5224, 2.5304, 2.5283, 2.3764, 2.3652, 2.5201, 2.5117, 2.2463, 2.5322, 2.3367, 2.5279, 2.3045, 2.3719, 1.9977, 2.0111, 2.1843, 1.1847, 1.8859, 0.0692, -0.5752, 0.6226, -0.1215, -0.1114, 0.0318, 0.0323, 0.0615, -0.3287, 1.0726, -0.3164, 0.4717, -0.373, -0.1176, 3.5838, 3.5624, 3.4584, 3.4416, 3.3059, 3.2754, 3.2446, 3.1973, 3.1191, 2.9861, 2.9819, 2.9066, 2.903, 2.8825, 2.8591, 2.854, 2.817, 2.7796, 2.7395, 2.7196, 2.7015, 2.6723, 2.6508, 2.6263, 2.62, 2.6092, 2.6048, 2.5949, 2.5857, 2.5829, 2.5254, 2.5217, 2.452, 2.4034, 2.4276, 2.1843, 2.1351, 1.4907, 1.4237, 1.1612, 0.6593, 1.4936, 1.1422, 0.1574, 0.3419, 1.214, 0.3414, 1.3108, -0.3204, 0.6633, -0.7421, -0.1011, 1.1263, 0.2797, 1.0135, -0.3325, -0.4113, 0.6415, -0.5929, -0.0707, 3.7215, 3.7213, 3.7154, 3.7146, 3.7066, 3.7013, 3.6902, 3.6898, 3.6869, 3.6866, 3.6856, 3.6776, 3.6727, 3.6666, 3.6645, 3.6602, 3.6593, 3.6368, 3.603, 3.6008, 3.5927, 3.5706, 3.5594, 3.5141, 3.4656, 3.4132, 3.3871, 3.3698, 2.9531, 2.8785, 2.7683, 2.7174, 2.2386, 0.5454, -0.4275, -0.2428, 0.2464, 0.1926, 1.1768, -0.251, -0.3904, -0.3041, -0.4341, -0.0782]}, \"token.table\": {\"Topic\": [1, 2, 3, 5, 7, 1, 4, 1, 2, 5, 1, 4, 5, 6, 7, 8, 7, 4, 6, 1, 2, 3, 4, 5, 6, 7, 8, 9, 10, 1, 2, 3, 4, 6, 7, 8, 9, 4, 6, 7, 9, 3, 4, 6, 7, 1, 2, 3, 4, 5, 6, 7, 8, 9, 10, 1, 2, 3, 4, 5, 6, 8, 9, 1, 5, 6, 8, 1, 2, 3, 4, 5, 6, 7, 8, 9, 10, 1, 2, 6, 7, 8, 10, 1, 2, 3, 4, 5, 6, 7, 8, 10, 2, 5, 4, 7, 1, 2, 3, 4, 5, 6, 7, 8, 9, 10, 4, 5, 6, 10, 1, 2, 3, 4, 5, 6, 7, 8, 9, 10, 1, 2, 3, 4, 5, 6, 7, 8, 9, 10, 2, 5, 7, 8, 7, 1, 2, 4, 8, 9, 4, 6, 8, 10, 1, 2, 3, 4, 6, 9, 1, 2, 3, 4, 5, 6, 7, 8, 9, 10, 2, 3, 5, 8, 9, 1, 2, 3, 4, 5, 6, 7, 8, 9, 10, 1, 6, 10, 1, 2, 4, 5, 6, 7, 8, 10, 3, 2, 3, 4, 5, 6, 7, 8, 9, 10, 1, 2, 3, 4, 5, 6, 7, 8, 9, 10, 1, 2, 3, 4, 5, 6, 7, 8, 2, 3, 5, 6, 7, 2, 6, 7, 8, 2, 3, 4, 5, 6, 7, 9, 1, 2, 3, 4, 5, 6, 7, 8, 9, 10, 1, 2, 3, 4, 5, 6, 7, 8, 9, 10, 1, 2, 4, 5, 6, 7, 8, 10, 1, 2, 4, 5, 6, 7, 8, 9, 2, 3, 4, 6, 7, 8, 9, 3, 8, 2, 5, 1, 2, 6, 3, 4, 6, 10, 1, 4, 5, 2, 4, 6, 7, 1, 2, 3, 4, 5, 6, 7, 8, 9, 10, 1, 6, 7, 8, 6, 7, 1, 2, 3, 4, 5, 6, 8, 9, 10, 2, 4, 5, 7, 9, 1, 4, 5, 7, 8, 9, 10, 1, 2, 3, 4, 5, 6, 7, 8, 9, 10, 5, 10, 1, 2, 4, 5, 7, 8, 9, 1, 4, 5, 9, 10, 1, 2, 3, 4, 5, 6, 7, 8, 9, 10, 2, 4, 5, 1, 2, 5, 9, 3, 4, 5, 7, 1, 2, 3, 4, 5, 6, 7, 8, 9, 10, 5, 10, 1, 2, 3, 4, 5, 6, 7, 8, 9, 10, 1, 4, 5, 6, 9, 1, 3, 5, 6, 9, 1, 2, 4, 5, 6, 9, 1, 2, 4, 5, 6, 8, 1, 2, 3, 6, 7, 4, 6, 10, 2, 6, 7, 9, 3, 5, 6, 7, 9, 3, 4, 7, 1, 2, 3, 4, 5, 6, 7, 8, 9, 10, 1, 2, 3, 4, 5, 6, 7, 8, 10, 2, 4, 5, 6, 8, 9, 3, 4, 5, 7, 8, 5, 8, 6, 9, 1, 2, 3, 4, 5, 9, 4, 5, 6, 8, 9, 1, 2, 6, 10, 1, 6, 8, 10, 5, 6, 7, 1, 2, 3, 4, 5, 6, 7, 8, 9, 10, 2, 4, 7, 8, 10, 4, 8, 1, 2, 3, 4, 5, 6, 7, 8, 9, 10, 1, 2, 4, 5, 9, 10, 1, 2, 3, 4, 5, 6, 7, 8, 9, 10, 1, 2, 3, 4, 5, 6, 7, 8, 9, 10, 3, 6, 10, 1, 3, 4, 5, 6, 7, 8, 1, 7, 8, 1, 2, 4, 5, 6, 7, 10, 1, 3, 4, 5, 7, 9, 1, 2, 3, 4, 6, 8, 1, 2, 4, 6, 7, 8, 1, 4, 5, 6, 5, 7, 1, 2, 3, 4, 5, 6, 7, 8, 9, 10, 4, 5, 6, 9, 10, 1, 2, 3, 4, 5, 6, 7, 8, 9, 10, 1, 2, 3, 4, 5, 6, 7, 8, 9, 10, 1, 2, 3, 6, 8, 10, 1, 2, 4, 5, 6, 7, 9, 1, 2, 3, 4, 5, 6, 7, 8, 9, 10, 6, 7, 2, 8, 2, 4, 5, 6, 7, 8, 2, 3, 4, 5, 6, 7, 8, 9, 1, 4, 5, 1, 4, 6, 8, 9, 1, 2, 3, 4, 5, 6, 7, 8, 9, 10, 4, 6, 10, 1, 6, 8, 9, 1, 4, 7, 1, 2, 3, 4, 5, 6, 7, 8, 9, 10, 3, 4, 6, 1, 3, 4, 5, 6, 7, 8, 1, 2, 3, 4, 5, 6, 7, 8, 9, 10, 1, 2, 3, 4, 5, 6, 7, 8, 9, 10, 1, 2, 3, 4, 5, 6, 7, 8, 9, 10, 5, 6, 8, 1, 4, 6, 10, 1, 2, 3, 4, 5, 6, 7, 8, 9, 10, 4, 1, 2, 3, 4, 5, 6, 7, 8, 9, 10, 1, 2, 8, 1, 2, 3, 4, 5, 6, 7, 8, 9, 10, 4, 5, 6, 10, 1, 2, 3, 4, 5, 6, 7, 8, 9, 10, 3, 7, 2, 4, 5, 6, 7, 8, 1, 2, 3, 4, 5, 6, 7, 8, 9, 10, 2, 8, 9, 10, 3, 4, 7, 8, 10, 2, 4, 8, 9, 1, 2, 3, 4, 5, 6, 7, 8, 9, 10, 1, 2, 3, 4, 5, 6, 7, 8, 9, 10, 1, 2, 3, 4, 5, 6, 7, 8, 9, 10, 1, 2, 3, 4, 5, 6, 7, 8, 9, 10, 1, 2, 3, 4, 5, 6, 7, 8, 9, 10, 1, 4, 5, 8, 10, 2, 4, 1, 2, 3, 4, 5, 6, 7, 8, 9, 10, 2, 3, 5, 7, 1, 2, 3, 4, 5, 6, 7, 8, 9, 10, 1, 3, 4, 6, 8, 9, 10, 1, 2, 3, 4, 5, 6, 7, 8, 9, 4, 7, 1, 2, 5, 6, 8, 9, 4, 5, 6, 9, 10, 4, 5, 1, 2, 3, 4, 5, 6, 7, 8, 9, 10, 1, 2, 3, 4, 5, 6, 7, 8, 9, 10, 2, 4, 5, 7, 8, 1, 4, 7, 1, 2, 4, 5, 6, 7, 8, 9, 1, 6, 2, 3, 4, 10, 1, 2, 3, 4, 5, 6, 7, 8, 9, 10, 2, 3, 4, 5, 6, 7, 8, 9, 10, 1, 5, 6, 9, 8, 1, 2, 3, 6, 10, 1, 4, 10, 4, 7, 8, 10, 7, 1, 4, 5, 6, 8, 2, 3, 4, 5, 1, 2, 4, 8, 9, 10, 1, 2, 3, 4, 5, 8, 5, 7, 8, 9, 1, 2, 3, 6, 7, 1, 2, 4, 5, 6, 8, 1, 2, 3, 4, 5, 6, 7, 8, 9, 3, 4, 5, 6, 7, 8, 9, 1, 2, 3, 4, 5, 6, 7, 8, 9, 10, 4, 5, 6, 7, 1, 2, 4, 6, 8, 9, 1, 4, 6, 10, 2, 4, 5, 8, 9, 1, 2, 3, 4, 5, 6, 7, 8, 9, 10, 1, 2, 3, 5, 6, 7, 8, 9, 4, 8, 9, 5, 5, 6, 8, 5, 6, 7, 8, 1, 2, 3, 4, 5, 6, 7, 8, 9, 6, 7, 2, 4, 5, 7, 8, 1, 2, 3, 4, 5, 6, 7, 8, 9, 10, 1, 2, 3, 4, 5, 6, 7, 8, 9, 10, 1, 2, 3, 4, 5, 6, 7, 9, 10, 1, 2, 3, 4, 5, 6, 7, 8, 9, 10, 1, 7, 8, 3, 5, 6, 8, 4, 5, 8, 9, 2, 3, 4, 5, 6, 7, 8, 9, 1, 2, 3, 4, 5, 6, 7, 8, 9, 10, 1, 2, 3, 4, 5, 6, 7, 8, 9, 10, 1, 4, 5, 6, 8, 7, 1, 2, 3, 4, 5, 6, 7, 8, 9, 10, 1, 2, 3, 4, 5, 6, 7, 8, 9, 10, 1, 2, 3, 4, 5, 6, 7, 8, 10, 1, 8, 9, 1, 2, 3, 4, 5, 6, 7, 8, 9, 10, 3, 6, 7, 1, 3, 7, 10, 1, 2, 3, 5, 6, 7, 9, 2, 5, 1, 2, 3, 4, 5, 6, 9, 10, 1, 4, 6, 7, 8, 10, 1, 2, 3, 5, 6, 7, 8, 9, 2, 4, 5, 6, 7, 8, 9, 1, 2, 4, 6, 7, 8, 10, 1, 2, 3, 4, 5, 6, 7, 8, 9, 1, 3, 4, 5, 6, 7, 4, 7, 1, 2, 3, 4, 5, 6, 7, 8, 9, 10, 1, 3, 4, 5, 6, 7, 8, 9, 10, 1, 4, 5, 6, 7, 8, 9, 5, 7, 9, 10, 4, 6, 7, 8, 2, 4, 6, 8, 1, 2, 3, 4, 7, 8, 9, 1, 2, 4, 8, 9, 10, 1, 2, 3, 4, 5, 6, 7, 8, 9, 10, 1, 3, 4, 7, 1, 2, 3, 4, 5, 6, 7, 8, 9, 10, 1, 2, 4, 5, 1, 2, 3, 4, 5, 6, 7, 8, 10, 2, 7, 1, 5, 6, 8, 2, 7, 8, 9, 10, 2, 7, 3, 4, 5, 6, 7, 8, 9, 1, 2, 3, 4, 5, 6, 7, 8, 9, 10, 2, 5, 6, 7, 10, 1, 2, 4, 5, 10, 1, 4, 5, 6, 7, 8, 10, 1, 2, 4, 8, 1, 2, 3, 4, 5, 6, 7, 8, 9, 10, 1, 3, 4, 5, 6, 7, 8, 9, 1, 2, 3, 4, 5, 6, 7, 8, 9, 10, 1, 4, 5, 6, 8, 9, 2, 4, 5, 6, 6, 9, 4, 7, 8, 9, 2, 5, 1, 2, 7, 1, 2, 3, 4, 5, 6, 7, 8, 9, 10, 3, 5, 6, 7, 8, 9, 2, 5, 7, 1, 2, 3, 4, 5, 6, 7, 8, 9, 10, 1, 3, 4, 5, 6, 8, 9, 1, 2, 3, 4, 5, 6, 7, 8, 9, 10, 1, 3, 4, 6, 8, 4, 6, 4, 5, 7, 1, 2, 3, 4, 5, 6, 7, 8, 9, 10, 1, 2, 3, 4, 5, 6, 7, 8, 9, 10, 1, 2, 3, 4, 5, 6, 7, 8, 9, 10, 2, 5, 8, 3, 7, 1, 4, 5, 7, 4, 5, 6, 7, 8, 1, 2, 6, 8, 10, 1, 2, 3, 4, 5, 6, 7, 8, 9, 10, 2, 6, 7, 10, 1, 2, 3, 9, 1, 2, 5, 8, 1, 7, 1, 2, 3, 5, 7, 9, 10, 1, 2, 4, 6, 9, 8, 1, 2, 5, 6, 8, 1, 2, 3, 4, 5, 6, 7, 8, 9, 1, 2, 3, 4, 5, 6, 7, 8, 10, 7, 5, 5, 7, 9, 6, 8, 10, 1, 2, 3, 4, 5, 6, 7, 8, 9, 10, 1, 2, 3, 4, 5, 6, 7, 8, 9, 10, 2, 6, 8, 2, 3, 5, 6, 7, 1, 2, 3, 5, 10, 1, 4, 5, 6, 10, 1, 4, 6, 1, 2, 5, 6, 10, 1, 2, 3, 4, 5, 6, 7, 8, 9, 10, 2, 4, 5, 9, 10, 1, 2, 4, 5, 6, 10, 1, 4, 6, 8, 10, 5, 1, 5, 9, 10, 1, 2, 4, 5, 6, 7, 8, 9, 10, 3, 4, 5, 6, 7, 1, 5, 7, 8, 1, 2, 5, 8, 9, 1, 2, 3, 4, 5, 7, 8, 9, 10, 6, 1, 2, 3, 4, 5, 6, 7, 8, 9, 10, 1, 3, 4, 5, 6, 7, 8, 9, 1, 6, 7, 1, 2, 3, 4, 5, 6, 7, 8, 9, 10, 1, 2, 4, 5, 6, 7, 8, 5, 7, 1, 2, 3, 4, 5, 6, 7, 8, 9, 10, 1, 4, 5, 6, 2, 3, 5, 3, 4, 9, 1, 2, 8, 1, 2, 3, 4, 6, 9, 1, 2, 5, 6, 7, 1, 2, 3, 4, 6, 7, 8, 2, 3, 4, 8, 10, 1, 2, 4, 5, 6, 7, 9, 10, 1, 3, 4, 6, 8, 2, 4, 7, 1, 2, 3, 4, 5, 6, 7, 8, 9, 10, 4, 7, 3, 4, 5, 6, 9, 1, 3, 4, 5, 6, 7, 9, 3, 6, 7, 9, 1, 2, 4, 7, 10, 1, 2, 3, 8, 10, 1, 2, 3, 4, 5, 6, 7, 8, 9, 10, 1, 2, 7, 8, 1, 2, 3, 4, 5, 6, 7, 8, 9, 10, 3, 9, 10, 3, 4, 5, 7, 5, 7, 9, 2, 2, 6, 10, 1, 2, 4, 5, 6, 7, 8, 9, 10, 1, 4, 5, 1, 2, 3, 4, 5, 6, 7, 8, 9, 10, 1, 2, 3, 4, 5, 6, 7, 8, 9, 10, 1, 4, 5, 6, 7, 8, 5, 8, 10, 2, 7, 8, 9, 1, 2, 5, 1, 2, 3, 4, 5, 6, 7, 8, 9, 10, 1, 2, 3, 4, 5, 6, 7, 8, 10, 3, 4, 5, 7, 8, 4, 1, 2, 3, 4, 5, 6, 7, 8, 9, 10, 1, 4, 5, 6, 8, 9, 1, 2, 4, 6, 7, 8, 10, 1, 2, 3, 4, 6, 7, 1, 2, 3, 4, 5, 6, 7, 8, 9, 10, 1, 2, 3, 4, 5, 6, 7, 8, 9, 10, 4, 5, 6, 8, 10, 1, 2, 3, 4, 5, 6, 7, 8, 9, 10, 1, 3, 4, 7, 1, 2, 3, 4, 5, 6, 7, 8, 9, 10, 1, 4, 5, 6, 7, 8, 9, 10, 1, 2, 3, 4, 5, 6, 7, 8, 9, 10, 6, 8, 9, 1, 3, 6, 9, 1, 2, 3, 4, 5, 6, 7, 8, 9, 10, 2, 3, 6, 8, 1, 2, 3, 4, 5, 6, 7, 8, 9, 10, 6, 8, 1, 2, 3, 4, 5, 6, 7, 8, 9, 10, 1, 2, 3, 4, 5, 6, 7, 8, 9, 10, 1, 2, 4, 6, 10, 1, 2, 3, 4, 5, 6, 7, 8, 9, 10, 3, 4, 5, 7, 4, 1, 2, 3, 4, 5, 6, 7, 8, 9, 10, 1, 2, 3, 4, 5, 6, 7, 8, 10, 1, 2, 3, 4, 5, 6, 7, 8, 9, 10, 1, 6, 8, 1, 2, 3, 4, 5, 6, 7, 10, 1, 2, 3, 4, 5, 6, 7, 8, 9, 10, 1, 3, 5, 6, 8, 10, 1, 2, 3, 4, 5, 6, 7, 8, 9, 10, 1, 2, 8, 10, 1, 2, 3, 4, 5, 6, 7, 8, 9, 10, 1, 2, 3, 5, 9, 1, 3, 4, 6, 1, 2, 3, 4, 5, 6, 7, 8, 9, 10, 2, 4, 6, 9, 5, 10, 1, 2, 3, 4, 5, 6, 7, 8, 9, 10, 1, 2, 3, 4, 5, 6, 7, 8, 9, 10, 1, 2, 3, 4, 5, 6, 7, 8, 9, 10, 3, 4, 8, 1, 2, 3, 4, 5, 6, 7, 8, 9, 10, 1, 2, 3, 4, 5, 6, 7, 8, 9, 10, 1, 2, 3, 4, 5, 6, 7, 8, 10, 1, 2, 4, 5, 6, 9, 10, 1, 4, 5, 7, 8, 10, 4, 7, 8, 2, 4, 8, 9, 2, 4, 8, 1, 2, 3, 4, 8, 9, 2, 4, 8, 9, 2, 3, 4, 8, 9, 2, 4, 8, 2, 4, 6, 8, 9, 1, 2, 3, 4, 8, 9, 2, 3, 4, 7, 8, 9, 2, 8, 9, 1, 2, 4, 7, 8, 9, 2, 3, 8, 2, 4, 8, 4, 8, 2, 3, 4, 7, 8, 1, 2, 3, 4, 8, 9, 1, 2, 4, 7, 8, 9, 2, 3, 4, 8, 9, 1, 2, 3, 4, 8, 9, 4, 8, 9, 2, 3, 4, 7, 8, 9, 1, 2, 3, 4, 8, 9, 9, 4, 10, 10, 4, 10, 4, 10, 6, 10, 4, 10, 4, 10, 4, 10, 10, 4, 4, 10, 4, 10, 4, 10, 6, 4, 10, 4, 9, 10, 4, 9, 2, 4, 10, 4, 10, 4, 10, 2, 10, 4, 10, 4, 10, 4, 10, 4, 10, 4, 10, 4, 10, 4, 10, 4, 9, 10, 10, 4, 9, 10, 4, 9, 4], \"Freq\": [0.7289393024900739, 0.08747271629880887, 0.029157572099602954, 0.08747271629880887, 0.05831514419920591, 0.898383338032013, 0.07187066704256104, 0.8690019618659013, 0.043450098093295066, 0.043450098093295066, 0.0339988155947896, 0.0679976311895792, 0.169994077973948, 0.5609804573140283, 0.0509982233921844, 0.1019964467843688, 0.9479879350554621, 0.061415832344084036, 0.9212374851612605, 0.29145493672703143, 0.06656686826481582, 0.09715164557567714, 0.023388359120070423, 0.35982090953954493, 0.03058477731086132, 0.07556239100330445, 0.05037492733553629, 0.0017991045476977248, 0.0017991045476977248, 0.6087822063179191, 0.016020584376787345, 0.08010292188393672, 0.03204116875357469, 0.03204116875357469, 0.03204116875357469, 0.16020584376787345, 0.03204116875357469, 0.33424715508246206, 0.04178089438530776, 0.08356178877061551, 0.5431516270090009, 0.5844349992603416, 0.05156779405238308, 0.10313558810476615, 0.2406497055777877, 0.29894950896967204, 0.14947475448483602, 0.021019887349430062, 0.2499031051543352, 0.06773074812594132, 0.04437531773768569, 0.10743497978597588, 0.018684344310604502, 0.023355430388255626, 0.018684344310604502, 0.054911764760468676, 0.6479588241735303, 0.03294705885628121, 0.10982352952093735, 0.02196470590418747, 0.08785882361674988, 0.02196470590418747, 0.02196470590418747, 0.16578194823215509, 0.607867143517902, 0.16578194823215509, 0.055260649410718364, 0.03279967606023516, 0.08928800705286238, 0.2368865493239206, 0.2988414929932537, 0.12026547888752892, 0.10386564085741133, 0.08017698592501928, 0.01457763380454896, 0.02186645070682344, 0.00182220422556862, 0.7789417664001093, 0.028325155141822156, 0.014162577570911078, 0.028325155141822156, 0.1274631981381997, 0.014162577570911078, 0.538694993264908, 0.09506382234086612, 0.019012764468173224, 0.019012764468173224, 0.06971346971663515, 0.15843970390144355, 0.05070070524846193, 0.025350352624230965, 0.031687940780288706, 0.02993420846588953, 0.9678727403970947, 0.7349388503378347, 0.24497961677927824, 0.05278501283505293, 0.4442738580283621, 0.08797502139175488, 0.07917751925257939, 0.10117127460051811, 0.048386261765465184, 0.039588759626289695, 0.013196253208763232, 0.11876627887886908, 0.013196253208763232, 0.20660539936278371, 0.41321079872556743, 0.041321079872556746, 0.3718897188530107, 0.11744085251039359, 0.10697582604907138, 0.21511443281606746, 0.17557988840662803, 0.10581304533114669, 0.1255803175358664, 0.08023186953680353, 0.03372064081981598, 0.025581175794343155, 0.012790587897171577, 0.0845650536083824, 0.22080875108855405, 0.11040437554427703, 0.11040437554427703, 0.19966748768645845, 0.09631019994287995, 0.1503378730815687, 0.01644320486829658, 0.002349029266899511, 0.007047087800698533, 0.16791839230472033, 0.6380898907579373, 0.06716735692188813, 0.13433471384377627, 0.9928151056417142, 0.027151219093234827, 0.04072682863985224, 0.5973268200511662, 0.23078536229249605, 0.0950292668263219, 0.6476538116103625, 0.3035877241923574, 0.02023918161282383, 0.02023918161282383, 0.058604368074520304, 0.058604368074520304, 0.2637196563353414, 0.058604368074520304, 0.5567414967079429, 0.029302184037260152, 0.12167358787752756, 0.1720212794130562, 0.15749790685473064, 0.14071534300955443, 0.14200630945918336, 0.1229645543271565, 0.0793944366521798, 0.03517883575238861, 0.012909664496289396, 0.015491597395547277, 0.5373109204521734, 0.22387955018840558, 0.1679096626413042, 0.01119397750942028, 0.055969887547101395, 0.1616150735653049, 0.09757891234131619, 0.19515782468263237, 0.04269077414932583, 0.05488813819199035, 0.13722034547997589, 0.21345387074662914, 0.05488813819199035, 0.0396414331386597, 0.006098682021332262, 0.8659910612761785, 0.08659910612761786, 0.04329955306380893, 0.06106512502486136, 0.19984950008136446, 0.06106512502486136, 0.10547612504294235, 0.38859625015820864, 0.12768162505198286, 0.03330825001356074, 0.01665412500678037, 0.9879371650492137, 0.03898145682713912, 0.06496909471189853, 0.06496909471189853, 0.02598763788475941, 0.05197527576951882, 0.02598763788475941, 0.5587342145223273, 0.06496909471189853, 0.10395055153903764, 0.4755497039572074, 0.06340662719429432, 0.07397439839334337, 0.08454216959239243, 0.09722349503125129, 0.05495241023505507, 0.04861174751562564, 0.029589759357337347, 0.03170331359714716, 0.0401575305563864, 0.017130901915294004, 0.05139270574588201, 0.5396234103317611, 0.07708905861882302, 0.07708905861882302, 0.17130901915294006, 0.017130901915294004, 0.05139270574588201, 0.6322473082326228, 0.25758223668736485, 0.023416566971578623, 0.023416566971578623, 0.023416566971578623, 0.06882137653233669, 0.20646412959701005, 0.6193923887910302, 0.06882137653233669, 0.06512338604580922, 0.2865428986015606, 0.026049354418323692, 0.013024677209161846, 0.3516662846473698, 0.013024677209161846, 0.2344441897649132, 0.1077222563812996, 0.19002690170633751, 0.15008494147506912, 0.08351500775628845, 0.14887457904381854, 0.14040204202506465, 0.10651189395004905, 0.04478340995627062, 0.019365798900008918, 0.008472537018753902, 0.06488947940238712, 0.17844606835656457, 0.19235095679993325, 0.10660414473249312, 0.1019691819180369, 0.21784325227944246, 0.06720696080961523, 0.011587407036140557, 0.05098459095901845, 0.009269925628912445, 0.12803585595199804, 0.07468758263866551, 0.46412997782599286, 0.016004481993999755, 0.15470999260866428, 0.12270102862066477, 0.016004481993999755, 0.021339309325333004, 0.005804883793060605, 0.05224395413754545, 0.6327323334436059, 0.040634186551424235, 0.07546348930978787, 0.005804883793060605, 0.16834162999875754, 0.02321953517224242, 0.05977322057727702, 0.2540361874534273, 0.05977322057727702, 0.014943305144319255, 0.2689794925977466, 0.014943305144319255, 0.3138094080307044, 0.5621453467683472, 0.2810726733841736, 0.07750204451065448, 0.8912735118725265, 0.9153021200716364, 0.030510070669054545, 0.030510070669054545, 0.8506377205465666, 0.04050655812126508, 0.04050655812126508, 0.04050655812126508, 0.21345790686737146, 0.016419838989797802, 0.7553125935306989, 0.6520706897351323, 0.04347137931567548, 0.13041413794702644, 0.17388551726270193, 0.07402646800370251, 0.2331833742116629, 0.17211153810860835, 0.06847448290342482, 0.24243668271212573, 0.03423724145171241, 0.10548771690527609, 0.03793856485189754, 0.018506617000925627, 0.01295463190064794, 0.7928931273086731, 0.08571817592526196, 0.02142954398131549, 0.08571817592526196, 0.9140915321406854, 0.030469717738022845, 0.07847556109702612, 0.005605397221216152, 0.17376731385770072, 0.09529175276067459, 0.49888035268823755, 0.022421588884864608, 0.044843177769729216, 0.06726476665459383, 0.011210794442432304, 0.8292862601166301, 0.019285726979456512, 0.038571453958913024, 0.07714290791782605, 0.019285726979456512, 0.5768603004254504, 0.04437386926349619, 0.08874773852699239, 0.01479128975449873, 0.01479128975449873, 0.1922867668084835, 0.04437386926349619, 0.08514073892463254, 0.24469582446843213, 0.17765587255927265, 0.09452633219191488, 0.14145429852832653, 0.09787832978737285, 0.1300575067037694, 0.012737590862740303, 0.011396791824557113, 0.004692796633641164, 0.8318933526891447, 0.12798359272140686, 0.05890214795177791, 0.05890214795177791, 0.29451073975888953, 0.05890214795177791, 0.05890214795177791, 0.11780429590355582, 0.3534128877106675, 0.6473491946900927, 0.04623922819214948, 0.20807652686467265, 0.06935884228822421, 0.02311961409607474, 0.10067567947101695, 0.03835263979848265, 0.028764479848861987, 0.45064351763217114, 0.10067567947101695, 0.1246460793450686, 0.052734879722913644, 0.0623230396725343, 0.023970399874051654, 0.019176319899241324, 0.01983503078003926, 0.03967006156007852, 0.9322464466618451, 0.03424743167828889, 0.7191960652440667, 0.03424743167828889, 0.17123715839144446, 0.504122290408277, 0.21361114000350723, 0.051266673600841736, 0.21361114000350723, 0.014106469550219845, 0.44435379083192517, 0.1657510172150832, 0.03879279126310458, 0.12343160856442366, 0.06347911297598931, 0.06347911297598931, 0.007053234775109923, 0.07053234775109923, 0.010579852162664884, 0.9030618363272959, 0.09030618363272959, 0.06252461587870345, 0.29557091142659814, 0.06252461587870345, 0.1534695117022721, 0.11936517576843386, 0.11652314777394734, 0.07389272785664953, 0.019894195961405643, 0.08526083983459562, 0.014210139972432603, 0.6284988599126407, 0.05237490499272005, 0.26187452496360025, 0.05237490499272005, 0.05237490499272005, 0.0721453487038668, 0.0721453487038668, 0.5771627896309344, 0.1442906974077336, 0.0721453487038668, 0.29450685580450425, 0.5890137116090085, 0.07813447194813378, 0.018031031988030872, 0.01202068799202058, 0.00601034399601029, 0.04613288845726468, 0.8419252143450805, 0.01153322211431617, 0.03459966634294851, 0.01153322211431617, 0.05766611057158085, 0.2515537650381424, 0.025155376503814244, 0.05031075300762849, 0.6037290360915418, 0.025155376503814244, 0.6998888174843876, 0.04999205839174197, 0.19996823356696788, 0.6274156568726178, 0.29279397320722167, 0.04182771045817452, 0.04182771045817452, 0.039573285234868735, 0.751892419462506, 0.039573285234868735, 0.07914657046973747, 0.039573285234868735, 0.6945328334594076, 0.02572343827627436, 0.2572343827627436, 0.39232844706053727, 0.10642952553237979, 0.03547650851079326, 0.08347413767245473, 0.10642952553237979, 0.10642952553237979, 0.06469245669615242, 0.0730398704633979, 0.018781680976302315, 0.016694827534490947, 0.4954105173601207, 0.11009122608002682, 0.049541051736012066, 0.06605473564801609, 0.11559578738402816, 0.049541051736012066, 0.049541051736012066, 0.06605473564801609, 0.005504561304001341, 0.013955813286521932, 0.8792162370508817, 0.0418674398595658, 0.013955813286521932, 0.013955813286521932, 0.013955813286521932, 0.6079427761861502, 0.185026062317524, 0.07929688385036743, 0.052864589233578285, 0.026432294616789143, 0.7669174908676757, 0.21911928310505022, 0.51510200960791, 0.41208160768632796, 0.7089843839754075, 0.016113281453986533, 0.032226562907973065, 0.0966796887239192, 0.0483398443619596, 0.08056640726993267, 0.060716171163275205, 0.12143234232655041, 0.060716171163275205, 0.24286468465310082, 0.48572936930620164, 0.07947587266102461, 0.7152828539492214, 0.11921380899153691, 0.039737936330512307, 0.8222177155865165, 0.03288870862346066, 0.06577741724692132, 0.03288870862346066, 0.7627896527871357, 0.09534870659839197, 0.11918588324798995, 0.04911435939694888, 0.2598308045516005, 0.21546944767693701, 0.023765012611426876, 0.19645743758779552, 0.07921670870475626, 0.13783707314627588, 0.014259007566856127, 0.011090339218665876, 0.012674673392761002, 0.6316173827343212, 0.1457578575540741, 0.04858595251802471, 0.09717190503604942, 0.04858595251802471, 0.7347879232053518, 0.18369698080133795, 0.12691154835986065, 0.1308775342461063, 0.3490067579896168, 0.122945562473615, 0.13484352013235193, 0.059489788293684676, 0.007931971772491291, 0.0436258447487021, 0.015863943544982582, 0.007931971772491291, 0.35893767322073167, 0.11964589107357722, 0.11964589107357722, 0.023929178214715446, 0.3350084950060162, 0.023929178214715446, 0.2576315544855917, 0.045464391968045595, 0.07577398661340932, 0.007577398661340933, 0.022732195984022797, 0.03788699330670466, 0.053041790629386534, 0.46979871700313786, 0.015154797322681867, 0.015154797322681867, 0.031451076229360914, 0.28830153210247506, 0.20705291850995933, 0.03931384528670114, 0.15201353510857774, 0.09959507472630956, 0.0864904596307425, 0.023588307172020685, 0.03407199924847432, 0.03931384528670114, 0.3428244780422697, 0.5537933876067433, 0.07911334108667761, 0.04066491994316856, 0.14232721980108995, 0.5998075691617362, 0.10166229985792138, 0.01016622998579214, 0.07116360990054497, 0.030498689957376417, 0.14174781345116577, 0.5197419826542745, 0.30712026247752583, 0.11560143546869574, 0.11560143546869574, 0.08160101327202053, 0.12920160434736583, 0.469205826314118, 0.040800506636010266, 0.040800506636010266, 0.11274065479204287, 0.21796526593128288, 0.0901925238336343, 0.15783691670886002, 0.35325405168173435, 0.06012834922242286, 0.12156049886987733, 0.44883876505800857, 0.09818347985643938, 0.11688509506718973, 0.19636695971287876, 0.014026211408062768, 0.12127432354717743, 0.024254864709435487, 0.024254864709435487, 0.024254864709435487, 0.5578618883170162, 0.24254864709435486, 0.033217761722126246, 0.033217761722126246, 0.033217761722126246, 0.8636618047752824, 0.036537598854724386, 0.9134399713681096, 0.11591392218083388, 0.21430597240409985, 0.1415228119649716, 0.05526128848156034, 0.1496098297915414, 0.17656655588010742, 0.08087017826569805, 0.024261053479709416, 0.018869708261996212, 0.020217544566424512, 0.13686130484315182, 0.13686130484315182, 0.5474452193726073, 0.13686130484315182, 0.034215326210787954, 0.11935326736179867, 0.16709457430651814, 0.09548261388943895, 0.10078720354996333, 0.13526703634337184, 0.23340194506307296, 0.07956884490786578, 0.02917524313288412, 0.02121835864209754, 0.01856606381183535, 0.07076575933220959, 0.15838050898161193, 0.10783353803003366, 0.1617503070450505, 0.0909845477128409, 0.26958384507508415, 0.05391676901501683, 0.04380737482470117, 0.006739596126877104, 0.03706777869782407, 0.22256823248720073, 0.12364901804844486, 0.5193258758034685, 0.07418941082906691, 0.02472980360968897, 0.02472980360968897, 0.19797033630388972, 0.032995056050648286, 0.06599011210129657, 0.032995056050648286, 0.032995056050648286, 0.5939110089116691, 0.032995056050648286, 0.04772441726698424, 0.3377420298894269, 0.05139552628752149, 0.03671109020537249, 0.22393765025277218, 0.13950214278041548, 0.07709328943128223, 0.058737744328595985, 0.018355545102686246, 0.011013327061611747, 0.08047581600387459, 0.8047581600387459, 0.9305559482505785, 0.043281672011654816, 0.8551620827549543, 0.015548401504635535, 0.0466452045139066, 0.03109680300927107, 0.03109680300927107, 0.015548401504635535, 0.0036830448920213135, 0.804745308906657, 0.01841522446010657, 0.022098269352127883, 0.009207612230053284, 0.044196538704255765, 0.046038061150266416, 0.053404150934309044, 0.026103315309420727, 0.9136160358297254, 0.026103315309420727, 0.0842745783262218, 0.5730671326183082, 0.21911390364817668, 0.01685491566524436, 0.10112949399146616, 0.13075597796781183, 0.2058711142471931, 0.06537798898390591, 0.27264012427330975, 0.11406372546128266, 0.09737147295475349, 0.06537798898390591, 0.02364735771758299, 0.015301231464318405, 0.009737147295475349, 0.12742932745715577, 0.7645759647429345, 0.06371466372857788, 0.830673756975789, 0.051917109810986815, 0.051917109810986815, 0.10383421962197363, 0.3883889459048978, 0.28124716772423636, 0.32812169567827576, 0.036286725420184726, 0.15784725557780355, 0.24493539658624688, 0.18324796337193286, 0.10160283117651722, 0.13970389286771118, 0.09434548609248028, 0.012700353897064653, 0.018143362710092363, 0.010886017626055417, 0.14985690320882672, 0.049952301069608906, 0.774260666578938, 0.013280127745518126, 0.624166004039352, 0.03984038323655438, 0.09296089421862688, 0.07968076647310876, 0.09296089421862688, 0.0531205109820725, 0.08316929465777327, 0.08316929465777327, 0.10731521891325584, 0.16902146978837795, 0.1368269041144012, 0.09390081654909886, 0.21731331829934308, 0.02682880472831396, 0.037560326619639546, 0.04829184851096513, 0.5618928764468393, 0.07866500270255751, 0.07117309768326631, 0.04120547760610155, 0.06368119266397512, 0.05993524015432953, 0.04495143011574715, 0.04120547760610155, 0.018729762548227977, 0.018729762548227977, 0.36018948203180134, 0.0928909716818856, 0.1345971222329363, 0.028436011739352736, 0.14597152692867738, 0.1345971222329363, 0.06255922582657601, 0.015165872927654792, 0.003791468231913698, 0.02085307527552534, 0.11116488646772445, 0.5836156539555534, 0.2779122161693111, 0.6595113984014565, 0.057348817252300566, 0.057348817252300566, 0.20072086038305198, 0.10517023919573772, 0.27294181124608125, 0.20783642507729122, 0.1277067190233958, 0.0475770129695004, 0.07261754611134272, 0.07512159942552694, 0.05008106628368463, 0.030048639770210776, 0.007512159942552694, 0.9728230117333434, 0.0736755042729675, 0.22710981133685393, 0.1676286702724398, 0.15478615117898675, 0.13788809974023275, 0.08989763365417135, 0.10341607480517456, 0.018925817611404494, 0.01216659703590289, 0.015546207323653692, 0.0508470427150289, 0.0508470427150289, 0.8135526834404624, 0.05632068302319827, 0.25492519684184484, 0.2608536897916552, 0.06817766892281897, 0.08596314777225, 0.029642464749051724, 0.2163899926680776, 0.017785478849431033, 0.0029642464749051723, 0.005928492949810345, 0.30743267149915776, 0.094594668153587, 0.567568008921522, 0.02364866703839675, 0.046341175859552663, 0.34326796933001974, 0.20424444175136172, 0.030894117239701775, 0.1235764689588071, 0.06693725401935384, 0.15103790650520868, 0.02574509769975148, 0.0034326796933001973, 0.006865359386600395, 0.3120641863484233, 0.6687089707466214, 0.28285802217399436, 0.01885720147826629, 0.01885720147826629, 0.584573245826255, 0.07542880591306517, 0.01885720147826629, 0.29115576954430655, 0.11046190788332005, 0.10023395344967931, 0.11318936239895759, 0.11318936239895759, 0.10978004425441068, 0.07568686280894152, 0.055912817570569415, 0.015000999836006428, 0.01568286346491581, 0.03205073179987363, 0.3846087815984836, 0.5448624405978518, 0.03205073179987363, 0.9739113970960873, 0.6241465492269737, 0.31207327461348683, 0.03120732746134868, 0.03120732746134868, 0.0836919075491168, 0.0836919075491168, 0.3347676301964672, 0.41845953774558403, 0.268844253417017, 0.11771018663123446, 0.1366019449794573, 0.10317806482490922, 0.24123322198499902, 0.06248812376719855, 0.01307890962569272, 0.02615781925138544, 0.01743854616759029, 0.014532121806325243, 0.3532318657716723, 0.06676943804220635, 0.07430792298245546, 0.11092342126366539, 0.11523112694380774, 0.06784636446224195, 0.07969255508263338, 0.06461558520213519, 0.03769242470124552, 0.02907701334096083, 0.015553138283725081, 0.0259218971395418, 0.01036875885581672, 0.48214728679547747, 0.09331882970235048, 0.10887196798607555, 0.01036875885581672, 0.18663765940470095, 0.0259218971395418, 0.03629065599535852, 0.25140011707098425, 0.0898396814758172, 0.12909735741482975, 0.17061989927340074, 0.11777302781703768, 0.11777302781703768, 0.04378740777812939, 0.04529731839116834, 0.018118927356467335, 0.017363972049947864, 0.0685751844400921, 0.2425219937515452, 0.14216806530262996, 0.11707958319040114, 0.08362827370742938, 0.16976539562608164, 0.10119021118598956, 0.04599555053908616, 0.01505308926733729, 0.013380523793188702, 0.06611457917239515, 0.06611457917239515, 0.6611457917239515, 0.1322291583447903, 0.06611457917239515, 0.9265772418003206, 0.05450454363531298, 0.0375790764975176, 0.34384854995228603, 0.07703710681991108, 0.14467944451544276, 0.08267396829453871, 0.060126522396028156, 0.2142007360358503, 0.015031630599007039, 0.02254744589851056, 0.0037579076497517598, 0.02030034633944849, 0.02030034633944849, 0.34510588777062434, 0.5887100438440063, 0.013871348686246225, 0.013871348686246225, 0.013871348686246225, 0.041614046058738675, 0.013871348686246225, 0.013871348686246225, 0.013871348686246225, 0.8322809211747735, 0.041614046058738675, 0.013871348686246225, 0.2034068832029229, 0.587619884808444, 0.11300382400162383, 0.022600764800324767, 0.022600764800324767, 0.022600764800324767, 0.045201529600649534, 0.03501524977200565, 0.017507624886002826, 0.017507624886002826, 0.0700304995440113, 0.017507624886002826, 0.05252287465800847, 0.03501524977200565, 0.6652897456681073, 0.08753812443001412, 0.6180518303865894, 0.37083109823195365, 0.5637534614824027, 0.15987038459948735, 0.00841423076839407, 0.16828461536788142, 0.03365692307357628, 0.05048538461036442, 0.22451491621965222, 0.10362226902445487, 0.18997415987816726, 0.44902983243930444, 0.01727037817074248, 0.7828777267378753, 0.20876739379676673, 0.10208658714649542, 0.14225180176151, 0.02342970852542518, 0.35479272909929555, 0.07530977740315235, 0.0769833280121113, 0.06192137253148083, 0.11714854262712589, 0.02342970852542518, 0.02342970852542518, 0.1425974894359616, 0.012963408130541964, 0.025926816261083927, 0.1750060097623165, 0.025926816261083927, 0.0712987447179808, 0.019445112195812943, 0.4602009886342397, 0.038890224391625886, 0.019445112195812943, 0.027502025290436112, 0.027502025290436112, 0.027502025290436112, 0.027502025290436112, 0.8525627840035195, 0.8362757085413443, 0.036359813414841055, 0.07271962682968211, 0.016828573320241905, 0.016828573320241905, 0.016828573320241905, 0.016828573320241905, 0.03365714664048381, 0.08414286660120954, 0.7909429460513696, 0.016828573320241905, 0.7540916268083211, 0.2111456555063299, 0.03829668662181807, 0.7659337324363615, 0.019148343310909036, 0.1531867464872723, 0.21690723635555542, 0.02121918616521738, 0.1579650525632849, 0.17682655137681147, 0.11552668023285016, 0.2051187995971013, 0.04008068497874394, 0.03300762292367147, 0.0235768735169082, 0.00943074940676328, 0.01253140719454763, 0.02506281438909526, 0.2130339223073097, 0.01253140719454763, 0.2506281438909526, 0.11278266475092867, 0.1253140719454763, 0.22556532950185734, 0.02506281438909526, 0.0676058216246493, 0.5408465729971944, 0.16901455406162327, 0.1352116432492986, 0.9233043521146561, 0.0738603829483336, 0.0184650957370834, 0.12925567015958378, 0.7570689252204194, 0.0184650957370834, 0.9365168982591542, 0.026014358284976506, 0.026014358284976506, 0.02407554739885963, 0.5778131375726311, 0.21667992658973667, 0.14445328439315777, 0.9786534459959201, 0.06878397633084199, 0.034391988165420995, 0.240743917157947, 0.6190557869775779, 0.034391988165420995, 0.6491835766150845, 0.3075080099755663, 0.01708377833197591, 0.01708377833197591, 0.03356276489689136, 0.7719435926285014, 0.03356276489689136, 0.03356276489689136, 0.06712552979378272, 0.03356276489689136, 0.0634403547104841, 0.13956878036306503, 0.6090274052206474, 0.05075228376838728, 0.11419263847887139, 0.02537614188419364, 0.06574652345519647, 0.0986197851827947, 0.4602256641863752, 0.36160587900358054, 0.10034699272949706, 0.36793897334148923, 0.016724498788249508, 0.016724498788249508, 0.5017349636474853, 0.026322688905613918, 0.07896806671684176, 0.026322688905613918, 0.026322688905613918, 0.026322688905613918, 0.7896806671684176, 0.025160163200600615, 0.012580081600300308, 0.012580081600300308, 0.012580081600300308, 0.012580081600300308, 0.03774024480090093, 0.06290040800150154, 0.7799650592186191, 0.05032032640120123, 0.011220705993471103, 0.011220705993471103, 0.011220705993471103, 0.03366211798041331, 0.03366211798041331, 0.7966701255364483, 0.11220705993471104, 0.0844160447326172, 0.1817091132380065, 0.06152355802546677, 0.21747862371792903, 0.14021648108129636, 0.12877023772772114, 0.13592413982370566, 0.021461706287953523, 0.012877023772772115, 0.01716936503036282, 0.3102127526239587, 0.5474342693363977, 0.018247808977879924, 0.12773466284515947, 0.3631949731353483, 0.02269968582095927, 0.13619811492575562, 0.09079874328383708, 0.06809905746287781, 0.3177956014934298, 0.07797065303803297, 0.6627505508232803, 0.11695597955704946, 0.07797065303803297, 0.1603166517930839, 0.053438883931027976, 0.10687776786205595, 0.26719441965513985, 0.3740721875171958, 0.3151858538660887, 0.11138146715568548, 0.16707220073352821, 0.09953237490508064, 0.06872473505350805, 0.08886819187953629, 0.05806055202796371, 0.05569073357784274, 0.020143456826028226, 0.015403819925786289, 0.00530206927270743, 0.026510346363537152, 0.00530206927270743, 0.03181241563624458, 0.00530206927270743, 0.1590620781812229, 0.6733627976338437, 0.07953103909061145, 0.043952154832378694, 0.8350909418151952, 0.08790430966475739, 0.9808737993938671, 0.05609766905746511, 0.05609766905746511, 0.8414650358619766, 0.857919390800048, 0.107239923850006, 0.5909302325962053, 0.4018325581654196, 0.43911490755463084, 0.1312817764854051, 0.022634789049207776, 0.09959307181651421, 0.0905391561968311, 0.1584435233444544, 0.00905391561968311, 0.02716174685904933, 0.013580873429524664, 0.7690855663069569, 0.20063101729746702, 0.6679616501934594, 0.031807697628259975, 0.2226538833978198, 0.06361539525651995, 0.031807697628259975, 0.09010799429525937, 0.0965442796020636, 0.061144710414640285, 0.10941685021567209, 0.10298056490886785, 0.24457884165856114, 0.09010799429525937, 0.03861771184082544, 0.1126349928690742, 0.051490282454433926, 0.15263819276925858, 0.07827599629192748, 0.2733136870526468, 0.15589969261475556, 0.10828179487049969, 0.10958639480869847, 0.06979609669363533, 0.01956899907298187, 0.01956899907298187, 0.013698299351087309, 0.9908497267796894, 0.11216708134176624, 0.5888771770442728, 0.05608354067088312, 0.05608354067088312, 0.02804177033544156, 0.02804177033544156, 0.08412531100632469, 0.02804177033544156, 0.1670543169331259, 0.1421738867515965, 0.09241302638853773, 0.0853043320509579, 0.08885867921974781, 0.15994562259554607, 0.09952172072611756, 0.06042390186942852, 0.0853043320509579, 0.021326083012739475, 0.10866364770529884, 0.6157606703300268, 0.21732729541059767, 0.46662749221433036, 0.366635886739831, 0.058328436526791295, 0.09999160547449937, 0.05991386129791726, 0.05991386129791726, 0.05991386129791726, 0.7189663355750071, 0.5458513070019154, 0.015821777014548274, 0.007910888507274137, 0.007910888507274137, 0.2847919862618689, 0.04746533104364482, 0.07910888507274137, 0.02373266552182241, 0.1264538412943515, 0.21963035593229469, 0.06877314175657713, 0.07542860708785878, 0.031058838212647735, 0.19522698305092862, 0.22406733281981578, 0.031058838212647735, 0.026621861325126627, 0.004436976887521105, 0.06263559098576998, 0.09636244767041537, 0.18515356016672666, 0.1204530595880192, 0.14454367150562306, 0.15349161307501877, 0.12389457557624832, 0.06745371336929075, 0.03166194709170791, 0.014454367150562305, 0.02168388799716685, 0.1734711039773348, 0.6938844159093392, 0.06505166399150056, 0.02168388799716685, 0.9864327634292928, 0.1569453592759903, 0.13052088552033886, 0.18176834977372344, 0.17616315837100952, 0.08487861266966822, 0.10890086153844225, 0.11370531131219705, 0.02882669864252883, 0.008808157918550476, 0.010409641176468745, 0.14016732494443343, 0.07008366247221672, 0.07377227628654391, 0.13647871113010623, 0.14754455257308782, 0.059017821029235126, 0.11803564205847025, 0.18443069071635976, 0.036886138143271956, 0.03319752432894476, 0.010519989768944273, 0.16831983630310837, 0.49443951914038087, 0.010519989768944273, 0.09467990792049846, 0.07363992838260992, 0.05259994884472137, 0.08415991815155419, 0.010519989768944273, 0.04786942430494337, 0.8137802131840374, 0.04786942430494337, 0.11322018296707978, 0.3487912088179393, 0.16983027445061966, 0.07395834532526986, 0.06939301536691986, 0.05752315747520989, 0.09495886313367981, 0.026478913758429947, 0.005478395950019989, 0.04017490363347992, 0.9147238805768824, 0.01693933112179412, 0.06775732448717647, 0.01650985188789813, 0.3632167415337588, 0.37972659342165693, 0.21462807454267566, 0.1274895644021642, 0.25860442447453214, 0.32144288275806326, 0.143199178973047, 0.060421594503395355, 0.08277758446965164, 0.005437943505305582, 0.06489564776433818, 0.9344973278064698, 0.13577620089737735, 0.08486012556086084, 0.0509160753365165, 0.01697202511217217, 0.0509160753365165, 0.5940208789260258, 0.03394405022434434, 0.03394405022434434, 0.038320223147495204, 0.6897640166549136, 0.038320223147495204, 0.15328089258998082, 0.038320223147495204, 0.038320223147495204, 0.023076407101934395, 0.011538203550967198, 0.011538203550967198, 0.05769101775483599, 0.011538203550967198, 0.09230562840773758, 0.646139398854163, 0.13845844261160636, 0.45280016222160585, 0.025874294984091765, 0.0646857374602294, 0.05174858996818353, 0.025874294984091765, 0.012937147492045883, 0.3622401297772847, 0.02228828126947882, 0.04457656253895764, 0.02228828126947882, 0.5572070317369705, 0.2005945314253094, 0.1114414063473941, 0.04457656253895764, 0.5293099760176955, 0.008019848121480235, 0.008019848121480235, 0.15237711430812445, 0.03207939248592094, 0.008019848121480235, 0.03207939248592094, 0.2085160511584861, 0.01603969624296047, 0.15303403123033488, 0.01275283593586124, 0.05101134374344496, 0.14028119529447364, 0.637641796793062, 0.01275283593586124, 0.2838676015813311, 0.6812822437951948, 0.05952541228121233, 0.06388093025300835, 0.2163240592658692, 0.20906486264620916, 0.10453243132310458, 0.13356921780174474, 0.12340634253422068, 0.05516989430941631, 0.017422071887184098, 0.018873911211116104, 0.025664108122551682, 0.11976583790524119, 0.17964875685786177, 0.042773513537586134, 0.059882918952620594, 0.0941017297826895, 0.4106257299608269, 0.017109405415034456, 0.042773513537586134, 0.007132974843000528, 0.014265949686001056, 0.057063798744004225, 0.007132974843000528, 0.19972329560401478, 0.5920369119690438, 0.12126057233100897, 0.017124655311938526, 0.23974517436713935, 0.7192355231014181, 0.017124655311938526, 0.79283270879188, 0.0495520442994925, 0.0495520442994925, 0.0495520442994925, 0.03293955391960402, 0.03293955391960402, 0.03293955391960402, 0.8893679558293086, 0.027499413254369862, 0.027499413254369862, 0.054998826508739725, 0.7149847446136164, 0.08249823976310959, 0.08249823976310959, 0.027499413254369862, 0.049102096618273, 0.589225159419276, 0.147306289854819, 0.098204193236546, 0.049102096618273, 0.049102096618273, 0.08666336423280009, 0.16413515953181837, 0.14049969655923653, 0.19958835399069114, 0.14443894038800018, 0.15888283442680018, 0.042018600840145505, 0.022322381696327297, 0.024948544248836392, 0.014443894038800016, 0.128546792282212, 0.128546792282212, 0.17139572304294934, 0.5570360998895854, 0.25368682741609627, 0.1244501417512925, 0.1902651205620722, 0.10769723805400312, 0.06102843489726844, 0.07778133859455781, 0.14838286131884876, 0.015556267718911563, 0.0095730878270225, 0.010769723805400313, 0.042694990919603444, 0.0996216454790747, 0.8254364911123332, 0.014231663639867814, 0.4152523533426632, 0.04983028240111958, 0.04152523533426632, 0.15364337073678538, 0.03737271180083969, 0.18686355900419843, 0.1038130883356658, 0.012457570600279895, 0.004152523533426632, 0.08040299355776093, 0.9153571574268168, 0.09005958712602599, 0.045029793563012996, 0.045029793563012996, 0.8555660776972469, 0.07497379536837571, 0.07497379536837571, 0.7997204839293409, 0.024991265122791904, 0.024991265122791904, 0.03072154180460869, 0.9523677959428695, 0.15443060485315394, 0.025738434142192325, 0.3345996438485002, 0.1029537365687693, 0.025738434142192325, 0.025738434142192325, 0.36033807799069256, 0.1475174368418243, 0.07375871842091215, 0.11347495141678793, 0.056737475708393964, 0.11347495141678793, 0.3517723493920426, 0.05106372813755457, 0.05106372813755457, 0.022694990283357586, 0.022694990283357586, 0.7845452960735642, 0.031381811842942565, 0.07845452960735641, 0.0941454355288277, 0.015690905921471283, 0.02360929459690464, 0.3423347716551173, 0.04721858919380928, 0.5194044811319021, 0.04721858919380928, 0.6187410524908046, 0.16282659276073805, 0.03256531855214761, 0.08141329638036902, 0.016282659276073804, 0.06513063710429522, 0.03256531855214761, 0.1304054231483733, 0.026081084629674664, 0.6781082003715413, 0.10432433851869866, 0.2888399212343832, 0.0795223833778207, 0.1617869179066007, 0.12522490256047625, 0.07129592992494269, 0.0795223833778207, 0.11791249949125136, 0.02650746112594023, 0.038390116113430676, 0.011882654987490448, 0.04692761102459334, 0.07625736791496418, 0.09385522204918668, 0.017597854134222504, 0.26983376339141174, 0.46341015886785925, 0.017597854134222504, 0.011731902756148336, 0.14115179078039838, 0.07364441258107741, 0.0828499641537121, 0.352879476950996, 0.11660365325337259, 0.07671292977195565, 0.06750737819932097, 0.055233309435808065, 0.018411103145269354, 0.012274068763512903, 0.0689154600298914, 0.0689154600298914, 0.04594364001992761, 0.6202391402690227, 0.18377456007971044, 0.022971820009963805, 0.037173466142024734, 0.6691223905564452, 0.18586733071012365, 0.07434693228404947, 0.07276431765198721, 0.8731718118238464, 0.02007443890400703, 0.10037219452003514, 0.8632008728723022, 0.02007443890400703, 0.07682510858664197, 0.9219013030397037, 0.07514124681395366, 0.012523541135658943, 0.901694961767444, 0.13042834435233916, 0.19062604174572648, 0.20968864592029912, 0.1073525603515407, 0.06922735200239541, 0.11236903513432298, 0.0782570066114035, 0.028092258783580744, 0.052171337740935665, 0.022072489044242014, 0.057090634258435656, 0.057090634258435656, 0.057090634258435656, 0.11418126851687131, 0.22836253703374262, 0.45672507406748525, 0.013900624426740178, 0.013900624426740178, 0.9730437098718124, 0.29014615075028494, 0.11605846030011396, 0.04642338412004558, 0.15087599839014815, 0.07350369152340551, 0.13927015236013676, 0.03094892274669706, 0.03094892274669706, 0.04642338412004558, 0.07737230686674264, 0.024813462461302525, 0.4962692492260505, 0.04962692492260505, 0.24813462461302524, 0.0992538498452101, 0.024813462461302525, 0.04962692492260505, 0.21164352109546886, 0.15966090187903792, 0.2574377332623247, 0.07921161023456144, 0.08663769869405158, 0.12129277817167221, 0.03341739806770561, 0.04208116793711077, 0.002475362819830045, 0.007426088459490135, 0.14034577900071646, 0.6109169203560599, 0.05778943841205972, 0.09081197464752241, 0.09081197464752241, 0.9751906451266236, 0.025662911713858514, 0.05919246035854652, 0.039461640239031016, 0.8878869053781978, 0.022440048814533032, 0.4936810739197267, 0.029920065086044043, 0.044880097629066064, 0.014960032543022021, 0.14212030915870918, 0.20944045560230828, 0.007480016271511011, 0.014960032543022021, 0.014960032543022021, 0.05131047973305118, 0.2027985627544404, 0.25410904248749155, 0.05375383591081553, 0.20524191893220473, 0.02199020559987908, 0.1808083571545613, 0.02199020559987908, 0.004886712355528684, 0.002443356177764342, 0.36978060891791487, 0.03504456751182853, 0.0894240688232866, 0.251354139395184, 0.0870072020983329, 0.04592046777412014, 0.04229516768668961, 0.0447120344116433, 0.013292766987245306, 0.021751800524583226, 0.8681189698908306, 0.06944951759126645, 0.03472475879563323, 0.3014436557798176, 0.6890140703538687, 0.045178520991758515, 0.022589260495879258, 0.60991003338874, 0.29366038644643033, 0.022206477641250846, 0.6661943292375254, 0.26647773169501016, 0.022206477641250846, 0.022206477641250846, 0.12410036425250688, 0.6360143667940977, 0.17063800084719696, 0.01551254553156336, 0.04653763659469008, 0.2817987269253336, 0.09110785908112289, 0.09322664650161412, 0.17162178105978962, 0.12924603264996504, 0.13136482007045627, 0.03390059872785968, 0.040256960989333374, 0.01483151194343861, 0.01271272452294738, 0.6119596183885733, 0.1882952671964841, 0.14122145039736306, 0.047073816799121024, 0.24081954945061057, 0.10946343156845935, 0.2189268631369187, 0.41596103996014555, 0.03484661260214276, 0.06969322520428552, 0.8363187024514263, 0.03484661260214276, 0.21873207239106862, 0.7436890461296334, 0.03711340959529415, 0.16701034317882368, 0.22268045757176488, 0.03711340959529415, 0.05567011439294122, 0.38969080075058854, 0.05567011439294122, 0.21188825544245696, 0.6180074117071661, 0.03531470924040949, 0.12360148234143323, 0.017657354620204745, 0.9753945026737207, 0.7549051592705937, 0.07549051592705937, 0.037745257963529684, 0.07549051592705937, 0.037745257963529684, 0.1187336990708316, 0.11025272056577219, 0.008480978505059399, 0.1950625056163662, 0.39860598973779177, 0.042404892525297, 0.042404892525297, 0.0508858710303564, 0.008480978505059399, 0.015137134540159185, 0.7417195924678001, 0.10595994178111429, 0.015137134540159185, 0.03027426908031837, 0.015137134540159185, 0.015137134540159185, 0.015137134540159185, 0.015137134540159185, 0.9670186236130854, 0.9839627644919039, 0.10002116233000244, 0.02500529058250061, 0.8501798798050207, 0.39017262493326554, 0.11147789283807587, 0.44591157135230347, 0.1374726710446819, 0.1077785740990306, 0.2452512451437125, 0.14187179651811171, 0.09568097904709859, 0.14847048472825644, 0.06268753799637494, 0.016496720525361826, 0.014297157788646916, 0.029694096945651286, 0.06653854601304653, 0.15408926445126564, 0.09455477591327664, 0.03151825863775888, 0.2661541840521861, 0.25214606910207105, 0.1085628908633917, 0.014008114950115056, 0.003502028737528764, 0.017510143687643823, 0.6125532730339798, 0.18376598191019394, 0.18376598191019394, 0.28106467719704986, 0.012220203356393473, 0.012220203356393473, 0.672111184601641, 0.024440406712786945, 0.016472375570554285, 0.642422647251617, 0.0988342534233257, 0.2141408824172057, 0.016472375570554285, 0.13407151313232119, 0.7820838266052069, 0.0446905043774404, 0.0223452521887202, 0.0223452521887202, 0.033663132287238585, 0.7910836087501067, 0.15148409529257365, 0.1589240913605963, 0.13243674280049691, 0.6621837140024845, 0.026487348560099384, 0.026487348560099384, 0.16095379815322583, 0.04292101284086022, 0.579433673351613, 0.06438151926129033, 0.010730253210215056, 0.02146050642043011, 0.08584202568172045, 0.010730253210215056, 0.02146050642043011, 0.010730253210215056, 0.3553797015183847, 0.02538426439417034, 0.07615279318251102, 0.4061482303067254, 0.12692132197085168, 0.10012922345084409, 0.6258076465677755, 0.025032305862711022, 0.2252907527643992, 0.025032305862711022, 0.025032305862711022, 0.044760568658548786, 0.044760568658548786, 0.7161690985367806, 0.13428170597564637, 0.044760568658548786, 0.9721634916023744, 0.6603635919275797, 0.04716882799482711, 0.04716882799482711, 0.18867531197930845, 0.3660475788425796, 0.030503964903548297, 0.2135277543248381, 0.07117591810827936, 0.14235183621655872, 0.027114635469820708, 0.04745061207218624, 0.0915118947106449, 0.0033893294337275885, 0.10555166293792026, 0.10555166293792026, 0.15832749440688038, 0.05277583146896013, 0.5277583146896013, 0.01167340777435073, 0.2101213399383131, 0.10506066996915656, 0.6653842431379915, 0.20105271370505165, 0.016754392808754303, 0.3518422489838404, 0.13403514247003442, 0.3015790705575775, 0.088137588061768, 0.1850889349297128, 0.0969513468679448, 0.4935704931459008, 0.0176275176123536, 0.0088137588061768, 0.0616963116432376, 0.0264412764185304, 0.0264412764185304, 0.9929652636614613, 0.37107234800654504, 0.06831457452840159, 0.1459447728561307, 0.11955050542470279, 0.08073540626083825, 0.13197133715713943, 0.021736455531764145, 0.02639426743142789, 0.023289059498318727, 0.00931562379932749, 0.0858640973160906, 0.0429320486580453, 0.0286213657720302, 0.0143106828860151, 0.0572427315440604, 0.0715534144300755, 0.6296700469846643, 0.0715534144300755, 0.7485293890706785, 0.034024063139576295, 0.17012031569788147, 0.2677764096823638, 0.0839637894766734, 0.053328352775725, 0.18835120342064576, 0.11232993457014415, 0.13956143385987607, 0.04992441536450851, 0.06694410242059096, 0.01815433285982128, 0.019288978663560108, 0.10138121954833684, 0.056322899749076026, 0.07885205964870644, 0.011264579949815206, 0.5069060977416843, 0.2140270190464889, 0.033793739849445614, 0.2740003099570331, 0.712400805888286, 0.30230518004002466, 0.14458073828001178, 0.2307450166489077, 0.06717892889778325, 0.026287406960002143, 0.06863934039556115, 0.0905455128622296, 0.03943111044000321, 0.005841645991111587, 0.026287406960002143, 0.19368138165801793, 0.02421017270725224, 0.12105086353626121, 0.6536746630958106, 0.251764737004612, 0.6294118425115299, 0.0944117763767295, 0.6054019363690057, 0.04656937972069275, 0.2794162783241565, 0.1872461447223053, 0.020805127191367255, 0.7905948332719558, 0.04982146242170159, 0.04982146242170159, 0.14946438726510475, 0.14946438726510475, 0.14946438726510475, 0.4483931617953143, 0.03431618778801126, 0.13726475115204503, 0.10294856336403378, 0.6520075679722139, 0.03431618778801126, 0.02264110485755121, 0.36225767772081935, 0.543386516581229, 0.02264110485755121, 0.02264110485755121, 0.02264110485755121, 0.02264110485755121, 0.7509592791285926, 0.044174075242858386, 0.044174075242858386, 0.13252222572857517, 0.022087037621429193, 0.12646728888916267, 0.5761287604950743, 0.0702596049384237, 0.014051920987684742, 0.11241536790147794, 0.014051920987684742, 0.042155762963054226, 0.042155762963054226, 0.6165081835658901, 0.028023099252995003, 0.028023099252995003, 0.28023099252995004, 0.028023099252995003, 0.18828066862687226, 0.06276022287562409, 0.6903624516318649, 0.08644079405717908, 0.05762719603811939, 0.3529665757334812, 0.3709750744953936, 0.06122889579050185, 0.010805099257147385, 0.01800849876191231, 0.02161019851429477, 0.014406799009529847, 0.0036016997523824618, 0.6066033776170058, 0.3266325879476185, 0.562677387273241, 0.27008514589115573, 0.09002838196371857, 0.045014190981859284, 0.9601326362638647, 0.06562410464627376, 0.043749403097515835, 0.19687231393882126, 0.13124820929254752, 0.021874701548757917, 0.043749403097515835, 0.4812434340726742, 0.02382683484231086, 0.3097488529500412, 0.3097488529500412, 0.333575687792352, 0.20440051728950864, 0.08176020691580346, 0.04088010345790173, 0.6336416035974768, 0.020440051728950866, 0.5986157881770127, 0.054419617107001154, 0.054419617107001154, 0.027209808553500577, 0.2448882769815052, 0.27972795927056815, 0.09208435926298206, 0.08165971481811617, 0.03822369629784161, 0.4030862518681479, 0.03301137407540866, 0.03822369629784161, 0.03127393333459768, 0.0017374407408109823, 0.0017374407408109823, 0.19988201646345685, 0.028554573780493836, 0.7138643445123459, 0.05710914756098767, 0.07961702699720061, 0.2178992317818122, 0.03352295873566342, 0.26818366988530734, 0.07123628731328475, 0.058665177787410976, 0.09637850636503231, 0.05028443810349512, 0.10056887620699025, 0.02514221905174756, 0.18025716727950428, 0.6609429466915158, 0.060085722426501426, 0.587299444773879, 0.18686800515532512, 0.05339085861580718, 0.16017257584742153, 0.22709243424229633, 0.2523249269358848, 0.5046498538717696, 0.9809106357920644, 0.4269917772267001, 0.07116529620445002, 0.4269917772267001, 0.06114555867524663, 0.15897845255564125, 0.5380809163421704, 0.048916446940197304, 0.09783289388039461, 0.024458223470098652, 0.024458223470098652, 0.03668733520514798, 0.012229111735049326, 0.8024846381800602, 0.029721653265928155, 0.14860826632964078, 0.010818267345684862, 0.04868220305558188, 0.08113700509263647, 0.43813982750023694, 0.03786393570989702, 0.21636534691369724, 0.07572787141979404, 0.027045668364212155, 0.05950047040126674, 0.005409133672842431, 0.4558510846419553, 0.16448235012854057, 0.07049243576937453, 0.09868941007712434, 0.018797982871833208, 0.11748739294895755, 0.02819697430774981, 0.04229546146162472, 0.004699495717958302, 0.004699495717958302, 0.09357487915436513, 0.05347135951678008, 0.6550241540805559, 0.1336783987919502, 0.02673567975839004, 0.04010351963758506, 0.8721867108832332, 0.04360933554416166, 0.04360933554416166, 0.024493372322845437, 0.024493372322845437, 0.563347563425445, 0.3674005848426815, 0.08851665683540086, 0.7081332546832069, 0.17703331367080172, 0.09775050838081184, 0.14820238367413407, 0.2853684196278539, 0.10721023499830976, 0.14820238367413407, 0.06779470742540177, 0.10090375058664448, 0.01734283213207952, 0.01418958992624688, 0.01418958992624688, 0.09504884340312597, 0.22178063460729394, 0.28778677585946477, 0.042243930401389324, 0.17425621290573096, 0.058085404301910316, 0.08712810645286548, 0.026402456500868327, 0.0052804913001736654, 0.011890334126122884, 0.17835501189184325, 0.5945167063061442, 0.08323233888286018, 0.1426840095134746, 0.9730498053155076, 0.14929966803812755, 0.10830027733335677, 0.047187977980962595, 0.26378853264767615, 0.14465822758098368, 0.13150747961907608, 0.057244432304774294, 0.05647085889525032, 0.024754349104767263, 0.018565761828575448, 0.12419884660389097, 0.3725965398116729, 0.04139961553463032, 0.04139961553463032, 0.04139961553463032, 0.3725965398116729, 0.03331565765949561, 0.6441027147502485, 0.011105219219831871, 0.1110521921983187, 0.044420876879327484, 0.13326263063798244, 0.011105219219831871, 0.14390961235162172, 0.004111703210046335, 0.6496491071873209, 0.020558516050231675, 0.037005328890417015, 0.14390961235162172, 0.33140690408076995, 0.08392772246201317, 0.14848750897125407, 0.2108953025968536, 0.047343843440109994, 0.047343843440109994, 0.06886377227652363, 0.01936793595277227, 0.02582391460369636, 0.015063950185489543, 0.07666277382368815, 0.11243873494140928, 0.3347607790301049, 0.16865810241211393, 0.0868844770001799, 0.13032671550026984, 0.051108515882458766, 0.022998832147106445, 0.005110851588245876, 0.010221703176491752, 0.019426538165550365, 0.019426538165550365, 0.796488064787565, 0.13598576715885255, 0.03885307633110073, 0.3172009101638649, 0.09169088809424221, 0.07351791928277078, 0.14703583856554156, 0.08673462387293182, 0.14290561838111623, 0.06938769909834545, 0.04295428991802338, 0.011564616516390909, 0.016520880737701298, 0.6561130927649736, 0.1968339278294921, 0.06561130927649737, 0.06561130927649737, 0.6756792622552765, 0.011168252268682257, 0.07259363974643467, 0.08934601814945806, 0.027920630671705644, 0.027920630671705644, 0.027920630671705644, 0.04467300907472903, 0.011168252268682257, 0.011168252268682257, 0.737916137726178, 0.047101030067628384, 0.01570034335587613, 0.03140068671175226, 0.07850171677938064, 0.03140068671175226, 0.06280137342350452, 0.01570034335587613, 0.044719620444837335, 0.23254202631315415, 0.017887848177934935, 0.2727896847135078, 0.06707943066725601, 0.049191582489321074, 0.26831772266902404, 0.013415886133451202, 0.004471962044483734, 0.022359810222418668, 0.5808799900654067, 0.03416941118031804, 0.3416941118031804, 0.11085980732312836, 0.2586728837539662, 0.2586728837539662, 0.3695326910770945, 0.3660590879900696, 0.034318039499069024, 0.17159019749534513, 0.08922690269757946, 0.1624387202955934, 0.05490886319851044, 0.0388937780989449, 0.06863607899813805, 0.00457573859987587, 0.01372721579962761, 0.0567456428882214, 0.1702369286646642, 0.7093205361027675, 0.0283728214441107, 0.14942157244453763, 0.030914808091973302, 0.12365923236789321, 0.12108299836022876, 0.19321755057483314, 0.07728702022993325, 0.061829616183946605, 0.20609872061315535, 0.0051524680153288835, 0.030914808091973302, 0.048273720457053595, 0.9172006886840183, 0.16055495430053365, 0.05108566727744252, 0.19600215200324886, 0.14491648472580634, 0.14700161400243664, 0.17098060068368517, 0.08861799425678805, 0.03336206842608491, 0.0052128231915757675, 0.0031276939149454605, 0.1482579659884394, 0.11019173147789416, 0.0741289829942197, 0.2864985018425248, 0.050087150671770074, 0.07613246902109051, 0.05209063669864088, 0.10017430134354015, 0.08614989915544452, 0.016027888214966424, 0.15616758116950555, 0.7183708733797255, 0.03123351623390111, 0.06246703246780222, 0.03123351623390111, 0.07519144819137456, 0.24424604647399525, 0.20236087734725638, 0.05752902747527987, 0.12060910146133236, 0.1589617864448523, 0.08629354121291981, 0.016653139532317857, 0.019680983083648376, 0.018671701899871537, 0.7131780515611974, 0.04457362822257484, 0.17829451289029935, 0.04457362822257484, 0.986711411561167, 0.0865714784649578, 0.27783404716660876, 0.1318705078942962, 0.11375089612256084, 0.1630765059456182, 0.08757812356338755, 0.10469109023669317, 0.016106321574875872, 0.009059805885867677, 0.010066450984297419, 0.13100112501018887, 0.2050452391463826, 0.4727431902541599, 0.0341742065243971, 0.011391402174799033, 0.05695701087399516, 0.04556560869919613, 0.039869907611796616, 0.0056957010873995165, 0.07869949680521897, 0.30322453180834363, 0.16434306685795724, 0.03240567515509016, 0.231469108250644, 0.07407011464020609, 0.08564357005273829, 0.009258764330025761, 0.00694407324751932, 0.01388814649503864, 0.05479014418890787, 0.03652676279260524, 0.8949056884188286, 0.2431732787825819, 0.027019253198064655, 0.5674043171593578, 0.027019253198064655, 0.05403850639612931, 0.013509626599032327, 0.05403850639612931, 0.013509626599032327, 0.2445651013234599, 0.09386011996738192, 0.2921561480674845, 0.150704981356078, 0.06742064955403489, 0.022473549851344966, 0.06742064955403489, 0.03569328505801847, 0.013219735206673508, 0.013219735206673508, 0.11873057427046396, 0.7123834456227838, 0.039576858090154654, 0.039576858090154654, 0.039576858090154654, 0.039576858090154654, 0.1276730634610723, 0.2785594111877941, 0.10445977919542279, 0.14798468719351562, 0.1001072883956135, 0.09430396732920113, 0.06963985279694852, 0.03917241719828355, 0.01740996319923713, 0.020311623732443322, 0.7207295635514447, 0.07791670957312916, 0.1558334191462583, 0.01947917739328229, 0.1584920478392231, 0.06908627726325109, 0.12801280787014174, 0.10362941589487665, 0.17068374382685564, 0.09753356790106037, 0.156460098507951, 0.06299042926943482, 0.030479239969081365, 0.018287543981448818, 0.05372162183055045, 0.5506466237631421, 0.2148864873222018, 0.16116486549165135, 0.013430405457637613, 0.09880872277293962, 0.14821308415940943, 0.07410654207970471, 0.6669588787173425, 0.12278667783073416, 0.33327812554056413, 0.0993987391963086, 0.08185778522048943, 0.06724032357397347, 0.12278667783073416, 0.09355175453770222, 0.03508190795163833, 0.029234923293031942, 0.008770476987909583, 0.07236434666822855, 0.07236434666822855, 0.07236434666822855, 0.5789147733458284, 0.5635276507000962, 0.37568510046673087, 0.31114064500673144, 0.03762158125898387, 0.07625996201145378, 0.080327159985398, 0.1047303478290632, 0.2501326753975684, 0.06100796960916303, 0.06507516758310723, 0.007117596454402354, 0.007117596454402354, 0.09680582496579178, 0.12178797334406062, 0.05933260239838851, 0.2935402434446589, 0.08431475077665734, 0.09056028787122457, 0.11866520479677702, 0.037473222567403264, 0.07494644513480653, 0.021859379830985237, 0.12346463170513834, 0.15985420736560016, 0.0688802682144456, 0.09617244995979198, 0.18454713370662784, 0.2417307526016393, 0.04028845876693988, 0.035089947958302475, 0.036389575660461825, 0.01299627702159351, 0.7972352429256307, 0.14495186235011467, 0.9664203287221461, 0.4972279810539056, 0.16760493743390076, 0.022347324991186766, 0.050281481230170226, 0.04469464998237353, 0.10056296246034045, 0.050281481230170226, 0.04469464998237353, 0.005586831247796692, 0.022347324991186766, 0.2105769470229474, 0.07203948187627147, 0.11637147072320778, 0.0027707493029335184, 0.11637147072320778, 0.2909286768080194, 0.12468371863200833, 0.027707493029335183, 0.0027707493029335184, 0.03601974093813574, 0.5413867608393385, 0.025377504414343992, 0.042295840690573315, 0.08459168138114663, 0.11842835393360529, 0.0676733451049173, 0.03383667255245865, 0.0676733451049173, 0.025377504414343992, 0.12522321686843813, 0.2057238562838626, 0.008944515490602723, 0.4740593210019443, 0.1162787013778354, 0.05366709294361634, 0.017889030981205447, 0.7045921835725367, 0.03063444276402334, 0.06126888552804668, 0.06126888552804668, 0.12253777105609336, 0.03063444276402334, 0.03258479758364668, 0.09775439275094003, 0.8472047371748136, 0.04714408153931003, 0.04714408153931003, 0.8014493861682706, 0.04714408153931003, 0.040202915443457034, 0.040202915443457034, 0.8844641397560546, 0.0163588550966302, 0.0654354203865208, 0.0163588550966302, 0.0327177101932604, 0.81794275483151, 0.0490765652898906, 0.08194065400807427, 0.04097032700403713, 0.8194065400807427, 0.04097032700403713, 0.044724928659502464, 0.022362464329751232, 0.022362464329751232, 0.8497736445305468, 0.022362464329751232, 0.02930713811601437, 0.02930713811601437, 0.8792141434804311, 0.06556826007120524, 0.03278413003560262, 0.03278413003560262, 0.8196032508900655, 0.03278413003560262, 0.020270620381365494, 0.08108248152546198, 0.020270620381365494, 0.04054124076273099, 0.7702835744918889, 0.060811861144096487, 0.0660459456281787, 0.0220153152093929, 0.0220153152093929, 0.0220153152093929, 0.8145666627475373, 0.0660459456281787, 0.1022495279592968, 0.15337429193894522, 0.7157466957150777, 0.020059772962448152, 0.08023909184979261, 0.020059772962448152, 0.020059772962448152, 0.8224506914603742, 0.040119545924896305, 0.046638845624778005, 0.046638845624778005, 0.8861380668707821, 0.08634815610819759, 0.04317407805409879, 0.8634815610819759, 0.06397265730788361, 0.831644545002487, 0.06206775307722046, 0.03103387653861023, 0.03103387653861023, 0.03103387653861023, 0.806880790003866, 0.01624150720906624, 0.06496602883626496, 0.01624150720906624, 0.03248301441813248, 0.8283168676623782, 0.03248301441813248, 0.020461759989872073, 0.06138527996961622, 0.040923519979744145, 0.020461759989872073, 0.818470399594883, 0.040923519979744145, 0.07512045215553663, 0.018780113038884157, 0.037560226077768315, 0.8075448606720188, 0.037560226077768315, 0.01979106964407091, 0.05937320893221273, 0.01979106964407091, 0.01979106964407091, 0.8312249250509781, 0.03958213928814182, 0.05414476321633211, 0.8121714482449817, 0.05414476321633211, 0.07581477182855398, 0.018953692957138495, 0.018953692957138495, 0.018953692957138495, 0.8339624901140938, 0.03790738591427699, 0.017335441058157063, 0.06934176423262825, 0.017335441058157063, 0.034670882116314125, 0.7800948476170678, 0.06934176423262825, 0.9789656519008424, 0.10763992327645061, 0.8611193862116049, 0.9631729398480001, 0.07715927082959904, 0.8487519791255895, 0.09579965073578865, 0.8621968566220979, 0.039561286962030505, 0.9494708870887322, 0.06541128363024597, 0.9157579708234436, 0.992086231539377, 0.9759497286672664, 0.023799293201387267, 0.975771021256878, 0.9614015919075278, 0.9959399884382035, 0.07483091118459768, 0.9166786620113215, 0.062491900760278614, 0.8748866106439006, 0.1472146360810433, 0.841226491891676, 0.9912203561810171, 0.05624741416550649, 0.9187077647032728, 0.23112097332818335, 0.038520162221363896, 0.731883082205914, 0.9901907412500396, 0.005893992507440712, 0.049413635704470646, 0.24706817852235322, 0.691790899862589, 0.045687973929553746, 0.9442181278774441, 0.05029519041600613, 0.9220784909601124, 0.04470185276778676, 0.9387389081235219, 0.06666125712966552, 0.9165922855329008, 0.19208933775995654, 0.7897006107909325, 0.07816982108975137, 0.8989529425321408, 0.03685185757978695, 0.9397223682845672, 0.04297477463868568, 0.9454450420510849, 0.04724517352040922, 0.9449034704081843, 0.033805142577047954, 0.9465439921573426, 0.1656485853006343, 0.04141214632515858, 0.7454186338528545, 0.9729291591951084, 0.17676174123756766, 0.05892058041252255, 0.7070469649502706, 0.9794821104616463, 0.0137955226825584, 0.9959045290353198], \"Term\": [\"13\", \"13\", \"13\", \"13\", \"13\", \"16\", \"16\", \"1st\", \"1st\", \"1st\", \"20\", \"20\", \"20\", \"20\", \"20\", \"20\", \"2019\", \"25\", \"25\", \"5\", \"5\", \"5\", \"5\", \"5\", \"5\", \"5\", \"5\", \"5\", \"5\", \"8\", \"8\", \"8\", \"8\", \"8\", \"8\", \"8\", \"8\", \"aa\", \"aa\", \"aa\", \"aa\", \"ability\", \"ability\", \"ability\", \"ability\", \"able\", \"able\", \"able\", \"able\", \"able\", \"able\", \"able\", \"able\", \"able\", \"able\", \"across\", \"across\", \"across\", \"across\", \"across\", \"across\", \"across\", \"across\", \"ad\", \"ad\", \"ad\", \"ad\", \"add\", \"add\", \"add\", \"add\", \"add\", \"add\", \"add\", \"add\", \"add\", \"add\", \"address\", \"address\", \"address\", \"address\", \"address\", \"address\", \"ago\", \"ago\", \"ago\", \"ago\", \"ago\", \"ago\", \"ago\", \"ago\", \"ago\", \"ako\", \"ako\", \"al\", \"al\", \"allow\", \"allow\", \"allow\", \"allow\", \"allow\", \"allow\", \"allow\", \"allow\", \"allow\", \"allow\", \"alone\", \"alone\", \"alone\", \"alone\", \"also\", \"also\", \"also\", \"also\", \"also\", \"also\", \"also\", \"also\", \"also\", \"also\", \"amaze\", \"amaze\", \"amaze\", \"amaze\", \"amaze\", \"amaze\", \"amaze\", \"amaze\", \"amaze\", \"amaze\", \"among\", \"among\", \"among\", \"among\", \"ang\", \"answer\", \"answer\", \"answer\", \"answer\", \"answer\", \"anywhere\", \"anywhere\", \"anywhere\", \"anywhere\", \"apart\", \"apart\", \"apart\", \"apart\", \"apart\", \"apart\", \"app\", \"app\", \"app\", \"app\", \"app\", \"app\", \"app\", \"app\", \"app\", \"app\", \"appear\", \"appear\", \"appear\", \"appear\", \"appear\", \"apps\", \"apps\", \"apps\", \"apps\", \"apps\", \"apps\", \"apps\", \"apps\", \"apps\", \"apps\", \"asap\", \"asap\", \"asap\", \"away\", \"away\", \"away\", \"away\", \"away\", \"away\", \"away\", \"away\", \"ay\", \"b\", \"b\", \"b\", \"b\", \"b\", \"b\", \"b\", \"b\", \"b\", \"back\", \"back\", \"back\", \"back\", \"back\", \"back\", \"back\", \"back\", \"back\", \"back\", \"background\", \"background\", \"background\", \"background\", \"background\", \"background\", \"background\", \"background\", \"basic\", \"basic\", \"basic\", \"basic\", \"basic\", \"behind\", \"behind\", \"behind\", \"behind\", \"believe\", \"believe\", \"believe\", \"believe\", \"believe\", \"believe\", \"believe\", \"best\", \"best\", \"best\", \"best\", \"best\", \"best\", \"best\", \"best\", \"best\", \"best\", \"better\", \"better\", \"better\", \"better\", \"better\", \"better\", \"better\", \"better\", \"better\", \"better\", \"big\", \"big\", \"big\", \"big\", \"big\", \"big\", \"big\", \"big\", \"bless\", \"bless\", \"bless\", \"bless\", \"bless\", \"bless\", \"bless\", \"bless\", \"block\", \"block\", \"block\", \"block\", \"block\", \"block\", \"block\", \"boost\", \"boost\", \"bore\", \"bore\", \"boy\", \"boy\", \"boy\", \"btw\", \"btw\", \"btw\", \"btw\", \"bubble\", \"bubble\", \"bubble\", \"bunch\", \"bunch\", \"bunch\", \"bunch\", \"call\", \"call\", \"call\", \"call\", \"call\", \"call\", \"call\", \"call\", \"call\", \"call\", \"car\", \"car\", \"car\", \"car\", \"catch\", \"catch\", \"cause\", \"cause\", \"cause\", \"cause\", \"cause\", \"cause\", \"cause\", \"cause\", \"cause\", \"certain\", \"certain\", \"certain\", \"certain\", \"certain\", \"chance\", \"chance\", \"chance\", \"chance\", \"chance\", \"chance\", \"chance\", \"chat\", \"chat\", \"chat\", \"chat\", \"chat\", \"chat\", \"chat\", \"chat\", \"chat\", \"chat\", \"chill\", \"chill\", \"church\", \"church\", \"church\", \"church\", \"church\", \"church\", \"church\", \"city\", \"city\", \"city\", \"city\", \"city\", \"class\", \"class\", \"class\", \"class\", \"class\", \"class\", \"class\", \"class\", \"class\", \"class\", \"classmates\", \"classmates\", \"classmates\", \"closer\", \"closer\", \"closer\", \"closer\", \"color\", \"color\", \"color\", \"color\", \"communication\", \"communication\", \"communication\", \"communication\", \"communication\", \"communication\", \"communication\", \"communication\", \"communication\", \"communication\", \"complaints\", \"complaints\", \"connect\", \"connect\", \"connect\", \"connect\", \"connect\", \"connect\", \"connect\", \"connect\", \"connect\", \"connect\", \"connections\", \"connections\", \"connections\", \"connections\", \"connections\", \"connectivity\", \"connectivity\", \"connectivity\", \"connectivity\", \"connectivity\", \"conversation\", \"conversation\", \"conversation\", \"conversation\", \"conversation\", \"conversation\", \"conversations\", \"conversations\", \"conversations\", \"conversations\", \"conversations\", \"conversations\", \"correct\", \"correct\", \"correct\", \"correct\", \"correct\", \"creator\", \"creator\", \"creator\", \"cross\", \"cross\", \"cross\", \"cross\", \"currently\", \"currently\", \"currently\", \"currently\", \"currently\", \"cute\", \"cute\", \"cute\", \"day\", \"day\", \"day\", \"day\", \"day\", \"day\", \"day\", \"day\", \"day\", \"day\", \"days\", \"days\", \"days\", \"days\", \"days\", \"days\", \"days\", \"days\", \"days\", \"dear\", \"dear\", \"dear\", \"dear\", \"dear\", \"dear\", \"default\", \"default\", \"default\", \"default\", \"default\", \"dev\", \"dev\", \"didnt\", \"didnt\", \"die\", \"die\", \"die\", \"die\", \"die\", \"die\", \"din\", \"din\", \"din\", \"din\", \"din\", \"direct\", \"direct\", \"direct\", \"direct\", \"disappear\", \"disappear\", \"disappear\", \"disappear\", \"disappoint\", \"disappoint\", \"disappoint\", \"discord\", \"discord\", \"discord\", \"discord\", \"discord\", \"discord\", \"discord\", \"discord\", \"discord\", \"discord\", \"discuss\", \"discuss\", \"discuss\", \"discuss\", \"discuss\", \"dms\", \"dms\", \"dont\", \"dont\", \"dont\", \"dont\", \"dont\", \"dont\", \"dont\", \"dont\", \"dont\", \"dont\", \"dr\", \"dr\", \"dr\", \"dr\", \"dr\", \"dr\", \"e\", \"e\", \"e\", \"e\", \"e\", \"e\", \"e\", \"e\", \"e\", \"e\", \"easy\", \"easy\", \"easy\", \"easy\", \"easy\", \"easy\", \"easy\", \"easy\", \"easy\", \"easy\", \"eat\", \"eat\", \"eat\", \"effect\", \"effect\", \"effect\", \"effect\", \"effect\", \"effect\", \"effect\", \"el\", \"el\", \"el\", \"else\", \"else\", \"else\", \"else\", \"else\", \"else\", \"else\", \"emoji\", \"emoji\", \"emoji\", \"emoji\", \"emoji\", \"emoji\", \"emojis\", \"emojis\", \"emojis\", \"emojis\", \"emojis\", \"emojis\", \"en\", \"en\", \"en\", \"en\", \"en\", \"en\", \"entire\", \"entire\", \"entire\", \"entire\", \"es\", \"es\", \"even\", \"even\", \"even\", \"even\", \"even\", \"even\", \"even\", \"even\", \"even\", \"even\", \"events\", \"events\", \"events\", \"events\", \"events\", \"every\", \"every\", \"every\", \"every\", \"every\", \"every\", \"every\", \"every\", \"every\", \"every\", \"everyone\", \"everyone\", \"everyone\", \"everyone\", \"everyone\", \"everyone\", \"everyone\", \"everyone\", \"everyone\", \"everyone\", \"except\", \"except\", \"except\", \"except\", \"except\", \"except\", \"exist\", \"exist\", \"exist\", \"exist\", \"exist\", \"exist\", \"exist\", \"experience\", \"experience\", \"experience\", \"experience\", \"experience\", \"experience\", \"experience\", \"experience\", \"experience\", \"experience\", \"explore\", \"explore\", \"express\", \"express\", \"extremely\", \"extremely\", \"extremely\", \"extremely\", \"extremely\", \"extremely\", \"facebook\", \"facebook\", \"facebook\", \"facebook\", \"facebook\", \"facebook\", \"facebook\", \"facebook\", \"fair\", \"fair\", \"fair\", \"families\", \"families\", \"families\", \"families\", \"families\", \"family\", \"family\", \"family\", \"family\", \"family\", \"family\", \"family\", \"family\", \"family\", \"family\", \"faster\", \"faster\", \"faster\", \"fault\", \"fault\", \"fault\", \"fault\", \"fb\", \"fb\", \"fb\", \"feature\", \"feature\", \"feature\", \"feature\", \"feature\", \"feature\", \"feature\", \"feature\", \"feature\", \"feature\", \"fi\", \"fi\", \"fi\", \"filter\", \"filter\", \"filter\", \"filter\", \"filter\", \"filter\", \"filter\", \"find\", \"find\", \"find\", \"find\", \"find\", \"find\", \"find\", \"find\", \"find\", \"find\", \"first\", \"first\", \"first\", \"first\", \"first\", \"first\", \"first\", \"first\", \"first\", \"first\", \"fix\", \"fix\", \"fix\", \"fix\", \"fix\", \"fix\", \"fix\", \"fix\", \"fix\", \"fix\", \"forever\", \"forever\", \"forever\", \"four\", \"four\", \"four\", \"four\", \"free\", \"free\", \"free\", \"free\", \"free\", \"free\", \"free\", \"free\", \"free\", \"free\", \"freinds\", \"friends\", \"friends\", \"friends\", \"friends\", \"friends\", \"friends\", \"friends\", \"friends\", \"friends\", \"friends\", \"ft\", \"ft\", \"ft\", \"fun\", \"fun\", \"fun\", \"fun\", \"fun\", \"fun\", \"fun\", \"fun\", \"fun\", \"fun\", \"funny\", \"funny\", \"funny\", \"funny\", \"game\", \"game\", \"game\", \"game\", \"game\", \"game\", \"game\", \"game\", \"game\", \"game\", \"gc\", \"gc\", \"general\", \"general\", \"general\", \"general\", \"general\", \"general\", \"get\", \"get\", \"get\", \"get\", \"get\", \"get\", \"get\", \"get\", \"get\", \"get\", \"gf\", \"gf\", \"gf\", \"gf\", \"gif\", \"gifs\", \"gifs\", \"gifs\", \"gifs\", \"girls\", \"girls\", \"girls\", \"girls\", \"give\", \"give\", \"give\", \"give\", \"give\", \"give\", \"give\", \"give\", \"give\", \"give\", \"go\", \"go\", \"go\", \"go\", \"go\", \"go\", \"go\", \"go\", \"go\", \"go\", \"god\", \"god\", \"god\", \"god\", \"god\", \"god\", \"god\", \"god\", \"god\", \"god\", \"good\", \"good\", \"good\", \"good\", \"good\", \"good\", \"good\", \"good\", \"good\", \"good\", \"great\", \"great\", \"great\", \"great\", \"great\", \"great\", \"great\", \"great\", \"great\", \"great\", \"greatest\", \"greatest\", \"greatest\", \"greatest\", \"greatest\", \"greatly\", \"greatly\", \"group\", \"group\", \"group\", \"group\", \"group\", \"group\", \"group\", \"group\", \"group\", \"group\", \"gusto\", \"gusto\", \"gusto\", \"gusto\", \"h\", \"h\", \"h\", \"h\", \"h\", \"h\", \"h\", \"h\", \"h\", \"h\", \"hack\", \"hack\", \"hack\", \"hack\", \"hack\", \"hack\", \"hack\", \"hai\", \"hai\", \"hai\", \"hai\", \"hai\", \"hai\", \"hai\", \"hai\", \"hai\", \"hate\", \"hate\", \"head\", \"head\", \"head\", \"head\", \"head\", \"head\", \"heart\", \"heart\", \"heart\", \"heart\", \"heart\", \"hell\", \"hell\", \"help\", \"help\", \"help\", \"help\", \"help\", \"help\", \"help\", \"help\", \"help\", \"help\", \"hi\", \"hi\", \"hi\", \"hi\", \"hi\", \"hi\", \"hi\", \"hi\", \"hi\", \"hi\", \"hindi\", \"hindi\", \"hindi\", \"hindi\", \"hindi\", \"hit\", \"hit\", \"hit\", \"ho\", \"ho\", \"ho\", \"ho\", \"ho\", \"ho\", \"ho\", \"ho\", \"honest\", \"honest\", \"hop\", \"hop\", \"hop\", \"hop\", \"hope\", \"hope\", \"hope\", \"hope\", \"hope\", \"hope\", \"hope\", \"hope\", \"hope\", \"hope\", \"house\", \"house\", \"house\", \"house\", \"house\", \"house\", \"house\", \"house\", \"house\", \"huge\", \"huge\", \"huge\", \"huge\", \"hurt\", \"husband\", \"husband\", \"husband\", \"husband\", \"husband\", \"ideas\", \"ideas\", \"ideas\", \"idk\", \"idk\", \"idk\", \"idk\", \"ill\", \"individual\", \"individual\", \"individual\", \"individual\", \"individual\", \"inside\", \"inside\", \"inside\", \"inside\", \"instant\", \"instant\", \"instant\", \"instant\", \"instant\", \"instant\", \"instead\", \"instead\", \"instead\", \"instead\", \"instead\", \"instead\", \"ito\", \"ito\", \"ito\", \"ito\", \"ive\", \"ive\", \"ive\", \"ive\", \"ive\", \"j\", \"j\", \"j\", \"j\", \"j\", \"j\", \"k\", \"k\", \"k\", \"k\", \"k\", \"k\", \"k\", \"k\", \"k\", \"ka\", \"ka\", \"ka\", \"ka\", \"ka\", \"ka\", \"ka\", \"keep\", \"keep\", \"keep\", \"keep\", \"keep\", \"keep\", \"keep\", \"keep\", \"keep\", \"keep\", \"kinda\", \"kinda\", \"kinda\", \"kinda\", \"kindly\", \"kindly\", \"kindly\", \"kindly\", \"kindly\", \"kindly\", \"kinds\", \"kinds\", \"kinds\", \"kinds\", \"king\", \"king\", \"king\", \"king\", \"king\", \"know\", \"know\", \"know\", \"know\", \"know\", \"know\", \"know\", \"know\", \"know\", \"know\", \"ko\", \"ko\", \"ko\", \"ko\", \"ko\", \"ko\", \"ko\", \"ko\", \"koi\", \"koi\", \"koi\", \"kung\", \"kya\", \"kya\", \"kya\", \"laggy\", \"laggy\", \"lang\", \"lang\", \"last\", \"last\", \"last\", \"last\", \"last\", \"last\", \"last\", \"last\", \"last\", \"lately\", \"lately\", \"letter\", \"letter\", \"letter\", \"letter\", \"letter\", \"life\", \"life\", \"life\", \"life\", \"life\", \"life\", \"life\", \"life\", \"life\", \"life\", \"like\", \"like\", \"like\", \"like\", \"like\", \"like\", \"like\", \"like\", \"like\", \"like\", \"lite\", \"literally\", \"literally\", \"literally\", \"literally\", \"literally\", \"literally\", \"literally\", \"literally\", \"live\", \"live\", \"live\", \"live\", \"live\", \"live\", \"live\", \"live\", \"live\", \"live\", \"lo\", \"lo\", \"lo\", \"load\", \"load\", \"load\", \"load\", \"local\", \"local\", \"local\", \"local\", \"longer\", \"longer\", \"longer\", \"longer\", \"longer\", \"longer\", \"longer\", \"longer\", \"look\", \"look\", \"look\", \"look\", \"look\", \"look\", \"look\", \"look\", \"look\", \"look\", \"love\", \"love\", \"love\", \"love\", \"love\", \"love\", \"love\", \"love\", \"love\", \"love\", \"lovely\", \"lovely\", \"lovely\", \"lovely\", \"lovely\", \"mag\", \"make\", \"make\", \"make\", \"make\", \"make\", \"make\", \"make\", \"make\", \"make\", \"make\", \"may\", \"may\", \"may\", \"may\", \"may\", \"may\", \"may\", \"may\", \"may\", \"may\", \"media\", \"media\", \"media\", \"media\", \"media\", \"media\", \"media\", \"media\", \"media\", \"mere\", \"mere\", \"mere\", \"message\", \"message\", \"message\", \"message\", \"message\", \"message\", \"message\", \"message\", \"message\", \"message\", \"messager\", \"messager\", \"messager\", \"messanger\", \"messanger\", \"messanger\", \"messanger\", \"messenger\", \"messenger\", \"messenger\", \"messenger\", \"messenger\", \"messenger\", \"messenger\", \"mga\", \"mga\", \"might\", \"might\", \"might\", \"might\", \"might\", \"might\", \"might\", \"might\", \"mistake\", \"mistake\", \"mistake\", \"mistake\", \"mistake\", \"mistake\", \"mo\", \"mo\", \"mo\", \"mo\", \"mo\", \"mo\", \"mo\", \"mo\", \"moment\", \"moment\", \"moment\", \"moment\", \"moment\", \"moment\", \"moment\", \"month\", \"month\", \"month\", \"month\", \"month\", \"month\", \"month\", \"morning\", \"morning\", \"morning\", \"morning\", \"morning\", \"morning\", \"morning\", \"morning\", \"morning\", \"move\", \"move\", \"move\", \"move\", \"move\", \"move\", \"movies\", \"movies\", \"much\", \"much\", \"much\", \"much\", \"much\", \"much\", \"much\", \"much\", \"much\", \"much\", \"n\", \"n\", \"n\", \"n\", \"n\", \"n\", \"n\", \"n\", \"n\", \"na\", \"na\", \"na\", \"na\", \"na\", \"na\", \"na\", \"nag\", \"nag\", \"nag\", \"nag\", \"nd\", \"nd\", \"nd\", \"nd\", \"ne\", \"ne\", \"ne\", \"ne\", \"near\", \"near\", \"near\", \"near\", \"near\", \"near\", \"near\", \"necessary\", \"necessary\", \"necessary\", \"necessary\", \"necessary\", \"necessary\", \"need\", \"need\", \"need\", \"need\", \"need\", \"need\", \"need\", \"need\", \"need\", \"need\", \"negative\", \"negative\", \"negative\", \"negative\", \"new\", \"new\", \"new\", \"new\", \"new\", \"new\", \"new\", \"new\", \"new\", \"new\", \"news\", \"news\", \"news\", \"news\", \"next\", \"next\", \"next\", \"next\", \"next\", \"next\", \"next\", \"next\", \"next\", \"ng\", \"ng\", \"nhi\", \"nhi\", \"nhi\", \"nhi\", \"ni\", \"ni\", \"ni\", \"ni\", \"ni\", \"nickname\", \"nickname\", \"non\", \"non\", \"non\", \"non\", \"non\", \"non\", \"non\", \"nothing\", \"nothing\", \"nothing\", \"nothing\", \"nothing\", \"nothing\", \"nothing\", \"nothing\", \"nothing\", \"nothing\", \"notification\", \"notification\", \"notification\", \"notification\", \"notification\", \"notifications\", \"notifications\", \"notifications\", \"notifications\", \"notifications\", \"office\", \"office\", \"office\", \"office\", \"office\", \"office\", \"office\", \"offline\", \"offline\", \"offline\", \"offline\", \"one\", \"one\", \"one\", \"one\", \"one\", \"one\", \"one\", \"one\", \"one\", \"one\", \"ones\", \"ones\", \"ones\", \"ones\", \"ones\", \"ones\", \"ones\", \"ones\", \"online\", \"online\", \"online\", \"online\", \"online\", \"online\", \"online\", \"online\", \"online\", \"online\", \"opportunity\", \"opportunity\", \"opportunity\", \"opportunity\", \"opportunity\", \"opportunity\", \"organization\", \"organization\", \"organization\", \"organization\", \"outside\", \"outside\", \"pa\", \"pa\", \"pa\", \"pa\", \"pag\", \"pag\", \"para\", \"para\", \"para\", \"people\", \"people\", \"people\", \"people\", \"people\", \"people\", \"people\", \"people\", \"people\", \"people\", \"per\", \"per\", \"per\", \"per\", \"per\", \"per\", \"pero\", \"pero\", \"pero\", \"person\", \"person\", \"person\", \"person\", \"person\", \"person\", \"person\", \"person\", \"person\", \"person\", \"personally\", \"personally\", \"personally\", \"personally\", \"personally\", \"personally\", \"personally\", \"phone\", \"phone\", \"phone\", \"phone\", \"phone\", \"phone\", \"phone\", \"phone\", \"phone\", \"phone\", \"photos\", \"photos\", \"photos\", \"photos\", \"photos\", \"pics\", \"pics\", \"pin\", \"pin\", \"pin\", \"platform\", \"platform\", \"platform\", \"platform\", \"platform\", \"platform\", \"platform\", \"platform\", \"platform\", \"platform\", \"play\", \"play\", \"play\", \"play\", \"play\", \"play\", \"play\", \"play\", \"play\", \"play\", \"please\", \"please\", \"please\", \"please\", \"please\", \"please\", \"please\", \"please\", \"please\", \"please\", \"plenty\", \"plenty\", \"plenty\", \"po\", \"po\", \"ppl\", \"ppl\", \"ppl\", \"ppl\", \"previous\", \"previous\", \"previous\", \"previous\", \"previous\", \"privacy\", \"privacy\", \"privacy\", \"privacy\", \"privacy\", \"problem\", \"problem\", \"problem\", \"problem\", \"problem\", \"problem\", \"problem\", \"problem\", \"problem\", \"problem\", \"product\", \"product\", \"product\", \"product\", \"project\", \"project\", \"project\", \"project\", \"push\", \"push\", \"push\", \"push\", \"que\", \"que\", \"quick\", \"quick\", \"quick\", \"quick\", \"quick\", \"quick\", \"quick\", \"quickly\", \"quickly\", \"quickly\", \"quickly\", \"quickly\", \"ram\", \"range\", \"range\", \"range\", \"range\", \"range\", \"rate\", \"rate\", \"rate\", \"rate\", \"rate\", \"rate\", \"rate\", \"rate\", \"rate\", \"rather\", \"rather\", \"rather\", \"rather\", \"rather\", \"rather\", \"rather\", \"rather\", \"rather\", \"react\", \"reaction\", \"ready\", \"ready\", \"ready\", \"realize\", \"realize\", \"realize\", \"really\", \"really\", \"really\", \"really\", \"really\", \"really\", \"really\", \"really\", \"really\", \"really\", \"recommend\", \"recommend\", \"recommend\", \"recommend\", \"recommend\", \"recommend\", \"recommend\", \"recommend\", \"recommend\", \"recommend\", \"regret\", \"regret\", \"regret\", \"reinstall\", \"reinstall\", \"reinstall\", \"reinstall\", \"reinstall\", \"relate\", \"relate\", \"relate\", \"relate\", \"relate\", \"relationship\", \"relationship\", \"relationship\", \"relationship\", \"relationship\", \"relatives\", \"relatives\", \"relatives\", \"release\", \"release\", \"release\", \"release\", \"release\", \"remove\", \"remove\", \"remove\", \"remove\", \"remove\", \"remove\", \"remove\", \"remove\", \"remove\", \"remove\", \"respect\", \"respect\", \"respect\", \"respect\", \"respect\", \"respond\", \"respond\", \"respond\", \"respond\", \"respond\", \"respond\", \"restart\", \"restart\", \"restart\", \"restart\", \"restart\", \"rid\", \"ride\", \"ride\", \"ride\", \"ride\", \"right\", \"right\", \"right\", \"right\", \"right\", \"right\", \"right\", \"right\", \"right\", \"role\", \"role\", \"role\", \"role\", \"role\", \"sa\", \"sa\", \"sa\", \"sa\", \"sad\", \"sad\", \"sad\", \"sad\", \"sad\", \"safe\", \"safe\", \"safe\", \"safe\", \"safe\", \"safe\", \"safe\", \"safe\", \"safe\", \"sana\", \"say\", \"say\", \"say\", \"say\", \"say\", \"say\", \"say\", \"say\", \"say\", \"say\", \"se\", \"se\", \"se\", \"se\", \"se\", \"se\", \"se\", \"se\", \"section\", \"section\", \"section\", \"see\", \"see\", \"see\", \"see\", \"see\", \"see\", \"see\", \"see\", \"see\", \"see\", \"seem\", \"seem\", \"seem\", \"seem\", \"seem\", \"seem\", \"seem\", \"sell\", \"sell\", \"send\", \"send\", \"send\", \"send\", \"send\", \"send\", \"send\", \"send\", \"send\", \"send\", \"september\", \"september\", \"september\", \"september\", \"seriously\", \"seriously\", \"seriously\", \"shut\", \"shut\", \"shut\", \"si\", \"si\", \"si\", \"sick\", \"sick\", \"sick\", \"sick\", \"sick\", \"sick\", \"signal\", \"signal\", \"signal\", \"signal\", \"signal\", \"similar\", \"similar\", \"similar\", \"similar\", \"similar\", \"similar\", \"similar\", \"simply\", \"simply\", \"simply\", \"simply\", \"simply\", \"single\", \"single\", \"single\", \"single\", \"single\", \"single\", \"single\", \"single\", \"sleep\", \"sleep\", \"sleep\", \"sleep\", \"sleep\", \"solid\", \"solid\", \"solid\", \"someone\", \"someone\", \"someone\", \"someone\", \"someone\", \"someone\", \"someone\", \"someone\", \"someone\", \"someone\", \"sometime\", \"sometime\", \"sort\", \"sort\", \"sort\", \"sort\", \"spam\", \"special\", \"special\", \"special\", \"special\", \"special\", \"special\", \"special\", \"specific\", \"specific\", \"specific\", \"specific\", \"spend\", \"spend\", \"spend\", \"spend\", \"spend\", \"staff\", \"staff\", \"staff\", \"staff\", \"staff\", \"star\", \"star\", \"star\", \"star\", \"star\", \"star\", \"star\", \"star\", \"star\", \"star\", \"status\", \"status\", \"status\", \"status\", \"stay\", \"stay\", \"stay\", \"stay\", \"stay\", \"stay\", \"stay\", \"stay\", \"stay\", \"stay\", \"stick\", \"stick\", \"stick\", \"stickers\", \"stickers\", \"stickers\", \"stickers\", \"storage\", \"storage\", \"storage\", \"stories\", \"straight\", \"straight\", \"straight\", \"students\", \"students\", \"students\", \"students\", \"students\", \"students\", \"students\", \"students\", \"students\", \"suck\", \"suck\", \"suck\", \"suggest\", \"suggest\", \"suggest\", \"suggest\", \"suggest\", \"suggest\", \"suggest\", \"suggest\", \"suggest\", \"suggest\", \"sure\", \"sure\", \"sure\", \"sure\", \"sure\", \"sure\", \"sure\", \"sure\", \"sure\", \"sure\", \"switch\", \"switch\", \"switch\", \"switch\", \"switch\", \"switch\", \"sync\", \"sync\", \"sync\", \"ta\", \"ta\", \"ta\", \"ta\", \"tag\", \"tag\", \"tag\", \"talk\", \"talk\", \"talk\", \"talk\", \"talk\", \"talk\", \"talk\", \"talk\", \"talk\", \"talk\", \"text\", \"text\", \"text\", \"text\", \"text\", \"text\", \"text\", \"text\", \"text\", \"texting\", \"texting\", \"texting\", \"texting\", \"texting\", \"texts\", \"thank\", \"thank\", \"thank\", \"thank\", \"thank\", \"thank\", \"thank\", \"thank\", \"thank\", \"thank\", \"thankyou\", \"thankyou\", \"thankyou\", \"thankyou\", \"thankyou\", \"thankyou\", \"thats\", \"thats\", \"thats\", \"thats\", \"thats\", \"thats\", \"thats\", \"theme\", \"theme\", \"theme\", \"theme\", \"theme\", \"theme\", \"thing\", \"thing\", \"thing\", \"thing\", \"thing\", \"thing\", \"thing\", \"thing\", \"thing\", \"thing\", \"things\", \"things\", \"things\", \"things\", \"things\", \"things\", \"things\", \"things\", \"things\", \"things\", \"tho\", \"tho\", \"tho\", \"tho\", \"tho\", \"time\", \"time\", \"time\", \"time\", \"time\", \"time\", \"time\", \"time\", \"time\", \"time\", \"tire\", \"tire\", \"tire\", \"tire\", \"today\", \"today\", \"today\", \"today\", \"today\", \"today\", \"today\", \"today\", \"today\", \"today\", \"tomorrow\", \"tomorrow\", \"tomorrow\", \"tomorrow\", \"tomorrow\", \"tomorrow\", \"tomorrow\", \"tomorrow\", \"touch\", \"touch\", \"touch\", \"touch\", \"touch\", \"touch\", \"touch\", \"touch\", \"touch\", \"touch\", \"track\", \"track\", \"track\", \"trust\", \"trust\", \"trust\", \"trust\", \"try\", \"try\", \"try\", \"try\", \"try\", \"try\", \"try\", \"try\", \"try\", \"try\", \"twice\", \"twice\", \"twice\", \"twice\", \"u\", \"u\", \"u\", \"u\", \"u\", \"u\", \"u\", \"u\", \"u\", \"u\", \"un\", \"un\", \"update\", \"update\", \"update\", \"update\", \"update\", \"update\", \"update\", \"update\", \"update\", \"update\", \"us\", \"us\", \"us\", \"us\", \"us\", \"us\", \"us\", \"us\", \"us\", \"us\", \"usage\", \"usage\", \"usage\", \"usage\", \"usage\", \"use\", \"use\", \"use\", \"use\", \"use\", \"use\", \"use\", \"use\", \"use\", \"use\", \"vc\", \"vc\", \"vc\", \"vc\", \"verify\", \"video\", \"video\", \"video\", \"video\", \"video\", \"video\", \"video\", \"video\", \"video\", \"video\", \"videos\", \"videos\", \"videos\", \"videos\", \"videos\", \"videos\", \"videos\", \"videos\", \"videos\", \"voice\", \"voice\", \"voice\", \"voice\", \"voice\", \"voice\", \"voice\", \"voice\", \"voice\", \"voice\", \"wala\", \"wala\", \"wala\", \"wanna\", \"wanna\", \"wanna\", \"wanna\", \"wanna\", \"wanna\", \"wanna\", \"wanna\", \"want\", \"want\", \"want\", \"want\", \"want\", \"want\", \"want\", \"want\", \"want\", \"want\", \"waste\", \"waste\", \"waste\", \"waste\", \"waste\", \"waste\", \"way\", \"way\", \"way\", \"way\", \"way\", \"way\", \"way\", \"way\", \"way\", \"way\", \"weekend\", \"weekend\", \"weekend\", \"weekend\", \"well\", \"well\", \"well\", \"well\", \"well\", \"well\", \"well\", \"well\", \"well\", \"well\", \"whatever\", \"whatever\", \"whatever\", \"whatever\", \"whatever\", \"wi\", \"wi\", \"wi\", \"wi\", \"without\", \"without\", \"without\", \"without\", \"without\", \"without\", \"without\", \"without\", \"without\", \"without\", \"witness\", \"witness\", \"witness\", \"witness\", \"wont\", \"wont\", \"work\", \"work\", \"work\", \"work\", \"work\", \"work\", \"work\", \"work\", \"work\", \"work\", \"world\", \"world\", \"world\", \"world\", \"world\", \"world\", \"world\", \"world\", \"world\", \"world\", \"would\", \"would\", \"would\", \"would\", \"would\", \"would\", \"would\", \"would\", \"would\", \"would\", \"xbox\", \"xbox\", \"yall\", \"year\", \"year\", \"year\", \"year\", \"year\", \"year\", \"year\", \"year\", \"year\", \"year\", \"years\", \"years\", \"years\", \"years\", \"years\", \"years\", \"years\", \"years\", \"years\", \"years\", \"yes\", \"yes\", \"yes\", \"yes\", \"yes\", \"yes\", \"yes\", \"yes\", \"yes\", \"yet\", \"yet\", \"yet\", \"yet\", \"yet\", \"yet\", \"yet\", \"yo\", \"yo\", \"yo\", \"yo\", \"yo\", \"yo\", \"z\", \"z\", \"z\", \"\\u090f\", \"\\u090f\", \"\\u090f\", \"\\u090f\", \"\\u0914\\u0930\", \"\\u0914\\u0930\", \"\\u0914\\u0930\", \"\\u0915\", \"\\u0915\", \"\\u0915\", \"\\u0915\", \"\\u0915\", \"\\u0915\", \"\\u0915\\u0930\", \"\\u0915\\u0930\", \"\\u0915\\u0930\", \"\\u0915\\u0930\", \"\\u091c\", \"\\u091c\", \"\\u091c\", \"\\u091c\", \"\\u091c\", \"\\u091f\", \"\\u091f\", \"\\u091f\", \"\\u0921\", \"\\u0921\", \"\\u0921\", \"\\u0921\", \"\\u0921\", \"\\u0924\", \"\\u0924\", \"\\u0924\", \"\\u0924\", \"\\u0924\", \"\\u0924\", \"\\u0926\", \"\\u0926\", \"\\u0926\", \"\\u0926\", \"\\u0926\", \"\\u0926\", \"\\u0927\", \"\\u0927\", \"\\u0927\", \"\\u0928\", \"\\u0928\", \"\\u0928\", \"\\u0928\", \"\\u0928\", \"\\u0928\", \"\\u0928\\u0939\", \"\\u0928\\u0939\", \"\\u0928\\u0939\", \"\\u092a\\u0930\", \"\\u092a\\u0930\", \"\\u092a\\u0930\", \"\\u092c\\u0939\", \"\\u092c\\u0939\", \"\\u092d\", \"\\u092d\", \"\\u092d\", \"\\u092d\", \"\\u092d\", \"\\u092e\", \"\\u092e\", \"\\u092e\", \"\\u092e\", \"\\u092e\", \"\\u092e\", \"\\u092f\", \"\\u092f\", \"\\u092f\", \"\\u092f\", \"\\u092f\", \"\\u092f\", \"\\u0930\", \"\\u0930\", \"\\u0930\", \"\\u0930\", \"\\u0930\", \"\\u0932\", \"\\u0932\", \"\\u0932\", \"\\u0932\", \"\\u0932\", \"\\u0932\", \"\\u0936\", \"\\u0936\", \"\\u0936\", \"\\u0938\", \"\\u0938\", \"\\u0938\", \"\\u0938\", \"\\u0938\", \"\\u0938\", \"\\u0939\", \"\\u0939\", \"\\u0939\", \"\\u0939\", \"\\u0939\", \"\\u0939\", \"\\u0985\\u09a8\", \"\\u0986\\u09ae\", \"\\u0986\\u09ae\", \"\\u0987\", \"\\u098f\\u0987\", \"\\u098f\\u0987\", \"\\u098f\\u0995\\u099f\", \"\\u098f\\u0995\\u099f\", \"\\u0993\", \"\\u0993\", \"\\u0995\", \"\\u0995\", \"\\u0995\\u09b0\", \"\\u0996\", \"\\u0997\", \"\\u0997\", \"\\u099a\", \"\\u099b\", \"\\u099c\", \"\\u099c\", \"\\u099c\\u09a8\", \"\\u099c\\u09a8\", \"\\u099f\", \"\\u099f\", \"\\u09a1\", \"\\u09a4\", \"\\u09a4\", \"\\u09a5\", \"\\u09a5\", \"\\u09a5\", \"\\u09a6\", \"\\u09a6\", \"\\u09a7\", \"\\u09a7\", \"\\u09a7\", \"\\u09a8\", \"\\u09a8\", \"\\u09aa\", \"\\u09aa\", \"\\u09ab\", \"\\u09ab\", \"\\u09ac\", \"\\u09ac\", \"\\u09ad\", \"\\u09ad\", \"\\u09ae\", \"\\u09ae\", \"\\u09af\", \"\\u09af\", \"\\u09b0\", \"\\u09b0\", \"\\u09b2\", \"\\u09b2\", \"\\u09b6\", \"\\u09b6\", \"\\u09b7\", \"\\u09b7\", \"\\u09b7\", \"\\u09b8\", \"\\u09b8\\u09ac\", \"\\u09b8\\u09ac\", \"\\u09b8\\u09ac\", \"\\u09b9\", \"\\u09b9\", \"\\u09df\"]}, \"R\": 30, \"lambda.step\": 0.01, \"plot.opts\": {\"xlab\": \"PC1\", \"ylab\": \"PC2\"}, \"topic.order\": [3, 6, 9, 8, 1, 5, 2, 7, 10, 4]};\n",
              "\n",
              "function LDAvis_load_lib(url, callback){\n",
              "  var s = document.createElement('script');\n",
              "  s.src = url;\n",
              "  s.async = true;\n",
              "  s.onreadystatechange = s.onload = callback;\n",
              "  s.onerror = function(){console.warn(\"failed to load library \" + url);};\n",
              "  document.getElementsByTagName(\"head\")[0].appendChild(s);\n",
              "}\n",
              "\n",
              "if(typeof(LDAvis) !== \"undefined\"){\n",
              "   // already loaded: just create the visualization\n",
              "   !function(LDAvis){\n",
              "       new LDAvis(\"#\" + \"ldavis_el621403433463900249737462596\", ldavis_el621403433463900249737462596_data);\n",
              "   }(LDAvis);\n",
              "}else if(typeof define === \"function\" && define.amd){\n",
              "   // require.js is available: use it to load d3/LDAvis\n",
              "   require.config({paths: {d3: \"https://cdnjs.cloudflare.com/ajax/libs/d3/3.5.5/d3.min\"}});\n",
              "   require([\"d3\"], function(d3){\n",
              "      window.d3 = d3;\n",
              "      LDAvis_load_lib(\"https://cdn.rawgit.com/bmabey/pyLDAvis/files/ldavis.v1.0.0.js\", function(){\n",
              "        new LDAvis(\"#\" + \"ldavis_el621403433463900249737462596\", ldavis_el621403433463900249737462596_data);\n",
              "      });\n",
              "    });\n",
              "}else{\n",
              "    // require.js not available: dynamically load d3 & LDAvis\n",
              "    LDAvis_load_lib(\"https://cdnjs.cloudflare.com/ajax/libs/d3/3.5.5/d3.min.js\", function(){\n",
              "         LDAvis_load_lib(\"https://cdn.rawgit.com/bmabey/pyLDAvis/files/ldavis.v1.0.0.js\", function(){\n",
              "                 new LDAvis(\"#\" + \"ldavis_el621403433463900249737462596\", ldavis_el621403433463900249737462596_data);\n",
              "            })\n",
              "         });\n",
              "}\n",
              "</script>"
            ],
            "text/plain": [
              "<IPython.core.display.HTML object>"
            ]
          },
          "metadata": {
            "tags": []
          },
          "execution_count": 49
        }
      ]
    },
    {
      "cell_type": "code",
      "metadata": {
        "id": "-tSqnQnvyl0-"
      },
      "source": [
        ""
      ],
      "execution_count": null,
      "outputs": []
    }
  ]
}